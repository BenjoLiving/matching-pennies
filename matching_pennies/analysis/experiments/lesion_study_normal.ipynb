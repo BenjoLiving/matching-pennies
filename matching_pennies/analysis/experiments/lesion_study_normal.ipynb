{
 "cells": [
  {
   "cell_type": "markdown",
   "id": "203b2294",
   "metadata": {},
   "source": [
    "# Exploratory data analysis of mPFC & OFC lesion data"
   ]
  },
  {
   "cell_type": "markdown",
   "id": "b1a7ca28",
   "metadata": {},
   "source": [
    "## Imports"
   ]
  },
  {
   "cell_type": "code",
   "execution_count": 28,
   "id": "e814c680",
   "metadata": {},
   "outputs": [],
   "source": [
    "import numpy as np\n",
    "import polars as pl \n",
    "import pandas as pd \n",
    "import bambi as bmb\n",
    "import arviz as az \n",
    "import pymc as pm\n",
    "from scipy.ndimage import gaussian_filter1d\n",
    "import plotly.express as px \n",
    "from IPython.display import display\n",
    "from matching_pennies.io.metrics_store import load_metrics\n",
    "from matching_pennies.analysis.bambi_plots import plot_trace"
   ]
  },
  {
   "cell_type": "markdown",
   "id": "f264b4b1",
   "metadata": {},
   "source": [
    "## Load Data from config"
   ]
  },
  {
   "cell_type": "code",
   "execution_count": 29,
   "id": "11a20c90",
   "metadata": {},
   "outputs": [],
   "source": [
    "EXPERIMENT = \"lesion_study\" \n",
    "PARADIGM = \"normal_mp\" \n",
    "\n",
    "tdf, sdf, manifest = load_metrics(EXPERIMENT, PARADIGM, root=\"C:/Users/benli/Documents/code/matching-pennies/data\") "
   ]
  },
  {
   "cell_type": "markdown",
   "id": "2dfd3fa7",
   "metadata": {},
   "source": [
    "## Analyze first session"
   ]
  },
  {
   "cell_type": "markdown",
   "id": "eb144bf6",
   "metadata": {},
   "source": [
    "### Prepare data"
   ]
  },
  {
   "cell_type": "markdown",
   "id": "0e80ed87",
   "metadata": {},
   "source": [
    "Truncate `tdf` to 1 session"
   ]
  },
  {
   "cell_type": "code",
   "execution_count": 30,
   "id": "51f8d302",
   "metadata": {},
   "outputs": [],
   "source": [
    "tdf_ses1 = tdf.filter(\n",
    "    pl.col(\"session_idx\") == 1\n",
    ")"
   ]
  },
  {
   "cell_type": "markdown",
   "id": "b0e539bd",
   "metadata": {},
   "source": [
    "Make sure there is only 1 session in `tdf_ses1`"
   ]
  },
  {
   "cell_type": "code",
   "execution_count": 31,
   "id": "d1a0b68e",
   "metadata": {},
   "outputs": [
    {
     "data": {
      "text/plain": [
       "1"
      ]
     },
     "execution_count": 31,
     "metadata": {},
     "output_type": "execute_result"
    }
   ],
   "source": [
    "tdf_ses1[\"session_idx\"].max()"
   ]
  },
  {
   "cell_type": "markdown",
   "id": "e01708a9",
   "metadata": {},
   "source": [
    "Get total trials completed in each session"
   ]
  },
  {
   "cell_type": "code",
   "execution_count": 32,
   "id": "c65acc06",
   "metadata": {},
   "outputs": [
    {
     "data": {
      "text/html": [
       "<div><style>\n",
       ".dataframe > thead > tr,\n",
       ".dataframe > tbody > tr {\n",
       "  text-align: right;\n",
       "  white-space: pre-wrap;\n",
       "}\n",
       "</style>\n",
       "<small>shape: (24, 3)</small><table border=\"1\" class=\"dataframe\"><thead><tr><th>animal_id</th><th>session_idx</th><th>max_trial</th></tr><tr><td>cat</td><td>i32</td><td>u32</td></tr></thead><tbody><tr><td>&quot;P4661&quot;</td><td>1</td><td>348</td></tr><tr><td>&quot;P4650&quot;</td><td>1</td><td>212</td></tr><tr><td>&quot;P4679&quot;</td><td>1</td><td>298</td></tr><tr><td>&quot;P4657&quot;</td><td>1</td><td>262</td></tr><tr><td>&quot;P4651&quot;</td><td>1</td><td>200</td></tr><tr><td>&hellip;</td><td>&hellip;</td><td>&hellip;</td></tr><tr><td>&quot;P4662&quot;</td><td>1</td><td>218</td></tr><tr><td>&quot;P4669&quot;</td><td>1</td><td>253</td></tr><tr><td>&quot;P4677&quot;</td><td>1</td><td>219</td></tr><tr><td>&quot;P4648&quot;</td><td>1</td><td>213</td></tr><tr><td>&quot;P4638&quot;</td><td>1</td><td>239</td></tr></tbody></table></div>"
      ],
      "text/plain": [
       "shape: (24, 3)\n",
       "┌───────────┬─────────────┬───────────┐\n",
       "│ animal_id ┆ session_idx ┆ max_trial │\n",
       "│ ---       ┆ ---         ┆ ---       │\n",
       "│ cat       ┆ i32         ┆ u32       │\n",
       "╞═══════════╪═════════════╪═══════════╡\n",
       "│ P4661     ┆ 1           ┆ 348       │\n",
       "│ P4650     ┆ 1           ┆ 212       │\n",
       "│ P4679     ┆ 1           ┆ 298       │\n",
       "│ P4657     ┆ 1           ┆ 262       │\n",
       "│ P4651     ┆ 1           ┆ 200       │\n",
       "│ …         ┆ …           ┆ …         │\n",
       "│ P4662     ┆ 1           ┆ 218       │\n",
       "│ P4669     ┆ 1           ┆ 253       │\n",
       "│ P4677     ┆ 1           ┆ 219       │\n",
       "│ P4648     ┆ 1           ┆ 213       │\n",
       "│ P4638     ┆ 1           ┆ 239       │\n",
       "└───────────┴─────────────┴───────────┘"
      ]
     },
     "execution_count": 32,
     "metadata": {},
     "output_type": "execute_result"
    }
   ],
   "source": [
    "max_trials = (\n",
    "    tdf_ses1\n",
    "    .group_by([\"animal_id\", \"session_idx\"])\n",
    "    .agg(pl.col(\"trial_idx\").max().alias(\"max_trial\"))\n",
    ")\n",
    "max_trials"
   ]
  },
  {
   "cell_type": "markdown",
   "id": "8b9a1505",
   "metadata": {},
   "source": [
    "Find the minimum session length "
   ]
  },
  {
   "cell_type": "code",
   "execution_count": 33,
   "id": "4f044250",
   "metadata": {},
   "outputs": [
    {
     "data": {
      "text/plain": [
       "160"
      ]
     },
     "execution_count": 33,
     "metadata": {},
     "output_type": "execute_result"
    }
   ],
   "source": [
    "min_trial = max_trials[\"max_trial\"].min()\n",
    "min_trial"
   ]
  },
  {
   "cell_type": "markdown",
   "id": "f3983ead",
   "metadata": {},
   "source": [
    "Truncate the dataframe to the minimum session length "
   ]
  },
  {
   "cell_type": "code",
   "execution_count": 34,
   "id": "0ab65e17",
   "metadata": {},
   "outputs": [],
   "source": [
    "tdf_trunc = tdf_ses1.filter(pl.col(\"trial_idx\") <= min_trial) "
   ]
  },
  {
   "cell_type": "markdown",
   "id": "a1c7d55a",
   "metadata": {},
   "source": [
    "Get the mean EFS per treatment per trial "
   ]
  },
  {
   "cell_type": "code",
   "execution_count": 35,
   "id": "8998030e",
   "metadata": {},
   "outputs": [
    {
     "data": {
      "text/html": [
       "<div><style>\n",
       ".dataframe > thead > tr,\n",
       ".dataframe > tbody > tr {\n",
       "  text-align: right;\n",
       "  white-space: pre-wrap;\n",
       "}\n",
       "</style>\n",
       "<small>shape: (480, 5)</small><table border=\"1\" class=\"dataframe\"><thead><tr><th>treatment</th><th>trial_idx</th><th>efs_mean</th><th>n</th><th>n_efs</th></tr><tr><td>cat</td><td>u32</td><td>f64</td><td>u32</td><td>i64</td></tr></thead><tbody><tr><td>&quot;mpfc&quot;</td><td>1</td><td>null</td><td>10</td><td>0</td></tr><tr><td>&quot;mpfc&quot;</td><td>2</td><td>null</td><td>10</td><td>0</td></tr><tr><td>&quot;mpfc&quot;</td><td>3</td><td>0.5</td><td>10</td><td>5</td></tr><tr><td>&quot;mpfc&quot;</td><td>4</td><td>0.2</td><td>10</td><td>2</td></tr><tr><td>&quot;mpfc&quot;</td><td>5</td><td>0.4</td><td>10</td><td>4</td></tr><tr><td>&hellip;</td><td>&hellip;</td><td>&hellip;</td><td>&hellip;</td><td>&hellip;</td></tr><tr><td>&quot;sham&quot;</td><td>156</td><td>0.0</td><td>8</td><td>0</td></tr><tr><td>&quot;sham&quot;</td><td>157</td><td>0.25</td><td>8</td><td>2</td></tr><tr><td>&quot;sham&quot;</td><td>158</td><td>0.125</td><td>8</td><td>1</td></tr><tr><td>&quot;sham&quot;</td><td>159</td><td>0.0</td><td>8</td><td>0</td></tr><tr><td>&quot;sham&quot;</td><td>160</td><td>0.0</td><td>8</td><td>0</td></tr></tbody></table></div>"
      ],
      "text/plain": [
       "shape: (480, 5)\n",
       "┌───────────┬───────────┬──────────┬─────┬───────┐\n",
       "│ treatment ┆ trial_idx ┆ efs_mean ┆ n   ┆ n_efs │\n",
       "│ ---       ┆ ---       ┆ ---      ┆ --- ┆ ---   │\n",
       "│ cat       ┆ u32       ┆ f64      ┆ u32 ┆ i64   │\n",
       "╞═══════════╪═══════════╪══════════╪═════╪═══════╡\n",
       "│ mpfc      ┆ 1         ┆ null     ┆ 10  ┆ 0     │\n",
       "│ mpfc      ┆ 2         ┆ null     ┆ 10  ┆ 0     │\n",
       "│ mpfc      ┆ 3         ┆ 0.5      ┆ 10  ┆ 5     │\n",
       "│ mpfc      ┆ 4         ┆ 0.2      ┆ 10  ┆ 2     │\n",
       "│ mpfc      ┆ 5         ┆ 0.4      ┆ 10  ┆ 4     │\n",
       "│ …         ┆ …         ┆ …        ┆ …   ┆ …     │\n",
       "│ sham      ┆ 156       ┆ 0.0      ┆ 8   ┆ 0     │\n",
       "│ sham      ┆ 157       ┆ 0.25     ┆ 8   ┆ 2     │\n",
       "│ sham      ┆ 158       ┆ 0.125    ┆ 8   ┆ 1     │\n",
       "│ sham      ┆ 159       ┆ 0.0      ┆ 8   ┆ 0     │\n",
       "│ sham      ┆ 160       ┆ 0.0      ┆ 8   ┆ 0     │\n",
       "└───────────┴───────────┴──────────┴─────┴───────┘"
      ]
     },
     "execution_count": 35,
     "metadata": {},
     "output_type": "execute_result"
    }
   ],
   "source": [
    "efs_by_trt_trial = (\n",
    "    tdf_trunc\n",
    "    .select(\"treatment\", \"trial_idx\", \"EFS_before_flg\")\n",
    "    .group_by([\"treatment\", \"trial_idx\"])\n",
    "    .agg([\n",
    "        pl.mean(\"EFS_before_flg\").alias(\"efs_mean\"),\n",
    "        pl.len().alias(\"n\"),\n",
    "        pl.col(\"EFS_before_flg\").cast(pl.Int8).sum().alias(\"n_efs\") \n",
    "    ])\n",
    "    .sort([\"treatment\", \"trial_idx\"])\n",
    ")\n",
    "efs_by_trt_trial"
   ]
  },
  {
   "cell_type": "markdown",
   "id": "5e68d65c",
   "metadata": {},
   "source": [
    "### Plot EFS for session 1"
   ]
  },
  {
   "cell_type": "code",
   "execution_count": 36,
   "id": "7aba6061",
   "metadata": {},
   "outputs": [],
   "source": [
    "cat = {\"treatment\": [\"sham\", \"mpfc\", \"ofc\"]}"
   ]
  },
  {
   "cell_type": "markdown",
   "id": "ce129e47",
   "metadata": {},
   "source": [
    "**Raw Plot**"
   ]
  },
  {
   "cell_type": "code",
   "execution_count": 37,
   "id": "a94e6f9d",
   "metadata": {},
   "outputs": [
    {
     "data": {
      "application/vnd.plotly.v1+json": {
       "config": {
        "plotlyServerURL": "https://plot.ly"
       },
       "data": [
        {
         "hovertemplate": "treatment=sham<br>trial_idx=%{x}<br>efs_mean=%{y}<extra></extra>",
         "legendgroup": "sham",
         "line": {
          "color": "#636efa",
          "dash": "solid"
         },
         "marker": {
          "symbol": "circle"
         },
         "mode": "lines",
         "name": "sham",
         "orientation": "v",
         "showlegend": true,
         "type": "scatter",
         "x": {
          "bdata": "AQAAAAIAAAADAAAABAAAAAUAAAAGAAAABwAAAAgAAAAJAAAACgAAAAsAAAAMAAAADQAAAA4AAAAPAAAAEAAAABEAAAASAAAAEwAAABQAAAAVAAAAFgAAABcAAAAYAAAAGQAAABoAAAAbAAAAHAAAAB0AAAAeAAAAHwAAACAAAAAhAAAAIgAAACMAAAAkAAAAJQAAACYAAAAnAAAAKAAAACkAAAAqAAAAKwAAACwAAAAtAAAALgAAAC8AAAAwAAAAMQAAADIAAAAzAAAANAAAADUAAAA2AAAANwAAADgAAAA5AAAAOgAAADsAAAA8AAAAPQAAAD4AAAA/AAAAQAAAAEEAAABCAAAAQwAAAEQAAABFAAAARgAAAEcAAABIAAAASQAAAEoAAABLAAAATAAAAE0AAABOAAAATwAAAFAAAABRAAAAUgAAAFMAAABUAAAAVQAAAFYAAABXAAAAWAAAAFkAAABaAAAAWwAAAFwAAABdAAAAXgAAAF8AAABgAAAAYQAAAGIAAABjAAAAZAAAAGUAAABmAAAAZwAAAGgAAABpAAAAagAAAGsAAABsAAAAbQAAAG4AAABvAAAAcAAAAHEAAAByAAAAcwAAAHQAAAB1AAAAdgAAAHcAAAB4AAAAeQAAAHoAAAB7AAAAfAAAAH0AAAB+AAAAfwAAAIAAAACBAAAAggAAAIMAAACEAAAAhQAAAIYAAACHAAAAiAAAAIkAAACKAAAAiwAAAIwAAACNAAAAjgAAAI8AAACQAAAAkQAAAJIAAACTAAAAlAAAAJUAAACWAAAAlwAAAJgAAACZAAAAmgAAAJsAAACcAAAAnQAAAJ4AAACfAAAAoAAAAA==",
          "dtype": "u4"
         },
         "xaxis": "x",
         "y": {
          "bdata": "AAAAAAAA+H8AAAAAAAD4fwAAAAAAAOQ/AAAAAAAA0D8AAAAAAADYPwAAAAAAANA/AAAAAAAA0D8AAAAAAADQPwAAAAAAAAAAAAAAAAAAAAAAAAAAAADQPwAAAAAAANg/AAAAAAAA0D8AAAAAAADAPwAAAAAAAMA/AAAAAAAA0D8AAAAAAADQPwAAAAAAANA/AAAAAAAA2D8AAAAAAADAPwAAAAAAAAAAAAAAAAAA0D8AAAAAAADAPwAAAAAAANA/AAAAAAAAAAAAAAAAAADAPwAAAAAAAMA/AAAAAAAAwD8AAAAAAADAPwAAAAAAANA/AAAAAAAAAAAAAAAAAADQPwAAAAAAAMA/AAAAAAAA0D8AAAAAAADYPwAAAAAAAAAAAAAAAAAAwD8AAAAAAADQPwAAAAAAANA/AAAAAAAA0D8AAAAAAAAAAAAAAAAAAMA/AAAAAAAA2D8AAAAAAAAAAAAAAAAAAMA/AAAAAAAA0D8AAAAAAADQPwAAAAAAAMA/AAAAAAAAwD8AAAAAAADQPwAAAAAAANA/AAAAAAAA4D8AAAAAAADQPwAAAAAAAMA/AAAAAAAAwD8AAAAAAADAPwAAAAAAAAAAAAAAAAAAAAAAAAAAAADAPwAAAAAAAOQ/AAAAAAAA0D8AAAAAAADAPwAAAAAAANA/AAAAAAAAwD8AAAAAAADQPwAAAAAAAMA/AAAAAAAAAAAAAAAAAADAPwAAAAAAAMA/AAAAAAAA0D8AAAAAAADAPwAAAAAAAMA/AAAAAAAAwD8AAAAAAADQPwAAAAAAANA/AAAAAAAA0D8AAAAAAADAPwAAAAAAAAAAAAAAAAAAwD8AAAAAAADYPwAAAAAAANA/AAAAAAAAwD8AAAAAAADQPwAAAAAAAMA/AAAAAAAA4D8AAAAAAADYPwAAAAAAAMA/AAAAAAAA0D8AAAAAAADQPwAAAAAAAAAAAAAAAAAA0D8AAAAAAADAPwAAAAAAAAAAAAAAAAAA2D8AAAAAAAAAAAAAAAAAANg/AAAAAAAAAAAAAAAAAADQPwAAAAAAAMA/AAAAAAAAwD8AAAAAAADAPwAAAAAAANg/AAAAAAAA2D8AAAAAAADAPwAAAAAAAMA/AAAAAAAAAAAAAAAAAADQPwAAAAAAANg/AAAAAAAAAAAAAAAAAAAAAAAAAAAAANg/AAAAAAAAAAAAAAAAAADQPwAAAAAAAAAAAAAAAAAA0D8AAAAAAADgPwAAAAAAAMA/AAAAAAAA2D8AAAAAAADYPwAAAAAAANg/AAAAAAAAAAAAAAAAAADAPwAAAAAAAAAAAAAAAAAAwD8AAAAAAADQPwAAAAAAAMA/AAAAAAAA0D8AAAAAAADYPwAAAAAAAMA/AAAAAAAAAAAAAAAAAADAPwAAAAAAANA/AAAAAAAA0D8AAAAAAADQPwAAAAAAAAAAAAAAAAAA4D8AAAAAAADAPwAAAAAAANA/AAAAAAAA0D8AAAAAAADAPwAAAAAAANA/AAAAAAAAwD8AAAAAAAAAAAAAAAAAANA/AAAAAAAA0D8AAAAAAADYPwAAAAAAANA/AAAAAAAAAAAAAAAAAAAAAAAAAAAAAMA/AAAAAAAAwD8AAAAAAADAPwAAAAAAANg/AAAAAAAAAAAAAAAAAAAAAAAAAAAAAAAAAAAAAAAA0D8AAAAAAADAPwAAAAAAAAAAAAAAAAAAAAA=",
          "dtype": "f8"
         },
         "yaxis": "y"
        },
        {
         "hovertemplate": "treatment=mpfc<br>trial_idx=%{x}<br>efs_mean=%{y}<extra></extra>",
         "legendgroup": "mpfc",
         "line": {
          "color": "#EF553B",
          "dash": "solid"
         },
         "marker": {
          "symbol": "circle"
         },
         "mode": "lines",
         "name": "mpfc",
         "orientation": "v",
         "showlegend": true,
         "type": "scatter",
         "x": {
          "bdata": "AQAAAAIAAAADAAAABAAAAAUAAAAGAAAABwAAAAgAAAAJAAAACgAAAAsAAAAMAAAADQAAAA4AAAAPAAAAEAAAABEAAAASAAAAEwAAABQAAAAVAAAAFgAAABcAAAAYAAAAGQAAABoAAAAbAAAAHAAAAB0AAAAeAAAAHwAAACAAAAAhAAAAIgAAACMAAAAkAAAAJQAAACYAAAAnAAAAKAAAACkAAAAqAAAAKwAAACwAAAAtAAAALgAAAC8AAAAwAAAAMQAAADIAAAAzAAAANAAAADUAAAA2AAAANwAAADgAAAA5AAAAOgAAADsAAAA8AAAAPQAAAD4AAAA/AAAAQAAAAEEAAABCAAAAQwAAAEQAAABFAAAARgAAAEcAAABIAAAASQAAAEoAAABLAAAATAAAAE0AAABOAAAATwAAAFAAAABRAAAAUgAAAFMAAABUAAAAVQAAAFYAAABXAAAAWAAAAFkAAABaAAAAWwAAAFwAAABdAAAAXgAAAF8AAABgAAAAYQAAAGIAAABjAAAAZAAAAGUAAABmAAAAZwAAAGgAAABpAAAAagAAAGsAAABsAAAAbQAAAG4AAABvAAAAcAAAAHEAAAByAAAAcwAAAHQAAAB1AAAAdgAAAHcAAAB4AAAAeQAAAHoAAAB7AAAAfAAAAH0AAAB+AAAAfwAAAIAAAACBAAAAggAAAIMAAACEAAAAhQAAAIYAAACHAAAAiAAAAIkAAACKAAAAiwAAAIwAAACNAAAAjgAAAI8AAACQAAAAkQAAAJIAAACTAAAAlAAAAJUAAACWAAAAlwAAAJgAAACZAAAAmgAAAJsAAACcAAAAnQAAAJ4AAACfAAAAoAAAAA==",
          "dtype": "u4"
         },
         "xaxis": "x",
         "y": {
          "bdata": "AAAAAAAA+H8AAAAAAAD4fwAAAAAAAOA/mpmZmZmZyT+amZmZmZnZPzMzMzMzM9M/mpmZmZmZyT8zMzMzMzPjPzMzMzMzM9M/mpmZmZmZuT+amZmZmZnJPzMzMzMzM9M/MzMzMzMz0z+amZmZmZnZP5qZmZmZmbk/MzMzMzMz0z8AAAAAAAAAADMzMzMzM9M/mpmZmZmZyT8zMzMzMzPTP5qZmZmZmck/AAAAAAAAAAAzMzMzMzPTP5qZmZmZmdk/mpmZmZmZyT8zMzMzMzPTP5qZmZmZmck/mpmZmZmZyT8zMzMzMzPTP5qZmZmZmck/mpmZmZmZyT8zMzMzMzPTP5qZmZmZmck/mpmZmZmZyT+amZmZmZm5P5qZmZmZmdk/mpmZmZmZyT+amZmZmZnZP5qZmZmZmck/AAAAAAAAAACamZmZmZnJP5qZmZmZmbk/mpmZmZmZyT+amZmZmZnJPwAAAAAAAAAAMzMzMzMz0z8AAAAAAADgPzMzMzMzM9M/mpmZmZmZuT8AAAAAAADgP5qZmZmZmck/MzMzMzMz0z+amZmZmZm5PzMzMzMzM9M/MzMzMzMz0z+amZmZmZnJP5qZmZmZmbk/mpmZmZmZyT+amZmZmZm5P5qZmZmZmbk/mpmZmZmZuT+amZmZmZnJP5qZmZmZmbk/AAAAAAAAAACamZmZmZnZPzMzMzMzM9M/mpmZmZmZuT+amZmZmZm5P5qZmZmZmdk/AAAAAAAAAACamZmZmZm5PwAAAAAAAAAAAAAAAAAAAAAAAAAAAAAAADMzMzMzM9M/AAAAAAAAAACamZmZmZm5P5qZmZmZmck/MzMzMzMz0z+amZmZmZm5P5qZmZmZmck/mpmZmZmZyT8AAAAAAAAAAJqZmZmZmck/mpmZmZmZ2T+amZmZmZnJPzMzMzMzM9M/mpmZmZmZuT8AAAAAAAAAAJqZmZmZmbk/mpmZmZmZuT8AAAAAAAAAAJqZmZmZmbk/MzMzMzMz0z+amZmZmZnJP5qZmZmZmck/mpmZmZmZyT+amZmZmZm5P5qZmZmZmck/mpmZmZmZyT+amZmZmZm5PzMzMzMzM9M/mpmZmZmZyT8AAAAAAAAAAJqZmZmZmdk/mpmZmZmZuT+amZmZmZnJP5qZmZmZmck/mpmZmZmZuT+amZmZmZnJPzMzMzMzM9M/mpmZmZmZ2T+amZmZmZnZP5qZmZmZmbk/MzMzMzMz0z8AAAAAAAAAAJqZmZmZmck/mpmZmZmZuT8AAAAAAAAAAAAAAAAAAAAAmpmZmZmZuT8zMzMzMzPTP5qZmZmZmbk/mpmZmZmZuT+amZmZmZnJP5qZmZmZmck/AAAAAAAAAACamZmZmZnJP5qZmZmZmbk/mpmZmZmZyT+amZmZmZnJP5qZmZmZmdk/AAAAAAAAAAAAAAAAAAAAAJqZmZmZmbk/AAAAAAAAAACamZmZmZm5PwAAAAAAAAAAmpmZmZmZuT+amZmZmZm5P5qZmZmZmbk/mpmZmZmZuT+amZmZmZm5PwAAAAAAAAAAmpmZmZmZuT+amZmZmZnJP5qZmZmZmck/AAAAAAAAAACamZmZmZnJP5qZmZmZmck/mpmZmZmZyT8AAAAAAAAAADMzMzMzM9M/MzMzMzMz0z+amZmZmZnZPzMzMzMzM9M/mpmZmZmZyT+amZmZmZm5PzMzMzMzM9M/MzMzMzMz0z8=",
          "dtype": "f8"
         },
         "yaxis": "y"
        },
        {
         "hovertemplate": "treatment=ofc<br>trial_idx=%{x}<br>efs_mean=%{y}<extra></extra>",
         "legendgroup": "ofc",
         "line": {
          "color": "#00cc96",
          "dash": "solid"
         },
         "marker": {
          "symbol": "circle"
         },
         "mode": "lines",
         "name": "ofc",
         "orientation": "v",
         "showlegend": true,
         "type": "scatter",
         "x": {
          "bdata": "AQAAAAIAAAADAAAABAAAAAUAAAAGAAAABwAAAAgAAAAJAAAACgAAAAsAAAAMAAAADQAAAA4AAAAPAAAAEAAAABEAAAASAAAAEwAAABQAAAAVAAAAFgAAABcAAAAYAAAAGQAAABoAAAAbAAAAHAAAAB0AAAAeAAAAHwAAACAAAAAhAAAAIgAAACMAAAAkAAAAJQAAACYAAAAnAAAAKAAAACkAAAAqAAAAKwAAACwAAAAtAAAALgAAAC8AAAAwAAAAMQAAADIAAAAzAAAANAAAADUAAAA2AAAANwAAADgAAAA5AAAAOgAAADsAAAA8AAAAPQAAAD4AAAA/AAAAQAAAAEEAAABCAAAAQwAAAEQAAABFAAAARgAAAEcAAABIAAAASQAAAEoAAABLAAAATAAAAE0AAABOAAAATwAAAFAAAABRAAAAUgAAAFMAAABUAAAAVQAAAFYAAABXAAAAWAAAAFkAAABaAAAAWwAAAFwAAABdAAAAXgAAAF8AAABgAAAAYQAAAGIAAABjAAAAZAAAAGUAAABmAAAAZwAAAGgAAABpAAAAagAAAGsAAABsAAAAbQAAAG4AAABvAAAAcAAAAHEAAAByAAAAcwAAAHQAAAB1AAAAdgAAAHcAAAB4AAAAeQAAAHoAAAB7AAAAfAAAAH0AAAB+AAAAfwAAAIAAAACBAAAAggAAAIMAAACEAAAAhQAAAIYAAACHAAAAiAAAAIkAAACKAAAAiwAAAIwAAACNAAAAjgAAAI8AAACQAAAAkQAAAJIAAACTAAAAlAAAAJUAAACWAAAAlwAAAJgAAACZAAAAmgAAAJsAAACcAAAAnQAAAJ4AAACfAAAAoAAAAA==",
          "dtype": "u4"
         },
         "xaxis": "x",
         "y": {
          "bdata": "AAAAAAAA+H8AAAAAAAD4f1VVVVVVVeU/AAAAAAAA4D9VVVVVVVXVPwAAAAAAAAAAVVVVVVVV1T9VVVVVVVXVP1VVVVVVVdU/AAAAAAAA4D8AAAAAAAAAAFVVVVVVVeU/VVVVVVVVxT8AAAAAAAAAAFVVVVVVVcU/VVVVVVVVxT9VVVVVVVXFPwAAAAAAAOA/AAAAAAAA4D9VVVVVVVXFPwAAAAAAAOA/AAAAAAAAAABVVVVVVVXVP1VVVVVVVeU/VVVVVVVVxT8AAAAAAADgP1VVVVVVVcU/VVVVVVVVxT9VVVVVVVXVP1VVVVVVVcU/VVVVVVVVxT9VVVVVVVXVP1VVVVVVVdU/VVVVVVVV5T9VVVVVVVXVP1VVVVVVVcU/AAAAAAAA4D9VVVVVVVXVP1VVVVVVVcU/AAAAAAAAAABVVVVVVVXVPwAAAAAAAAAAVVVVVVVV1T9VVVVVVVXFP1VVVVVVVdU/VVVVVVVVxT8AAAAAAAAAAFVVVVVVVeU/VVVVVVVVxT9VVVVVVVXFP1VVVVVVVcU/VVVVVVVV1T9VVVVVVVXFP1VVVVVVVcU/VVVVVVVVxT9VVVVVVVXFPwAAAAAAAOA/AAAAAAAAAABVVVVVVVXFP1VVVVVVVdU/VVVVVVVVxT8AAAAAAAAAAFVVVVVVVdU/AAAAAAAAAABVVVVVVVXFP1VVVVVVVdU/VVVVVVVVxT9VVVVVVVXFP1VVVVVVVdU/VVVVVVVVxT9VVVVVVVXVPwAAAAAAAOA/VVVVVVVV1T8AAAAAAADgP1VVVVVVVcU/VVVVVVVVxT9VVVVVVVXFPwAAAAAAAAAAVVVVVVVV1T9VVVVVVVXFP1VVVVVVVeU/VVVVVVVVxT9VVVVVVVXVP1VVVVVVVeU/VVVVVVVV5T9VVVVVVVXVP1VVVVVVVcU/VVVVVVVVxT9VVVVVVVXVP1VVVVVVVcU/VVVVVVVVxT9VVVVVVVXFPwAAAAAAAAAAVVVVVVVV1T9VVVVVVVXVP6uqqqqqquo/VVVVVVVVxT9VVVVVVVXVP1VVVVVVVcU/AAAAAAAA4D9VVVVVVVXFP1VVVVVVVcU/AAAAAAAAAAAAAAAAAADgP1VVVVVVVcU/AAAAAAAAAABVVVVVVVXFP1VVVVVVVcU/AAAAAAAA4D9VVVVVVVXFP1VVVVVVVcU/VVVVVVVV1T9VVVVVVVXVPwAAAAAAAOA/VVVVVVVV1T9VVVVVVVXFP1VVVVVVVcU/VVVVVVVVxT8AAAAAAADgPwAAAAAAAOA/VVVVVVVV1T9VVVVVVVXVP1VVVVVVVcU/VVVVVVVVxT9VVVVVVVXFP1VVVVVVVdU/VVVVVVVV1T9VVVVVVVXFP1VVVVVVVdU/VVVVVVVVxT8AAAAAAAAAAFVVVVVVVcU/VVVVVVVVxT8AAAAAAAAAAFVVVVVVVcU/AAAAAAAA4D8AAAAAAAAAAFVVVVVVVdU/VVVVVVVVxT9VVVVVVVXVPwAAAAAAAOA/AAAAAAAA4D9VVVVVVVXVP1VVVVVVVcU/VVVVVVVVxT8AAAAAAAAAAFVVVVVVVcU/VVVVVVVV1T9VVVVVVVXVP6uqqqqqquo/VVVVVVVVxT9VVVVVVVXFPwAAAAAAAAAAAAAAAAAAAABVVVVVVVXFP1VVVVVVVcU/VVVVVVVV1T9VVVVVVVXFP1VVVVVVVdU/VVVVVVVVxT8=",
          "dtype": "f8"
         },
         "yaxis": "y"
        }
       ],
       "layout": {
        "legend": {
         "title": {
          "text": "treatment"
         },
         "tracegroupgap": 0
        },
        "margin": {
         "t": 60
        },
        "template": {
         "data": {
          "bar": [
           {
            "error_x": {
             "color": "#2a3f5f"
            },
            "error_y": {
             "color": "#2a3f5f"
            },
            "marker": {
             "line": {
              "color": "#E5ECF6",
              "width": 0.5
             },
             "pattern": {
              "fillmode": "overlay",
              "size": 10,
              "solidity": 0.2
             }
            },
            "type": "bar"
           }
          ],
          "barpolar": [
           {
            "marker": {
             "line": {
              "color": "#E5ECF6",
              "width": 0.5
             },
             "pattern": {
              "fillmode": "overlay",
              "size": 10,
              "solidity": 0.2
             }
            },
            "type": "barpolar"
           }
          ],
          "carpet": [
           {
            "aaxis": {
             "endlinecolor": "#2a3f5f",
             "gridcolor": "white",
             "linecolor": "white",
             "minorgridcolor": "white",
             "startlinecolor": "#2a3f5f"
            },
            "baxis": {
             "endlinecolor": "#2a3f5f",
             "gridcolor": "white",
             "linecolor": "white",
             "minorgridcolor": "white",
             "startlinecolor": "#2a3f5f"
            },
            "type": "carpet"
           }
          ],
          "choropleth": [
           {
            "colorbar": {
             "outlinewidth": 0,
             "ticks": ""
            },
            "type": "choropleth"
           }
          ],
          "contour": [
           {
            "colorbar": {
             "outlinewidth": 0,
             "ticks": ""
            },
            "colorscale": [
             [
              0,
              "#0d0887"
             ],
             [
              0.1111111111111111,
              "#46039f"
             ],
             [
              0.2222222222222222,
              "#7201a8"
             ],
             [
              0.3333333333333333,
              "#9c179e"
             ],
             [
              0.4444444444444444,
              "#bd3786"
             ],
             [
              0.5555555555555556,
              "#d8576b"
             ],
             [
              0.6666666666666666,
              "#ed7953"
             ],
             [
              0.7777777777777778,
              "#fb9f3a"
             ],
             [
              0.8888888888888888,
              "#fdca26"
             ],
             [
              1,
              "#f0f921"
             ]
            ],
            "type": "contour"
           }
          ],
          "contourcarpet": [
           {
            "colorbar": {
             "outlinewidth": 0,
             "ticks": ""
            },
            "type": "contourcarpet"
           }
          ],
          "heatmap": [
           {
            "colorbar": {
             "outlinewidth": 0,
             "ticks": ""
            },
            "colorscale": [
             [
              0,
              "#0d0887"
             ],
             [
              0.1111111111111111,
              "#46039f"
             ],
             [
              0.2222222222222222,
              "#7201a8"
             ],
             [
              0.3333333333333333,
              "#9c179e"
             ],
             [
              0.4444444444444444,
              "#bd3786"
             ],
             [
              0.5555555555555556,
              "#d8576b"
             ],
             [
              0.6666666666666666,
              "#ed7953"
             ],
             [
              0.7777777777777778,
              "#fb9f3a"
             ],
             [
              0.8888888888888888,
              "#fdca26"
             ],
             [
              1,
              "#f0f921"
             ]
            ],
            "type": "heatmap"
           }
          ],
          "histogram": [
           {
            "marker": {
             "pattern": {
              "fillmode": "overlay",
              "size": 10,
              "solidity": 0.2
             }
            },
            "type": "histogram"
           }
          ],
          "histogram2d": [
           {
            "colorbar": {
             "outlinewidth": 0,
             "ticks": ""
            },
            "colorscale": [
             [
              0,
              "#0d0887"
             ],
             [
              0.1111111111111111,
              "#46039f"
             ],
             [
              0.2222222222222222,
              "#7201a8"
             ],
             [
              0.3333333333333333,
              "#9c179e"
             ],
             [
              0.4444444444444444,
              "#bd3786"
             ],
             [
              0.5555555555555556,
              "#d8576b"
             ],
             [
              0.6666666666666666,
              "#ed7953"
             ],
             [
              0.7777777777777778,
              "#fb9f3a"
             ],
             [
              0.8888888888888888,
              "#fdca26"
             ],
             [
              1,
              "#f0f921"
             ]
            ],
            "type": "histogram2d"
           }
          ],
          "histogram2dcontour": [
           {
            "colorbar": {
             "outlinewidth": 0,
             "ticks": ""
            },
            "colorscale": [
             [
              0,
              "#0d0887"
             ],
             [
              0.1111111111111111,
              "#46039f"
             ],
             [
              0.2222222222222222,
              "#7201a8"
             ],
             [
              0.3333333333333333,
              "#9c179e"
             ],
             [
              0.4444444444444444,
              "#bd3786"
             ],
             [
              0.5555555555555556,
              "#d8576b"
             ],
             [
              0.6666666666666666,
              "#ed7953"
             ],
             [
              0.7777777777777778,
              "#fb9f3a"
             ],
             [
              0.8888888888888888,
              "#fdca26"
             ],
             [
              1,
              "#f0f921"
             ]
            ],
            "type": "histogram2dcontour"
           }
          ],
          "mesh3d": [
           {
            "colorbar": {
             "outlinewidth": 0,
             "ticks": ""
            },
            "type": "mesh3d"
           }
          ],
          "parcoords": [
           {
            "line": {
             "colorbar": {
              "outlinewidth": 0,
              "ticks": ""
             }
            },
            "type": "parcoords"
           }
          ],
          "pie": [
           {
            "automargin": true,
            "type": "pie"
           }
          ],
          "scatter": [
           {
            "fillpattern": {
             "fillmode": "overlay",
             "size": 10,
             "solidity": 0.2
            },
            "type": "scatter"
           }
          ],
          "scatter3d": [
           {
            "line": {
             "colorbar": {
              "outlinewidth": 0,
              "ticks": ""
             }
            },
            "marker": {
             "colorbar": {
              "outlinewidth": 0,
              "ticks": ""
             }
            },
            "type": "scatter3d"
           }
          ],
          "scattercarpet": [
           {
            "marker": {
             "colorbar": {
              "outlinewidth": 0,
              "ticks": ""
             }
            },
            "type": "scattercarpet"
           }
          ],
          "scattergeo": [
           {
            "marker": {
             "colorbar": {
              "outlinewidth": 0,
              "ticks": ""
             }
            },
            "type": "scattergeo"
           }
          ],
          "scattergl": [
           {
            "marker": {
             "colorbar": {
              "outlinewidth": 0,
              "ticks": ""
             }
            },
            "type": "scattergl"
           }
          ],
          "scattermap": [
           {
            "marker": {
             "colorbar": {
              "outlinewidth": 0,
              "ticks": ""
             }
            },
            "type": "scattermap"
           }
          ],
          "scattermapbox": [
           {
            "marker": {
             "colorbar": {
              "outlinewidth": 0,
              "ticks": ""
             }
            },
            "type": "scattermapbox"
           }
          ],
          "scatterpolar": [
           {
            "marker": {
             "colorbar": {
              "outlinewidth": 0,
              "ticks": ""
             }
            },
            "type": "scatterpolar"
           }
          ],
          "scatterpolargl": [
           {
            "marker": {
             "colorbar": {
              "outlinewidth": 0,
              "ticks": ""
             }
            },
            "type": "scatterpolargl"
           }
          ],
          "scatterternary": [
           {
            "marker": {
             "colorbar": {
              "outlinewidth": 0,
              "ticks": ""
             }
            },
            "type": "scatterternary"
           }
          ],
          "surface": [
           {
            "colorbar": {
             "outlinewidth": 0,
             "ticks": ""
            },
            "colorscale": [
             [
              0,
              "#0d0887"
             ],
             [
              0.1111111111111111,
              "#46039f"
             ],
             [
              0.2222222222222222,
              "#7201a8"
             ],
             [
              0.3333333333333333,
              "#9c179e"
             ],
             [
              0.4444444444444444,
              "#bd3786"
             ],
             [
              0.5555555555555556,
              "#d8576b"
             ],
             [
              0.6666666666666666,
              "#ed7953"
             ],
             [
              0.7777777777777778,
              "#fb9f3a"
             ],
             [
              0.8888888888888888,
              "#fdca26"
             ],
             [
              1,
              "#f0f921"
             ]
            ],
            "type": "surface"
           }
          ],
          "table": [
           {
            "cells": {
             "fill": {
              "color": "#EBF0F8"
             },
             "line": {
              "color": "white"
             }
            },
            "header": {
             "fill": {
              "color": "#C8D4E3"
             },
             "line": {
              "color": "white"
             }
            },
            "type": "table"
           }
          ]
         },
         "layout": {
          "annotationdefaults": {
           "arrowcolor": "#2a3f5f",
           "arrowhead": 0,
           "arrowwidth": 1
          },
          "autotypenumbers": "strict",
          "coloraxis": {
           "colorbar": {
            "outlinewidth": 0,
            "ticks": ""
           }
          },
          "colorscale": {
           "diverging": [
            [
             0,
             "#8e0152"
            ],
            [
             0.1,
             "#c51b7d"
            ],
            [
             0.2,
             "#de77ae"
            ],
            [
             0.3,
             "#f1b6da"
            ],
            [
             0.4,
             "#fde0ef"
            ],
            [
             0.5,
             "#f7f7f7"
            ],
            [
             0.6,
             "#e6f5d0"
            ],
            [
             0.7,
             "#b8e186"
            ],
            [
             0.8,
             "#7fbc41"
            ],
            [
             0.9,
             "#4d9221"
            ],
            [
             1,
             "#276419"
            ]
           ],
           "sequential": [
            [
             0,
             "#0d0887"
            ],
            [
             0.1111111111111111,
             "#46039f"
            ],
            [
             0.2222222222222222,
             "#7201a8"
            ],
            [
             0.3333333333333333,
             "#9c179e"
            ],
            [
             0.4444444444444444,
             "#bd3786"
            ],
            [
             0.5555555555555556,
             "#d8576b"
            ],
            [
             0.6666666666666666,
             "#ed7953"
            ],
            [
             0.7777777777777778,
             "#fb9f3a"
            ],
            [
             0.8888888888888888,
             "#fdca26"
            ],
            [
             1,
             "#f0f921"
            ]
           ],
           "sequentialminus": [
            [
             0,
             "#0d0887"
            ],
            [
             0.1111111111111111,
             "#46039f"
            ],
            [
             0.2222222222222222,
             "#7201a8"
            ],
            [
             0.3333333333333333,
             "#9c179e"
            ],
            [
             0.4444444444444444,
             "#bd3786"
            ],
            [
             0.5555555555555556,
             "#d8576b"
            ],
            [
             0.6666666666666666,
             "#ed7953"
            ],
            [
             0.7777777777777778,
             "#fb9f3a"
            ],
            [
             0.8888888888888888,
             "#fdca26"
            ],
            [
             1,
             "#f0f921"
            ]
           ]
          },
          "colorway": [
           "#636efa",
           "#EF553B",
           "#00cc96",
           "#ab63fa",
           "#FFA15A",
           "#19d3f3",
           "#FF6692",
           "#B6E880",
           "#FF97FF",
           "#FECB52"
          ],
          "font": {
           "color": "#2a3f5f"
          },
          "geo": {
           "bgcolor": "white",
           "lakecolor": "white",
           "landcolor": "#E5ECF6",
           "showlakes": true,
           "showland": true,
           "subunitcolor": "white"
          },
          "hoverlabel": {
           "align": "left"
          },
          "hovermode": "closest",
          "mapbox": {
           "style": "light"
          },
          "paper_bgcolor": "white",
          "plot_bgcolor": "#E5ECF6",
          "polar": {
           "angularaxis": {
            "gridcolor": "white",
            "linecolor": "white",
            "ticks": ""
           },
           "bgcolor": "#E5ECF6",
           "radialaxis": {
            "gridcolor": "white",
            "linecolor": "white",
            "ticks": ""
           }
          },
          "scene": {
           "xaxis": {
            "backgroundcolor": "#E5ECF6",
            "gridcolor": "white",
            "gridwidth": 2,
            "linecolor": "white",
            "showbackground": true,
            "ticks": "",
            "zerolinecolor": "white"
           },
           "yaxis": {
            "backgroundcolor": "#E5ECF6",
            "gridcolor": "white",
            "gridwidth": 2,
            "linecolor": "white",
            "showbackground": true,
            "ticks": "",
            "zerolinecolor": "white"
           },
           "zaxis": {
            "backgroundcolor": "#E5ECF6",
            "gridcolor": "white",
            "gridwidth": 2,
            "linecolor": "white",
            "showbackground": true,
            "ticks": "",
            "zerolinecolor": "white"
           }
          },
          "shapedefaults": {
           "line": {
            "color": "#2a3f5f"
           }
          },
          "ternary": {
           "aaxis": {
            "gridcolor": "white",
            "linecolor": "white",
            "ticks": ""
           },
           "baxis": {
            "gridcolor": "white",
            "linecolor": "white",
            "ticks": ""
           },
           "bgcolor": "#E5ECF6",
           "caxis": {
            "gridcolor": "white",
            "linecolor": "white",
            "ticks": ""
           }
          },
          "title": {
           "x": 0.05
          },
          "xaxis": {
           "automargin": true,
           "gridcolor": "white",
           "linecolor": "white",
           "ticks": "",
           "title": {
            "standoff": 15
           },
           "zerolinecolor": "white",
           "zerolinewidth": 2
          },
          "yaxis": {
           "automargin": true,
           "gridcolor": "white",
           "linecolor": "white",
           "ticks": "",
           "title": {
            "standoff": 15
           },
           "zerolinecolor": "white",
           "zerolinewidth": 2
          }
         }
        },
        "xaxis": {
         "anchor": "y",
         "domain": [
          0,
          1
         ],
         "title": {
          "text": "trial_idx"
         }
        },
        "yaxis": {
         "anchor": "x",
         "domain": [
          0,
          1
         ],
         "title": {
          "text": "efs_mean"
         }
        }
       }
      }
     },
     "metadata": {},
     "output_type": "display_data"
    }
   ],
   "source": [
    "fig = px.line(efs_by_trt_trial, x=\"trial_idx\", y=\"efs_mean\", color=\"treatment\", category_orders=cat)\n",
    "fig"
   ]
  },
  {
   "cell_type": "markdown",
   "id": "3a207e03",
   "metadata": {},
   "source": [
    "**Smoothed with Gaussian Kernel**"
   ]
  },
  {
   "cell_type": "code",
   "execution_count": 38,
   "id": "8d5dc53b",
   "metadata": {},
   "outputs": [
    {
     "data": {
      "text/html": [
       "<div><style>\n",
       ".dataframe > thead > tr,\n",
       ".dataframe > tbody > tr {\n",
       "  text-align: right;\n",
       "  white-space: pre-wrap;\n",
       "}\n",
       "</style>\n",
       "<small>shape: (480, 6)</small><table border=\"1\" class=\"dataframe\"><thead><tr><th>treatment</th><th>trial_idx</th><th>efs_mean</th><th>n</th><th>n_efs</th><th>efs_smooth</th></tr><tr><td>cat</td><td>u32</td><td>f64</td><td>u32</td><td>i64</td><td>f64</td></tr></thead><tbody><tr><td>&quot;ofc&quot;</td><td>1</td><td>null</td><td>6</td><td>0</td><td>0.272135</td></tr><tr><td>&quot;ofc&quot;</td><td>2</td><td>null</td><td>6</td><td>0</td><td>0.27262</td></tr><tr><td>&quot;ofc&quot;</td><td>3</td><td>0.666667</td><td>6</td><td>4</td><td>0.273512</td></tr><tr><td>&quot;ofc&quot;</td><td>4</td><td>0.5</td><td>6</td><td>3</td><td>0.274663</td></tr><tr><td>&quot;ofc&quot;</td><td>5</td><td>0.333333</td><td>6</td><td>2</td><td>0.275883</td></tr><tr><td>&hellip;</td><td>&hellip;</td><td>&hellip;</td><td>&hellip;</td><td>&hellip;</td><td>&hellip;</td></tr><tr><td>&quot;sham&quot;</td><td>156</td><td>0.0</td><td>8</td><td>0</td><td>0.099597</td></tr><tr><td>&quot;sham&quot;</td><td>157</td><td>0.25</td><td>8</td><td>2</td><td>0.09529</td></tr><tr><td>&quot;sham&quot;</td><td>158</td><td>0.125</td><td>8</td><td>1</td><td>0.091926</td></tr><tr><td>&quot;sham&quot;</td><td>159</td><td>0.0</td><td>8</td><td>0</td><td>0.089615</td></tr><tr><td>&quot;sham&quot;</td><td>160</td><td>0.0</td><td>8</td><td>0</td><td>0.088438</td></tr></tbody></table></div>"
      ],
      "text/plain": [
       "shape: (480, 6)\n",
       "┌───────────┬───────────┬──────────┬─────┬───────┬────────────┐\n",
       "│ treatment ┆ trial_idx ┆ efs_mean ┆ n   ┆ n_efs ┆ efs_smooth │\n",
       "│ ---       ┆ ---       ┆ ---      ┆ --- ┆ ---   ┆ ---        │\n",
       "│ cat       ┆ u32       ┆ f64      ┆ u32 ┆ i64   ┆ f64        │\n",
       "╞═══════════╪═══════════╪══════════╪═════╪═══════╪════════════╡\n",
       "│ ofc       ┆ 1         ┆ null     ┆ 6   ┆ 0     ┆ 0.272135   │\n",
       "│ ofc       ┆ 2         ┆ null     ┆ 6   ┆ 0     ┆ 0.27262    │\n",
       "│ ofc       ┆ 3         ┆ 0.666667 ┆ 6   ┆ 4     ┆ 0.273512   │\n",
       "│ ofc       ┆ 4         ┆ 0.5      ┆ 6   ┆ 3     ┆ 0.274663   │\n",
       "│ ofc       ┆ 5         ┆ 0.333333 ┆ 6   ┆ 2     ┆ 0.275883   │\n",
       "│ …         ┆ …         ┆ …        ┆ …   ┆ …     ┆ …          │\n",
       "│ sham      ┆ 156       ┆ 0.0      ┆ 8   ┆ 0     ┆ 0.099597   │\n",
       "│ sham      ┆ 157       ┆ 0.25     ┆ 8   ┆ 2     ┆ 0.09529    │\n",
       "│ sham      ┆ 158       ┆ 0.125    ┆ 8   ┆ 1     ┆ 0.091926   │\n",
       "│ sham      ┆ 159       ┆ 0.0      ┆ 8   ┆ 0     ┆ 0.089615   │\n",
       "│ sham      ┆ 160       ┆ 0.0      ┆ 8   ┆ 0     ┆ 0.088438   │\n",
       "└───────────┴───────────┴──────────┴─────┴───────┴────────────┘"
      ]
     },
     "execution_count": 38,
     "metadata": {},
     "output_type": "execute_result"
    }
   ],
   "source": [
    "SIGMA = 6\n",
    "efs_smoothed = (\n",
    "    efs_by_trt_trial\n",
    "    .group_by(\"treatment\")\n",
    "    .map_groups(\n",
    "        lambda df: df.sort(\"trial_idx\").with_columns(\n",
    "            pl.Series(\n",
    "                \"efs_smooth\",\n",
    "                gaussian_filter1d(df[\"efs_mean\"].fill_null(0).to_numpy(), sigma=SIGMA)\n",
    "            )\n",
    "        )\n",
    "    )\n",
    ")\n",
    "efs_smoothed"
   ]
  },
  {
   "cell_type": "code",
   "execution_count": 39,
   "id": "c32591c2",
   "metadata": {},
   "outputs": [
    {
     "data": {
      "application/vnd.plotly.v1+json": {
       "config": {
        "plotlyServerURL": "https://plot.ly"
       },
       "data": [
        {
         "hovertemplate": "treatment=sham<br>trial_idx=%{x}<br>efs_smooth=%{y}<extra></extra>",
         "legendgroup": "sham",
         "line": {
          "color": "#636efa",
          "dash": "solid"
         },
         "marker": {
          "symbol": "circle"
         },
         "mode": "lines",
         "name": "sham",
         "orientation": "v",
         "showlegend": true,
         "type": "scatter",
         "x": {
          "bdata": "AQAAAAIAAAADAAAABAAAAAUAAAAGAAAABwAAAAgAAAAJAAAACgAAAAsAAAAMAAAADQAAAA4AAAAPAAAAEAAAABEAAAASAAAAEwAAABQAAAAVAAAAFgAAABcAAAAYAAAAGQAAABoAAAAbAAAAHAAAAB0AAAAeAAAAHwAAACAAAAAhAAAAIgAAACMAAAAkAAAAJQAAACYAAAAnAAAAKAAAACkAAAAqAAAAKwAAACwAAAAtAAAALgAAAC8AAAAwAAAAMQAAADIAAAAzAAAANAAAADUAAAA2AAAANwAAADgAAAA5AAAAOgAAADsAAAA8AAAAPQAAAD4AAAA/AAAAQAAAAEEAAABCAAAAQwAAAEQAAABFAAAARgAAAEcAAABIAAAASQAAAEoAAABLAAAATAAAAE0AAABOAAAATwAAAFAAAABRAAAAUgAAAFMAAABUAAAAVQAAAFYAAABXAAAAWAAAAFkAAABaAAAAWwAAAFwAAABdAAAAXgAAAF8AAABgAAAAYQAAAGIAAABjAAAAZAAAAGUAAABmAAAAZwAAAGgAAABpAAAAagAAAGsAAABsAAAAbQAAAG4AAABvAAAAcAAAAHEAAAByAAAAcwAAAHQAAAB1AAAAdgAAAHcAAAB4AAAAeQAAAHoAAAB7AAAAfAAAAH0AAAB+AAAAfwAAAIAAAACBAAAAggAAAIMAAACEAAAAhQAAAIYAAACHAAAAiAAAAIkAAACKAAAAiwAAAIwAAACNAAAAjgAAAI8AAACQAAAAkQAAAJIAAACTAAAAlAAAAJUAAACWAAAAlwAAAJgAAACZAAAAmgAAAJsAAACcAAAAnQAAAJ4AAACfAAAAoAAAAA==",
          "dtype": "u4"
         },
         "xaxis": "x",
         "y": {
          "bdata": "gmrK+3JczD9tnRno7FLMP/2d0BwLQMw/rIp5ptEjzD8JSxKg4f7LP8eXKTUN0ss/DyBFi4meyz/GTSVuf2bLP2go/qtiK8s/fszT9JTuyj/54uGok7DKPza0R0tJcMo/oRwipvoryj8n+Sbx7uDJP3fWzywVjMk/h7FGHqUqyT8yb/WDkrrIP7PAQ9HXO8g/O9z1wqKwxz/H6c18lxzHPxfQTkmhhcY/4ehVQujyxT8D3ilVqmvFP+f3RHpq98Q/0wa1AcmbxD8yGKuHBV3EP0xgtI73PMQ/3qzWlwU7xD+5Rct6n1TEP9DCMdnBhMQ/IzKK3ZTFxD8/iHWnchDFP5isGArnXsU/r0QCopOrxT/+SY9pVfLFP8f+xkUeMcY/UvIWEUVnxj+FdAsFSZbGP/DTiJfmwMY/L+Koo1Lqxj8LYkmQGRbHP6O7QEkDR8c/qc9uNJl+xz/IGk223LzHPzjxTVoVAMg/8kRHYtBEyD+pcu19P4bIP/k7q3qsv8g/GS1HA2LsyD/b08ieMAnJP4yzwecfFMk/W3JYvHQNyT/RpwQJBPfIP9WJCUrg08g/Q6cMLK2nyD+vQRjj83XIP+XjhsadQMg/DpPOXd8IyD/J0OS4is7HP+Eca3iVkMc/fFjTQnZOxz/lDflCWgfHP0b8tPMVvMY/KnyYEFNvxj+FwurI6iTGP4V9tFy+4cU/JTlPhjmrxT8t2B89Q4bFPwvYiBw5d8U/sV06j+CAxT9Y3SOfIaTFP+7+XeEq4cU/z7MQ/Rk2xj/XS5hBjKDGPxfo+iLcHMc/IaBCbfamxz/z56gUzznIPx5LhUsR0Mg/YqdzQBBjyT9pYx2seevJP5ZB9Uf/Yco/YM5vK3C/yj8i2lgDvv3KP+Qu6vFxGMs/lru3lycNyz/gNA5BQN3KP9p/woKWjMo/H2YoiTkhyj/TLtSuKqTJP5iOfDi/Hsk/JcjmshWbyD9grMhlACLIP1iPNn34ucc/lHMhUchnxz/gdLQF/CzHPxqmVVG/CMc/6m0EWpL3xj/np8Sg7fTGP7RYjikv+8Y/7oAVUT0Fxz/wASiK1w7HP0h14XdOFcc/kyWfFzQYxz+v+84/HRnHP+0cqrpgG8c/NSrtjv4jxz/swf8JPzjHPxkDOhmqXMc/nxErs1iUxz/L3zH+qN/HP6hoYL9YPMg/VrVG9XulyD+0aBAbqhLJP3ikVh7Nesk/oyL/kzzUyT9/U2IGAxbKP2LKFYQmOso/aiedO3k9yj9uWr6zbyDKP6nGLorm58k/4fhbVKmayT8Sw2M8VULJP9wPOGxH6Mg/feVrlsmVyD+VMLq9ZlLIPyZ7pR1oI8g/BteK7DkLyD+m4N++7wnIP4i5P1ZnHcg/hhRBr/RAyD9q4e9TTG/IP7KuTT0Uosg/TjWTfjvTyD9uIa8lzfzIPxLgZxdCGck/d9g3fkMkyT+sqSAPEBvJP0cFYnRh+8g/kYQg5q3EyD9N355wx3bIP8tvjxE4Esg/opjmEG+Yxz/bpOUdagrHP6ghNN0QasY/FR2nkMS4xT+B/TwznvjEPyCWEvV/K8Q/gIW4vPFTwz90DeWlsHTCP7j3vOkckcE/+fnIUOOswD/CKNi9Z5e/PyDKHjvR470/4uJYLiNIvD+OrnlIC866P4LSeSItf7k/jMfc3+xkuD+nlB2XcYi3PxrfFQ398LY/dCiOIeWjtj8=",
          "dtype": "f8"
         },
         "yaxis": "y"
        },
        {
         "hovertemplate": "treatment=mpfc<br>trial_idx=%{x}<br>efs_smooth=%{y}<extra></extra>",
         "legendgroup": "mpfc",
         "line": {
          "color": "#EF553B",
          "dash": "solid"
         },
         "marker": {
          "symbol": "circle"
         },
         "mode": "lines",
         "name": "mpfc",
         "orientation": "v",
         "showlegend": true,
         "type": "scatter",
         "x": {
          "bdata": "AQAAAAIAAAADAAAABAAAAAUAAAAGAAAABwAAAAgAAAAJAAAACgAAAAsAAAAMAAAADQAAAA4AAAAPAAAAEAAAABEAAAASAAAAEwAAABQAAAAVAAAAFgAAABcAAAAYAAAAGQAAABoAAAAbAAAAHAAAAB0AAAAeAAAAHwAAACAAAAAhAAAAIgAAACMAAAAkAAAAJQAAACYAAAAnAAAAKAAAACkAAAAqAAAAKwAAACwAAAAtAAAALgAAAC8AAAAwAAAAMQAAADIAAAAzAAAANAAAADUAAAA2AAAANwAAADgAAAA5AAAAOgAAADsAAAA8AAAAPQAAAD4AAAA/AAAAQAAAAEEAAABCAAAAQwAAAEQAAABFAAAARgAAAEcAAABIAAAASQAAAEoAAABLAAAATAAAAE0AAABOAAAATwAAAFAAAABRAAAAUgAAAFMAAABUAAAAVQAAAFYAAABXAAAAWAAAAFkAAABaAAAAWwAAAFwAAABdAAAAXgAAAF8AAABgAAAAYQAAAGIAAABjAAAAZAAAAGUAAABmAAAAZwAAAGgAAABpAAAAagAAAGsAAABsAAAAbQAAAG4AAABvAAAAcAAAAHEAAAByAAAAcwAAAHQAAAB1AAAAdgAAAHcAAAB4AAAAeQAAAHoAAAB7AAAAfAAAAH0AAAB+AAAAfwAAAIAAAACBAAAAggAAAIMAAACEAAAAhQAAAIYAAACHAAAAiAAAAIkAAACKAAAAiwAAAIwAAACNAAAAjgAAAI8AAACQAAAAkQAAAJIAAACTAAAAlAAAAJUAAACWAAAAlwAAAJgAAACZAAAAmgAAAJsAAACcAAAAnQAAAJ4AAACfAAAAoAAAAA==",
          "dtype": "u4"
         },
         "xaxis": "x",
         "y": {
          "bdata": "2jAOlGY1zz8xpgG7NFjPP99bZGromM8/Rcr3Wmjuzz8lylQyRSbQP+jr7KYhU9A/MePXLrN30D+7Rp4Z+47QP0KQqFTHldA/KWwRX8GK0D9mIpulzG7QP/BG789uRNA/HWpfcHcP0D9wDSHPCqnPPy0KpNKAMM8/M9TLlAC+zj/jAxLd11jOPyAOTkwJBs4/wnv1SbnIzT/UHWYf7KDNP4wMpOC3jM0/4rL3w/SIzT/+7f+3w5DNP2hbahUkn80/TpEMzZWuzT+4jSAF1rrNP8wk+9TPv80/IAWFFLu6zT+446nSD6rNP/4yNNLpjM0/dHchPXdjzT+GT4txkS7NP6cstsLK78w/8TMXHVGqzD9Hn8+BqWHMP8sZsDN1Gsw/TXdaakvayz/+O481RafLPwSzB30Dh8s/QvLMCGd+yz9WKJR8WZDLP7jcKhIovcs/s3mcJ44BzD8edbMmrlfMP+xS+laStsw/KJdMMdkSzT8/rjp2rmDNP8Ktms4llM0/Y5aq35qjzT8UZI2rQIjNP3FcEezpPs0/c922uzXIzD9Xfb2e4SjMP2IjSWXCaMs/bZ83dAeSyj/wuvL3ha/JPyyrNdMbzMg/v56qQSPxxz+vqCzORiXHPzCOxuycbMY/JDMU4MrHxT+UljhA4DTFP/JyzDDSr8Q/Ej6N08wzxD/kqYyCN7zDP+bFiafjRcM/YpT8kSXQwj+erOR6slzCP2ukae8c8ME/c9o+iuOQwT+SdURx40XBP4q7XHcdFsE/OWjl1AAHwT+UrB2hGBvBP/N5K7K0UcE/ae71tEmnwT8uzj5rrRTCPzY5HXANkcI/8SlZ1rwRwz/vqyjoUYzDP1HtZpvF98M/GGalQ3BMxD8gYaDO6YXEP+QZQpIEo8Q/+vcrBamlxD8haNbG6pLEP4eGPHUGcsQ/YPT6Mq9LxD89xYxGqSjEP8lM3sqMEMQ/HNgcYRgKxD+uMYKe7BjEPw6N4RuAPsQ/ezJQm5V5xD/xzKX3mMfEP5b2uuNCJMU/Qs5diVmLxT+oTdjKz/jFP1W4yZQhacY/WL5ZctrZxj99RE0hs0nHP5EskWg4t8c/FmpAPgohyD9brVCrdIXIPzQlPIR44cg/SJFQPMEwyT9rEA6k4m3JPwsXRZncksk/NFtAtvGYyT8guDil+3rJP1dwKCnENck/2z5GVlTIyD+mNlNhhDXIP+1wAY4og8c/17dMQ0S6xj8d9nFw+OXFPyeN5EpAEsU/IHStd2lKxD970kCc9JfDP/6lvfmCAcM/sOymDwqKwj/6Za7uvjDCPwo9NrNh8cE/tXp4Jb/EwT8txo9UZqLBP3otwRsJgcE//PYJhdRXwT+TW/LBsh/BP4jKlfEu1MA/JTy1yyJzwD9YSKnHofy/P5RJujZu874/mZkBaWjYvT/tP2OWz7y8P0xN3RTjs7s/cCLnvcLQuj/Je05vGiW6P0woz7jEv7k/viQm5LaruT/UKyUPpO+5P5xZOqkTj7o/+pOXogyJuz8anaJCNNq8P2BlfXigfL4/+LQye+4zwD/mTqoHTEnBP//if7qreMI/hhC7e9O7wz+89/toYwvFP5KjJl/WX8Y/RBnrTCWxxz9ObSaQR/fIP1jXXfBTKso/hd6CEJhDyz+FibNyCj3MP+vDixIVEs0/Kp2yS0e/zT8vhktNsULOP27IIMG+ms4/zwRk6+PGzj8=",
          "dtype": "f8"
         },
         "yaxis": "y"
        },
        {
         "hovertemplate": "treatment=ofc<br>trial_idx=%{x}<br>efs_smooth=%{y}<extra></extra>",
         "legendgroup": "ofc",
         "line": {
          "color": "#00cc96",
          "dash": "solid"
         },
         "marker": {
          "symbol": "circle"
         },
         "mode": "lines",
         "name": "ofc",
         "orientation": "v",
         "showlegend": true,
         "type": "scatter",
         "x": {
          "bdata": "AQAAAAIAAAADAAAABAAAAAUAAAAGAAAABwAAAAgAAAAJAAAACgAAAAsAAAAMAAAADQAAAA4AAAAPAAAAEAAAABEAAAASAAAAEwAAABQAAAAVAAAAFgAAABcAAAAYAAAAGQAAABoAAAAbAAAAHAAAAB0AAAAeAAAAHwAAACAAAAAhAAAAIgAAACMAAAAkAAAAJQAAACYAAAAnAAAAKAAAACkAAAAqAAAAKwAAACwAAAAtAAAALgAAAC8AAAAwAAAAMQAAADIAAAAzAAAANAAAADUAAAA2AAAANwAAADgAAAA5AAAAOgAAADsAAAA8AAAAPQAAAD4AAAA/AAAAQAAAAEEAAABCAAAAQwAAAEQAAABFAAAARgAAAEcAAABIAAAASQAAAEoAAABLAAAATAAAAE0AAABOAAAATwAAAFAAAABRAAAAUgAAAFMAAABUAAAAVQAAAFYAAABXAAAAWAAAAFkAAABaAAAAWwAAAFwAAABdAAAAXgAAAF8AAABgAAAAYQAAAGIAAABjAAAAZAAAAGUAAABmAAAAZwAAAGgAAABpAAAAagAAAGsAAABsAAAAbQAAAG4AAABvAAAAcAAAAHEAAAByAAAAcwAAAHQAAAB1AAAAdgAAAHcAAAB4AAAAeQAAAHoAAAB7AAAAfAAAAH0AAAB+AAAAfwAAAIAAAACBAAAAggAAAIMAAACEAAAAhQAAAIYAAACHAAAAiAAAAIkAAACKAAAAiwAAAIwAAACNAAAAjgAAAI8AAACQAAAAkQAAAJIAAACTAAAAlAAAAJUAAACWAAAAlwAAAJgAAACZAAAAmgAAAJsAAACcAAAAnQAAAJ4AAACfAAAAoAAAAA==",
          "dtype": "u4"
         },
         "xaxis": "x",
         "y": {
          "bdata": "Neik7qpq0T/Mc4YhnXLRP4XiaGU4gdE/tYhSShWU0T/nLaOQEajRP+z0LrVPutE/2LF3PkTI0T/EjNlExtDRP5XnAE3r09E/s/Lt5izT0T9i2Yd4AtHRP+HgQ2G90NE/7tLtccPV0T+ISNjDtuLRP0HdrNCC+dE/ZqKMKhIa0j/5Pu/ZdUPSP1kCbZDkctI/OJCV9hal0j9g9gFDP9bSP7nWxObSAtM//thH/SMo0z9IHxn/nETTP2CeVnpIWNM/hII6fVtj0z8muMwIQ2fTP1RLAdFxZdM/Zx6tGONe0z8lsAAL+FPTPws4zDXnQ9M/RA+Hevos0z8DEFddtAzTP2NJZOrg4NI/IFBTtmGn0j9Kf4WqgF/SP0Mx0GsRCtI/Ak/DZP6o0T8yGVkYOkDRP+he2kNo1NA/O3NvxkNq0D/WXxX8jgbQPxNzS7/aWc8/nTDAHuK+zj9L99bDtD3OP5LE687K1M0/8vaY54l/zT8oyTsS5DjNPxXD519f+sw/iMH7KDu+zD/O7vXGbYDMP7rY5SxDPcw/VMFIFvDzyz9jp7JcwKTLP+hDpxGmUcs/AvJMgIz+yj+NGH3swq/KP9EkVqwma8o/7aAIiXA2yj+0tR6mChjKP7y87z1iFso/YuJ36Ew2yj/LZEUS9XrKP9i696oP5so/HgTbznR2yz8wXnzwVCjMP3AGEuLo9Mw/asU+zTrUzT+g3EU/orzOP2xvZPklpc8/QJPblxND0D9W2z78Na3QP4sb9gECENE/Xs4LRmdr0T8UdL5Ua8HRP+SHcYfwE9I/9/ddtRBl0j/6l8o9orXSPyIVOsFMBdM/bbht6LdR0z9fnXuKR5fTPwrDxnMC0dM/u9PFCPP50z8LlJymVw7UP7z1DCO9C9Q/LadQPHDy0z9Q7FDQDsXTP9aLobCCiNM/8pIwswRD0z9FaGgaU/vSPziEhdcqt9I/81g7TZB60j9azopwSkfSP9eK5leWHNI/UyzRhJz30T8KSz57ctTRP7IeujmVrtE/5+ppg16C0T+bcTQg5E3RP6rVNfIbEdE/FM9LEXzO0D8M3/NEKIrQP9p2TFu4SdA/QpHHfCoT0D//l4TlxdfPPxq2pPTbsM8/HGv5UTi2zz/Ocp0KMOnPP2yCccUiI9A/Rkc26Txj0D8YxOoKErDQP/IyYrEFBNE/Nn1R9w1Z0T8Uu0ghCanRPwZ2rHvM7tE/cp5r/sUl0j+gSV+FZErSP6EK4bsaWtI/2gnXfl1T0j9AokCoezXSP3XRZGH/ANI/RPgCrEi30T+U73kI+VrRP7yTwr9J79A/Fn5JfaZ40D8qFa5fFvjPP/8Ah00o/84/kK27HBsSzj9Jxs+ZxD3NP0ZKyf+Xjcw/3lP0iEMMzD8C404+W8HLP7efPSjhsMs/r6ezCDbbyz+oi9Wd4jvMP2zgy3ANy8w/CZdOlYd8zT8q6wA9IELOPyKjgKXVDM8/b+ewPKXNzz+SX+Ja7TvQPxo1IEN8gNA/M2oWFPuw0D9EaTFSicvQP3ODCIHNz9A/DrsPotq+0D9a6ksZjZrQPyXGdaChZdA/+BAn3/Ei0D/SWYBB+qvPPy4kRkTeBM8/GC5UFyhYzj9LBQjnta3NP3B89X6QDM0/QRb0AZx6zD/NnaArdPzLP6Tm2eSUlMs/6A5tjIpDyz/t3WlywwjLP9zH/igK48o/iM3KQG/Qyj8=",
          "dtype": "f8"
         },
         "yaxis": "y"
        }
       ],
       "layout": {
        "legend": {
         "title": {
          "text": "treatment"
         },
         "tracegroupgap": 0
        },
        "margin": {
         "t": 60
        },
        "template": {
         "data": {
          "bar": [
           {
            "error_x": {
             "color": "#2a3f5f"
            },
            "error_y": {
             "color": "#2a3f5f"
            },
            "marker": {
             "line": {
              "color": "#E5ECF6",
              "width": 0.5
             },
             "pattern": {
              "fillmode": "overlay",
              "size": 10,
              "solidity": 0.2
             }
            },
            "type": "bar"
           }
          ],
          "barpolar": [
           {
            "marker": {
             "line": {
              "color": "#E5ECF6",
              "width": 0.5
             },
             "pattern": {
              "fillmode": "overlay",
              "size": 10,
              "solidity": 0.2
             }
            },
            "type": "barpolar"
           }
          ],
          "carpet": [
           {
            "aaxis": {
             "endlinecolor": "#2a3f5f",
             "gridcolor": "white",
             "linecolor": "white",
             "minorgridcolor": "white",
             "startlinecolor": "#2a3f5f"
            },
            "baxis": {
             "endlinecolor": "#2a3f5f",
             "gridcolor": "white",
             "linecolor": "white",
             "minorgridcolor": "white",
             "startlinecolor": "#2a3f5f"
            },
            "type": "carpet"
           }
          ],
          "choropleth": [
           {
            "colorbar": {
             "outlinewidth": 0,
             "ticks": ""
            },
            "type": "choropleth"
           }
          ],
          "contour": [
           {
            "colorbar": {
             "outlinewidth": 0,
             "ticks": ""
            },
            "colorscale": [
             [
              0,
              "#0d0887"
             ],
             [
              0.1111111111111111,
              "#46039f"
             ],
             [
              0.2222222222222222,
              "#7201a8"
             ],
             [
              0.3333333333333333,
              "#9c179e"
             ],
             [
              0.4444444444444444,
              "#bd3786"
             ],
             [
              0.5555555555555556,
              "#d8576b"
             ],
             [
              0.6666666666666666,
              "#ed7953"
             ],
             [
              0.7777777777777778,
              "#fb9f3a"
             ],
             [
              0.8888888888888888,
              "#fdca26"
             ],
             [
              1,
              "#f0f921"
             ]
            ],
            "type": "contour"
           }
          ],
          "contourcarpet": [
           {
            "colorbar": {
             "outlinewidth": 0,
             "ticks": ""
            },
            "type": "contourcarpet"
           }
          ],
          "heatmap": [
           {
            "colorbar": {
             "outlinewidth": 0,
             "ticks": ""
            },
            "colorscale": [
             [
              0,
              "#0d0887"
             ],
             [
              0.1111111111111111,
              "#46039f"
             ],
             [
              0.2222222222222222,
              "#7201a8"
             ],
             [
              0.3333333333333333,
              "#9c179e"
             ],
             [
              0.4444444444444444,
              "#bd3786"
             ],
             [
              0.5555555555555556,
              "#d8576b"
             ],
             [
              0.6666666666666666,
              "#ed7953"
             ],
             [
              0.7777777777777778,
              "#fb9f3a"
             ],
             [
              0.8888888888888888,
              "#fdca26"
             ],
             [
              1,
              "#f0f921"
             ]
            ],
            "type": "heatmap"
           }
          ],
          "histogram": [
           {
            "marker": {
             "pattern": {
              "fillmode": "overlay",
              "size": 10,
              "solidity": 0.2
             }
            },
            "type": "histogram"
           }
          ],
          "histogram2d": [
           {
            "colorbar": {
             "outlinewidth": 0,
             "ticks": ""
            },
            "colorscale": [
             [
              0,
              "#0d0887"
             ],
             [
              0.1111111111111111,
              "#46039f"
             ],
             [
              0.2222222222222222,
              "#7201a8"
             ],
             [
              0.3333333333333333,
              "#9c179e"
             ],
             [
              0.4444444444444444,
              "#bd3786"
             ],
             [
              0.5555555555555556,
              "#d8576b"
             ],
             [
              0.6666666666666666,
              "#ed7953"
             ],
             [
              0.7777777777777778,
              "#fb9f3a"
             ],
             [
              0.8888888888888888,
              "#fdca26"
             ],
             [
              1,
              "#f0f921"
             ]
            ],
            "type": "histogram2d"
           }
          ],
          "histogram2dcontour": [
           {
            "colorbar": {
             "outlinewidth": 0,
             "ticks": ""
            },
            "colorscale": [
             [
              0,
              "#0d0887"
             ],
             [
              0.1111111111111111,
              "#46039f"
             ],
             [
              0.2222222222222222,
              "#7201a8"
             ],
             [
              0.3333333333333333,
              "#9c179e"
             ],
             [
              0.4444444444444444,
              "#bd3786"
             ],
             [
              0.5555555555555556,
              "#d8576b"
             ],
             [
              0.6666666666666666,
              "#ed7953"
             ],
             [
              0.7777777777777778,
              "#fb9f3a"
             ],
             [
              0.8888888888888888,
              "#fdca26"
             ],
             [
              1,
              "#f0f921"
             ]
            ],
            "type": "histogram2dcontour"
           }
          ],
          "mesh3d": [
           {
            "colorbar": {
             "outlinewidth": 0,
             "ticks": ""
            },
            "type": "mesh3d"
           }
          ],
          "parcoords": [
           {
            "line": {
             "colorbar": {
              "outlinewidth": 0,
              "ticks": ""
             }
            },
            "type": "parcoords"
           }
          ],
          "pie": [
           {
            "automargin": true,
            "type": "pie"
           }
          ],
          "scatter": [
           {
            "fillpattern": {
             "fillmode": "overlay",
             "size": 10,
             "solidity": 0.2
            },
            "type": "scatter"
           }
          ],
          "scatter3d": [
           {
            "line": {
             "colorbar": {
              "outlinewidth": 0,
              "ticks": ""
             }
            },
            "marker": {
             "colorbar": {
              "outlinewidth": 0,
              "ticks": ""
             }
            },
            "type": "scatter3d"
           }
          ],
          "scattercarpet": [
           {
            "marker": {
             "colorbar": {
              "outlinewidth": 0,
              "ticks": ""
             }
            },
            "type": "scattercarpet"
           }
          ],
          "scattergeo": [
           {
            "marker": {
             "colorbar": {
              "outlinewidth": 0,
              "ticks": ""
             }
            },
            "type": "scattergeo"
           }
          ],
          "scattergl": [
           {
            "marker": {
             "colorbar": {
              "outlinewidth": 0,
              "ticks": ""
             }
            },
            "type": "scattergl"
           }
          ],
          "scattermap": [
           {
            "marker": {
             "colorbar": {
              "outlinewidth": 0,
              "ticks": ""
             }
            },
            "type": "scattermap"
           }
          ],
          "scattermapbox": [
           {
            "marker": {
             "colorbar": {
              "outlinewidth": 0,
              "ticks": ""
             }
            },
            "type": "scattermapbox"
           }
          ],
          "scatterpolar": [
           {
            "marker": {
             "colorbar": {
              "outlinewidth": 0,
              "ticks": ""
             }
            },
            "type": "scatterpolar"
           }
          ],
          "scatterpolargl": [
           {
            "marker": {
             "colorbar": {
              "outlinewidth": 0,
              "ticks": ""
             }
            },
            "type": "scatterpolargl"
           }
          ],
          "scatterternary": [
           {
            "marker": {
             "colorbar": {
              "outlinewidth": 0,
              "ticks": ""
             }
            },
            "type": "scatterternary"
           }
          ],
          "surface": [
           {
            "colorbar": {
             "outlinewidth": 0,
             "ticks": ""
            },
            "colorscale": [
             [
              0,
              "#0d0887"
             ],
             [
              0.1111111111111111,
              "#46039f"
             ],
             [
              0.2222222222222222,
              "#7201a8"
             ],
             [
              0.3333333333333333,
              "#9c179e"
             ],
             [
              0.4444444444444444,
              "#bd3786"
             ],
             [
              0.5555555555555556,
              "#d8576b"
             ],
             [
              0.6666666666666666,
              "#ed7953"
             ],
             [
              0.7777777777777778,
              "#fb9f3a"
             ],
             [
              0.8888888888888888,
              "#fdca26"
             ],
             [
              1,
              "#f0f921"
             ]
            ],
            "type": "surface"
           }
          ],
          "table": [
           {
            "cells": {
             "fill": {
              "color": "#EBF0F8"
             },
             "line": {
              "color": "white"
             }
            },
            "header": {
             "fill": {
              "color": "#C8D4E3"
             },
             "line": {
              "color": "white"
             }
            },
            "type": "table"
           }
          ]
         },
         "layout": {
          "annotationdefaults": {
           "arrowcolor": "#2a3f5f",
           "arrowhead": 0,
           "arrowwidth": 1
          },
          "autotypenumbers": "strict",
          "coloraxis": {
           "colorbar": {
            "outlinewidth": 0,
            "ticks": ""
           }
          },
          "colorscale": {
           "diverging": [
            [
             0,
             "#8e0152"
            ],
            [
             0.1,
             "#c51b7d"
            ],
            [
             0.2,
             "#de77ae"
            ],
            [
             0.3,
             "#f1b6da"
            ],
            [
             0.4,
             "#fde0ef"
            ],
            [
             0.5,
             "#f7f7f7"
            ],
            [
             0.6,
             "#e6f5d0"
            ],
            [
             0.7,
             "#b8e186"
            ],
            [
             0.8,
             "#7fbc41"
            ],
            [
             0.9,
             "#4d9221"
            ],
            [
             1,
             "#276419"
            ]
           ],
           "sequential": [
            [
             0,
             "#0d0887"
            ],
            [
             0.1111111111111111,
             "#46039f"
            ],
            [
             0.2222222222222222,
             "#7201a8"
            ],
            [
             0.3333333333333333,
             "#9c179e"
            ],
            [
             0.4444444444444444,
             "#bd3786"
            ],
            [
             0.5555555555555556,
             "#d8576b"
            ],
            [
             0.6666666666666666,
             "#ed7953"
            ],
            [
             0.7777777777777778,
             "#fb9f3a"
            ],
            [
             0.8888888888888888,
             "#fdca26"
            ],
            [
             1,
             "#f0f921"
            ]
           ],
           "sequentialminus": [
            [
             0,
             "#0d0887"
            ],
            [
             0.1111111111111111,
             "#46039f"
            ],
            [
             0.2222222222222222,
             "#7201a8"
            ],
            [
             0.3333333333333333,
             "#9c179e"
            ],
            [
             0.4444444444444444,
             "#bd3786"
            ],
            [
             0.5555555555555556,
             "#d8576b"
            ],
            [
             0.6666666666666666,
             "#ed7953"
            ],
            [
             0.7777777777777778,
             "#fb9f3a"
            ],
            [
             0.8888888888888888,
             "#fdca26"
            ],
            [
             1,
             "#f0f921"
            ]
           ]
          },
          "colorway": [
           "#636efa",
           "#EF553B",
           "#00cc96",
           "#ab63fa",
           "#FFA15A",
           "#19d3f3",
           "#FF6692",
           "#B6E880",
           "#FF97FF",
           "#FECB52"
          ],
          "font": {
           "color": "#2a3f5f"
          },
          "geo": {
           "bgcolor": "white",
           "lakecolor": "white",
           "landcolor": "#E5ECF6",
           "showlakes": true,
           "showland": true,
           "subunitcolor": "white"
          },
          "hoverlabel": {
           "align": "left"
          },
          "hovermode": "closest",
          "mapbox": {
           "style": "light"
          },
          "paper_bgcolor": "white",
          "plot_bgcolor": "#E5ECF6",
          "polar": {
           "angularaxis": {
            "gridcolor": "white",
            "linecolor": "white",
            "ticks": ""
           },
           "bgcolor": "#E5ECF6",
           "radialaxis": {
            "gridcolor": "white",
            "linecolor": "white",
            "ticks": ""
           }
          },
          "scene": {
           "xaxis": {
            "backgroundcolor": "#E5ECF6",
            "gridcolor": "white",
            "gridwidth": 2,
            "linecolor": "white",
            "showbackground": true,
            "ticks": "",
            "zerolinecolor": "white"
           },
           "yaxis": {
            "backgroundcolor": "#E5ECF6",
            "gridcolor": "white",
            "gridwidth": 2,
            "linecolor": "white",
            "showbackground": true,
            "ticks": "",
            "zerolinecolor": "white"
           },
           "zaxis": {
            "backgroundcolor": "#E5ECF6",
            "gridcolor": "white",
            "gridwidth": 2,
            "linecolor": "white",
            "showbackground": true,
            "ticks": "",
            "zerolinecolor": "white"
           }
          },
          "shapedefaults": {
           "line": {
            "color": "#2a3f5f"
           }
          },
          "ternary": {
           "aaxis": {
            "gridcolor": "white",
            "linecolor": "white",
            "ticks": ""
           },
           "baxis": {
            "gridcolor": "white",
            "linecolor": "white",
            "ticks": ""
           },
           "bgcolor": "#E5ECF6",
           "caxis": {
            "gridcolor": "white",
            "linecolor": "white",
            "ticks": ""
           }
          },
          "title": {
           "x": 0.05
          },
          "xaxis": {
           "automargin": true,
           "gridcolor": "white",
           "linecolor": "white",
           "ticks": "",
           "title": {
            "standoff": 15
           },
           "zerolinecolor": "white",
           "zerolinewidth": 2
          },
          "yaxis": {
           "automargin": true,
           "gridcolor": "white",
           "linecolor": "white",
           "ticks": "",
           "title": {
            "standoff": 15
           },
           "zerolinecolor": "white",
           "zerolinewidth": 2
          }
         }
        },
        "xaxis": {
         "anchor": "y",
         "domain": [
          0,
          1
         ],
         "title": {
          "text": "trial_idx"
         }
        },
        "yaxis": {
         "anchor": "x",
         "domain": [
          0,
          1
         ],
         "title": {
          "text": "efs_smooth"
         }
        }
       }
      }
     },
     "metadata": {},
     "output_type": "display_data"
    }
   ],
   "source": [
    "px.line(efs_smoothed, x=\"trial_idx\", y=\"efs_smooth\", color=\"treatment\", category_orders=cat)"
   ]
  },
  {
   "cell_type": "code",
   "execution_count": 40,
   "id": "5ccfb06b",
   "metadata": {},
   "outputs": [
    {
     "data": {
      "application/vnd.plotly.v1+json": {
       "config": {
        "plotlyServerURL": "https://plot.ly"
       },
       "data": [
        {
         "hovertemplate": "treatment=sham<br>sigma=1<br>trial_idx=%{x}<br>efs_smooth=%{y}<extra></extra>",
         "legendgroup": "sham",
         "line": {
          "color": "#1f77b4",
          "dash": "solid"
         },
         "marker": {
          "symbol": "circle"
         },
         "mode": "lines",
         "name": "sham",
         "orientation": "v",
         "showlegend": true,
         "type": "scatter",
         "x": {
          "bdata": "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",
          "dtype": "u4"
         },
         "xaxis": "x",
         "y": {
          "bdata": "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",
          "dtype": "f8"
         },
         "yaxis": "y"
        },
        {
         "hovertemplate": "treatment=ofc<br>sigma=1<br>trial_idx=%{x}<br>efs_smooth=%{y}<extra></extra>",
         "legendgroup": "ofc",
         "line": {
          "color": "#ff7f0e",
          "dash": "solid"
         },
         "marker": {
          "symbol": "circle"
         },
         "mode": "lines",
         "name": "ofc",
         "orientation": "v",
         "showlegend": true,
         "type": "scatter",
         "x": {
          "bdata": "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",
          "dtype": "u4"
         },
         "xaxis": "x",
         "y": {
          "bdata": "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",
          "dtype": "f8"
         },
         "yaxis": "y"
        },
        {
         "hovertemplate": "treatment=mpfc<br>sigma=1<br>trial_idx=%{x}<br>efs_smooth=%{y}<extra></extra>",
         "legendgroup": "mpfc",
         "line": {
          "color": "#2ca02c",
          "dash": "solid"
         },
         "marker": {
          "symbol": "circle"
         },
         "mode": "lines",
         "name": "mpfc",
         "orientation": "v",
         "showlegend": true,
         "type": "scatter",
         "x": {
          "bdata": "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",
          "dtype": "u4"
         },
         "xaxis": "x",
         "y": {
          "bdata": "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",
          "dtype": "f8"
         },
         "yaxis": "y"
        }
       ],
       "frames": [
        {
         "data": [
          {
           "hovertemplate": "treatment=sham<br>sigma=1<br>trial_idx=%{x}<br>efs_smooth=%{y}<extra></extra>",
           "legendgroup": "sham",
           "line": {
            "color": "#1f77b4",
            "dash": "solid"
           },
           "marker": {
            "symbol": "circle"
           },
           "mode": "lines",
           "name": "sham",
           "orientation": "v",
           "showlegend": true,
           "type": "scatter",
           "x": {
            "bdata": "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",
            "dtype": "u4"
           },
           "xaxis": "x",
           "y": {
            "bdata": "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",
            "dtype": "f8"
           },
           "yaxis": "y"
          },
          {
           "hovertemplate": "treatment=ofc<br>sigma=1<br>trial_idx=%{x}<br>efs_smooth=%{y}<extra></extra>",
           "legendgroup": "ofc",
           "line": {
            "color": "#ff7f0e",
            "dash": "solid"
           },
           "marker": {
            "symbol": "circle"
           },
           "mode": "lines",
           "name": "ofc",
           "orientation": "v",
           "showlegend": true,
           "type": "scatter",
           "x": {
            "bdata": "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",
            "dtype": "u4"
           },
           "xaxis": "x",
           "y": {
            "bdata": "eWf/nSQipT9spFxs3k3IP14uvd5Z69k/1hONMopZ3D8dnbzMhM7TPw/sLTeu+8o/To+W7AxE0D+H1m9Fy6rUP6G8GQPZwtY/t9RCL4eG1T8zJPeOzOTTPx6PDaX3edU/lYey9ZSyzj99Ec9h4THAP5SGrMyYpcA/P0g0HMyuxj9xFABZpe/QP/71K79jbtg//0aQMAty2T+RrS4pRZ7VP3Lvt9d9j9I/IllnwvP2zz9VVVVVVVXVPxj+dskwr9o/yGYGRc8a2D9rqhtNkP/UP6g+l6RBjNA/oLTygHjPzD8AgNhpcCHOPwpgpLyKwcs/xLSWwOMVzT8syDB1SlPTP0RHZcOM09k/WV9KpExE3T/L4f4Ox3zYPwgdVMy5wtQ/fGORMopu1j+624O7CZvTP7ZGmo8us8g/wOLUHKtEwj9mSAUdYsbEP/6sJl+dF8Y/XWiI9mbjyj9GiWyv54LOP2YsyTg8Cc4/QfMunmXhyD8nFVLqn3bNP5ZmchyJ5tQ/zaY4r+7h0T8ERh9pldjJP9zAeGazxso/+tZbDkrazT+4wNQmSIDKP7ak0azfq8Y/ePfBdw+jxz9GiWyv54LOP6bOx9vJpNA/xanSGK1LyD/CTItilovHPxeMug9A0ss/+lAePEBNxj/256aJDvzBP0ZQVOmHtcM/2JB/pcn8wT+x+1RRuWTGP5CJ4e/o4Mw/Mr77BvGOyz+BvEFNnr7LPxHRDntNSM8/e7z7FzcI0T9zrHw5mlTVPyZGs9Phidk/Yp6Mp9HS2T/m5N/4xfTWP4E/dAFrdNA/XJ9bABGuxj+C1z6eCobBP4Q0hlQhRsI/zF5/cO4jzD+AXPgXaHfUPyUX8K75rtg/tP422lfo1j8KBjUeVivaPyrnWeTCPOE/WhFn21Yr4T/L4f4Ox3zYP+dWA+OdY88/drUR53zwyz+wgZIjw/HNPyBtxfUTaMo/0FE9okRuxT+C1z6eCobBP0ww83p3hMM/vuTBDSQ60T98r9htb0zbP54VEtdtYN8/Nbxzb8FJ2D+d3383G23SP0p4fvNNmdI/DKvE0/O20z9LMukKDsrOP/1/YABNx8Q/LlWEVL89xz8zpX1W/AXQP6dvnhVrWck/JoiphgBxvj8o3DkkQKnCPygyRcuig84/GoYTnsst0z8Q64dzDXTQPz2yvaCMJM4/cEkdBfbL0j8C5pHocD7XP9FzkDJZ6tg/AIMytMy11D+IBkj4WRfNP7Ho5oQzLMk/R2aDMFEU0T8OcgTZ0PbYP6CAd38Xf9s/qmVUVSTR1z8U9IF6OcDSP3a1Eed88Ms/bvCREe7Uxz9jZRppWb/LPzb5w1BCjdE/EM/+pNsT0j8GQ4y0e1vQP+wv4etM8M0/7qhkholtxT9m6bDX68O7PwIgIyZMPb4/qiPfGMhqvj9Y5P6XPeG9P5nII/Ntb8k/SnksUQ2Z0D/4bPT0fVDMP/0FntJWVMw/degevVuY0D9GKuGsj9DVP/vVEgrUits/oIB3fxd/2z/aWG0IZjzVP/y4KZqN18s/OIJ1s4OdwT/Qd4MUdFy8P6ydoUa+3cY/lHQhRBY70z/6L3g3TMfbP1KbxRaJy94/6N1G3qP91D9mKxI8X7nDP76p8qO4FrA/aK/y2dcQrz+Y5F/XkyzAP+Id7d30V8k/6jAgfwbmzj+TiPGITqjPP/6AF/0pF88/gbxBTZ6+yz95Z/+dJCKlP2ykXGzeTcg/Xi693lnr2T/WE40yilncPx2dvMyEztM/D+wtN677yj9Oj5bsDETQP4fWb0XLqtQ/obwZA9nC1j+31EIvh4bVPzMk947M5NM/Ho8Npfd51T+Vh7L1lLLOP30Rz2HhMcA/lIaszJilwD8/SDQczK7GP3EUAFml79A//vUrv2Nu2D//RpAwC3LZP5GtLilFntU/cu+3132P0j8iWWfC8/bPP1VVVVVVVdU/GP52yTCv2j/IZgZFzxrYP2uqG02Q/9Q/qD6XpEGM0D+gtPKAeM/MPwCA2GlwIc4/CmCkvIrByz/EtJbA4xXNPyzIMHVKU9M/REdlw4zT2T9ZX0qkTETdP8vh/g7HfNg/CB1UzLnC1D98Y5Eyim7WP7rbg7sJm9M/tkaajy6zyD/A4tQcq0TCP2ZIBR1ixsQ//qwmX50Xxj9daIj2ZuPKP0aJbK/ngs4/ZizJODwJzj9B8y6eZeHIPycVUuqfds0/lmZyHInm1D/Npjiv7uHRPwRGH2mV2Mk/3MB4ZrPGyj/61lsOStrNP7jA1CZIgMo/tqTRrN+rxj9498F3D6PHP0aJbK/ngs4/ps7H28mk0D/FqdIYrUvIP8JMi2KWi8c/F4y6D0DSyz/6UB48QE3GP/bnpokO/ME/RlBU6Ye1wz/YkH+lyfzBP7H7VFG5ZMY/kInh7+jgzD8yvvsG8Y7LP4G8QU2evss/EdEOe01Izz97vPsXNwjRP3OsfDmaVNU/Jkaz0+GJ2T9inoyn0dLZP+bk3/jF9NY/gT90AWt00D9cn1sAEa7GP4LXPp4KhsE/hDSGVCFGwj/MXn9w7iPMP4Bc+Bdod9Q/JRfwrvmu2D+0/jbaV+jWPwoGNR5WK9o/KudZ5MI84T9aEWfbVivhP8vh/g7HfNg/51YD451jzz92tRHnfPDLP7CBkiPD8c0/IG3F9RNoyj/QUT2iRG7FP4LXPp4KhsE/TDDzeneEwz++5MENJDrRP3yv2G1vTNs/nhUS121g3z81vHNvwUnYP53ffzcbbdI/Snh+802Z0j8Mq8TT87bTP0sy6QoOys4//X9gAE3HxD8uVYRUvz3HPzOlfVb8BdA/p2+eFWtZyT8miKmGAHG+PyjcOSRAqcI/KDJFy6KDzj8ahhOeyy3TPxDrh3MNdNA/PbK9oIwkzj9wSR0F9svSPwLmkehwPtc/0XOQMlnq2D8AgzK0zLXUP4gGSPhZF80/sejmhDMsyT9HZoMwURTRPw5yBNnQ9tg/oIB3fxd/2z+qZVRVJNHXPxT0gXo5wNI/drUR53zwyz9u8JER7tTHP2NlGmlZv8s/NvnDUEKN0T8Qz/6k2xPSPwZDjLR7W9A/7C/h60zwzT/uqGSGiW3FP2bpsNfrw7s/AiAjJkw9vj+qI98YyGq+P1jk/pc94b0/mcgj821vyT9KeSxRDZnQP/hs9PR9UMw//QWe0lZUzD916B69W5jQP0Yq4ayP0NU/+9USCtSK2z+ggHd/F3/bP9pYbQhmPNU//Lgpmo3Xyz84gnWzg53BP9B3gxR0XLw/rJ2hRr7dxj+UdCFEFjvTP/oveDdMx9s/UpvFFonL3j/o3Ubeo/3UP2YrEjxfucM/vqnyo7gWsD9or/LZ1xCvP5jkX9eTLMA/4h3t3fRXyT/qMCB/BubOP5OI8YhOqM8//oAX/SkXzz+BvEFNnr7LP3ln/50kIqU/bKRcbN5NyD9eLr3eWevZP9YTjTKKWdw/HZ28zITO0z8P7C03rvvKP06PluwMRNA/h9ZvRcuq1D+hvBkD2cLWP7fUQi+HhtU/MyT3jszk0z8ejw2l93nVP5WHsvWUss4/fRHPYeExwD+UhqzMmKXAPz9INBzMrsY/cRQAWaXv0D/+9Su/Y27YP/9GkDALctk/ka0uKUWe1T9y77fXfY/SPyJZZ8Lz9s8/VVVVVVVV1T8Y/nbJMK/aP8hmBkXPGtg/a6obTZD/1D+oPpekQYzQP6C08oB4z8w/AIDYaXAhzj8KYKS8isHLP8S0lsDjFc0/LMgwdUpT0z9ER2XDjNPZP1lfSqRMRN0/y+H+Dsd82D8IHVTMucLUP3xjkTKKbtY/utuDuwmb0z+2RpqPLrPIP8Di1ByrRMI/ZkgFHWLGxD/+rCZfnRfGP11oiPZm48o/Rolsr+eCzj9mLMk4PAnOP0HzLp5l4cg/JxVS6p92zT+WZnIciebUP82mOK/u4dE/BEYfaZXYyT/cwHhms8bKP/rWWw5K2s0/uMDUJkiAyj+2pNGs36vGP3j3wXcPo8c/Rolsr+eCzj+mzsfbyaTQP8Wp0hitS8g/wkyLYpaLxz8XjLoPQNLLP/pQHjxATcY/9uemiQ78wT9GUFTph7XDP9iQf6XJ/ME/sftUUblkxj+QieHv6ODMPzK++wbxjss/gbxBTZ6+yz8R0Q57TUjPP3u8+xc3CNE/c6x8OZpU1T8mRrPT4YnZP2KejKfR0tk/5uTf+MX01j+BP3QBa3TQP1yfWwARrsY/gtc+ngqGwT+ENIZUIUbCP8xef3DuI8w/gFz4F2h31D8lF/Cu+a7YP7T+NtpX6NY/CgY1HlYr2j8q51nkwjzhP1oRZ9tWK+E/y+H+Dsd82D/nVgPjnWPPP3a1Eed88Ms/sIGSI8PxzT8gbcX1E2jKP9BRPaJEbsU/gtc+ngqGwT9MMPN6d4TDP77kwQ0kOtE/fK/YbW9M2z+eFRLXbWDfPzW8c2/BSdg/nd9/Nxtt0j9KeH7zTZnSPwyrxNPzttM/SzLpCg7Kzj/9f2AATcfEPy5VhFS/Pcc/M6V9VvwF0D+nb54Va1nJPyaIqYYAcb4/KNw5JECpwj8oMkXLooPOPxqGE57LLdM/EOuHcw100D89sr2gjCTOP3BJHQX2y9I/AuaR6HA+1z/Rc5AyWerYPwCDMrTMtdQ/iAZI+FkXzT+x6OaEMyzJP0dmgzBRFNE/DnIE2dD22D+ggHd/F3/bP6plVFUk0dc/FPSBejnA0j92tRHnfPDLP27wkRHu1Mc/Y2UaaVm/yz82+cNQQo3RPxDP/qTbE9I/BkOMtHtb0D/sL+HrTPDNP+6oZIaJbcU/Zumw1+vDuz8CICMmTD2+P6oj3xjIar4/WOT+lz3hvT+ZyCPzbW/JP0p5LFENmdA/+Gz09H1QzD/9BZ7SVlTMP3XoHr1bmNA/RirhrI/Q1T/71RIK1IrbP6CAd38Xf9s/2lhtCGY81T/8uCmajdfLPziCdbODncE/0HeDFHRcvD+snaFGvt3GP5R0IUQWO9M/+i94N0zH2z9Sm8UWicveP+jdRt6j/dQ/ZisSPF+5wz++qfKjuBawP2iv8tnXEK8/mORf15MswD/iHe3d9FfJP+owIH8G5s4/k4jxiE6ozz/+gBf9KRfPP4G8QU2evss/eWf/nSQipT9spFxs3k3IP14uvd5Z69k/1hONMopZ3D8dnbzMhM7TPw/sLTeu+8o/To+W7AxE0D+H1m9Fy6rUP6G8GQPZwtY/t9RCL4eG1T8zJPeOzOTTPx6PDaX3edU/lYey9ZSyzj99Ec9h4THAP5SGrMyYpcA/P0g0HMyuxj9xFABZpe/QP/71K79jbtg//0aQMAty2T+RrS4pRZ7VP3Lvt9d9j9I/IllnwvP2zz9VVVVVVVXVPxj+dskwr9o/yGYGRc8a2D9rqhtNkP/UP6g+l6RBjNA/oLTygHjPzD8AgNhpcCHOPwpgpLyKwcs/xLSWwOMVzT8syDB1SlPTP0RHZcOM09k/WV9KpExE3T/L4f4Ox3zYPwgdVMy5wtQ/fGORMopu1j+624O7CZvTP7ZGmo8us8g/wOLUHKtEwj9mSAUdYsbEP/6sJl+dF8Y/XWiI9mbjyj9GiWyv54LOP2YsyTg8Cc4/QfMunmXhyD8nFVLqn3bNP5ZmchyJ5tQ/zaY4r+7h0T8ERh9pldjJP9zAeGazxso/+tZbDkrazT+4wNQmSIDKP7ak0azfq8Y/ePfBdw+jxz9GiWyv54LOP6bOx9vJpNA/xanSGK1LyD/CTItilovHPxeMug9A0ss/+lAePEBNxj/256aJDvzBP0ZQVOmHtcM/2JB/pcn8wT+x+1RRuWTGP5CJ4e/o4Mw/Mr77BvGOyz+BvEFNnr7LPxHRDntNSM8/e7z7FzcI0T9zrHw5mlTVPyZGs9Phidk/Yp6Mp9HS2T/m5N/4xfTWP4E/dAFrdNA/XJ9bABGuxj+C1z6eCobBP4Q0hlQhRsI/zF5/cO4jzD+AXPgXaHfUPyUX8K75rtg/tP422lfo1j8KBjUeVivaPyrnWeTCPOE/WhFn21Yr4T/L4f4Ox3zYP+dWA+OdY88/drUR53zwyz+wgZIjw/HNPyBtxfUTaMo/0FE9okRuxT+C1z6eCobBP0ww83p3hMM/vuTBDSQ60T98r9htb0zbP54VEtdtYN8/Nbxzb8FJ2D+d3383G23SP0p4fvNNmdI/DKvE0/O20z9LMukKDsrOP/1/YABNx8Q/LlWEVL89xz8zpX1W/AXQP6dvnhVrWck/JoiphgBxvj8o3DkkQKnCPygyRcuig84/GoYTnsst0z8Q64dzDXTQPz2yvaCMJM4/cEkdBfbL0j8C5pHocD7XP9FzkDJZ6tg/AIMytMy11D+IBkj4WRfNP7Ho5oQzLMk/R2aDMFEU0T8OcgTZ0PbYP6CAd38Xf9s/qmVUVSTR1z8U9IF6OcDSP3a1Eed88Ms/bvCREe7Uxz9jZRppWb/LPzb5w1BCjdE/EM/+pNsT0j8GQ4y0e1vQP+wv4etM8M0/7qhkholtxT9m6bDX68O7PwIgIyZMPb4/qiPfGMhqvj9Y5P6XPeG9P5nII/Ntb8k/SnksUQ2Z0D/4bPT0fVDMP/0FntJWVMw/degevVuY0D9GKuGsj9DVP/vVEgrUits/oIB3fxd/2z/aWG0IZjzVP/y4KZqN18s/OIJ1s4OdwT/Qd4MUdFy8P6ydoUa+3cY/lHQhRBY70z/6L3g3TMfbP1KbxRaJy94/6N1G3qP91D9mKxI8X7nDP76p8qO4FrA/aK/y2dcQrz+Y5F/XkyzAP+Id7d30V8k/6jAgfwbmzj+TiPGITqjPP/6AF/0pF88/gbxBTZ6+yz95Z/+dJCKlP2ykXGzeTcg/Xi693lnr2T/WE40yilncPx2dvMyEztM/D+wtN677yj9Oj5bsDETQP4fWb0XLqtQ/obwZA9nC1j+31EIvh4bVPzMk947M5NM/Ho8Npfd51T+Vh7L1lLLOP30Rz2HhMcA/lIaszJilwD8/SDQczK7GP3EUAFml79A//vUrv2Nu2D//RpAwC3LZP5GtLilFntU/cu+3132P0j8iWWfC8/bPP1VVVVVVVdU/GP52yTCv2j/IZgZFzxrYP2uqG02Q/9Q/qD6XpEGM0D+gtPKAeM/MPwCA2GlwIc4/CmCkvIrByz/EtJbA4xXNPyzIMHVKU9M/REdlw4zT2T9ZX0qkTETdP8vh/g7HfNg/CB1UzLnC1D98Y5Eyim7WP7rbg7sJm9M/tkaajy6zyD/A4tQcq0TCP2ZIBR1ixsQ//qwmX50Xxj9daIj2ZuPKP0aJbK/ngs4/ZizJODwJzj9B8y6eZeHIPycVUuqfds0/lmZyHInm1D/Npjiv7uHRPwRGH2mV2Mk/3MB4ZrPGyj/61lsOStrNP7jA1CZIgMo/tqTRrN+rxj9498F3D6PHP0aJbK/ngs4/ps7H28mk0D/FqdIYrUvIP8JMi2KWi8c/F4y6D0DSyz/6UB48QE3GP/bnpokO/ME/RlBU6Ye1wz/YkH+lyfzBP7H7VFG5ZMY/kInh7+jgzD8yvvsG8Y7LP4G8QU2evss/EdEOe01Izz97vPsXNwjRP3OsfDmaVNU/Jkaz0+GJ2T9inoyn0dLZP+bk3/jF9NY/gT90AWt00D9cn1sAEa7GP4LXPp4KhsE/hDSGVCFGwj/MXn9w7iPMP4Bc+Bdod9Q/JRfwrvmu2D+0/jbaV+jWPwoGNR5WK9o/KudZ5MI84T9aEWfbVivhP8vh/g7HfNg/51YD451jzz92tRHnfPDLP7CBkiPD8c0/IG3F9RNoyj/QUT2iRG7FP4LXPp4KhsE/TDDzeneEwz++5MENJDrRP3yv2G1vTNs/nhUS121g3z81vHNvwUnYP53ffzcbbdI/Snh+802Z0j8Mq8TT87bTP0sy6QoOys4//X9gAE3HxD8uVYRUvz3HPzOlfVb8BdA/p2+eFWtZyT8miKmGAHG+PyjcOSRAqcI/KDJFy6KDzj8ahhOeyy3TPxDrh3MNdNA/PbK9oIwkzj9wSR0F9svSPwLmkehwPtc/0XOQMlnq2D8AgzK0zLXUP4gGSPhZF80/sejmhDMsyT9HZoMwURTRPw5yBNnQ9tg/oIB3fxd/2z+qZVRVJNHXPxT0gXo5wNI/drUR53zwyz9u8JER7tTHP2NlGmlZv8s/NvnDUEKN0T8Qz/6k2xPSPwZDjLR7W9A/7C/h60zwzT/uqGSGiW3FP2bpsNfrw7s/AiAjJkw9vj+qI98YyGq+P1jk/pc94b0/mcgj821vyT9KeSxRDZnQP/hs9PR9UMw//QWe0lZUzD916B69W5jQP0Yq4ayP0NU/+9USCtSK2z+ggHd/F3/bP9pYbQhmPNU//Lgpmo3Xyz84gnWzg53BP9B3gxR0XLw/rJ2hRr7dxj+UdCFEFjvTP/oveDdMx9s/UpvFFonL3j/o3Ubeo/3UP2YrEjxfucM/vqnyo7gWsD9or/LZ1xCvP5jkX9eTLMA/4h3t3fRXyT/qMCB/BubOP5OI8YhOqM8//oAX/SkXzz+BvEFNnr7LP3ln/50kIqU/bKRcbN5NyD9eLr3eWevZP9YTjTKKWdw/HZ28zITO0z8P7C03rvvKP06PluwMRNA/h9ZvRcuq1D+hvBkD2cLWP7fUQi+HhtU/MyT3jszk0z8ejw2l93nVP5WHsvWUss4/fRHPYeExwD+UhqzMmKXAPz9INBzMrsY/cRQAWaXv0D/+9Su/Y27YP/9GkDALctk/ka0uKUWe1T9y77fXfY/SPyJZZ8Lz9s8/VVVVVVVV1T8Y/nbJMK/aP8hmBkXPGtg/a6obTZD/1D+oPpekQYzQP6C08oB4z8w/AIDYaXAhzj8KYKS8isHLP8S0lsDjFc0/LMgwdUpT0z9ER2XDjNPZP1lfSqRMRN0/y+H+Dsd82D8IHVTMucLUP3xjkTKKbtY/utuDuwmb0z+2RpqPLrPIP8Di1ByrRMI/ZkgFHWLGxD/+rCZfnRfGP11oiPZm48o/Rolsr+eCzj9mLMk4PAnOP0HzLp5l4cg/JxVS6p92zT+WZnIciebUP82mOK/u4dE/BEYfaZXYyT/cwHhms8bKP/rWWw5K2s0/uMDUJkiAyj+2pNGs36vGP3j3wXcPo8c/Rolsr+eCzj+mzsfbyaTQP8Wp0hitS8g/wkyLYpaLxz8XjLoPQNLLP/pQHjxATcY/9uemiQ78wT9GUFTph7XDP9iQf6XJ/ME/sftUUblkxj+QieHv6ODMPzK++wbxjss/gbxBTZ6+yz8R0Q57TUjPP3u8+xc3CNE/c6x8OZpU1T8mRrPT4YnZP2KejKfR0tk/5uTf+MX01j+BP3QBa3TQP1yfWwARrsY/gtc+ngqGwT+ENIZUIUbCP8xef3DuI8w/gFz4F2h31D8lF/Cu+a7YP7T+NtpX6NY/CgY1HlYr2j8q51nkwjzhP1oRZ9tWK+E/y+H+Dsd82D/nVgPjnWPPP3a1Eed88Ms/sIGSI8PxzT8gbcX1E2jKP9BRPaJEbsU/gtc+ngqGwT9MMPN6d4TDP77kwQ0kOtE/fK/YbW9M2z+eFRLXbWDfPzW8c2/BSdg/nd9/Nxtt0j9KeH7zTZnSPwyrxNPzttM/SzLpCg7Kzj/9f2AATcfEPy5VhFS/Pcc/M6V9VvwF0D+nb54Va1nJPyaIqYYAcb4/KNw5JECpwj8oMkXLooPOPxqGE57LLdM/EOuHcw100D89sr2gjCTOP3BJHQX2y9I/AuaR6HA+1z/Rc5AyWerYPwCDMrTMtdQ/iAZI+FkXzT+x6OaEMyzJP0dmgzBRFNE/DnIE2dD22D+ggHd/F3/bP6plVFUk0dc/FPSBejnA0j92tRHnfPDLP27wkRHu1Mc/Y2UaaVm/yz82+cNQQo3RPxDP/qTbE9I/BkOMtHtb0D/sL+HrTPDNP+6oZIaJbcU/Zumw1+vDuz8CICMmTD2+P6oj3xjIar4/WOT+lz3hvT+ZyCPzbW/JP0p5LFENmdA/+Gz09H1QzD/9BZ7SVlTMP3XoHr1bmNA/RirhrI/Q1T/71RIK1IrbP6CAd38Xf9s/2lhtCGY81T/8uCmajdfLPziCdbODncE/0HeDFHRcvD+snaFGvt3GP5R0IUQWO9M/+i94N0zH2z9Sm8UWicveP+jdRt6j/dQ/ZisSPF+5wz++qfKjuBawP2iv8tnXEK8/mORf15MswD/iHe3d9FfJP+owIH8G5s4/k4jxiE6ozz/+gBf9KRfPP4G8QU2evss/",
            "dtype": "f8"
           },
           "yaxis": "y"
          },
          {
           "hovertemplate": "treatment=mpfc<br>sigma=1<br>trial_idx=%{x}<br>efs_smooth=%{y}<extra></extra>",
           "legendgroup": "mpfc",
           "line": {
            "color": "#2ca02c",
            "dash": "solid"
           },
           "marker": {
            "symbol": "circle"
           },
           "mode": "lines",
           "name": "mpfc",
           "orientation": "v",
           "showlegend": true,
           "type": "scatter",
           "x": {
            "bdata": "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",
            "dtype": "u4"
           },
           "xaxis": "x",
           "y": {
            "bdata": "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",
            "dtype": "f8"
           },
           "yaxis": "y"
          }
         ],
         "name": "1"
        },
        {
         "data": [
          {
           "hovertemplate": "treatment=sham<br>sigma=2<br>trial_idx=%{x}<br>efs_smooth=%{y}<extra></extra>",
           "legendgroup": "sham",
           "line": {
            "color": "#1f77b4",
            "dash": "solid"
           },
           "marker": {
            "symbol": "circle"
           },
           "mode": "lines",
           "name": "sham",
           "orientation": "v",
           "showlegend": true,
           "type": "scatter",
           "x": {
            "bdata": "AQAAAAIAAAADAAAABAAAAAUAAAAGAAAABwAAAAgAAAAJAAAACgAAAAsAAAAMAAAADQAAAA4AAAAPAAAAEAAAABEAAAASAAAAEwAAABQAAAAVAAAAFgAAABcAAAAYAAAAGQAAABoAAAAbAAAAHAAAAB0AAAAeAAAAHwAAACAAAAAhAAAAIgAAACMAAAAkAAAAJQAAACYAAAAnAAAAKAAAACkAAAAqAAAAKwAAACwAAAAtAAAALgAAAC8AAAAwAAAAMQAAADIAAAAzAAAANAAAADUAAAA2AAAANwAAADgAAAA5AAAAOgAAADsAAAA8AAAAPQAAAD4AAAA/AAAAQAAAAEEAAABCAAAAQwAAAEQAAABFAAAARgAAAEcAAABIAAAASQAAAEoAAABLAAAATAAAAE0AAABOAAAATwAAAFAAAABRAAAAUgAAAFMAAABUAAAAVQAAAFYAAABXAAAAWAAAAFkAAABaAAAAWwAAAFwAAABdAAAAXgAAAF8AAABgAAAAYQAAAGIAAABjAAAAZAAAAGUAAABmAAAAZwAAAGgAAABpAAAAagAAAGsAAABsAAAAbQAAAG4AAABvAAAAcAAAAHEAAAByAAAAcwAAAHQAAAB1AAAAdgAAAHcAAAB4AAAAeQAAAHoAAAB7AAAAfAAAAH0AAAB+AAAAfwAAAIAAAACBAAAAggAAAIMAAACEAAAAhQAAAIYAAACHAAAAiAAAAIkAAACKAAAAiwAAAIwAAACNAAAAjgAAAI8AAACQAAAAkQAAAJIAAACTAAAAlAAAAJUAAACWAAAAlwAAAJgAAACZAAAAmgAAAJsAAACcAAAAnQAAAJ4AAACfAAAAoAAAAAEAAAACAAAAAwAAAAQAAAAFAAAABgAAAAcAAAAIAAAACQAAAAoAAAALAAAADAAAAA0AAAAOAAAADwAAABAAAAARAAAAEgAAABMAAAAUAAAAFQAAABYAAAAXAAAAGAAAABkAAAAaAAAAGwAAABwAAAAdAAAAHgAAAB8AAAAgAAAAIQAAACIAAAAjAAAAJAAAACUAAAAmAAAAJwAAACgAAAApAAAAKgAAACsAAAAsAAAALQAAAC4AAAAvAAAAMAAAADEAAAAyAAAAMwAAADQAAAA1AAAANgAAADcAAAA4AAAAOQAAADoAAAA7AAAAPAAAAD0AAAA+AAAAPwAAAEAAAABBAAAAQgAAAEMAAABEAAAARQAAAEYAAABHAAAASAAAAEkAAABKAAAASwAAAEwAAABNAAAATgAAAE8AAABQAAAAUQAAAFIAAABTAAAAVAAAAFUAAABWAAAAVwAAAFgAAABZAAAAWgAAAFsAAABcAAAAXQAAAF4AAABfAAAAYAAAAGEAAABiAAAAYwAAAGQAAABlAAAAZgAAAGcAAABoAAAAaQAAAGoAAABrAAAAbAAAAG0AAABuAAAAbwAAAHAAAABxAAAAcgAAAHMAAAB0AAAAdQAAAHYAAAB3AAAAeAAAAHkAAAB6AAAAewAAAHwAAAB9AAAAfgAAAH8AAACAAAAAgQAAAIIAAACDAAAAhAAAAIUAAACGAAAAhwAAAIgAAACJAAAAigAAAIsAAACMAAAAjQAAAI4AAACPAAAAkAAAAJEAAACSAAAAkwAAAJQAAACVAAAAlgAAAJcAAACYAAAAmQAAAJoAAACbAAAAnAAAAJ0AAACeAAAAnwAAAKAAAAABAAAAAgAAAAMAAAAEAAAABQAAAAYAAAAHAAAACAAAAAkAAAAKAAAACwAAAAwAAAANAAAADgAAAA8AAAAQAAAAEQAAABIAAAATAAAAFAAAABUAAAAWAAAAFwAAABgAAAAZAAAAGgAAABsAAAAcAAAAHQAAAB4AAAAfAAAAIAAAACEAAAAiAAAAIwAAACQAAAAlAAAAJgAAACcAAAAoAAAAKQAAACoAAAArAAAALAAAAC0AAAAuAAAALwAAADAAAAAxAAAAMgAAADMAAAA0AAAANQAAADYAAAA3AAAAOAAAADkAAAA6AAAAOwAAADwAAAA9AAAAPgAAAD8AAABAAAAAQQAAAEIAAABDAAAARAAAAEUAAABGAAAARwAAAEgAAABJAAAASgAAAEsAAABMAAAATQAAAE4AAABPAAAAUAAAAFEAAABSAAAAUwAAAFQAAABVAAAAVgAAAFcAAABYAAAAWQAAAFoAAABbAAAAXAAAAF0AAABeAAAAXwAAAGAAAABhAAAAYgAAAGMAAABkAAAAZQAAAGYAAABnAAAAaAAAAGkAAABqAAAAawAAAGwAAABtAAAAbgAAAG8AAABwAAAAcQAAAHIAAABzAAAAdAAAAHUAAAB2AAAAdwAAAHgAAAB5AAAAegAAAHsAAAB8AAAAfQAAAH4AAAB/AAAAgAAAAIEAAACCAAAAgwAAAIQAAACFAAAAhgAAAIcAAACIAAAAiQAAAIoAAACLAAAAjAAAAI0AAACOAAAAjwAAAJAAAACRAAAAkgAAAJMAAACUAAAAlQAAAJYAAACXAAAAmAAAAJkAAACaAAAAmwAAAJwAAACdAAAAngAAAJ8AAACgAAAAAQAAAAIAAAADAAAABAAAAAUAAAAGAAAABwAAAAgAAAAJAAAACgAAAAsAAAAMAAAADQAAAA4AAAAPAAAAEAAAABEAAAASAAAAEwAAABQAAAAVAAAAFgAAABcAAAAYAAAAGQAAABoAAAAbAAAAHAAAAB0AAAAeAAAAHwAAACAAAAAhAAAAIgAAACMAAAAkAAAAJQAAACYAAAAnAAAAKAAAACkAAAAqAAAAKwAAACwAAAAtAAAALgAAAC8AAAAwAAAAMQAAADIAAAAzAAAANAAAADUAAAA2AAAANwAAADgAAAA5AAAAOgAAADsAAAA8AAAAPQAAAD4AAAA/AAAAQAAAAEEAAABCAAAAQwAAAEQAAABFAAAARgAAAEcAAABIAAAASQAAAEoAAABLAAAATAAAAE0AAABOAAAATwAAAFAAAABRAAAAUgAAAFMAAABUAAAAVQAAAFYAAABXAAAAWAAAAFkAAABaAAAAWwAAAFwAAABdAAAAXgAAAF8AAABgAAAAYQAAAGIAAABjAAAAZAAAAGUAAABmAAAAZwAAAGgAAABpAAAAagAAAGsAAABsAAAAbQAAAG4AAABvAAAAcAAAAHEAAAByAAAAcwAAAHQAAAB1AAAAdgAAAHcAAAB4AAAAeQAAAHoAAAB7AAAAfAAAAH0AAAB+AAAAfwAAAIAAAACBAAAAggAAAIMAAACEAAAAhQAAAIYAAACHAAAAiAAAAIkAAACKAAAAiwAAAIwAAACNAAAAjgAAAI8AAACQAAAAkQAAAJIAAACTAAAAlAAAAJUAAACWAAAAlwAAAJgAAACZAAAAmgAAAJsAAACcAAAAnQAAAJ4AAACfAAAAoAAAAAEAAAACAAAAAwAAAAQAAAAFAAAABgAAAAcAAAAIAAAACQAAAAoAAAALAAAADAAAAA0AAAAOAAAADwAAABAAAAARAAAAEgAAABMAAAAUAAAAFQAAABYAAAAXAAAAGAAAABkAAAAaAAAAGwAAABwAAAAdAAAAHgAAAB8AAAAgAAAAIQAAACIAAAAjAAAAJAAAACUAAAAmAAAAJwAAACgAAAApAAAAKgAAACsAAAAsAAAALQAAAC4AAAAvAAAAMAAAADEAAAAyAAAAMwAAADQAAAA1AAAANgAAADcAAAA4AAAAOQAAADoAAAA7AAAAPAAAAD0AAAA+AAAAPwAAAEAAAABBAAAAQgAAAEMAAABEAAAARQAAAEYAAABHAAAASAAAAEkAAABKAAAASwAAAEwAAABNAAAATgAAAE8AAABQAAAAUQAAAFIAAABTAAAAVAAAAFUAAABWAAAAVwAAAFgAAABZAAAAWgAAAFsAAABcAAAAXQAAAF4AAABfAAAAYAAAAGEAAABiAAAAYwAAAGQAAABlAAAAZgAAAGcAAABoAAAAaQAAAGoAAABrAAAAbAAAAG0AAABuAAAAbwAAAHAAAABxAAAAcgAAAHMAAAB0AAAAdQAAAHYAAAB3AAAAeAAAAHkAAAB6AAAAewAAAHwAAAB9AAAAfgAAAH8AAACAAAAAgQAAAIIAAACDAAAAhAAAAIUAAACGAAAAhwAAAIgAAACJAAAAigAAAIsAAACMAAAAjQAAAI4AAACPAAAAkAAAAJEAAACSAAAAkwAAAJQAAACVAAAAlgAAAJcAAACYAAAAmQAAAJoAAACbAAAAnAAAAJ0AAACeAAAAnwAAAKAAAAA=",
            "dtype": "u4"
           },
           "xaxis": "x",
           "y": {
            "bdata": "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",
            "dtype": "f8"
           },
           "yaxis": "y"
          },
          {
           "hovertemplate": "treatment=ofc<br>sigma=2<br>trial_idx=%{x}<br>efs_smooth=%{y}<extra></extra>",
           "legendgroup": "ofc",
           "line": {
            "color": "#ff7f0e",
            "dash": "solid"
           },
           "marker": {
            "symbol": "circle"
           },
           "mode": "lines",
           "name": "ofc",
           "orientation": "v",
           "showlegend": true,
           "type": "scatter",
           "x": {
            "bdata": "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",
            "dtype": "u4"
           },
           "xaxis": "x",
           "y": {
            "bdata": "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",
            "dtype": "f8"
           },
           "yaxis": "y"
          },
          {
           "hovertemplate": "treatment=mpfc<br>sigma=2<br>trial_idx=%{x}<br>efs_smooth=%{y}<extra></extra>",
           "legendgroup": "mpfc",
           "line": {
            "color": "#2ca02c",
            "dash": "solid"
           },
           "marker": {
            "symbol": "circle"
           },
           "mode": "lines",
           "name": "mpfc",
           "orientation": "v",
           "showlegend": true,
           "type": "scatter",
           "x": {
            "bdata": "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",
            "dtype": "u4"
           },
           "xaxis": "x",
           "y": {
            "bdata": "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",
            "dtype": "f8"
           },
           "yaxis": "y"
          }
         ],
         "name": "2"
        },
        {
         "data": [
          {
           "hovertemplate": "treatment=sham<br>sigma=3<br>trial_idx=%{x}<br>efs_smooth=%{y}<extra></extra>",
           "legendgroup": "sham",
           "line": {
            "color": "#1f77b4",
            "dash": "solid"
           },
           "marker": {
            "symbol": "circle"
           },
           "mode": "lines",
           "name": "sham",
           "orientation": "v",
           "showlegend": true,
           "type": "scatter",
           "x": {
            "bdata": "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",
            "dtype": "u4"
           },
           "xaxis": "x",
           "y": {
            "bdata": "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",
            "dtype": "f8"
           },
           "yaxis": "y"
          },
          {
           "hovertemplate": "treatment=ofc<br>sigma=3<br>trial_idx=%{x}<br>efs_smooth=%{y}<extra></extra>",
           "legendgroup": "ofc",
           "line": {
            "color": "#ff7f0e",
            "dash": "solid"
           },
           "marker": {
            "symbol": "circle"
           },
           "mode": "lines",
           "name": "ofc",
           "orientation": "v",
           "showlegend": true,
           "type": "scatter",
           "x": {
            "bdata": "AQAAAAIAAAADAAAABAAAAAUAAAAGAAAABwAAAAgAAAAJAAAACgAAAAsAAAAMAAAADQAAAA4AAAAPAAAAEAAAABEAAAASAAAAEwAAABQAAAAVAAAAFgAAABcAAAAYAAAAGQAAABoAAAAbAAAAHAAAAB0AAAAeAAAAHwAAACAAAAAhAAAAIgAAACMAAAAkAAAAJQAAACYAAAAnAAAAKAAAACkAAAAqAAAAKwAAACwAAAAtAAAALgAAAC8AAAAwAAAAMQAAADIAAAAzAAAANAAAADUAAAA2AAAANwAAADgAAAA5AAAAOgAAADsAAAA8AAAAPQAAAD4AAAA/AAAAQAAAAEEAAABCAAAAQwAAAEQAAABFAAAARgAAAEcAAABIAAAASQAAAEoAAABLAAAATAAAAE0AAABOAAAATwAAAFAAAABRAAAAUgAAAFMAAABUAAAAVQAAAFYAAABXAAAAWAAAAFkAAABaAAAAWwAAAFwAAABdAAAAXgAAAF8AAABgAAAAYQAAAGIAAABjAAAAZAAAAGUAAABmAAAAZwAAAGgAAABpAAAAagAAAGsAAABsAAAAbQAAAG4AAABvAAAAcAAAAHEAAAByAAAAcwAAAHQAAAB1AAAAdgAAAHcAAAB4AAAAeQAAAHoAAAB7AAAAfAAAAH0AAAB+AAAAfwAAAIAAAACBAAAAggAAAIMAAACEAAAAhQAAAIYAAACHAAAAiAAAAIkAAACKAAAAiwAAAIwAAACNAAAAjgAAAI8AAACQAAAAkQAAAJIAAACTAAAAlAAAAJUAAACWAAAAlwAAAJgAAACZAAAAmgAAAJsAAACcAAAAnQAAAJ4AAACfAAAAoAAAAAEAAAACAAAAAwAAAAQAAAAFAAAABgAAAAcAAAAIAAAACQAAAAoAAAALAAAADAAAAA0AAAAOAAAADwAAABAAAAARAAAAEgAAABMAAAAUAAAAFQAAABYAAAAXAAAAGAAAABkAAAAaAAAAGwAAABwAAAAdAAAAHgAAAB8AAAAgAAAAIQAAACIAAAAjAAAAJAAAACUAAAAmAAAAJwAAACgAAAApAAAAKgAAACsAAAAsAAAALQAAAC4AAAAvAAAAMAAAADEAAAAyAAAAMwAAADQAAAA1AAAANgAAADcAAAA4AAAAOQAAADoAAAA7AAAAPAAAAD0AAAA+AAAAPwAAAEAAAABBAAAAQgAAAEMAAABEAAAARQAAAEYAAABHAAAASAAAAEkAAABKAAAASwAAAEwAAABNAAAATgAAAE8AAABQAAAAUQAAAFIAAABTAAAAVAAAAFUAAABWAAAAVwAAAFgAAABZAAAAWgAAAFsAAABcAAAAXQAAAF4AAABfAAAAYAAAAGEAAABiAAAAYwAAAGQAAABlAAAAZgAAAGcAAABoAAAAaQAAAGoAAABrAAAAbAAAAG0AAABuAAAAbwAAAHAAAABxAAAAcgAAAHMAAAB0AAAAdQAAAHYAAAB3AAAAeAAAAHkAAAB6AAAAewAAAHwAAAB9AAAAfgAAAH8AAACAAAAAgQAAAIIAAACDAAAAhAAAAIUAAACGAAAAhwAAAIgAAACJAAAAigAAAIsAAACMAAAAjQAAAI4AAACPAAAAkAAAAJEAAACSAAAAkwAAAJQAAACVAAAAlgAAAJcAAACYAAAAmQAAAJoAAACbAAAAnAAAAJ0AAACeAAAAnwAAAKAAAAABAAAAAgAAAAMAAAAEAAAABQAAAAYAAAAHAAAACAAAAAkAAAAKAAAACwAAAAwAAAANAAAADgAAAA8AAAAQAAAAEQAAABIAAAATAAAAFAAAABUAAAAWAAAAFwAAABgAAAAZAAAAGgAAABsAAAAcAAAAHQAAAB4AAAAfAAAAIAAAACEAAAAiAAAAIwAAACQAAAAlAAAAJgAAACcAAAAoAAAAKQAAACoAAAArAAAALAAAAC0AAAAuAAAALwAAADAAAAAxAAAAMgAAADMAAAA0AAAANQAAADYAAAA3AAAAOAAAADkAAAA6AAAAOwAAADwAAAA9AAAAPgAAAD8AAABAAAAAQQAAAEIAAABDAAAARAAAAEUAAABGAAAARwAAAEgAAABJAAAASgAAAEsAAABMAAAATQAAAE4AAABPAAAAUAAAAFEAAABSAAAAUwAAAFQAAABVAAAAVgAAAFcAAABYAAAAWQAAAFoAAABbAAAAXAAAAF0AAABeAAAAXwAAAGAAAABhAAAAYgAAAGMAAABkAAAAZQAAAGYAAABnAAAAaAAAAGkAAABqAAAAawAAAGwAAABtAAAAbgAAAG8AAABwAAAAcQAAAHIAAABzAAAAdAAAAHUAAAB2AAAAdwAAAHgAAAB5AAAAegAAAHsAAAB8AAAAfQAAAH4AAAB/AAAAgAAAAIEAAACCAAAAgwAAAIQAAACFAAAAhgAAAIcAAACIAAAAiQAAAIoAAACLAAAAjAAAAI0AAACOAAAAjwAAAJAAAACRAAAAkgAAAJMAAACUAAAAlQAAAJYAAACXAAAAmAAAAJkAAACaAAAAmwAAAJwAAACdAAAAngAAAJ8AAACgAAAAAQAAAAIAAAADAAAABAAAAAUAAAAGAAAABwAAAAgAAAAJAAAACgAAAAsAAAAMAAAADQAAAA4AAAAPAAAAEAAAABEAAAASAAAAEwAAABQAAAAVAAAAFgAAABcAAAAYAAAAGQAAABoAAAAbAAAAHAAAAB0AAAAeAAAAHwAAACAAAAAhAAAAIgAAACMAAAAkAAAAJQAAACYAAAAnAAAAKAAAACkAAAAqAAAAKwAAACwAAAAtAAAALgAAAC8AAAAwAAAAMQAAADIAAAAzAAAANAAAADUAAAA2AAAANwAAADgAAAA5AAAAOgAAADsAAAA8AAAAPQAAAD4AAAA/AAAAQAAAAEEAAABCAAAAQwAAAEQAAABFAAAARgAAAEcAAABIAAAASQAAAEoAAABLAAAATAAAAE0AAABOAAAATwAAAFAAAABRAAAAUgAAAFMAAABUAAAAVQAAAFYAAABXAAAAWAAAAFkAAABaAAAAWwAAAFwAAABdAAAAXgAAAF8AAABgAAAAYQAAAGIAAABjAAAAZAAAAGUAAABmAAAAZwAAAGgAAABpAAAAagAAAGsAAABsAAAAbQAAAG4AAABvAAAAcAAAAHEAAAByAAAAcwAAAHQAAAB1AAAAdgAAAHcAAAB4AAAAeQAAAHoAAAB7AAAAfAAAAH0AAAB+AAAAfwAAAIAAAACBAAAAggAAAIMAAACEAAAAhQAAAIYAAACHAAAAiAAAAIkAAACKAAAAiwAAAIwAAACNAAAAjgAAAI8AAACQAAAAkQAAAJIAAACTAAAAlAAAAJUAAACWAAAAlwAAAJgAAACZAAAAmgAAAJsAAACcAAAAnQAAAJ4AAACfAAAAoAAAAAEAAAACAAAAAwAAAAQAAAAFAAAABgAAAAcAAAAIAAAACQAAAAoAAAALAAAADAAAAA0AAAAOAAAADwAAABAAAAARAAAAEgAAABMAAAAUAAAAFQAAABYAAAAXAAAAGAAAABkAAAAaAAAAGwAAABwAAAAdAAAAHgAAAB8AAAAgAAAAIQAAACIAAAAjAAAAJAAAACUAAAAmAAAAJwAAACgAAAApAAAAKgAAACsAAAAsAAAALQAAAC4AAAAvAAAAMAAAADEAAAAyAAAAMwAAADQAAAA1AAAANgAAADcAAAA4AAAAOQAAADoAAAA7AAAAPAAAAD0AAAA+AAAAPwAAAEAAAABBAAAAQgAAAEMAAABEAAAARQAAAEYAAABHAAAASAAAAEkAAABKAAAASwAAAEwAAABNAAAATgAAAE8AAABQAAAAUQAAAFIAAABTAAAAVAAAAFUAAABWAAAAVwAAAFgAAABZAAAAWgAAAFsAAABcAAAAXQAAAF4AAABfAAAAYAAAAGEAAABiAAAAYwAAAGQAAABlAAAAZgAAAGcAAABoAAAAaQAAAGoAAABrAAAAbAAAAG0AAABuAAAAbwAAAHAAAABxAAAAcgAAAHMAAAB0AAAAdQAAAHYAAAB3AAAAeAAAAHkAAAB6AAAAewAAAHwAAAB9AAAAfgAAAH8AAACAAAAAgQAAAIIAAACDAAAAhAAAAIUAAACGAAAAhwAAAIgAAACJAAAAigAAAIsAAACMAAAAjQAAAI4AAACPAAAAkAAAAJEAAACSAAAAkwAAAJQAAACVAAAAlgAAAJcAAACYAAAAmQAAAJoAAACbAAAAnAAAAJ0AAACeAAAAnwAAAKAAAAABAAAAAgAAAAMAAAAEAAAABQAAAAYAAAAHAAAACAAAAAkAAAAKAAAACwAAAAwAAAANAAAADgAAAA8AAAAQAAAAEQAAABIAAAATAAAAFAAAABUAAAAWAAAAFwAAABgAAAAZAAAAGgAAABsAAAAcAAAAHQAAAB4AAAAfAAAAIAAAACEAAAAiAAAAIwAAACQAAAAlAAAAJgAAACcAAAAoAAAAKQAAACoAAAArAAAALAAAAC0AAAAuAAAALwAAADAAAAAxAAAAMgAAADMAAAA0AAAANQAAADYAAAA3AAAAOAAAADkAAAA6AAAAOwAAADwAAAA9AAAAPgAAAD8AAABAAAAAQQAAAEIAAABDAAAARAAAAEUAAABGAAAARwAAAEgAAABJAAAASgAAAEsAAABMAAAATQAAAE4AAABPAAAAUAAAAFEAAABSAAAAUwAAAFQAAABVAAAAVgAAAFcAAABYAAAAWQAAAFoAAABbAAAAXAAAAF0AAABeAAAAXwAAAGAAAABhAAAAYgAAAGMAAABkAAAAZQAAAGYAAABnAAAAaAAAAGkAAABqAAAAawAAAGwAAABtAAAAbgAAAG8AAABwAAAAcQAAAHIAAABzAAAAdAAAAHUAAAB2AAAAdwAAAHgAAAB5AAAAegAAAHsAAAB8AAAAfQAAAH4AAAB/AAAAgAAAAIEAAACCAAAAgwAAAIQAAACFAAAAhgAAAIcAAACIAAAAiQAAAIoAAACLAAAAjAAAAI0AAACOAAAAjwAAAJAAAACRAAAAkgAAAJMAAACUAAAAlQAAAJYAAACXAAAAmAAAAJkAAACaAAAAmwAAAJwAAACdAAAAngAAAJ8AAACgAAAA",
            "dtype": "u4"
           },
           "xaxis": "x",
           "y": {
            "bdata": "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",
            "dtype": "f8"
           },
           "yaxis": "y"
          },
          {
           "hovertemplate": "treatment=mpfc<br>sigma=3<br>trial_idx=%{x}<br>efs_smooth=%{y}<extra></extra>",
           "legendgroup": "mpfc",
           "line": {
            "color": "#2ca02c",
            "dash": "solid"
           },
           "marker": {
            "symbol": "circle"
           },
           "mode": "lines",
           "name": "mpfc",
           "orientation": "v",
           "showlegend": true,
           "type": "scatter",
           "x": {
            "bdata": "AQAAAAIAAAADAAAABAAAAAUAAAAGAAAABwAAAAgAAAAJAAAACgAAAAsAAAAMAAAADQAAAA4AAAAPAAAAEAAAABEAAAASAAAAEwAAABQAAAAVAAAAFgAAABcAAAAYAAAAGQAAABoAAAAbAAAAHAAAAB0AAAAeAAAAHwAAACAAAAAhAAAAIgAAACMAAAAkAAAAJQAAACYAAAAnAAAAKAAAACkAAAAqAAAAKwAAACwAAAAtAAAALgAAAC8AAAAwAAAAMQAAADIAAAAzAAAANAAAADUAAAA2AAAANwAAADgAAAA5AAAAOgAAADsAAAA8AAAAPQAAAD4AAAA/AAAAQAAAAEEAAABCAAAAQwAAAEQAAABFAAAARgAAAEcAAABIAAAASQAAAEoAAABLAAAATAAAAE0AAABOAAAATwAAAFAAAABRAAAAUgAAAFMAAABUAAAAVQAAAFYAAABXAAAAWAAAAFkAAABaAAAAWwAAAFwAAABdAAAAXgAAAF8AAABgAAAAYQAAAGIAAABjAAAAZAAAAGUAAABmAAAAZwAAAGgAAABpAAAAagAAAGsAAABsAAAAbQAAAG4AAABvAAAAcAAAAHEAAAByAAAAcwAAAHQAAAB1AAAAdgAAAHcAAAB4AAAAeQAAAHoAAAB7AAAAfAAAAH0AAAB+AAAAfwAAAIAAAACBAAAAggAAAIMAAACEAAAAhQAAAIYAAACHAAAAiAAAAIkAAACKAAAAiwAAAIwAAACNAAAAjgAAAI8AAACQAAAAkQAAAJIAAACTAAAAlAAAAJUAAACWAAAAlwAAAJgAAACZAAAAmgAAAJsAAACcAAAAnQAAAJ4AAACfAAAAoAAAAAEAAAACAAAAAwAAAAQAAAAFAAAABgAAAAcAAAAIAAAACQAAAAoAAAALAAAADAAAAA0AAAAOAAAADwAAABAAAAARAAAAEgAAABMAAAAUAAAAFQAAABYAAAAXAAAAGAAAABkAAAAaAAAAGwAAABwAAAAdAAAAHgAAAB8AAAAgAAAAIQAAACIAAAAjAAAAJAAAACUAAAAmAAAAJwAAACgAAAApAAAAKgAAACsAAAAsAAAALQAAAC4AAAAvAAAAMAAAADEAAAAyAAAAMwAAADQAAAA1AAAANgAAADcAAAA4AAAAOQAAADoAAAA7AAAAPAAAAD0AAAA+AAAAPwAAAEAAAABBAAAAQgAAAEMAAABEAAAARQAAAEYAAABHAAAASAAAAEkAAABKAAAASwAAAEwAAABNAAAATgAAAE8AAABQAAAAUQAAAFIAAABTAAAAVAAAAFUAAABWAAAAVwAAAFgAAABZAAAAWgAAAFsAAABcAAAAXQAAAF4AAABfAAAAYAAAAGEAAABiAAAAYwAAAGQAAABlAAAAZgAAAGcAAABoAAAAaQAAAGoAAABrAAAAbAAAAG0AAABuAAAAbwAAAHAAAABxAAAAcgAAAHMAAAB0AAAAdQAAAHYAAAB3AAAAeAAAAHkAAAB6AAAAewAAAHwAAAB9AAAAfgAAAH8AAACAAAAAgQAAAIIAAACDAAAAhAAAAIUAAACGAAAAhwAAAIgAAACJAAAAigAAAIsAAACMAAAAjQAAAI4AAACPAAAAkAAAAJEAAACSAAAAkwAAAJQAAACVAAAAlgAAAJcAAACYAAAAmQAAAJoAAACbAAAAnAAAAJ0AAACeAAAAnwAAAKAAAAABAAAAAgAAAAMAAAAEAAAABQAAAAYAAAAHAAAACAAAAAkAAAAKAAAACwAAAAwAAAANAAAADgAAAA8AAAAQAAAAEQAAABIAAAATAAAAFAAAABUAAAAWAAAAFwAAABgAAAAZAAAAGgAAABsAAAAcAAAAHQAAAB4AAAAfAAAAIAAAACEAAAAiAAAAIwAAACQAAAAlAAAAJgAAACcAAAAoAAAAKQAAACoAAAArAAAALAAAAC0AAAAuAAAALwAAADAAAAAxAAAAMgAAADMAAAA0AAAANQAAADYAAAA3AAAAOAAAADkAAAA6AAAAOwAAADwAAAA9AAAAPgAAAD8AAABAAAAAQQAAAEIAAABDAAAARAAAAEUAAABGAAAARwAAAEgAAABJAAAASgAAAEsAAABMAAAATQAAAE4AAABPAAAAUAAAAFEAAABSAAAAUwAAAFQAAABVAAAAVgAAAFcAAABYAAAAWQAAAFoAAABbAAAAXAAAAF0AAABeAAAAXwAAAGAAAABhAAAAYgAAAGMAAABkAAAAZQAAAGYAAABnAAAAaAAAAGkAAABqAAAAawAAAGwAAABtAAAAbgAAAG8AAABwAAAAcQAAAHIAAABzAAAAdAAAAHUAAAB2AAAAdwAAAHgAAAB5AAAAegAAAHsAAAB8AAAAfQAAAH4AAAB/AAAAgAAAAIEAAACCAAAAgwAAAIQAAACFAAAAhgAAAIcAAACIAAAAiQAAAIoAAACLAAAAjAAAAI0AAACOAAAAjwAAAJAAAACRAAAAkgAAAJMAAACUAAAAlQAAAJYAAACXAAAAmAAAAJkAAACaAAAAmwAAAJwAAACdAAAAngAAAJ8AAACgAAAAAQAAAAIAAAADAAAABAAAAAUAAAAGAAAABwAAAAgAAAAJAAAACgAAAAsAAAAMAAAADQAAAA4AAAAPAAAAEAAAABEAAAASAAAAEwAAABQAAAAVAAAAFgAAABcAAAAYAAAAGQAAABoAAAAbAAAAHAAAAB0AAAAeAAAAHwAAACAAAAAhAAAAIgAAACMAAAAkAAAAJQAAACYAAAAnAAAAKAAAACkAAAAqAAAAKwAAACwAAAAtAAAALgAAAC8AAAAwAAAAMQAAADIAAAAzAAAANAAAADUAAAA2AAAANwAAADgAAAA5AAAAOgAAADsAAAA8AAAAPQAAAD4AAAA/AAAAQAAAAEEAAABCAAAAQwAAAEQAAABFAAAARgAAAEcAAABIAAAASQAAAEoAAABLAAAATAAAAE0AAABOAAAATwAAAFAAAABRAAAAUgAAAFMAAABUAAAAVQAAAFYAAABXAAAAWAAAAFkAAABaAAAAWwAAAFwAAABdAAAAXgAAAF8AAABgAAAAYQAAAGIAAABjAAAAZAAAAGUAAABmAAAAZwAAAGgAAABpAAAAagAAAGsAAABsAAAAbQAAAG4AAABvAAAAcAAAAHEAAAByAAAAcwAAAHQAAAB1AAAAdgAAAHcAAAB4AAAAeQAAAHoAAAB7AAAAfAAAAH0AAAB+AAAAfwAAAIAAAACBAAAAggAAAIMAAACEAAAAhQAAAIYAAACHAAAAiAAAAIkAAACKAAAAiwAAAIwAAACNAAAAjgAAAI8AAACQAAAAkQAAAJIAAACTAAAAlAAAAJUAAACWAAAAlwAAAJgAAACZAAAAmgAAAJsAAACcAAAAnQAAAJ4AAACfAAAAoAAAAAEAAAACAAAAAwAAAAQAAAAFAAAABgAAAAcAAAAIAAAACQAAAAoAAAALAAAADAAAAA0AAAAOAAAADwAAABAAAAARAAAAEgAAABMAAAAUAAAAFQAAABYAAAAXAAAAGAAAABkAAAAaAAAAGwAAABwAAAAdAAAAHgAAAB8AAAAgAAAAIQAAACIAAAAjAAAAJAAAACUAAAAmAAAAJwAAACgAAAApAAAAKgAAACsAAAAsAAAALQAAAC4AAAAvAAAAMAAAADEAAAAyAAAAMwAAADQAAAA1AAAANgAAADcAAAA4AAAAOQAAADoAAAA7AAAAPAAAAD0AAAA+AAAAPwAAAEAAAABBAAAAQgAAAEMAAABEAAAARQAAAEYAAABHAAAASAAAAEkAAABKAAAASwAAAEwAAABNAAAATgAAAE8AAABQAAAAUQAAAFIAAABTAAAAVAAAAFUAAABWAAAAVwAAAFgAAABZAAAAWgAAAFsAAABcAAAAXQAAAF4AAABfAAAAYAAAAGEAAABiAAAAYwAAAGQAAABlAAAAZgAAAGcAAABoAAAAaQAAAGoAAABrAAAAbAAAAG0AAABuAAAAbwAAAHAAAABxAAAAcgAAAHMAAAB0AAAAdQAAAHYAAAB3AAAAeAAAAHkAAAB6AAAAewAAAHwAAAB9AAAAfgAAAH8AAACAAAAAgQAAAIIAAACDAAAAhAAAAIUAAACGAAAAhwAAAIgAAACJAAAAigAAAIsAAACMAAAAjQAAAI4AAACPAAAAkAAAAJEAAACSAAAAkwAAAJQAAACVAAAAlgAAAJcAAACYAAAAmQAAAJoAAACbAAAAnAAAAJ0AAACeAAAAnwAAAKAAAAABAAAAAgAAAAMAAAAEAAAABQAAAAYAAAAHAAAACAAAAAkAAAAKAAAACwAAAAwAAAANAAAADgAAAA8AAAAQAAAAEQAAABIAAAATAAAAFAAAABUAAAAWAAAAFwAAABgAAAAZAAAAGgAAABsAAAAcAAAAHQAAAB4AAAAfAAAAIAAAACEAAAAiAAAAIwAAACQAAAAlAAAAJgAAACcAAAAoAAAAKQAAACoAAAArAAAALAAAAC0AAAAuAAAALwAAADAAAAAxAAAAMgAAADMAAAA0AAAANQAAADYAAAA3AAAAOAAAADkAAAA6AAAAOwAAADwAAAA9AAAAPgAAAD8AAABAAAAAQQAAAEIAAABDAAAARAAAAEUAAABGAAAARwAAAEgAAABJAAAASgAAAEsAAABMAAAATQAAAE4AAABPAAAAUAAAAFEAAABSAAAAUwAAAFQAAABVAAAAVgAAAFcAAABYAAAAWQAAAFoAAABbAAAAXAAAAF0AAABeAAAAXwAAAGAAAABhAAAAYgAAAGMAAABkAAAAZQAAAGYAAABnAAAAaAAAAGkAAABqAAAAawAAAGwAAABtAAAAbgAAAG8AAABwAAAAcQAAAHIAAABzAAAAdAAAAHUAAAB2AAAAdwAAAHgAAAB5AAAAegAAAHsAAAB8AAAAfQAAAH4AAAB/AAAAgAAAAIEAAACCAAAAgwAAAIQAAACFAAAAhgAAAIcAAACIAAAAiQAAAIoAAACLAAAAjAAAAI0AAACOAAAAjwAAAJAAAACRAAAAkgAAAJMAAACUAAAAlQAAAJYAAACXAAAAmAAAAJkAAACaAAAAmwAAAJwAAACdAAAAngAAAJ8AAACgAAAA",
            "dtype": "u4"
           },
           "xaxis": "x",
           "y": {
            "bdata": "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",
            "dtype": "f8"
           },
           "yaxis": "y"
          }
         ],
         "name": "3"
        },
        {
         "data": [
          {
           "hovertemplate": "treatment=sham<br>sigma=4<br>trial_idx=%{x}<br>efs_smooth=%{y}<extra></extra>",
           "legendgroup": "sham",
           "line": {
            "color": "#1f77b4",
            "dash": "solid"
           },
           "marker": {
            "symbol": "circle"
           },
           "mode": "lines",
           "name": "sham",
           "orientation": "v",
           "showlegend": true,
           "type": "scatter",
           "x": {
            "bdata": "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",
            "dtype": "u4"
           },
           "xaxis": "x",
           "y": {
            "bdata": "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",
            "dtype": "f8"
           },
           "yaxis": "y"
          },
          {
           "hovertemplate": "treatment=ofc<br>sigma=4<br>trial_idx=%{x}<br>efs_smooth=%{y}<extra></extra>",
           "legendgroup": "ofc",
           "line": {
            "color": "#ff7f0e",
            "dash": "solid"
           },
           "marker": {
            "symbol": "circle"
           },
           "mode": "lines",
           "name": "ofc",
           "orientation": "v",
           "showlegend": true,
           "type": "scatter",
           "x": {
            "bdata": "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",
            "dtype": "u4"
           },
           "xaxis": "x",
           "y": {
            "bdata": "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",
            "dtype": "f8"
           },
           "yaxis": "y"
          },
          {
           "hovertemplate": "treatment=mpfc<br>sigma=4<br>trial_idx=%{x}<br>efs_smooth=%{y}<extra></extra>",
           "legendgroup": "mpfc",
           "line": {
            "color": "#2ca02c",
            "dash": "solid"
           },
           "marker": {
            "symbol": "circle"
           },
           "mode": "lines",
           "name": "mpfc",
           "orientation": "v",
           "showlegend": true,
           "type": "scatter",
           "x": {
            "bdata": "AQAAAAIAAAADAAAABAAAAAUAAAAGAAAABwAAAAgAAAAJAAAACgAAAAsAAAAMAAAADQAAAA4AAAAPAAAAEAAAABEAAAASAAAAEwAAABQAAAAVAAAAFgAAABcAAAAYAAAAGQAAABoAAAAbAAAAHAAAAB0AAAAeAAAAHwAAACAAAAAhAAAAIgAAACMAAAAkAAAAJQAAACYAAAAnAAAAKAAAACkAAAAqAAAAKwAAACwAAAAtAAAALgAAAC8AAAAwAAAAMQAAADIAAAAzAAAANAAAADUAAAA2AAAANwAAADgAAAA5AAAAOgAAADsAAAA8AAAAPQAAAD4AAAA/AAAAQAAAAEEAAABCAAAAQwAAAEQAAABFAAAARgAAAEcAAABIAAAASQAAAEoAAABLAAAATAAAAE0AAABOAAAATwAAAFAAAABRAAAAUgAAAFMAAABUAAAAVQAAAFYAAABXAAAAWAAAAFkAAABaAAAAWwAAAFwAAABdAAAAXgAAAF8AAABgAAAAYQAAAGIAAABjAAAAZAAAAGUAAABmAAAAZwAAAGgAAABpAAAAagAAAGsAAABsAAAAbQAAAG4AAABvAAAAcAAAAHEAAAByAAAAcwAAAHQAAAB1AAAAdgAAAHcAAAB4AAAAeQAAAHoAAAB7AAAAfAAAAH0AAAB+AAAAfwAAAIAAAACBAAAAggAAAIMAAACEAAAAhQAAAIYAAACHAAAAiAAAAIkAAACKAAAAiwAAAIwAAACNAAAAjgAAAI8AAACQAAAAkQAAAJIAAACTAAAAlAAAAJUAAACWAAAAlwAAAJgAAACZAAAAmgAAAJsAAACcAAAAnQAAAJ4AAACfAAAAoAAAAAEAAAACAAAAAwAAAAQAAAAFAAAABgAAAAcAAAAIAAAACQAAAAoAAAALAAAADAAAAA0AAAAOAAAADwAAABAAAAARAAAAEgAAABMAAAAUAAAAFQAAABYAAAAXAAAAGAAAABkAAAAaAAAAGwAAABwAAAAdAAAAHgAAAB8AAAAgAAAAIQAAACIAAAAjAAAAJAAAACUAAAAmAAAAJwAAACgAAAApAAAAKgAAACsAAAAsAAAALQAAAC4AAAAvAAAAMAAAADEAAAAyAAAAMwAAADQAAAA1AAAANgAAADcAAAA4AAAAOQAAADoAAAA7AAAAPAAAAD0AAAA+AAAAPwAAAEAAAABBAAAAQgAAAEMAAABEAAAARQAAAEYAAABHAAAASAAAAEkAAABKAAAASwAAAEwAAABNAAAATgAAAE8AAABQAAAAUQAAAFIAAABTAAAAVAAAAFUAAABWAAAAVwAAAFgAAABZAAAAWgAAAFsAAABcAAAAXQAAAF4AAABfAAAAYAAAAGEAAABiAAAAYwAAAGQAAABlAAAAZgAAAGcAAABoAAAAaQAAAGoAAABrAAAAbAAAAG0AAABuAAAAbwAAAHAAAABxAAAAcgAAAHMAAAB0AAAAdQAAAHYAAAB3AAAAeAAAAHkAAAB6AAAAewAAAHwAAAB9AAAAfgAAAH8AAACAAAAAgQAAAIIAAACDAAAAhAAAAIUAAACGAAAAhwAAAIgAAACJAAAAigAAAIsAAACMAAAAjQAAAI4AAACPAAAAkAAAAJEAAACSAAAAkwAAAJQAAACVAAAAlgAAAJcAAACYAAAAmQAAAJoAAACbAAAAnAAAAJ0AAACeAAAAnwAAAKAAAAABAAAAAgAAAAMAAAAEAAAABQAAAAYAAAAHAAAACAAAAAkAAAAKAAAACwAAAAwAAAANAAAADgAAAA8AAAAQAAAAEQAAABIAAAATAAAAFAAAABUAAAAWAAAAFwAAABgAAAAZAAAAGgAAABsAAAAcAAAAHQAAAB4AAAAfAAAAIAAAACEAAAAiAAAAIwAAACQAAAAlAAAAJgAAACcAAAAoAAAAKQAAACoAAAArAAAALAAAAC0AAAAuAAAALwAAADAAAAAxAAAAMgAAADMAAAA0AAAANQAAADYAAAA3AAAAOAAAADkAAAA6AAAAOwAAADwAAAA9AAAAPgAAAD8AAABAAAAAQQAAAEIAAABDAAAARAAAAEUAAABGAAAARwAAAEgAAABJAAAASgAAAEsAAABMAAAATQAAAE4AAABPAAAAUAAAAFEAAABSAAAAUwAAAFQAAABVAAAAVgAAAFcAAABYAAAAWQAAAFoAAABbAAAAXAAAAF0AAABeAAAAXwAAAGAAAABhAAAAYgAAAGMAAABkAAAAZQAAAGYAAABnAAAAaAAAAGkAAABqAAAAawAAAGwAAABtAAAAbgAAAG8AAABwAAAAcQAAAHIAAABzAAAAdAAAAHUAAAB2AAAAdwAAAHgAAAB5AAAAegAAAHsAAAB8AAAAfQAAAH4AAAB/AAAAgAAAAIEAAACCAAAAgwAAAIQAAACFAAAAhgAAAIcAAACIAAAAiQAAAIoAAACLAAAAjAAAAI0AAACOAAAAjwAAAJAAAACRAAAAkgAAAJMAAACUAAAAlQAAAJYAAACXAAAAmAAAAJkAAACaAAAAmwAAAJwAAACdAAAAngAAAJ8AAACgAAAAAQAAAAIAAAADAAAABAAAAAUAAAAGAAAABwAAAAgAAAAJAAAACgAAAAsAAAAMAAAADQAAAA4AAAAPAAAAEAAAABEAAAASAAAAEwAAABQAAAAVAAAAFgAAABcAAAAYAAAAGQAAABoAAAAbAAAAHAAAAB0AAAAeAAAAHwAAACAAAAAhAAAAIgAAACMAAAAkAAAAJQAAACYAAAAnAAAAKAAAACkAAAAqAAAAKwAAACwAAAAtAAAALgAAAC8AAAAwAAAAMQAAADIAAAAzAAAANAAAADUAAAA2AAAANwAAADgAAAA5AAAAOgAAADsAAAA8AAAAPQAAAD4AAAA/AAAAQAAAAEEAAABCAAAAQwAAAEQAAABFAAAARgAAAEcAAABIAAAASQAAAEoAAABLAAAATAAAAE0AAABOAAAATwAAAFAAAABRAAAAUgAAAFMAAABUAAAAVQAAAFYAAABXAAAAWAAAAFkAAABaAAAAWwAAAFwAAABdAAAAXgAAAF8AAABgAAAAYQAAAGIAAABjAAAAZAAAAGUAAABmAAAAZwAAAGgAAABpAAAAagAAAGsAAABsAAAAbQAAAG4AAABvAAAAcAAAAHEAAAByAAAAcwAAAHQAAAB1AAAAdgAAAHcAAAB4AAAAeQAAAHoAAAB7AAAAfAAAAH0AAAB+AAAAfwAAAIAAAACBAAAAggAAAIMAAACEAAAAhQAAAIYAAACHAAAAiAAAAIkAAACKAAAAiwAAAIwAAACNAAAAjgAAAI8AAACQAAAAkQAAAJIAAACTAAAAlAAAAJUAAACWAAAAlwAAAJgAAACZAAAAmgAAAJsAAACcAAAAnQAAAJ4AAACfAAAAoAAAAAEAAAACAAAAAwAAAAQAAAAFAAAABgAAAAcAAAAIAAAACQAAAAoAAAALAAAADAAAAA0AAAAOAAAADwAAABAAAAARAAAAEgAAABMAAAAUAAAAFQAAABYAAAAXAAAAGAAAABkAAAAaAAAAGwAAABwAAAAdAAAAHgAAAB8AAAAgAAAAIQAAACIAAAAjAAAAJAAAACUAAAAmAAAAJwAAACgAAAApAAAAKgAAACsAAAAsAAAALQAAAC4AAAAvAAAAMAAAADEAAAAyAAAAMwAAADQAAAA1AAAANgAAADcAAAA4AAAAOQAAADoAAAA7AAAAPAAAAD0AAAA+AAAAPwAAAEAAAABBAAAAQgAAAEMAAABEAAAARQAAAEYAAABHAAAASAAAAEkAAABKAAAASwAAAEwAAABNAAAATgAAAE8AAABQAAAAUQAAAFIAAABTAAAAVAAAAFUAAABWAAAAVwAAAFgAAABZAAAAWgAAAFsAAABcAAAAXQAAAF4AAABfAAAAYAAAAGEAAABiAAAAYwAAAGQAAABlAAAAZgAAAGcAAABoAAAAaQAAAGoAAABrAAAAbAAAAG0AAABuAAAAbwAAAHAAAABxAAAAcgAAAHMAAAB0AAAAdQAAAHYAAAB3AAAAeAAAAHkAAAB6AAAAewAAAHwAAAB9AAAAfgAAAH8AAACAAAAAgQAAAIIAAACDAAAAhAAAAIUAAACGAAAAhwAAAIgAAACJAAAAigAAAIsAAACMAAAAjQAAAI4AAACPAAAAkAAAAJEAAACSAAAAkwAAAJQAAACVAAAAlgAAAJcAAACYAAAAmQAAAJoAAACbAAAAnAAAAJ0AAACeAAAAnwAAAKAAAAA=",
            "dtype": "u4"
           },
           "xaxis": "x",
           "y": {
            "bdata": "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",
            "dtype": "f8"
           },
           "yaxis": "y"
          }
         ],
         "name": "4"
        },
        {
         "data": [
          {
           "hovertemplate": "treatment=sham<br>sigma=5<br>trial_idx=%{x}<br>efs_smooth=%{y}<extra></extra>",
           "legendgroup": "sham",
           "line": {
            "color": "#1f77b4",
            "dash": "solid"
           },
           "marker": {
            "symbol": "circle"
           },
           "mode": "lines",
           "name": "sham",
           "orientation": "v",
           "showlegend": true,
           "type": "scatter",
           "x": {
            "bdata": "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",
            "dtype": "u4"
           },
           "xaxis": "x",
           "y": {
            "bdata": "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",
            "dtype": "f8"
           },
           "yaxis": "y"
          },
          {
           "hovertemplate": "treatment=ofc<br>sigma=5<br>trial_idx=%{x}<br>efs_smooth=%{y}<extra></extra>",
           "legendgroup": "ofc",
           "line": {
            "color": "#ff7f0e",
            "dash": "solid"
           },
           "marker": {
            "symbol": "circle"
           },
           "mode": "lines",
           "name": "ofc",
           "orientation": "v",
           "showlegend": true,
           "type": "scatter",
           "x": {
            "bdata": "AQAAAAIAAAADAAAABAAAAAUAAAAGAAAABwAAAAgAAAAJAAAACgAAAAsAAAAMAAAADQAAAA4AAAAPAAAAEAAAABEAAAASAAAAEwAAABQAAAAVAAAAFgAAABcAAAAYAAAAGQAAABoAAAAbAAAAHAAAAB0AAAAeAAAAHwAAACAAAAAhAAAAIgAAACMAAAAkAAAAJQAAACYAAAAnAAAAKAAAACkAAAAqAAAAKwAAACwAAAAtAAAALgAAAC8AAAAwAAAAMQAAADIAAAAzAAAANAAAADUAAAA2AAAANwAAADgAAAA5AAAAOgAAADsAAAA8AAAAPQAAAD4AAAA/AAAAQAAAAEEAAABCAAAAQwAAAEQAAABFAAAARgAAAEcAAABIAAAASQAAAEoAAABLAAAATAAAAE0AAABOAAAATwAAAFAAAABRAAAAUgAAAFMAAABUAAAAVQAAAFYAAABXAAAAWAAAAFkAAABaAAAAWwAAAFwAAABdAAAAXgAAAF8AAABgAAAAYQAAAGIAAABjAAAAZAAAAGUAAABmAAAAZwAAAGgAAABpAAAAagAAAGsAAABsAAAAbQAAAG4AAABvAAAAcAAAAHEAAAByAAAAcwAAAHQAAAB1AAAAdgAAAHcAAAB4AAAAeQAAAHoAAAB7AAAAfAAAAH0AAAB+AAAAfwAAAIAAAACBAAAAggAAAIMAAACEAAAAhQAAAIYAAACHAAAAiAAAAIkAAACKAAAAiwAAAIwAAACNAAAAjgAAAI8AAACQAAAAkQAAAJIAAACTAAAAlAAAAJUAAACWAAAAlwAAAJgAAACZAAAAmgAAAJsAAACcAAAAnQAAAJ4AAACfAAAAoAAAAAEAAAACAAAAAwAAAAQAAAAFAAAABgAAAAcAAAAIAAAACQAAAAoAAAALAAAADAAAAA0AAAAOAAAADwAAABAAAAARAAAAEgAAABMAAAAUAAAAFQAAABYAAAAXAAAAGAAAABkAAAAaAAAAGwAAABwAAAAdAAAAHgAAAB8AAAAgAAAAIQAAACIAAAAjAAAAJAAAACUAAAAmAAAAJwAAACgAAAApAAAAKgAAACsAAAAsAAAALQAAAC4AAAAvAAAAMAAAADEAAAAyAAAAMwAAADQAAAA1AAAANgAAADcAAAA4AAAAOQAAADoAAAA7AAAAPAAAAD0AAAA+AAAAPwAAAEAAAABBAAAAQgAAAEMAAABEAAAARQAAAEYAAABHAAAASAAAAEkAAABKAAAASwAAAEwAAABNAAAATgAAAE8AAABQAAAAUQAAAFIAAABTAAAAVAAAAFUAAABWAAAAVwAAAFgAAABZAAAAWgAAAFsAAABcAAAAXQAAAF4AAABfAAAAYAAAAGEAAABiAAAAYwAAAGQAAABlAAAAZgAAAGcAAABoAAAAaQAAAGoAAABrAAAAbAAAAG0AAABuAAAAbwAAAHAAAABxAAAAcgAAAHMAAAB0AAAAdQAAAHYAAAB3AAAAeAAAAHkAAAB6AAAAewAAAHwAAAB9AAAAfgAAAH8AAACAAAAAgQAAAIIAAACDAAAAhAAAAIUAAACGAAAAhwAAAIgAAACJAAAAigAAAIsAAACMAAAAjQAAAI4AAACPAAAAkAAAAJEAAACSAAAAkwAAAJQAAACVAAAAlgAAAJcAAACYAAAAmQAAAJoAAACbAAAAnAAAAJ0AAACeAAAAnwAAAKAAAAABAAAAAgAAAAMAAAAEAAAABQAAAAYAAAAHAAAACAAAAAkAAAAKAAAACwAAAAwAAAANAAAADgAAAA8AAAAQAAAAEQAAABIAAAATAAAAFAAAABUAAAAWAAAAFwAAABgAAAAZAAAAGgAAABsAAAAcAAAAHQAAAB4AAAAfAAAAIAAAACEAAAAiAAAAIwAAACQAAAAlAAAAJgAAACcAAAAoAAAAKQAAACoAAAArAAAALAAAAC0AAAAuAAAALwAAADAAAAAxAAAAMgAAADMAAAA0AAAANQAAADYAAAA3AAAAOAAAADkAAAA6AAAAOwAAADwAAAA9AAAAPgAAAD8AAABAAAAAQQAAAEIAAABDAAAARAAAAEUAAABGAAAARwAAAEgAAABJAAAASgAAAEsAAABMAAAATQAAAE4AAABPAAAAUAAAAFEAAABSAAAAUwAAAFQAAABVAAAAVgAAAFcAAABYAAAAWQAAAFoAAABbAAAAXAAAAF0AAABeAAAAXwAAAGAAAABhAAAAYgAAAGMAAABkAAAAZQAAAGYAAABnAAAAaAAAAGkAAABqAAAAawAAAGwAAABtAAAAbgAAAG8AAABwAAAAcQAAAHIAAABzAAAAdAAAAHUAAAB2AAAAdwAAAHgAAAB5AAAAegAAAHsAAAB8AAAAfQAAAH4AAAB/AAAAgAAAAIEAAACCAAAAgwAAAIQAAACFAAAAhgAAAIcAAACIAAAAiQAAAIoAAACLAAAAjAAAAI0AAACOAAAAjwAAAJAAAACRAAAAkgAAAJMAAACUAAAAlQAAAJYAAACXAAAAmAAAAJkAAACaAAAAmwAAAJwAAACdAAAAngAAAJ8AAACgAAAAAQAAAAIAAAADAAAABAAAAAUAAAAGAAAABwAAAAgAAAAJAAAACgAAAAsAAAAMAAAADQAAAA4AAAAPAAAAEAAAABEAAAASAAAAEwAAABQAAAAVAAAAFgAAABcAAAAYAAAAGQAAABoAAAAbAAAAHAAAAB0AAAAeAAAAHwAAACAAAAAhAAAAIgAAACMAAAAkAAAAJQAAACYAAAAnAAAAKAAAACkAAAAqAAAAKwAAACwAAAAtAAAALgAAAC8AAAAwAAAAMQAAADIAAAAzAAAANAAAADUAAAA2AAAANwAAADgAAAA5AAAAOgAAADsAAAA8AAAAPQAAAD4AAAA/AAAAQAAAAEEAAABCAAAAQwAAAEQAAABFAAAARgAAAEcAAABIAAAASQAAAEoAAABLAAAATAAAAE0AAABOAAAATwAAAFAAAABRAAAAUgAAAFMAAABUAAAAVQAAAFYAAABXAAAAWAAAAFkAAABaAAAAWwAAAFwAAABdAAAAXgAAAF8AAABgAAAAYQAAAGIAAABjAAAAZAAAAGUAAABmAAAAZwAAAGgAAABpAAAAagAAAGsAAABsAAAAbQAAAG4AAABvAAAAcAAAAHEAAAByAAAAcwAAAHQAAAB1AAAAdgAAAHcAAAB4AAAAeQAAAHoAAAB7AAAAfAAAAH0AAAB+AAAAfwAAAIAAAACBAAAAggAAAIMAAACEAAAAhQAAAIYAAACHAAAAiAAAAIkAAACKAAAAiwAAAIwAAACNAAAAjgAAAI8AAACQAAAAkQAAAJIAAACTAAAAlAAAAJUAAACWAAAAlwAAAJgAAACZAAAAmgAAAJsAAACcAAAAnQAAAJ4AAACfAAAAoAAAAAEAAAACAAAAAwAAAAQAAAAFAAAABgAAAAcAAAAIAAAACQAAAAoAAAALAAAADAAAAA0AAAAOAAAADwAAABAAAAARAAAAEgAAABMAAAAUAAAAFQAAABYAAAAXAAAAGAAAABkAAAAaAAAAGwAAABwAAAAdAAAAHgAAAB8AAAAgAAAAIQAAACIAAAAjAAAAJAAAACUAAAAmAAAAJwAAACgAAAApAAAAKgAAACsAAAAsAAAALQAAAC4AAAAvAAAAMAAAADEAAAAyAAAAMwAAADQAAAA1AAAANgAAADcAAAA4AAAAOQAAADoAAAA7AAAAPAAAAD0AAAA+AAAAPwAAAEAAAABBAAAAQgAAAEMAAABEAAAARQAAAEYAAABHAAAASAAAAEkAAABKAAAASwAAAEwAAABNAAAATgAAAE8AAABQAAAAUQAAAFIAAABTAAAAVAAAAFUAAABWAAAAVwAAAFgAAABZAAAAWgAAAFsAAABcAAAAXQAAAF4AAABfAAAAYAAAAGEAAABiAAAAYwAAAGQAAABlAAAAZgAAAGcAAABoAAAAaQAAAGoAAABrAAAAbAAAAG0AAABuAAAAbwAAAHAAAABxAAAAcgAAAHMAAAB0AAAAdQAAAHYAAAB3AAAAeAAAAHkAAAB6AAAAewAAAHwAAAB9AAAAfgAAAH8AAACAAAAAgQAAAIIAAACDAAAAhAAAAIUAAACGAAAAhwAAAIgAAACJAAAAigAAAIsAAACMAAAAjQAAAI4AAACPAAAAkAAAAJEAAACSAAAAkwAAAJQAAACVAAAAlgAAAJcAAACYAAAAmQAAAJoAAACbAAAAnAAAAJ0AAACeAAAAnwAAAKAAAAABAAAAAgAAAAMAAAAEAAAABQAAAAYAAAAHAAAACAAAAAkAAAAKAAAACwAAAAwAAAANAAAADgAAAA8AAAAQAAAAEQAAABIAAAATAAAAFAAAABUAAAAWAAAAFwAAABgAAAAZAAAAGgAAABsAAAAcAAAAHQAAAB4AAAAfAAAAIAAAACEAAAAiAAAAIwAAACQAAAAlAAAAJgAAACcAAAAoAAAAKQAAACoAAAArAAAALAAAAC0AAAAuAAAALwAAADAAAAAxAAAAMgAAADMAAAA0AAAANQAAADYAAAA3AAAAOAAAADkAAAA6AAAAOwAAADwAAAA9AAAAPgAAAD8AAABAAAAAQQAAAEIAAABDAAAARAAAAEUAAABGAAAARwAAAEgAAABJAAAASgAAAEsAAABMAAAATQAAAE4AAABPAAAAUAAAAFEAAABSAAAAUwAAAFQAAABVAAAAVgAAAFcAAABYAAAAWQAAAFoAAABbAAAAXAAAAF0AAABeAAAAXwAAAGAAAABhAAAAYgAAAGMAAABkAAAAZQAAAGYAAABnAAAAaAAAAGkAAABqAAAAawAAAGwAAABtAAAAbgAAAG8AAABwAAAAcQAAAHIAAABzAAAAdAAAAHUAAAB2AAAAdwAAAHgAAAB5AAAAegAAAHsAAAB8AAAAfQAAAH4AAAB/AAAAgAAAAIEAAACCAAAAgwAAAIQAAACFAAAAhgAAAIcAAACIAAAAiQAAAIoAAACLAAAAjAAAAI0AAACOAAAAjwAAAJAAAACRAAAAkgAAAJMAAACUAAAAlQAAAJYAAACXAAAAmAAAAJkAAACaAAAAmwAAAJwAAACdAAAAngAAAJ8AAACgAAAA",
            "dtype": "u4"
           },
           "xaxis": "x",
           "y": {
            "bdata": "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",
            "dtype": "f8"
           },
           "yaxis": "y"
          },
          {
           "hovertemplate": "treatment=mpfc<br>sigma=5<br>trial_idx=%{x}<br>efs_smooth=%{y}<extra></extra>",
           "legendgroup": "mpfc",
           "line": {
            "color": "#2ca02c",
            "dash": "solid"
           },
           "marker": {
            "symbol": "circle"
           },
           "mode": "lines",
           "name": "mpfc",
           "orientation": "v",
           "showlegend": true,
           "type": "scatter",
           "x": {
            "bdata": "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",
            "dtype": "u4"
           },
           "xaxis": "x",
           "y": {
            "bdata": "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",
            "dtype": "f8"
           },
           "yaxis": "y"
          }
         ],
         "name": "5"
        },
        {
         "data": [
          {
           "hovertemplate": "treatment=sham<br>sigma=6<br>trial_idx=%{x}<br>efs_smooth=%{y}<extra></extra>",
           "legendgroup": "sham",
           "line": {
            "color": "#1f77b4",
            "dash": "solid"
           },
           "marker": {
            "symbol": "circle"
           },
           "mode": "lines",
           "name": "sham",
           "orientation": "v",
           "showlegend": true,
           "type": "scatter",
           "x": {
            "bdata": "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",
            "dtype": "u4"
           },
           "xaxis": "x",
           "y": {
            "bdata": "gmrK+3JczD9tnRno7FLMP/2d0BwLQMw/rIp5ptEjzD8JSxKg4f7LP8eXKTUN0ss/DyBFi4meyz/GTSVuf2bLP2go/qtiK8s/fszT9JTuyj/54uGok7DKPza0R0tJcMo/oRwipvoryj8n+Sbx7uDJP3fWzywVjMk/h7FGHqUqyT8yb/WDkrrIP7PAQ9HXO8g/O9z1wqKwxz/H6c18lxzHPxfQTkmhhcY/4ehVQujyxT8D3ilVqmvFP+f3RHpq98Q/0wa1AcmbxD8yGKuHBV3EP0xgtI73PMQ/3qzWlwU7xD+5Rct6n1TEP9DCMdnBhMQ/IzKK3ZTFxD8/iHWnchDFP5isGArnXsU/r0QCopOrxT/+SY9pVfLFP8f+xkUeMcY/UvIWEUVnxj+FdAsFSZbGP/DTiJfmwMY/L+Koo1Lqxj8LYkmQGRbHP6O7QEkDR8c/qc9uNJl+xz/IGk223LzHPzjxTVoVAMg/8kRHYtBEyD+pcu19P4bIP/k7q3qsv8g/GS1HA2LsyD/b08ieMAnJP4yzwecfFMk/W3JYvHQNyT/RpwQJBPfIP9WJCUrg08g/Q6cMLK2nyD+vQRjj83XIP+XjhsadQMg/DpPOXd8IyD/J0OS4is7HP+Eca3iVkMc/fFjTQnZOxz/lDflCWgfHP0b8tPMVvMY/KnyYEFNvxj+FwurI6iTGP4V9tFy+4cU/JTlPhjmrxT8t2B89Q4bFPwvYiBw5d8U/sV06j+CAxT9Y3SOfIaTFP+7+XeEq4cU/z7MQ/Rk2xj/XS5hBjKDGPxfo+iLcHMc/IaBCbfamxz/z56gUzznIPx5LhUsR0Mg/YqdzQBBjyT9pYx2seevJP5ZB9Uf/Yco/YM5vK3C/yj8i2lgDvv3KP+Qu6vFxGMs/lru3lycNyz/gNA5BQN3KP9p/woKWjMo/H2YoiTkhyj/TLtSuKqTJP5iOfDi/Hsk/JcjmshWbyD9grMhlACLIP1iPNn34ucc/lHMhUchnxz/gdLQF/CzHPxqmVVG/CMc/6m0EWpL3xj/np8Sg7fTGP7RYjikv+8Y/7oAVUT0Fxz/wASiK1w7HP0h14XdOFcc/kyWfFzQYxz+v+84/HRnHP+0cqrpgG8c/NSrtjv4jxz/swf8JPzjHPxkDOhmqXMc/nxErs1iUxz/L3zH+qN/HP6hoYL9YPMg/VrVG9XulyD+0aBAbqhLJP3ikVh7Nesk/oyL/kzzUyT9/U2IGAxbKP2LKFYQmOso/aiedO3k9yj9uWr6zbyDKP6nGLorm58k/4fhbVKmayT8Sw2M8VULJP9wPOGxH6Mg/feVrlsmVyD+VMLq9ZlLIPyZ7pR1oI8g/BteK7DkLyD+m4N++7wnIP4i5P1ZnHcg/hhRBr/RAyD9q4e9TTG/IP7KuTT0Uosg/TjWTfjvTyD9uIa8lzfzIPxLgZxdCGck/d9g3fkMkyT+sqSAPEBvJP0cFYnRh+8g/kYQg5q3EyD9N355wx3bIP8tvjxE4Esg/opjmEG+Yxz/bpOUdagrHP6ghNN0QasY/FR2nkMS4xT+B/TwznvjEPyCWEvV/K8Q/gIW4vPFTwz90DeWlsHTCP7j3vOkckcE/+fnIUOOswD/CKNi9Z5e/PyDKHjvR470/4uJYLiNIvD+OrnlIC866P4LSeSItf7k/jMfc3+xkuD+nlB2XcYi3PxrfFQ398LY/dCiOIeWjtj+Casr7clzMP22dGejsUsw//Z3QHAtAzD+sinmm0SPMPwlLEqDh/ss/x5cpNQ3Syz8PIEWLiZ7LP8ZNJW5/Zss/aCj+q2Iryz9+zNP0lO7KP/ni4aiTsMo/NrRHS0lwyj+hHCKm+ivKPyf5JvHu4Mk/d9bPLBWMyT+HsUYepSrJPzJv9YOSusg/s8BD0dc7yD873PXCorDHP8fpzXyXHMc/F9BOSaGFxj/h6FVC6PLFPwPeKVWqa8U/5/dEemr3xD/TBrUByZvEPzIYq4cFXcQ/TGC0jvc8xD/erNaXBTvEP7lFy3qfVMQ/0MIx2cGExD8jMordlMXEPz+IdadyEMU/mKwYCudexT+vRAKik6vFP/5Jj2lV8sU/x/7GRR4xxj9S8hYRRWfGP4V0CwVJlsY/8NOIl+bAxj8v4qijUurGPwtiSZAZFsc/o7tASQNHxz+pz240mX7HP8gaTbbcvMc/OPFNWhUAyD/yREdi0ETIP6ly7X0/hsg/+Tureqy/yD8ZLUcDYuzIP9vTyJ4wCck/jLPB5x8UyT9bcli8dA3JP9GnBAkE98g/1YkJSuDTyD9DpwwsrafIP69BGOPzdcg/5eOGxp1AyD8Ok85d3wjIP8nQ5LiKzsc/4RxreJWQxz98WNNCdk7HP+UN+UJaB8c/Rvy08xW8xj8qfJgQU2/GP4XC6sjqJMY/hX20XL7hxT8lOU+GOavFPy3YHz1DhsU/C9iIHDl3xT+xXTqP4IDFP1jdI58hpMU/7v5d4SrhxT/PsxD9GTbGP9dLmEGMoMY/F+j6Itwcxz8hoEJt9qbHP/PnqBTPOcg/HkuFSxHQyD9ip3NAEGPJP2ljHax568k/lkH1R/9hyj9gzm8rcL/KPyLaWAO+/co/5C7q8XEYyz+Wu7eXJw3LP+A0DkFA3co/2n/CgpaMyj8fZiiJOSHKP9Mu1K4qpMk/mI58OL8eyT8lyOayFZvIP2CsyGUAIsg/WI82ffi5xz+UcyFRyGfHP+B0tAX8LMc/GqZVUb8Ixz/qbQRakvfGP+enxKDt9MY/tFiOKS/7xj/ugBVRPQXHP/ABKIrXDsc/SHXhd04Vxz+TJZ8XNBjHP6/7zj8dGcc/7RyqumAbxz81Ku2O/iPHP+zB/wk/OMc/GQM6Gapcxz+fESuzWJTHP8vfMf6o38c/qGhgv1g8yD9WtUb1e6XIP7RoEBuqEsk/eKRWHs16yT+jIv+TPNTJP39TYgYDFso/YsoVhCY6yj9qJ507eT3KP25avrNvIMo/qcYuiubnyT/h+FtUqZrJPxLDYzxVQsk/3A84bEfoyD995WuWyZXIP5Uwur1mUsg/JnulHWgjyD8G14rsOQvIP6bg377vCcg/iLk/VmcdyD+GFEGv9EDIP2rh71NMb8g/sq5NPRSiyD9ONZN+O9PIP24hryXN/Mg/EuBnF0IZyT932Dd+QyTJP6ypIA8QG8k/RwVidGH7yD+RhCDmrcTIP03fnnDHdsg/y2+PETgSyD+imOYQb5jHP9uk5R1qCsc/qCE03RBqxj8VHaeQxLjFP4H9PDOe+MQ/IJYS9X8rxD+Ahbi88VPDP3QN5aWwdMI/uPe86RyRwT/5+chQ46zAP8Io2L1nl78/IMoeO9HjvT/i4lguI0i8P46ueUgLzro/gtJ5Ii1/uT+Mx9zf7GS4P6eUHZdxiLc/Gt8VDf3wtj90KI4h5aO2P4JqyvtyXMw/bZ0Z6OxSzD/9ndAcC0DMP6yKeabRI8w/CUsSoOH+yz/Hlyk1DdLLPw8gRYuJnss/xk0lbn9myz9oKP6rYivLP37M0/SU7so/+eLhqJOwyj82tEdLSXDKP6EcIqb6K8o/J/km8e7gyT931s8sFYzJP4exRh6lKsk/Mm/1g5K6yD+zwEPR1zvIPzvc9cKisMc/x+nNfJccxz8X0E5JoYXGP+HoVULo8sU/A94pVaprxT/n90R6avfEP9MGtQHJm8Q/MhirhwVdxD9MYLSO9zzEP96s1pcFO8Q/uUXLep9UxD/QwjHZwYTEPyMyit2UxcQ/P4h1p3IQxT+YrBgK517FP69EAqKTq8U//kmPaVXyxT/H/sZFHjHGP1LyFhFFZ8Y/hXQLBUmWxj/w04iX5sDGPy/iqKNS6sY/C2JJkBkWxz+ju0BJA0fHP6nPbjSZfsc/yBpNtty8xz848U1aFQDIP/JER2LQRMg/qXLtfT+GyD/5O6t6rL/IPxktRwNi7Mg/29PInjAJyT+Ms8HnHxTJP1tyWLx0Dck/0acECQT3yD/ViQlK4NPIP0OnDCytp8g/r0EY4/N1yD/l44bGnUDIPw6Tzl3fCMg/ydDkuIrOxz/hHGt4lZDHP3xY00J2Tsc/5Q35QloHxz9G/LTzFbzGPyp8mBBTb8Y/hcLqyOokxj+FfbRcvuHFPyU5T4Y5q8U/LdgfPUOGxT8L2IgcOXfFP7FdOo/ggMU/WN0jnyGkxT/u/l3hKuHFP8+zEP0ZNsY/10uYQYygxj8X6Poi3BzHPyGgQm32psc/8+eoFM85yD8eS4VLEdDIP2Knc0AQY8k/aWMdrHnryT+WQfVH/2HKP2DObytwv8o/ItpYA779yj/kLurxcRjLP5a7t5cnDcs/4DQOQUDdyj/af8KClozKPx9mKIk5Ico/0y7UriqkyT+Yjnw4vx7JPyXI5rIVm8g/YKzIZQAiyD9YjzZ9+LnHP5RzIVHIZ8c/4HS0Bfwsxz8aplVRvwjHP+ptBFqS98Y/56fEoO30xj+0WI4pL/vGP+6AFVE9Bcc/8AEoitcOxz9IdeF3ThXHP5Mlnxc0GMc/r/vOPx0Zxz/tHKq6YBvHPzUq7Y7+I8c/7MH/CT84xz8ZAzoZqlzHP58RK7NYlMc/y98x/qjfxz+oaGC/WDzIP1a1RvV7pcg/tGgQG6oSyT94pFYezXrJP6Mi/5M81Mk/f1NiBgMWyj9iyhWEJjrKP2onnTt5Pco/blq+s28gyj+pxi6K5ufJP+H4W1Spmsk/EsNjPFVCyT/cDzhsR+jIP33la5bJlcg/lTC6vWZSyD8me6UdaCPIPwbXiuw5C8g/puDfvu8JyD+IuT9WZx3IP4YUQa/0QMg/auHvU0xvyD+yrk09FKLIP041k34708g/biGvJc38yD8S4GcXQhnJP3fYN35DJMk/rKkgDxAbyT9HBWJ0YfvIP5GEIOatxMg/Td+ecMd2yD/Lb48ROBLIP6KY5hBvmMc/26TlHWoKxz+oITTdEGrGPxUdp5DEuMU/gf08M574xD8glhL1fyvEP4CFuLzxU8M/dA3lpbB0wj+497zpHJHBP/n5yFDjrMA/wijYvWeXvz8gyh470eO9P+LiWC4jSLw/jq55SAvOuj+C0nkiLX+5P4zH3N/sZLg/p5Qdl3GItz8a3xUN/fC2P3QojiHlo7Y/gmrK+3JczD9tnRno7FLMP/2d0BwLQMw/rIp5ptEjzD8JSxKg4f7LP8eXKTUN0ss/DyBFi4meyz/GTSVuf2bLP2go/qtiK8s/fszT9JTuyj/54uGok7DKPza0R0tJcMo/oRwipvoryj8n+Sbx7uDJP3fWzywVjMk/h7FGHqUqyT8yb/WDkrrIP7PAQ9HXO8g/O9z1wqKwxz/H6c18lxzHPxfQTkmhhcY/4ehVQujyxT8D3ilVqmvFP+f3RHpq98Q/0wa1AcmbxD8yGKuHBV3EP0xgtI73PMQ/3qzWlwU7xD+5Rct6n1TEP9DCMdnBhMQ/IzKK3ZTFxD8/iHWnchDFP5isGArnXsU/r0QCopOrxT/+SY9pVfLFP8f+xkUeMcY/UvIWEUVnxj+FdAsFSZbGP/DTiJfmwMY/L+Koo1Lqxj8LYkmQGRbHP6O7QEkDR8c/qc9uNJl+xz/IGk223LzHPzjxTVoVAMg/8kRHYtBEyD+pcu19P4bIP/k7q3qsv8g/GS1HA2LsyD/b08ieMAnJP4yzwecfFMk/W3JYvHQNyT/RpwQJBPfIP9WJCUrg08g/Q6cMLK2nyD+vQRjj83XIP+XjhsadQMg/DpPOXd8IyD/J0OS4is7HP+Eca3iVkMc/fFjTQnZOxz/lDflCWgfHP0b8tPMVvMY/KnyYEFNvxj+FwurI6iTGP4V9tFy+4cU/JTlPhjmrxT8t2B89Q4bFPwvYiBw5d8U/sV06j+CAxT9Y3SOfIaTFP+7+XeEq4cU/z7MQ/Rk2xj/XS5hBjKDGPxfo+iLcHMc/IaBCbfamxz/z56gUzznIPx5LhUsR0Mg/YqdzQBBjyT9pYx2seevJP5ZB9Uf/Yco/YM5vK3C/yj8i2lgDvv3KP+Qu6vFxGMs/lru3lycNyz/gNA5BQN3KP9p/woKWjMo/H2YoiTkhyj/TLtSuKqTJP5iOfDi/Hsk/JcjmshWbyD9grMhlACLIP1iPNn34ucc/lHMhUchnxz/gdLQF/CzHPxqmVVG/CMc/6m0EWpL3xj/np8Sg7fTGP7RYjikv+8Y/7oAVUT0Fxz/wASiK1w7HP0h14XdOFcc/kyWfFzQYxz+v+84/HRnHP+0cqrpgG8c/NSrtjv4jxz/swf8JPzjHPxkDOhmqXMc/nxErs1iUxz/L3zH+qN/HP6hoYL9YPMg/VrVG9XulyD+0aBAbqhLJP3ikVh7Nesk/oyL/kzzUyT9/U2IGAxbKP2LKFYQmOso/aiedO3k9yj9uWr6zbyDKP6nGLorm58k/4fhbVKmayT8Sw2M8VULJP9wPOGxH6Mg/feVrlsmVyD+VMLq9ZlLIPyZ7pR1oI8g/BteK7DkLyD+m4N++7wnIP4i5P1ZnHcg/hhRBr/RAyD9q4e9TTG/IP7KuTT0Uosg/TjWTfjvTyD9uIa8lzfzIPxLgZxdCGck/d9g3fkMkyT+sqSAPEBvJP0cFYnRh+8g/kYQg5q3EyD9N355wx3bIP8tvjxE4Esg/opjmEG+Yxz/bpOUdagrHP6ghNN0QasY/FR2nkMS4xT+B/TwznvjEPyCWEvV/K8Q/gIW4vPFTwz90DeWlsHTCP7j3vOkckcE/+fnIUOOswD/CKNi9Z5e/PyDKHjvR470/4uJYLiNIvD+OrnlIC866P4LSeSItf7k/jMfc3+xkuD+nlB2XcYi3PxrfFQ398LY/dCiOIeWjtj+Casr7clzMP22dGejsUsw//Z3QHAtAzD+sinmm0SPMPwlLEqDh/ss/x5cpNQ3Syz8PIEWLiZ7LP8ZNJW5/Zss/aCj+q2Iryz9+zNP0lO7KP/ni4aiTsMo/NrRHS0lwyj+hHCKm+ivKPyf5JvHu4Mk/d9bPLBWMyT+HsUYepSrJPzJv9YOSusg/s8BD0dc7yD873PXCorDHP8fpzXyXHMc/F9BOSaGFxj/h6FVC6PLFPwPeKVWqa8U/5/dEemr3xD/TBrUByZvEPzIYq4cFXcQ/TGC0jvc8xD/erNaXBTvEP7lFy3qfVMQ/0MIx2cGExD8jMordlMXEPz+IdadyEMU/mKwYCudexT+vRAKik6vFP/5Jj2lV8sU/x/7GRR4xxj9S8hYRRWfGP4V0CwVJlsY/8NOIl+bAxj8v4qijUurGPwtiSZAZFsc/o7tASQNHxz+pz240mX7HP8gaTbbcvMc/OPFNWhUAyD/yREdi0ETIP6ly7X0/hsg/+Tureqy/yD8ZLUcDYuzIP9vTyJ4wCck/jLPB5x8UyT9bcli8dA3JP9GnBAkE98g/1YkJSuDTyD9DpwwsrafIP69BGOPzdcg/5eOGxp1AyD8Ok85d3wjIP8nQ5LiKzsc/4RxreJWQxz98WNNCdk7HP+UN+UJaB8c/Rvy08xW8xj8qfJgQU2/GP4XC6sjqJMY/hX20XL7hxT8lOU+GOavFPy3YHz1DhsU/C9iIHDl3xT+xXTqP4IDFP1jdI58hpMU/7v5d4SrhxT/PsxD9GTbGP9dLmEGMoMY/F+j6Itwcxz8hoEJt9qbHP/PnqBTPOcg/HkuFSxHQyD9ip3NAEGPJP2ljHax568k/lkH1R/9hyj9gzm8rcL/KPyLaWAO+/co/5C7q8XEYyz+Wu7eXJw3LP+A0DkFA3co/2n/CgpaMyj8fZiiJOSHKP9Mu1K4qpMk/mI58OL8eyT8lyOayFZvIP2CsyGUAIsg/WI82ffi5xz+UcyFRyGfHP+B0tAX8LMc/GqZVUb8Ixz/qbQRakvfGP+enxKDt9MY/tFiOKS/7xj/ugBVRPQXHP/ABKIrXDsc/SHXhd04Vxz+TJZ8XNBjHP6/7zj8dGcc/7RyqumAbxz81Ku2O/iPHP+zB/wk/OMc/GQM6Gapcxz+fESuzWJTHP8vfMf6o38c/qGhgv1g8yD9WtUb1e6XIP7RoEBuqEsk/eKRWHs16yT+jIv+TPNTJP39TYgYDFso/YsoVhCY6yj9qJ507eT3KP25avrNvIMo/qcYuiubnyT/h+FtUqZrJPxLDYzxVQsk/3A84bEfoyD995WuWyZXIP5Uwur1mUsg/JnulHWgjyD8G14rsOQvIP6bg377vCcg/iLk/VmcdyD+GFEGv9EDIP2rh71NMb8g/sq5NPRSiyD9ONZN+O9PIP24hryXN/Mg/EuBnF0IZyT932Dd+QyTJP6ypIA8QG8k/RwVidGH7yD+RhCDmrcTIP03fnnDHdsg/y2+PETgSyD+imOYQb5jHP9uk5R1qCsc/qCE03RBqxj8VHaeQxLjFP4H9PDOe+MQ/IJYS9X8rxD+Ahbi88VPDP3QN5aWwdMI/uPe86RyRwT/5+chQ46zAP8Io2L1nl78/IMoeO9HjvT/i4lguI0i8P46ueUgLzro/gtJ5Ii1/uT+Mx9zf7GS4P6eUHZdxiLc/Gt8VDf3wtj90KI4h5aO2Pw==",
            "dtype": "f8"
           },
           "yaxis": "y"
          },
          {
           "hovertemplate": "treatment=ofc<br>sigma=6<br>trial_idx=%{x}<br>efs_smooth=%{y}<extra></extra>",
           "legendgroup": "ofc",
           "line": {
            "color": "#ff7f0e",
            "dash": "solid"
           },
           "marker": {
            "symbol": "circle"
           },
           "mode": "lines",
           "name": "ofc",
           "orientation": "v",
           "showlegend": true,
           "type": "scatter",
           "x": {
            "bdata": "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",
            "dtype": "u4"
           },
           "xaxis": "x",
           "y": {
            "bdata": "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",
            "dtype": "f8"
           },
           "yaxis": "y"
          },
          {
           "hovertemplate": "treatment=mpfc<br>sigma=6<br>trial_idx=%{x}<br>efs_smooth=%{y}<extra></extra>",
           "legendgroup": "mpfc",
           "line": {
            "color": "#2ca02c",
            "dash": "solid"
           },
           "marker": {
            "symbol": "circle"
           },
           "mode": "lines",
           "name": "mpfc",
           "orientation": "v",
           "showlegend": true,
           "type": "scatter",
           "x": {
            "bdata": "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",
            "dtype": "u4"
           },
           "xaxis": "x",
           "y": {
            "bdata": "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",
            "dtype": "f8"
           },
           "yaxis": "y"
          }
         ],
         "name": "6"
        },
        {
         "data": [
          {
           "hovertemplate": "treatment=sham<br>sigma=7<br>trial_idx=%{x}<br>efs_smooth=%{y}<extra></extra>",
           "legendgroup": "sham",
           "line": {
            "color": "#1f77b4",
            "dash": "solid"
           },
           "marker": {
            "symbol": "circle"
           },
           "mode": "lines",
           "name": "sham",
           "orientation": "v",
           "showlegend": true,
           "type": "scatter",
           "x": {
            "bdata": "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",
            "dtype": "u4"
           },
           "xaxis": "x",
           "y": {
            "bdata": "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",
            "dtype": "f8"
           },
           "yaxis": "y"
          },
          {
           "hovertemplate": "treatment=ofc<br>sigma=7<br>trial_idx=%{x}<br>efs_smooth=%{y}<extra></extra>",
           "legendgroup": "ofc",
           "line": {
            "color": "#ff7f0e",
            "dash": "solid"
           },
           "marker": {
            "symbol": "circle"
           },
           "mode": "lines",
           "name": "ofc",
           "orientation": "v",
           "showlegend": true,
           "type": "scatter",
           "x": {
            "bdata": "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",
            "dtype": "u4"
           },
           "xaxis": "x",
           "y": {
            "bdata": "5C38VICL0T/eb+TEjY7RP7bM1AVIlNE/MtvNAAmc0T+2i6rwJKXRPxqqX6DBrtE/nEzypVW40T9m7tv2ksHRP8V264eKytE/knASGtbT0T97Do/AGN7RPwAnO7Bb6tE/dHp7Gb750T8/+WJDwgzSP1Bc+2P0I9I/Cf3lkDA/0j+AclhU6F3SP74hRyf8ftI/xHwmHEqh0j8WzXUnO8PSP1pJPogw49I/0DxmVcr/0j+rTp5a3RfTP3jaVxKkKtM/CnrlPEw30z+linc7hz3TPyv2A8EKPdM/xkO9OrI10z8MOQrNDSfTPzywYRt/ENM/EhbGsqrx0j/G4ZzSBMrSP5RUf81mmdI/dIQkrcpf0j+EHrMNyh3SP+fSjhoV1NE/vtHi1VuE0T8XFOcwjzDRP+Y5/wHL2tA/N3F0x4OF0D8fthYhsDLQPzDHahWsyM8/xfhgfH43zz824K6zO7POPw34JusePM4/VOoKSYHRzT9YeZfLZHHNP3jcI0bwGc0/dw6mWv3IzD8ONLPbJ3zMPx1BtXKcMsw/xaNUsCLryz+U50WcdqbLP8/ykwvDZcs/mgtymgwryz+wzp+rqfnKP+gOLou91Mo/A9Y+4rO/yj8dtcOiPr7KP81juuxl08o/N53tMIQByz8re/HU0knLP4O3mANRrMs/1O+KmQ0ozD822xp5VrrMP6R1esC2X80/y1EyhhQUzj/grKNfH9POP33nCV7Hl88/tZWJCwsv0D8e9WI6ZJHQP8Da2g6b8dA/vDN6Pr1O0T/8DhWjIKjRPw7+1SNG/dE/y7FpBMRN0j8GXNEqg5jSPwCgdEG73NI/PhlkB/4Y0z87KJZwtUvTP/cMtgJec9M/RzqDnIWO0z+/zI1oQpzTP9L7oQVdnNM/njHQcFGP0z+P+QZMZ3bTPxxGtU6pU9M/DLwAokMp0z/MBfZmvfnSP2IUdSdyx9I/zlO/OEyU0j8GpgTyXmHSP5p5TH9VL9I/at8BLRP+0T8CLJjKKM3RPwUp/PAnnNE/enEByqdq0T9fe3x0vjjRP31REu8hB9E/3/377QLX0D/wxoknXarQPyTAezh4g9A/AumH+KJk0D8qwxIKQ1DQPxw4IuH2R9A/S7T5FLNM0D/yRWOsp17QP+jVSXPnfNA/NCBzw4al0D/+vV0649XQP9Qht9jLCtE/91EOQ3ZA0T9UFJmXFHPRP2W7fi4Gn9E/spk+7/XA0T9skm18AtbRP5ZaJEML3NE/tZwr46fR0T+a0iltf7bRPyQfHzPritE/LNlKvyJQ0T/eXiqGZQjRP2sDGlwnttA/ZKFm2g1d0D963Tgy3gDQPz7ea8wcTM8/RbVVhWihzj/hhQvm4QnOP+PA246yjM0/m/rkJuEvzT/11NJtb/fMP73E30Uo5cw/F1YsnFr4zD+jeTD8pS7NP7FwfJ63gs0/HYUJCLrtzT+3xrUbe2fOP1k6HSoU584/EvYNhdJjzz/wnOhRP9XPP5o8qWMWGtA/JKTwPHY90D+EvbtT8FLQP3pG3xJQWdA/r8FrJohQ0D9iYYBTODnQP35X12rIFNA/GI5hSnLKzz8EnzxQ/FnPP0mSSH2Z3c4/Yf7pirRazj+nwf12rtbNP0FAJN5YVs0/elOE2xLezD8Kp35KoXHMP4LEf1+9E8w/gPszAfjGyz+rFxIqRozLPwE147a6ZMs/+qQQ5fFQyz/kLfxUgIvRP95v5MSNjtE/tszUBUiU0T8y280ACZzRP7aLqvAkpdE/GqpfoMGu0T+cTPKlVbjRP2bu2/aSwdE/xXbrh4rK0T+ScBIa1tPRP3sOj8AY3tE/ACc7sFvq0T90ensZvvnRPz/5YkPCDNI/UFz7Y/Qj0j8J/eWQMD/SP4ByWFToXdI/viFHJ/x+0j/EfCYcSqHSPxbNdSc7w9I/Wkk+iDDj0j/QPGZVyv/SP6tOnlrdF9M/eNpXEqQq0z8KeuU8TDfTP6WKdzuHPdM/K/YDwQo90z/GQ706sjXTPww5Cs0NJ9M/PLBhG38Q0z8SFsayqvHSP8bhnNIEytI/lFR/zWaZ0j90hCStyl/SP4Qesw3KHdI/59KOGhXU0T++0eLVW4TRPxcU5zCPMNE/5jn/Acva0D83cXTHg4XQPx+2FiGwMtA/MMdqFazIzz/F+GB8fjfPPzbgrrM7s84/Dfgm6x48zj9U6gpJgdHNP1h5l8tkcc0/eNwjRvAZzT93DqZa/cjMPw40s9snfMw/HUG1cpwyzD/Fo1SwIuvLP5TnRZx2pss/z/KTC8Nlyz+aC3KaDCvLP7DOn6up+co/6A4ui73Uyj8D1j7is7/KPx21w6I+vso/zWO67GXTyj83ne0whAHLPyt78dTSScs/g7eYA1Gsyz/U74qZDSjMPzbbGnlWusw/pHV6wLZfzT/LUTKGFBTOP+Cso18f084/fecJXseXzz+1lYkLCy/QPx71YjpkkdA/wNraDpvx0D+8M3o+vU7RP/wOFaMgqNE/Dv7VI0b90T/LsWkExE3SPwZc0SqDmNI/AKB0Qbvc0j8+GWQH/hjTPzsolnC1S9M/9wy2Al5z0z9HOoOchY7TP7/MjWhCnNM/0vuhBV2c0z+eMdBwUY/TP4/5BkxndtM/HEa1TqlT0z8MvACiQynTP8wF9ma9+dI/YhR1J3LH0j/OU784TJTSPwamBPJeYdI/mnlMf1Uv0j9q3wEtE/7RPwIsmMoozdE/BSn88Cec0T96cQHKp2rRP197fHS+ONE/fVES7yEH0T/f/fvtAtfQP/DGiSddqtA/JMB7OHiD0D8C6Yf4omTQPyrDEgpDUNA/HDgi4fZH0D9LtPkUs0zQP/JFY6ynXtA/6NVJc+d80D80IHPDhqXQP/69XTrj1dA/1CG32MsK0T/3UQ5DdkDRP1QUmZcUc9E/Zbt+Lgaf0T+ymT7v9cDRP2ySbXwC1tE/llokQwvc0T+1nCvjp9HRP5rSKW1/ttE/JB8fM+uK0T8s2Uq/IlDRP95eKoZlCNE/awMaXCe20D9koWbaDV3QP3rdODLeANA/Pt5rzBxMzz9FtVWFaKHOP+GFC+bhCc4/48DbjrKMzT+b+uQm4S/NP/XU0m1v98w/vcTfRSjlzD8XViycWvjMP6N5MPylLs0/sXB8nreCzT8dhQkIuu3NP7fGtRt7Z84/WTodKhTnzj8S9g2F0mPPP/Cc6FE/1c8/mjypYxYa0D8kpPA8dj3QP4S9u1PwUtA/ekbfElBZ0D+vwWsmiFDQP2JhgFM4OdA/flfXasgU0D8YjmFKcsrPPwSfPFD8Wc8/SZJIfZndzj9h/umKtFrOP6fB/Xau1s0/QUAk3lhWzT96U4TbEt7MPwqnfkqhccw/gsR/X70TzD+A+zMB+MbLP6sXEipGjMs/ATXjtrpkyz/6pBDl8VDLP+Qt/FSAi9E/3m/kxI2O0T+2zNQFSJTRPzLbzQAJnNE/touq8CSl0T8aql+gwa7RP5xM8qVVuNE/Zu7b9pLB0T/FduuHisrRP5JwEhrW09E/ew6PwBje0T8AJzuwW+rRP3R6exm++dE/P/liQ8IM0j9QXPtj9CPSPwn95ZAwP9I/gHJYVOhd0j++IUcn/H7SP8R8JhxKodI/Fs11JzvD0j9aST6IMOPSP9A8ZlXK/9I/q06eWt0X0z942lcSpCrTPwp65TxMN9M/pYp3O4c90z8r9gPBCj3TP8ZDvTqyNdM/DDkKzQ0n0z88sGEbfxDTPxIWxrKq8dI/xuGc0gTK0j+UVH/NZpnSP3SEJK3KX9I/hB6zDcod0j/n0o4aFdTRP77R4tVbhNE/FxTnMI8w0T/mOf8By9rQPzdxdMeDhdA/H7YWIbAy0D8wx2oVrMjPP8X4YHx+N88/NuCuszuzzj8N+CbrHjzOP1TqCkmB0c0/WHmXy2RxzT943CNG8BnNP3cOplr9yMw/DjSz2yd8zD8dQbVynDLMP8WjVLAi68s/lOdFnHamyz/P8pMLw2XLP5oLcpoMK8s/sM6fq6n5yj/oDi6LvdTKPwPWPuKzv8o/HbXDoj6+yj/NY7rsZdPKPzed7TCEAcs/K3vx1NJJyz+Dt5gDUazLP9TvipkNKMw/NtsaeVa6zD+kdXrAtl/NP8tRMoYUFM4/4KyjXx/Tzj995wlex5fPP7WViQsLL9A/HvViOmSR0D/A2toOm/HQP7wzej69TtE//A4VoyCo0T8O/tUjRv3RP8uxaQTETdI/BlzRKoOY0j8AoHRBu9zSPz4ZZAf+GNM/OyiWcLVL0z/3DLYCXnPTP0c6g5yFjtM/v8yNaEKc0z/S+6EFXZzTP54x0HBRj9M/j/kGTGd20z8cRrVOqVPTPwy8AKJDKdM/zAX2Zr350j9iFHUncsfSP85TvzhMlNI/BqYE8l5h0j+aeUx/VS/SP2rfAS0T/tE/AiyYyijN0T8FKfzwJ5zRP3pxAcqnatE/X3t8dL440T99URLvIQfRP9/9++0C19A/8MaJJ12q0D8kwHs4eIPQPwLph/iiZNA/KsMSCkNQ0D8cOCLh9kfQP0u0+RSzTNA/8kVjrKde0D/o1Ulz53zQPzQgc8OGpdA//r1dOuPV0D/UIbfYywrRP/dRDkN2QNE/VBSZlxRz0T9lu34uBp/RP7KZPu/1wNE/bJJtfALW0T+WWiRDC9zRP7WcK+On0dE/mtIpbX+20T8kHx8z64rRPyzZSr8iUNE/3l4qhmUI0T9rAxpcJ7bQP2ShZtoNXdA/et04Mt4A0D8+3mvMHEzPP0W1VYVooc4/4YUL5uEJzj/jwNuOsozNP5v65CbhL80/9dTSbW/3zD+9xN9FKOXMPxdWLJxa+Mw/o3kw/KUuzT+xcHyet4LNPx2FCQi67c0/t8a1G3tnzj9ZOh0qFOfOPxL2DYXSY88/8JzoUT/Vzz+aPKljFhrQPySk8Dx2PdA/hL27U/BS0D96Rt8SUFnQP6/BayaIUNA/YmGAUzg50D9+V9dqyBTQPxiOYUpyys8/BJ88UPxZzz9Jkkh9md3OP2H+6Yq0Ws4/p8H9dq7WzT9BQCTeWFbNP3pThNsS3sw/Cqd+SqFxzD+CxH9fvRPMP4D7MwH4xss/qxcSKkaMyz8BNeO2umTLP/qkEOXxUMs/5C38VICL0T/eb+TEjY7RP7bM1AVIlNE/MtvNAAmc0T+2i6rwJKXRPxqqX6DBrtE/nEzypVW40T9m7tv2ksHRP8V264eKytE/knASGtbT0T97Do/AGN7RPwAnO7Bb6tE/dHp7Gb750T8/+WJDwgzSP1Bc+2P0I9I/Cf3lkDA/0j+AclhU6F3SP74hRyf8ftI/xHwmHEqh0j8WzXUnO8PSP1pJPogw49I/0DxmVcr/0j+rTp5a3RfTP3jaVxKkKtM/CnrlPEw30z+linc7hz3TPyv2A8EKPdM/xkO9OrI10z8MOQrNDSfTPzywYRt/ENM/EhbGsqrx0j/G4ZzSBMrSP5RUf81mmdI/dIQkrcpf0j+EHrMNyh3SP+fSjhoV1NE/vtHi1VuE0T8XFOcwjzDRP+Y5/wHL2tA/N3F0x4OF0D8fthYhsDLQPzDHahWsyM8/xfhgfH43zz824K6zO7POPw34JusePM4/VOoKSYHRzT9YeZfLZHHNP3jcI0bwGc0/dw6mWv3IzD8ONLPbJ3zMPx1BtXKcMsw/xaNUsCLryz+U50WcdqbLP8/ykwvDZcs/mgtymgwryz+wzp+rqfnKP+gOLou91Mo/A9Y+4rO/yj8dtcOiPr7KP81juuxl08o/N53tMIQByz8re/HU0knLP4O3mANRrMs/1O+KmQ0ozD822xp5VrrMP6R1esC2X80/y1EyhhQUzj/grKNfH9POP33nCV7Hl88/tZWJCwsv0D8e9WI6ZJHQP8Da2g6b8dA/vDN6Pr1O0T/8DhWjIKjRPw7+1SNG/dE/y7FpBMRN0j8GXNEqg5jSPwCgdEG73NI/PhlkB/4Y0z87KJZwtUvTP/cMtgJec9M/RzqDnIWO0z+/zI1oQpzTP9L7oQVdnNM/njHQcFGP0z+P+QZMZ3bTPxxGtU6pU9M/DLwAokMp0z/MBfZmvfnSP2IUdSdyx9I/zlO/OEyU0j8GpgTyXmHSP5p5TH9VL9I/at8BLRP+0T8CLJjKKM3RPwUp/PAnnNE/enEByqdq0T9fe3x0vjjRP31REu8hB9E/3/377QLX0D/wxoknXarQPyTAezh4g9A/AumH+KJk0D8qwxIKQ1DQPxw4IuH2R9A/S7T5FLNM0D/yRWOsp17QP+jVSXPnfNA/NCBzw4al0D/+vV0649XQP9Qht9jLCtE/91EOQ3ZA0T9UFJmXFHPRP2W7fi4Gn9E/spk+7/XA0T9skm18AtbRP5ZaJEML3NE/tZwr46fR0T+a0iltf7bRPyQfHzPritE/LNlKvyJQ0T/eXiqGZQjRP2sDGlwnttA/ZKFm2g1d0D963Tgy3gDQPz7ea8wcTM8/RbVVhWihzj/hhQvm4QnOP+PA246yjM0/m/rkJuEvzT/11NJtb/fMP73E30Uo5cw/F1YsnFr4zD+jeTD8pS7NP7FwfJ63gs0/HYUJCLrtzT+3xrUbe2fOP1k6HSoU584/EvYNhdJjzz/wnOhRP9XPP5o8qWMWGtA/JKTwPHY90D+EvbtT8FLQP3pG3xJQWdA/r8FrJohQ0D9iYYBTODnQP35X12rIFNA/GI5hSnLKzz8EnzxQ/FnPP0mSSH2Z3c4/Yf7pirRazj+nwf12rtbNP0FAJN5YVs0/elOE2xLezD8Kp35KoXHMP4LEf1+9E8w/gPszAfjGyz+rFxIqRozLPwE147a6ZMs/+qQQ5fFQyz/kLfxUgIvRP95v5MSNjtE/tszUBUiU0T8y280ACZzRP7aLqvAkpdE/GqpfoMGu0T+cTPKlVbjRP2bu2/aSwdE/xXbrh4rK0T+ScBIa1tPRP3sOj8AY3tE/ACc7sFvq0T90ensZvvnRPz/5YkPCDNI/UFz7Y/Qj0j8J/eWQMD/SP4ByWFToXdI/viFHJ/x+0j/EfCYcSqHSPxbNdSc7w9I/Wkk+iDDj0j/QPGZVyv/SP6tOnlrdF9M/eNpXEqQq0z8KeuU8TDfTP6WKdzuHPdM/K/YDwQo90z/GQ706sjXTPww5Cs0NJ9M/PLBhG38Q0z8SFsayqvHSP8bhnNIEytI/lFR/zWaZ0j90hCStyl/SP4Qesw3KHdI/59KOGhXU0T++0eLVW4TRPxcU5zCPMNE/5jn/Acva0D83cXTHg4XQPx+2FiGwMtA/MMdqFazIzz/F+GB8fjfPPzbgrrM7s84/Dfgm6x48zj9U6gpJgdHNP1h5l8tkcc0/eNwjRvAZzT93DqZa/cjMPw40s9snfMw/HUG1cpwyzD/Fo1SwIuvLP5TnRZx2pss/z/KTC8Nlyz+aC3KaDCvLP7DOn6up+co/6A4ui73Uyj8D1j7is7/KPx21w6I+vso/zWO67GXTyj83ne0whAHLPyt78dTSScs/g7eYA1Gsyz/U74qZDSjMPzbbGnlWusw/pHV6wLZfzT/LUTKGFBTOP+Cso18f084/fecJXseXzz+1lYkLCy/QPx71YjpkkdA/wNraDpvx0D+8M3o+vU7RP/wOFaMgqNE/Dv7VI0b90T/LsWkExE3SPwZc0SqDmNI/AKB0Qbvc0j8+GWQH/hjTPzsolnC1S9M/9wy2Al5z0z9HOoOchY7TP7/MjWhCnNM/0vuhBV2c0z+eMdBwUY/TP4/5BkxndtM/HEa1TqlT0z8MvACiQynTP8wF9ma9+dI/YhR1J3LH0j/OU784TJTSPwamBPJeYdI/mnlMf1Uv0j9q3wEtE/7RPwIsmMoozdE/BSn88Cec0T96cQHKp2rRP197fHS+ONE/fVES7yEH0T/f/fvtAtfQP/DGiSddqtA/JMB7OHiD0D8C6Yf4omTQPyrDEgpDUNA/HDgi4fZH0D9LtPkUs0zQP/JFY6ynXtA/6NVJc+d80D80IHPDhqXQP/69XTrj1dA/1CG32MsK0T/3UQ5DdkDRP1QUmZcUc9E/Zbt+Lgaf0T+ymT7v9cDRP2ySbXwC1tE/llokQwvc0T+1nCvjp9HRP5rSKW1/ttE/JB8fM+uK0T8s2Uq/IlDRP95eKoZlCNE/awMaXCe20D9koWbaDV3QP3rdODLeANA/Pt5rzBxMzz9FtVWFaKHOP+GFC+bhCc4/48DbjrKMzT+b+uQm4S/NP/XU0m1v98w/vcTfRSjlzD8XViycWvjMP6N5MPylLs0/sXB8nreCzT8dhQkIuu3NP7fGtRt7Z84/WTodKhTnzj8S9g2F0mPPP/Cc6FE/1c8/mjypYxYa0D8kpPA8dj3QP4S9u1PwUtA/ekbfElBZ0D+vwWsmiFDQP2JhgFM4OdA/flfXasgU0D8YjmFKcsrPPwSfPFD8Wc8/SZJIfZndzj9h/umKtFrOP6fB/Xau1s0/QUAk3lhWzT96U4TbEt7MPwqnfkqhccw/gsR/X70TzD+A+zMB+MbLP6sXEipGjMs/ATXjtrpkyz/6pBDl8VDLP+Qt/FSAi9E/3m/kxI2O0T+2zNQFSJTRPzLbzQAJnNE/touq8CSl0T8aql+gwa7RP5xM8qVVuNE/Zu7b9pLB0T/FduuHisrRP5JwEhrW09E/ew6PwBje0T8AJzuwW+rRP3R6exm++dE/P/liQ8IM0j9QXPtj9CPSPwn95ZAwP9I/gHJYVOhd0j++IUcn/H7SP8R8JhxKodI/Fs11JzvD0j9aST6IMOPSP9A8ZlXK/9I/q06eWt0X0z942lcSpCrTPwp65TxMN9M/pYp3O4c90z8r9gPBCj3TP8ZDvTqyNdM/DDkKzQ0n0z88sGEbfxDTPxIWxrKq8dI/xuGc0gTK0j+UVH/NZpnSP3SEJK3KX9I/hB6zDcod0j/n0o4aFdTRP77R4tVbhNE/FxTnMI8w0T/mOf8By9rQPzdxdMeDhdA/H7YWIbAy0D8wx2oVrMjPP8X4YHx+N88/NuCuszuzzj8N+CbrHjzOP1TqCkmB0c0/WHmXy2RxzT943CNG8BnNP3cOplr9yMw/DjSz2yd8zD8dQbVynDLMP8WjVLAi68s/lOdFnHamyz/P8pMLw2XLP5oLcpoMK8s/sM6fq6n5yj/oDi6LvdTKPwPWPuKzv8o/HbXDoj6+yj/NY7rsZdPKPzed7TCEAcs/K3vx1NJJyz+Dt5gDUazLP9TvipkNKMw/NtsaeVa6zD+kdXrAtl/NP8tRMoYUFM4/4KyjXx/Tzj995wlex5fPP7WViQsLL9A/HvViOmSR0D/A2toOm/HQP7wzej69TtE//A4VoyCo0T8O/tUjRv3RP8uxaQTETdI/BlzRKoOY0j8AoHRBu9zSPz4ZZAf+GNM/OyiWcLVL0z/3DLYCXnPTP0c6g5yFjtM/v8yNaEKc0z/S+6EFXZzTP54x0HBRj9M/j/kGTGd20z8cRrVOqVPTPwy8AKJDKdM/zAX2Zr350j9iFHUncsfSP85TvzhMlNI/BqYE8l5h0j+aeUx/VS/SP2rfAS0T/tE/AiyYyijN0T8FKfzwJ5zRP3pxAcqnatE/X3t8dL440T99URLvIQfRP9/9++0C19A/8MaJJ12q0D8kwHs4eIPQPwLph/iiZNA/KsMSCkNQ0D8cOCLh9kfQP0u0+RSzTNA/8kVjrKde0D/o1Ulz53zQPzQgc8OGpdA//r1dOuPV0D/UIbfYywrRP/dRDkN2QNE/VBSZlxRz0T9lu34uBp/RP7KZPu/1wNE/bJJtfALW0T+WWiRDC9zRP7WcK+On0dE/mtIpbX+20T8kHx8z64rRPyzZSr8iUNE/3l4qhmUI0T9rAxpcJ7bQP2ShZtoNXdA/et04Mt4A0D8+3mvMHEzPP0W1VYVooc4/4YUL5uEJzj/jwNuOsozNP5v65CbhL80/9dTSbW/3zD+9xN9FKOXMPxdWLJxa+Mw/o3kw/KUuzT+xcHyet4LNPx2FCQi67c0/t8a1G3tnzj9ZOh0qFOfOPxL2DYXSY88/8JzoUT/Vzz+aPKljFhrQPySk8Dx2PdA/hL27U/BS0D96Rt8SUFnQP6/BayaIUNA/YmGAUzg50D9+V9dqyBTQPxiOYUpyys8/BJ88UPxZzz9Jkkh9md3OP2H+6Yq0Ws4/p8H9dq7WzT9BQCTeWFbNP3pThNsS3sw/Cqd+SqFxzD+CxH9fvRPMP4D7MwH4xss/qxcSKkaMyz8BNeO2umTLP/qkEOXxUMs/",
            "dtype": "f8"
           },
           "yaxis": "y"
          },
          {
           "hovertemplate": "treatment=mpfc<br>sigma=7<br>trial_idx=%{x}<br>efs_smooth=%{y}<extra></extra>",
           "legendgroup": "mpfc",
           "line": {
            "color": "#2ca02c",
            "dash": "solid"
           },
           "marker": {
            "symbol": "circle"
           },
           "mode": "lines",
           "name": "mpfc",
           "orientation": "v",
           "showlegend": true,
           "type": "scatter",
           "x": {
            "bdata": "AQAAAAIAAAADAAAABAAAAAUAAAAGAAAABwAAAAgAAAAJAAAACgAAAAsAAAAMAAAADQAAAA4AAAAPAAAAEAAAABEAAAASAAAAEwAAABQAAAAVAAAAFgAAABcAAAAYAAAAGQAAABoAAAAbAAAAHAAAAB0AAAAeAAAAHwAAACAAAAAhAAAAIgAAACMAAAAkAAAAJQAAACYAAAAnAAAAKAAAACkAAAAqAAAAKwAAACwAAAAtAAAALgAAAC8AAAAwAAAAMQAAADIAAAAzAAAANAAAADUAAAA2AAAANwAAADgAAAA5AAAAOgAAADsAAAA8AAAAPQAAAD4AAAA/AAAAQAAAAEEAAABCAAAAQwAAAEQAAABFAAAARgAAAEcAAABIAAAASQAAAEoAAABLAAAATAAAAE0AAABOAAAATwAAAFAAAABRAAAAUgAAAFMAAABUAAAAVQAAAFYAAABXAAAAWAAAAFkAAABaAAAAWwAAAFwAAABdAAAAXgAAAF8AAABgAAAAYQAAAGIAAABjAAAAZAAAAGUAAABmAAAAZwAAAGgAAABpAAAAagAAAGsAAABsAAAAbQAAAG4AAABvAAAAcAAAAHEAAAByAAAAcwAAAHQAAAB1AAAAdgAAAHcAAAB4AAAAeQAAAHoAAAB7AAAAfAAAAH0AAAB+AAAAfwAAAIAAAACBAAAAggAAAIMAAACEAAAAhQAAAIYAAACHAAAAiAAAAIkAAACKAAAAiwAAAIwAAACNAAAAjgAAAI8AAACQAAAAkQAAAJIAAACTAAAAlAAAAJUAAACWAAAAlwAAAJgAAACZAAAAmgAAAJsAAACcAAAAnQAAAJ4AAACfAAAAoAAAAAEAAAACAAAAAwAAAAQAAAAFAAAABgAAAAcAAAAIAAAACQAAAAoAAAALAAAADAAAAA0AAAAOAAAADwAAABAAAAARAAAAEgAAABMAAAAUAAAAFQAAABYAAAAXAAAAGAAAABkAAAAaAAAAGwAAABwAAAAdAAAAHgAAAB8AAAAgAAAAIQAAACIAAAAjAAAAJAAAACUAAAAmAAAAJwAAACgAAAApAAAAKgAAACsAAAAsAAAALQAAAC4AAAAvAAAAMAAAADEAAAAyAAAAMwAAADQAAAA1AAAANgAAADcAAAA4AAAAOQAAADoAAAA7AAAAPAAAAD0AAAA+AAAAPwAAAEAAAABBAAAAQgAAAEMAAABEAAAARQAAAEYAAABHAAAASAAAAEkAAABKAAAASwAAAEwAAABNAAAATgAAAE8AAABQAAAAUQAAAFIAAABTAAAAVAAAAFUAAABWAAAAVwAAAFgAAABZAAAAWgAAAFsAAABcAAAAXQAAAF4AAABfAAAAYAAAAGEAAABiAAAAYwAAAGQAAABlAAAAZgAAAGcAAABoAAAAaQAAAGoAAABrAAAAbAAAAG0AAABuAAAAbwAAAHAAAABxAAAAcgAAAHMAAAB0AAAAdQAAAHYAAAB3AAAAeAAAAHkAAAB6AAAAewAAAHwAAAB9AAAAfgAAAH8AAACAAAAAgQAAAIIAAACDAAAAhAAAAIUAAACGAAAAhwAAAIgAAACJAAAAigAAAIsAAACMAAAAjQAAAI4AAACPAAAAkAAAAJEAAACSAAAAkwAAAJQAAACVAAAAlgAAAJcAAACYAAAAmQAAAJoAAACbAAAAnAAAAJ0AAACeAAAAnwAAAKAAAAABAAAAAgAAAAMAAAAEAAAABQAAAAYAAAAHAAAACAAAAAkAAAAKAAAACwAAAAwAAAANAAAADgAAAA8AAAAQAAAAEQAAABIAAAATAAAAFAAAABUAAAAWAAAAFwAAABgAAAAZAAAAGgAAABsAAAAcAAAAHQAAAB4AAAAfAAAAIAAAACEAAAAiAAAAIwAAACQAAAAlAAAAJgAAACcAAAAoAAAAKQAAACoAAAArAAAALAAAAC0AAAAuAAAALwAAADAAAAAxAAAAMgAAADMAAAA0AAAANQAAADYAAAA3AAAAOAAAADkAAAA6AAAAOwAAADwAAAA9AAAAPgAAAD8AAABAAAAAQQAAAEIAAABDAAAARAAAAEUAAABGAAAARwAAAEgAAABJAAAASgAAAEsAAABMAAAATQAAAE4AAABPAAAAUAAAAFEAAABSAAAAUwAAAFQAAABVAAAAVgAAAFcAAABYAAAAWQAAAFoAAABbAAAAXAAAAF0AAABeAAAAXwAAAGAAAABhAAAAYgAAAGMAAABkAAAAZQAAAGYAAABnAAAAaAAAAGkAAABqAAAAawAAAGwAAABtAAAAbgAAAG8AAABwAAAAcQAAAHIAAABzAAAAdAAAAHUAAAB2AAAAdwAAAHgAAAB5AAAAegAAAHsAAAB8AAAAfQAAAH4AAAB/AAAAgAAAAIEAAACCAAAAgwAAAIQAAACFAAAAhgAAAIcAAACIAAAAiQAAAIoAAACLAAAAjAAAAI0AAACOAAAAjwAAAJAAAACRAAAAkgAAAJMAAACUAAAAlQAAAJYAAACXAAAAmAAAAJkAAACaAAAAmwAAAJwAAACdAAAAngAAAJ8AAACgAAAAAQAAAAIAAAADAAAABAAAAAUAAAAGAAAABwAAAAgAAAAJAAAACgAAAAsAAAAMAAAADQAAAA4AAAAPAAAAEAAAABEAAAASAAAAEwAAABQAAAAVAAAAFgAAABcAAAAYAAAAGQAAABoAAAAbAAAAHAAAAB0AAAAeAAAAHwAAACAAAAAhAAAAIgAAACMAAAAkAAAAJQAAACYAAAAnAAAAKAAAACkAAAAqAAAAKwAAACwAAAAtAAAALgAAAC8AAAAwAAAAMQAAADIAAAAzAAAANAAAADUAAAA2AAAANwAAADgAAAA5AAAAOgAAADsAAAA8AAAAPQAAAD4AAAA/AAAAQAAAAEEAAABCAAAAQwAAAEQAAABFAAAARgAAAEcAAABIAAAASQAAAEoAAABLAAAATAAAAE0AAABOAAAATwAAAFAAAABRAAAAUgAAAFMAAABUAAAAVQAAAFYAAABXAAAAWAAAAFkAAABaAAAAWwAAAFwAAABdAAAAXgAAAF8AAABgAAAAYQAAAGIAAABjAAAAZAAAAGUAAABmAAAAZwAAAGgAAABpAAAAagAAAGsAAABsAAAAbQAAAG4AAABvAAAAcAAAAHEAAAByAAAAcwAAAHQAAAB1AAAAdgAAAHcAAAB4AAAAeQAAAHoAAAB7AAAAfAAAAH0AAAB+AAAAfwAAAIAAAACBAAAAggAAAIMAAACEAAAAhQAAAIYAAACHAAAAiAAAAIkAAACKAAAAiwAAAIwAAACNAAAAjgAAAI8AAACQAAAAkQAAAJIAAACTAAAAlAAAAJUAAACWAAAAlwAAAJgAAACZAAAAmgAAAJsAAACcAAAAnQAAAJ4AAACfAAAAoAAAAAEAAAACAAAAAwAAAAQAAAAFAAAABgAAAAcAAAAIAAAACQAAAAoAAAALAAAADAAAAA0AAAAOAAAADwAAABAAAAARAAAAEgAAABMAAAAUAAAAFQAAABYAAAAXAAAAGAAAABkAAAAaAAAAGwAAABwAAAAdAAAAHgAAAB8AAAAgAAAAIQAAACIAAAAjAAAAJAAAACUAAAAmAAAAJwAAACgAAAApAAAAKgAAACsAAAAsAAAALQAAAC4AAAAvAAAAMAAAADEAAAAyAAAAMwAAADQAAAA1AAAANgAAADcAAAA4AAAAOQAAADoAAAA7AAAAPAAAAD0AAAA+AAAAPwAAAEAAAABBAAAAQgAAAEMAAABEAAAARQAAAEYAAABHAAAASAAAAEkAAABKAAAASwAAAEwAAABNAAAATgAAAE8AAABQAAAAUQAAAFIAAABTAAAAVAAAAFUAAABWAAAAVwAAAFgAAABZAAAAWgAAAFsAAABcAAAAXQAAAF4AAABfAAAAYAAAAGEAAABiAAAAYwAAAGQAAABlAAAAZgAAAGcAAABoAAAAaQAAAGoAAABrAAAAbAAAAG0AAABuAAAAbwAAAHAAAABxAAAAcgAAAHMAAAB0AAAAdQAAAHYAAAB3AAAAeAAAAHkAAAB6AAAAewAAAHwAAAB9AAAAfgAAAH8AAACAAAAAgQAAAIIAAACDAAAAhAAAAIUAAACGAAAAhwAAAIgAAACJAAAAigAAAIsAAACMAAAAjQAAAI4AAACPAAAAkAAAAJEAAACSAAAAkwAAAJQAAACVAAAAlgAAAJcAAACYAAAAmQAAAJoAAACbAAAAnAAAAJ0AAACeAAAAnwAAAKAAAAABAAAAAgAAAAMAAAAEAAAABQAAAAYAAAAHAAAACAAAAAkAAAAKAAAACwAAAAwAAAANAAAADgAAAA8AAAAQAAAAEQAAABIAAAATAAAAFAAAABUAAAAWAAAAFwAAABgAAAAZAAAAGgAAABsAAAAcAAAAHQAAAB4AAAAfAAAAIAAAACEAAAAiAAAAIwAAACQAAAAlAAAAJgAAACcAAAAoAAAAKQAAACoAAAArAAAALAAAAC0AAAAuAAAALwAAADAAAAAxAAAAMgAAADMAAAA0AAAANQAAADYAAAA3AAAAOAAAADkAAAA6AAAAOwAAADwAAAA9AAAAPgAAAD8AAABAAAAAQQAAAEIAAABDAAAARAAAAEUAAABGAAAARwAAAEgAAABJAAAASgAAAEsAAABMAAAATQAAAE4AAABPAAAAUAAAAFEAAABSAAAAUwAAAFQAAABVAAAAVgAAAFcAAABYAAAAWQAAAFoAAABbAAAAXAAAAF0AAABeAAAAXwAAAGAAAABhAAAAYgAAAGMAAABkAAAAZQAAAGYAAABnAAAAaAAAAGkAAABqAAAAawAAAGwAAABtAAAAbgAAAG8AAABwAAAAcQAAAHIAAABzAAAAdAAAAHUAAAB2AAAAdwAAAHgAAAB5AAAAegAAAHsAAAB8AAAAfQAAAH4AAAB/AAAAgAAAAIEAAACCAAAAgwAAAIQAAACFAAAAhgAAAIcAAACIAAAAiQAAAIoAAACLAAAAjAAAAI0AAACOAAAAjwAAAJAAAACRAAAAkgAAAJMAAACUAAAAlQAAAJYAAACXAAAAmAAAAJkAAACaAAAAmwAAAJwAAACdAAAAngAAAJ8AAACgAAAA",
            "dtype": "u4"
           },
           "xaxis": "x",
           "y": {
            "bdata": "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",
            "dtype": "f8"
           },
           "yaxis": "y"
          }
         ],
         "name": "7"
        },
        {
         "data": [
          {
           "hovertemplate": "treatment=sham<br>sigma=8<br>trial_idx=%{x}<br>efs_smooth=%{y}<extra></extra>",
           "legendgroup": "sham",
           "line": {
            "color": "#1f77b4",
            "dash": "solid"
           },
           "marker": {
            "symbol": "circle"
           },
           "mode": "lines",
           "name": "sham",
           "orientation": "v",
           "showlegend": true,
           "type": "scatter",
           "x": {
            "bdata": "AQAAAAIAAAADAAAABAAAAAUAAAAGAAAABwAAAAgAAAAJAAAACgAAAAsAAAAMAAAADQAAAA4AAAAPAAAAEAAAABEAAAASAAAAEwAAABQAAAAVAAAAFgAAABcAAAAYAAAAGQAAABoAAAAbAAAAHAAAAB0AAAAeAAAAHwAAACAAAAAhAAAAIgAAACMAAAAkAAAAJQAAACYAAAAnAAAAKAAAACkAAAAqAAAAKwAAACwAAAAtAAAALgAAAC8AAAAwAAAAMQAAADIAAAAzAAAANAAAADUAAAA2AAAANwAAADgAAAA5AAAAOgAAADsAAAA8AAAAPQAAAD4AAAA/AAAAQAAAAEEAAABCAAAAQwAAAEQAAABFAAAARgAAAEcAAABIAAAASQAAAEoAAABLAAAATAAAAE0AAABOAAAATwAAAFAAAABRAAAAUgAAAFMAAABUAAAAVQAAAFYAAABXAAAAWAAAAFkAAABaAAAAWwAAAFwAAABdAAAAXgAAAF8AAABgAAAAYQAAAGIAAABjAAAAZAAAAGUAAABmAAAAZwAAAGgAAABpAAAAagAAAGsAAABsAAAAbQAAAG4AAABvAAAAcAAAAHEAAAByAAAAcwAAAHQAAAB1AAAAdgAAAHcAAAB4AAAAeQAAAHoAAAB7AAAAfAAAAH0AAAB+AAAAfwAAAIAAAACBAAAAggAAAIMAAACEAAAAhQAAAIYAAACHAAAAiAAAAIkAAACKAAAAiwAAAIwAAACNAAAAjgAAAI8AAACQAAAAkQAAAJIAAACTAAAAlAAAAJUAAACWAAAAlwAAAJgAAACZAAAAmgAAAJsAAACcAAAAnQAAAJ4AAACfAAAAoAAAAAEAAAACAAAAAwAAAAQAAAAFAAAABgAAAAcAAAAIAAAACQAAAAoAAAALAAAADAAAAA0AAAAOAAAADwAAABAAAAARAAAAEgAAABMAAAAUAAAAFQAAABYAAAAXAAAAGAAAABkAAAAaAAAAGwAAABwAAAAdAAAAHgAAAB8AAAAgAAAAIQAAACIAAAAjAAAAJAAAACUAAAAmAAAAJwAAACgAAAApAAAAKgAAACsAAAAsAAAALQAAAC4AAAAvAAAAMAAAADEAAAAyAAAAMwAAADQAAAA1AAAANgAAADcAAAA4AAAAOQAAADoAAAA7AAAAPAAAAD0AAAA+AAAAPwAAAEAAAABBAAAAQgAAAEMAAABEAAAARQAAAEYAAABHAAAASAAAAEkAAABKAAAASwAAAEwAAABNAAAATgAAAE8AAABQAAAAUQAAAFIAAABTAAAAVAAAAFUAAABWAAAAVwAAAFgAAABZAAAAWgAAAFsAAABcAAAAXQAAAF4AAABfAAAAYAAAAGEAAABiAAAAYwAAAGQAAABlAAAAZgAAAGcAAABoAAAAaQAAAGoAAABrAAAAbAAAAG0AAABuAAAAbwAAAHAAAABxAAAAcgAAAHMAAAB0AAAAdQAAAHYAAAB3AAAAeAAAAHkAAAB6AAAAewAAAHwAAAB9AAAAfgAAAH8AAACAAAAAgQAAAIIAAACDAAAAhAAAAIUAAACGAAAAhwAAAIgAAACJAAAAigAAAIsAAACMAAAAjQAAAI4AAACPAAAAkAAAAJEAAACSAAAAkwAAAJQAAACVAAAAlgAAAJcAAACYAAAAmQAAAJoAAACbAAAAnAAAAJ0AAACeAAAAnwAAAKAAAAABAAAAAgAAAAMAAAAEAAAABQAAAAYAAAAHAAAACAAAAAkAAAAKAAAACwAAAAwAAAANAAAADgAAAA8AAAAQAAAAEQAAABIAAAATAAAAFAAAABUAAAAWAAAAFwAAABgAAAAZAAAAGgAAABsAAAAcAAAAHQAAAB4AAAAfAAAAIAAAACEAAAAiAAAAIwAAACQAAAAlAAAAJgAAACcAAAAoAAAAKQAAACoAAAArAAAALAAAAC0AAAAuAAAALwAAADAAAAAxAAAAMgAAADMAAAA0AAAANQAAADYAAAA3AAAAOAAAADkAAAA6AAAAOwAAADwAAAA9AAAAPgAAAD8AAABAAAAAQQAAAEIAAABDAAAARAAAAEUAAABGAAAARwAAAEgAAABJAAAASgAAAEsAAABMAAAATQAAAE4AAABPAAAAUAAAAFEAAABSAAAAUwAAAFQAAABVAAAAVgAAAFcAAABYAAAAWQAAAFoAAABbAAAAXAAAAF0AAABeAAAAXwAAAGAAAABhAAAAYgAAAGMAAABkAAAAZQAAAGYAAABnAAAAaAAAAGkAAABqAAAAawAAAGwAAABtAAAAbgAAAG8AAABwAAAAcQAAAHIAAABzAAAAdAAAAHUAAAB2AAAAdwAAAHgAAAB5AAAAegAAAHsAAAB8AAAAfQAAAH4AAAB/AAAAgAAAAIEAAACCAAAAgwAAAIQAAACFAAAAhgAAAIcAAACIAAAAiQAAAIoAAACLAAAAjAAAAI0AAACOAAAAjwAAAJAAAACRAAAAkgAAAJMAAACUAAAAlQAAAJYAAACXAAAAmAAAAJkAAACaAAAAmwAAAJwAAACdAAAAngAAAJ8AAACgAAAAAQAAAAIAAAADAAAABAAAAAUAAAAGAAAABwAAAAgAAAAJAAAACgAAAAsAAAAMAAAADQAAAA4AAAAPAAAAEAAAABEAAAASAAAAEwAAABQAAAAVAAAAFgAAABcAAAAYAAAAGQAAABoAAAAbAAAAHAAAAB0AAAAeAAAAHwAAACAAAAAhAAAAIgAAACMAAAAkAAAAJQAAACYAAAAnAAAAKAAAACkAAAAqAAAAKwAAACwAAAAtAAAALgAAAC8AAAAwAAAAMQAAADIAAAAzAAAANAAAADUAAAA2AAAANwAAADgAAAA5AAAAOgAAADsAAAA8AAAAPQAAAD4AAAA/AAAAQAAAAEEAAABCAAAAQwAAAEQAAABFAAAARgAAAEcAAABIAAAASQAAAEoAAABLAAAATAAAAE0AAABOAAAATwAAAFAAAABRAAAAUgAAAFMAAABUAAAAVQAAAFYAAABXAAAAWAAAAFkAAABaAAAAWwAAAFwAAABdAAAAXgAAAF8AAABgAAAAYQAAAGIAAABjAAAAZAAAAGUAAABmAAAAZwAAAGgAAABpAAAAagAAAGsAAABsAAAAbQAAAG4AAABvAAAAcAAAAHEAAAByAAAAcwAAAHQAAAB1AAAAdgAAAHcAAAB4AAAAeQAAAHoAAAB7AAAAfAAAAH0AAAB+AAAAfwAAAIAAAACBAAAAggAAAIMAAACEAAAAhQAAAIYAAACHAAAAiAAAAIkAAACKAAAAiwAAAIwAAACNAAAAjgAAAI8AAACQAAAAkQAAAJIAAACTAAAAlAAAAJUAAACWAAAAlwAAAJgAAACZAAAAmgAAAJsAAACcAAAAnQAAAJ4AAACfAAAAoAAAAAEAAAACAAAAAwAAAAQAAAAFAAAABgAAAAcAAAAIAAAACQAAAAoAAAALAAAADAAAAA0AAAAOAAAADwAAABAAAAARAAAAEgAAABMAAAAUAAAAFQAAABYAAAAXAAAAGAAAABkAAAAaAAAAGwAAABwAAAAdAAAAHgAAAB8AAAAgAAAAIQAAACIAAAAjAAAAJAAAACUAAAAmAAAAJwAAACgAAAApAAAAKgAAACsAAAAsAAAALQAAAC4AAAAvAAAAMAAAADEAAAAyAAAAMwAAADQAAAA1AAAANgAAADcAAAA4AAAAOQAAADoAAAA7AAAAPAAAAD0AAAA+AAAAPwAAAEAAAABBAAAAQgAAAEMAAABEAAAARQAAAEYAAABHAAAASAAAAEkAAABKAAAASwAAAEwAAABNAAAATgAAAE8AAABQAAAAUQAAAFIAAABTAAAAVAAAAFUAAABWAAAAVwAAAFgAAABZAAAAWgAAAFsAAABcAAAAXQAAAF4AAABfAAAAYAAAAGEAAABiAAAAYwAAAGQAAABlAAAAZgAAAGcAAABoAAAAaQAAAGoAAABrAAAAbAAAAG0AAABuAAAAbwAAAHAAAABxAAAAcgAAAHMAAAB0AAAAdQAAAHYAAAB3AAAAeAAAAHkAAAB6AAAAewAAAHwAAAB9AAAAfgAAAH8AAACAAAAAgQAAAIIAAACDAAAAhAAAAIUAAACGAAAAhwAAAIgAAACJAAAAigAAAIsAAACMAAAAjQAAAI4AAACPAAAAkAAAAJEAAACSAAAAkwAAAJQAAACVAAAAlgAAAJcAAACYAAAAmQAAAJoAAACbAAAAnAAAAJ0AAACeAAAAnwAAAKAAAAA=",
            "dtype": "u4"
           },
           "xaxis": "x",
           "y": {
            "bdata": "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",
            "dtype": "f8"
           },
           "yaxis": "y"
          },
          {
           "hovertemplate": "treatment=ofc<br>sigma=8<br>trial_idx=%{x}<br>efs_smooth=%{y}<extra></extra>",
           "legendgroup": "ofc",
           "line": {
            "color": "#ff7f0e",
            "dash": "solid"
           },
           "marker": {
            "symbol": "circle"
           },
           "mode": "lines",
           "name": "ofc",
           "orientation": "v",
           "showlegend": true,
           "type": "scatter",
           "x": {
            "bdata": "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",
            "dtype": "u4"
           },
           "xaxis": "x",
           "y": {
            "bdata": "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",
            "dtype": "f8"
           },
           "yaxis": "y"
          },
          {
           "hovertemplate": "treatment=mpfc<br>sigma=8<br>trial_idx=%{x}<br>efs_smooth=%{y}<extra></extra>",
           "legendgroup": "mpfc",
           "line": {
            "color": "#2ca02c",
            "dash": "solid"
           },
           "marker": {
            "symbol": "circle"
           },
           "mode": "lines",
           "name": "mpfc",
           "orientation": "v",
           "showlegend": true,
           "type": "scatter",
           "x": {
            "bdata": "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",
            "dtype": "u4"
           },
           "xaxis": "x",
           "y": {
            "bdata": "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",
            "dtype": "f8"
           },
           "yaxis": "y"
          }
         ],
         "name": "8"
        },
        {
         "data": [
          {
           "hovertemplate": "treatment=sham<br>sigma=9<br>trial_idx=%{x}<br>efs_smooth=%{y}<extra></extra>",
           "legendgroup": "sham",
           "line": {
            "color": "#1f77b4",
            "dash": "solid"
           },
           "marker": {
            "symbol": "circle"
           },
           "mode": "lines",
           "name": "sham",
           "orientation": "v",
           "showlegend": true,
           "type": "scatter",
           "x": {
            "bdata": "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",
            "dtype": "u4"
           },
           "xaxis": "x",
           "y": {
            "bdata": "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",
            "dtype": "f8"
           },
           "yaxis": "y"
          },
          {
           "hovertemplate": "treatment=ofc<br>sigma=9<br>trial_idx=%{x}<br>efs_smooth=%{y}<extra></extra>",
           "legendgroup": "ofc",
           "line": {
            "color": "#ff7f0e",
            "dash": "solid"
           },
           "marker": {
            "symbol": "circle"
           },
           "mode": "lines",
           "name": "ofc",
           "orientation": "v",
           "showlegend": true,
           "type": "scatter",
           "x": {
            "bdata": "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",
            "dtype": "u4"
           },
           "xaxis": "x",
           "y": {
            "bdata": "q1XVQHOp0T/Kq+1S/arRP1i29GbzrdE/QzOEH0yy0T//i8jPPbjRP41e8RmSv9E/TIGQNnDI0T/Yp4puutLRP3F8rEV+3tE/i0vJ3L3r0T+vymR2afrRP2woG7aYCtI/XMYeMSEc0j9dPne1yy7SP04yPJ6LQtI/CgGUthlX0j+UXIYA4WvSP0MTYQqegNI/HhFgpaiU0j+ke2PZfKfSP2zQDlyZuNI/bagefBrH0j863x22dtLSP9xd1r4W2tI/JvbQVETd0j/QWeRtatvSPyw3Nbpk1NI/TqKGT3zH0j+uMXUgq7TSP8HGLjvJm9I/hhh/gMd80j+berJu3VfSP4pSvCo9LdI/otwuwk790T9mBtkLsMjRP3+gRGowkNE/7SQ4kltU0T8vSZAnFxbRP+nf62Em1tA/Arh0mFeV0D957xnOqFTQP7qEbPPMFNA/QYt/Gxytzz+iJJeBlTTPP/uiiWNtwc4/5/1iTAlUzj/gQvI8Mu3NP3jtdXW8jc0/XkFbzZQ1zT/dfonEeuXMPwBz31DBncw/knCMpeVezD9dJh/zuSnMPwl4dork/ss/8sd+ODbfyz/E066bwMvLPxpZHPR0xcs/MUoJIiXNyz+GRW9rxePLP0UqNszOCcw/k1ZG/Ck/zD8520rNZoTMP4gpcGWz2Mw/t5bxkM07zT83VDifPKzNP7g62nqnKM4/EFEx9Gavzj9ANmz0vj7PP16l3m841M8/l47j5NY20D+2muE7aYTQP21R7I7B0dA/wARp1MAd0T9SgJ5kFWfRP/UlpHzXrNE/g0SXbhDu0T/CexrP0CnSP2f8x/9AX9I/4ixMSMSN0j8DZm5sq7TSP3BFc5qw09I/qKhbD4bq0j9KAaDEPvnSP9esBR/o/9I/S7f9NZ7+0j93U4GSEfbSP+hJnrKt5tI/T/KCBynR0j+gn9i/QbbSP1xyh5zkltI/G6gD+txz0j+d7Zyd/03SP6rT5yc6JtI/IAgEoEn90T/wyHOKJtTRP+NN+P2Oq9E/dIkAh06E0T97rIdQNF/RP/NUGD0PPdE/RXqW2I4e0T93eewLUQTRP+mGZMPw7tA/E0p/S8be0D/3fcScMNTQP/vuUr4zz9A/0sdeLpLP0D9UbhWS4NTQPxEHpDRX3tA/R2u2mwzr0D95VwV23PnQP0KpqhhyCdE/FKJIMXoY0T8r5vUNaCXRP9anH1L2LtE/MWX11LAz0T826KkujjLRP4GpsCfWKtE/azrzb/sb0T+wSoKjHQbRP6ZIlCBZ6dA/5QLu+lrG0D8zHhpVI57QP4nkts4XctA/eZAvVKBD0D9Tbb0HZhTQP/xP8/5PzM8/V5wv6DB1zz96wo5InibPP6csmPEr484/70x07xCtzj9yabFZc4XOP5apZ0Uhbc4/lm1qbc1jzj9zsL9S0WjOP9swMf9ies4/uy1HG92Vzj/e5CYWY7jOP81dwt/43s4/P2oEvSMGzz+u3JMe0irPP5oPK1C4Sc8/4BCyDJtgzz8vW8YaSm3PPxKk0mAcbs8/aivkfD9izz86sUX+aknPP498lsp+JM8/ULchIjn0zj+heYe4grrOP00V4ZQuec4/u+QrEo8yzj9B/mIHbenNP5DMb9NRoM0/ZeZu26tZzT+Hl/HJDhjNP9K3QQOk3cw/qS/KvWSszD+XxgCBGobMP3WaE2rka8w/DMrbqpVezD+rVdVAc6nRP8qr7VL9qtE/WLb0ZvOt0T9DM4QfTLLRP/+LyM89uNE/jV7xGZK/0T9MgZA2cMjRP9inim660tE/cXysRX7e0T+LS8ncvevRP6/KZHZp+tE/bCgbtpgK0j9cxh4xIRzSP10+d7XLLtI/TjI8notC0j8KAZS2GVfSP5RchgDha9I/QxNhCp6A0j8eEWClqJTSP6R7Y9l8p9I/bNAOXJm40j9tqB58GsfSPzrfHbZ20tI/3F3Wvhba0j8m9tBURN3SP9BZ5G1q29I/LDc1umTU0j9OooZPfMfSP64xdSCrtNI/wcYuO8mb0j+GGH+Ax3zSP5t6sm7dV9I/ilK8Kj0t0j+i3C7CTv3RP2YG2QuwyNE/f6BEajCQ0T/tJDiSW1TRPy9JkCcXFtE/6d/rYSbW0D8CuHSYV5XQP3nvGc6oVNA/uoRs88wU0D9Bi38bHK3PP6Ikl4GVNM8/+6KJY23Bzj/n/WJMCVTOP+BC8jwy7c0/eO11dbyNzT9eQVvNlDXNP91+icR65cw/AHPfUMGdzD+ScIyl5V7MP10mH/O5Kcw/CXh2iuT+yz/yx344Nt/LP8TTrpvAy8s/Glkc9HTFyz8xSgkiJc3LP4ZFb2vF48s/RSo2zM4JzD+TVkb8KT/MPznbSs1mhMw/iClwZbPYzD+3lvGQzTvNPzdUOJ88rM0/uDraeqcozj8QUTH0Zq/OP0A2bPS+Ps8/XqXebzjUzz+XjuPk1jbQP7aa4TtphNA/bVHsjsHR0D/ABGnUwB3RP1KAnmQVZ9E/9SWkfNes0T+DRJduEO7RP8J7Gs/QKdI/Z/zH/0Bf0j/iLExIxI3SPwNmbmyrtNI/cEVzmrDT0j+oqFsPhurSP0oBoMQ++dI/16wFH+j/0j9Lt/01nv7SP3dTgZIR9tI/6Emesq3m0j9P8oIHKdHSP6Cf2L9BttI/XHKHnOSW0j8bqAP63HPSP53tnJ3/TdI/qtPnJzom0j8gCASgSf3RP/DIc4om1NE/4034/Y6r0T90iQCHToTRP3ush1A0X9E/81QYPQ890T9FepbYjh7RP3d57AtRBNE/6YZkw/Du0D8TSn9Lxt7QP/d9xJww1NA/++5SvjPP0D/Sx14uks/QP1RuFZLg1NA/EQekNFfe0D9Ha7abDOvQP3lXBXbc+dA/QqmqGHIJ0T8UokgxehjRPyvm9Q1oJdE/1qcfUvYu0T8xZfXUsDPRPzboqS6OMtE/gamwJ9Yq0T9rOvNv+xvRP7BKgqMdBtE/pkiUIFnp0D/lAu76WsbQPzMeGlUjntA/ieS2zhdy0D95kC9UoEPQP1NtvQdmFNA//E/z/k/Mzz9XnC/oMHXPP3rCjkieJs8/pyyY8Svjzj/vTHTvEK3OP3JpsVlzhc4/lqlnRSFtzj+WbWptzWPOP3Owv1LRaM4/2zAx/2J6zj+7LUcb3ZXOP97kJhZjuM4/zV3C3/jezj8/agS9IwbPP67ckx7SKs8/mg8rULhJzz/gELIMm2DPPy9bxhpKbc8/EqTSYBxuzz9qK+R8P2LPPzqxRf5qSc8/j3yWyn4kzz9QtyEiOfTOP6F5h7iCus4/TRXhlC55zj+75CsSjzLOP0H+Ygdt6c0/kMxv01GgzT9l5m7bq1nNP4eX8ckOGM0/0rdBA6TdzD+pL8q9ZKzMP5fGAIEahsw/dZoTauRrzD8MytuqlV7MP6tV1UBzqdE/yqvtUv2q0T9YtvRm863RP0MzhB9MstE//4vIzz240T+NXvEZkr/RP0yBkDZwyNE/2KeKbrrS0T9xfKxFft7RP4tLydy969E/r8pkdmn60T9sKBu2mArSP1zGHjEhHNI/XT53tcsu0j9OMjyei0LSPwoBlLYZV9I/lFyGAOFr0j9DE2EKnoDSPx4RYKWolNI/pHtj2Xyn0j9s0A5cmbjSP22oHnwax9I/Ot8dtnbS0j/cXda+FtrSPyb20FRE3dI/0FnkbWrb0j8sNzW6ZNTSP06ihk98x9I/rjF1IKu00j/Bxi47yZvSP4YYf4DHfNI/m3qybt1X0j+KUrwqPS3SP6LcLsJO/dE/ZgbZC7DI0T9/oERqMJDRP+0kOJJbVNE/L0mQJxcW0T/p3+thJtbQPwK4dJhXldA/ee8ZzqhU0D+6hGzzzBTQP0GLfxscrc8/oiSXgZU0zz/7ooljbcHOP+f9YkwJVM4/4ELyPDLtzT947XV1vI3NP15BW82UNc0/3X6JxHrlzD8Ac99QwZ3MP5JwjKXlXsw/XSYf87kpzD8JeHaK5P7LP/LHfjg238s/xNOum8DLyz8aWRz0dMXLPzFKCSIlzcs/hkVva8Xjyz9FKjbMzgnMP5NWRvwpP8w/OdtKzWaEzD+IKXBls9jMP7eW8ZDNO80/N1Q4nzyszT+4Otp6pyjOPxBRMfRmr84/QDZs9L4+zz9epd5vONTPP5eO4+TWNtA/tprhO2mE0D9tUeyOwdHQP8AEadTAHdE/UoCeZBVn0T/1JaR816zRP4NEl24Q7tE/wnsaz9Ap0j9n/Mf/QF/SP+IsTEjEjdI/A2ZubKu00j9wRXOasNPSP6ioWw+G6tI/SgGgxD750j/XrAUf6P/SP0u3/TWe/tI/d1OBkhH20j/oSZ6yrebSP0/yggcp0dI/oJ/Yv0G20j9ccoec5JbSPxuoA/rcc9I/ne2cnf9N0j+q0+cnOibSPyAIBKBJ/dE/8MhziibU0T/jTfj9jqvRP3SJAIdOhNE/e6yHUDRf0T/zVBg9Dz3RP0V6ltiOHtE/d3nsC1EE0T/phmTD8O7QPxNKf0vG3tA/933EnDDU0D/77lK+M8/QP9LHXi6Sz9A/VG4VkuDU0D8RB6Q0V97QP0drtpsM69A/eVcFdtz50D9CqaoYcgnRPxSiSDF6GNE/K+b1DWgl0T/Wpx9S9i7RPzFl9dSwM9E/NuipLo4y0T+BqbAn1irRP2s682/7G9E/sEqCox0G0T+mSJQgWenQP+UC7vpaxtA/Mx4aVSOe0D+J5LbOF3LQP3mQL1SgQ9A/U229B2YU0D/8T/P+T8zPP1ecL+gwdc8/esKOSJ4mzz+nLJjxK+POP+9MdO8Qrc4/cmmxWXOFzj+WqWdFIW3OP5Ztam3NY84/c7C/UtFozj/bMDH/YnrOP7stRxvdlc4/3uQmFmO4zj/NXcLf+N7OPz9qBL0jBs8/rtyTHtIqzz+aDytQuEnPP+AQsgybYM8/L1vGGkptzz8SpNJgHG7PP2or5Hw/Ys8/OrFF/mpJzz+PfJbKfiTPP1C3ISI59M4/oXmHuIK6zj9NFeGULnnOP7vkKxKPMs4/Qf5iB23pzT+QzG/TUaDNP2XmbturWc0/h5fxyQ4YzT/St0EDpN3MP6kvyr1krMw/l8YAgRqGzD91mhNq5GvMPwzK26qVXsw/q1XVQHOp0T/Kq+1S/arRP1i29GbzrdE/QzOEH0yy0T//i8jPPbjRP41e8RmSv9E/TIGQNnDI0T/Yp4puutLRP3F8rEV+3tE/i0vJ3L3r0T+vymR2afrRP2woG7aYCtI/XMYeMSEc0j9dPne1yy7SP04yPJ6LQtI/CgGUthlX0j+UXIYA4WvSP0MTYQqegNI/HhFgpaiU0j+ke2PZfKfSP2zQDlyZuNI/bagefBrH0j863x22dtLSP9xd1r4W2tI/JvbQVETd0j/QWeRtatvSPyw3Nbpk1NI/TqKGT3zH0j+uMXUgq7TSP8HGLjvJm9I/hhh/gMd80j+berJu3VfSP4pSvCo9LdI/otwuwk790T9mBtkLsMjRP3+gRGowkNE/7SQ4kltU0T8vSZAnFxbRP+nf62Em1tA/Arh0mFeV0D957xnOqFTQP7qEbPPMFNA/QYt/Gxytzz+iJJeBlTTPP/uiiWNtwc4/5/1iTAlUzj/gQvI8Mu3NP3jtdXW8jc0/XkFbzZQ1zT/dfonEeuXMPwBz31DBncw/knCMpeVezD9dJh/zuSnMPwl4dork/ss/8sd+ODbfyz/E066bwMvLPxpZHPR0xcs/MUoJIiXNyz+GRW9rxePLP0UqNszOCcw/k1ZG/Ck/zD8520rNZoTMP4gpcGWz2Mw/t5bxkM07zT83VDifPKzNP7g62nqnKM4/EFEx9Gavzj9ANmz0vj7PP16l3m841M8/l47j5NY20D+2muE7aYTQP21R7I7B0dA/wARp1MAd0T9SgJ5kFWfRP/UlpHzXrNE/g0SXbhDu0T/CexrP0CnSP2f8x/9AX9I/4ixMSMSN0j8DZm5sq7TSP3BFc5qw09I/qKhbD4bq0j9KAaDEPvnSP9esBR/o/9I/S7f9NZ7+0j93U4GSEfbSP+hJnrKt5tI/T/KCBynR0j+gn9i/QbbSP1xyh5zkltI/G6gD+txz0j+d7Zyd/03SP6rT5yc6JtI/IAgEoEn90T/wyHOKJtTRP+NN+P2Oq9E/dIkAh06E0T97rIdQNF/RP/NUGD0PPdE/RXqW2I4e0T93eewLUQTRP+mGZMPw7tA/E0p/S8be0D/3fcScMNTQP/vuUr4zz9A/0sdeLpLP0D9UbhWS4NTQPxEHpDRX3tA/R2u2mwzr0D95VwV23PnQP0KpqhhyCdE/FKJIMXoY0T8r5vUNaCXRP9anH1L2LtE/MWX11LAz0T826KkujjLRP4GpsCfWKtE/azrzb/sb0T+wSoKjHQbRP6ZIlCBZ6dA/5QLu+lrG0D8zHhpVI57QP4nkts4XctA/eZAvVKBD0D9Tbb0HZhTQP/xP8/5PzM8/V5wv6DB1zz96wo5InibPP6csmPEr484/70x07xCtzj9yabFZc4XOP5apZ0Uhbc4/lm1qbc1jzj9zsL9S0WjOP9swMf9ies4/uy1HG92Vzj/e5CYWY7jOP81dwt/43s4/P2oEvSMGzz+u3JMe0irPP5oPK1C4Sc8/4BCyDJtgzz8vW8YaSm3PPxKk0mAcbs8/aivkfD9izz86sUX+aknPP498lsp+JM8/ULchIjn0zj+heYe4grrOP00V4ZQuec4/u+QrEo8yzj9B/mIHbenNP5DMb9NRoM0/ZeZu26tZzT+Hl/HJDhjNP9K3QQOk3cw/qS/KvWSszD+XxgCBGobMP3WaE2rka8w/DMrbqpVezD+rVdVAc6nRP8qr7VL9qtE/WLb0ZvOt0T9DM4QfTLLRP/+LyM89uNE/jV7xGZK/0T9MgZA2cMjRP9inim660tE/cXysRX7e0T+LS8ncvevRP6/KZHZp+tE/bCgbtpgK0j9cxh4xIRzSP10+d7XLLtI/TjI8notC0j8KAZS2GVfSP5RchgDha9I/QxNhCp6A0j8eEWClqJTSP6R7Y9l8p9I/bNAOXJm40j9tqB58GsfSPzrfHbZ20tI/3F3Wvhba0j8m9tBURN3SP9BZ5G1q29I/LDc1umTU0j9OooZPfMfSP64xdSCrtNI/wcYuO8mb0j+GGH+Ax3zSP5t6sm7dV9I/ilK8Kj0t0j+i3C7CTv3RP2YG2QuwyNE/f6BEajCQ0T/tJDiSW1TRPy9JkCcXFtE/6d/rYSbW0D8CuHSYV5XQP3nvGc6oVNA/uoRs88wU0D9Bi38bHK3PP6Ikl4GVNM8/+6KJY23Bzj/n/WJMCVTOP+BC8jwy7c0/eO11dbyNzT9eQVvNlDXNP91+icR65cw/AHPfUMGdzD+ScIyl5V7MP10mH/O5Kcw/CXh2iuT+yz/yx344Nt/LP8TTrpvAy8s/Glkc9HTFyz8xSgkiJc3LP4ZFb2vF48s/RSo2zM4JzD+TVkb8KT/MPznbSs1mhMw/iClwZbPYzD+3lvGQzTvNPzdUOJ88rM0/uDraeqcozj8QUTH0Zq/OP0A2bPS+Ps8/XqXebzjUzz+XjuPk1jbQP7aa4TtphNA/bVHsjsHR0D/ABGnUwB3RP1KAnmQVZ9E/9SWkfNes0T+DRJduEO7RP8J7Gs/QKdI/Z/zH/0Bf0j/iLExIxI3SPwNmbmyrtNI/cEVzmrDT0j+oqFsPhurSP0oBoMQ++dI/16wFH+j/0j9Lt/01nv7SP3dTgZIR9tI/6Emesq3m0j9P8oIHKdHSP6Cf2L9BttI/XHKHnOSW0j8bqAP63HPSP53tnJ3/TdI/qtPnJzom0j8gCASgSf3RP/DIc4om1NE/4034/Y6r0T90iQCHToTRP3ush1A0X9E/81QYPQ890T9FepbYjh7RP3d57AtRBNE/6YZkw/Du0D8TSn9Lxt7QP/d9xJww1NA/++5SvjPP0D/Sx14uks/QP1RuFZLg1NA/EQekNFfe0D9Ha7abDOvQP3lXBXbc+dA/QqmqGHIJ0T8UokgxehjRPyvm9Q1oJdE/1qcfUvYu0T8xZfXUsDPRPzboqS6OMtE/gamwJ9Yq0T9rOvNv+xvRP7BKgqMdBtE/pkiUIFnp0D/lAu76WsbQPzMeGlUjntA/ieS2zhdy0D95kC9UoEPQP1NtvQdmFNA//E/z/k/Mzz9XnC/oMHXPP3rCjkieJs8/pyyY8Svjzj/vTHTvEK3OP3JpsVlzhc4/lqlnRSFtzj+WbWptzWPOP3Owv1LRaM4/2zAx/2J6zj+7LUcb3ZXOP97kJhZjuM4/zV3C3/jezj8/agS9IwbPP67ckx7SKs8/mg8rULhJzz/gELIMm2DPPy9bxhpKbc8/EqTSYBxuzz9qK+R8P2LPPzqxRf5qSc8/j3yWyn4kzz9QtyEiOfTOP6F5h7iCus4/TRXhlC55zj+75CsSjzLOP0H+Ygdt6c0/kMxv01GgzT9l5m7bq1nNP4eX8ckOGM0/0rdBA6TdzD+pL8q9ZKzMP5fGAIEahsw/dZoTauRrzD8MytuqlV7MPw==",
            "dtype": "f8"
           },
           "yaxis": "y"
          },
          {
           "hovertemplate": "treatment=mpfc<br>sigma=9<br>trial_idx=%{x}<br>efs_smooth=%{y}<extra></extra>",
           "legendgroup": "mpfc",
           "line": {
            "color": "#2ca02c",
            "dash": "solid"
           },
           "marker": {
            "symbol": "circle"
           },
           "mode": "lines",
           "name": "mpfc",
           "orientation": "v",
           "showlegend": true,
           "type": "scatter",
           "x": {
            "bdata": "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",
            "dtype": "u4"
           },
           "xaxis": "x",
           "y": {
            "bdata": "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",
            "dtype": "f8"
           },
           "yaxis": "y"
          }
         ],
         "name": "9"
        },
        {
         "data": [
          {
           "hovertemplate": "treatment=sham<br>sigma=10<br>trial_idx=%{x}<br>efs_smooth=%{y}<extra></extra>",
           "legendgroup": "sham",
           "line": {
            "color": "#1f77b4",
            "dash": "solid"
           },
           "marker": {
            "symbol": "circle"
           },
           "mode": "lines",
           "name": "sham",
           "orientation": "v",
           "showlegend": true,
           "type": "scatter",
           "x": {
            "bdata": "AQAAAAIAAAADAAAABAAAAAUAAAAGAAAABwAAAAgAAAAJAAAACgAAAAsAAAAMAAAADQAAAA4AAAAPAAAAEAAAABEAAAASAAAAEwAAABQAAAAVAAAAFgAAABcAAAAYAAAAGQAAABoAAAAbAAAAHAAAAB0AAAAeAAAAHwAAACAAAAAhAAAAIgAAACMAAAAkAAAAJQAAACYAAAAnAAAAKAAAACkAAAAqAAAAKwAAACwAAAAtAAAALgAAAC8AAAAwAAAAMQAAADIAAAAzAAAANAAAADUAAAA2AAAANwAAADgAAAA5AAAAOgAAADsAAAA8AAAAPQAAAD4AAAA/AAAAQAAAAEEAAABCAAAAQwAAAEQAAABFAAAARgAAAEcAAABIAAAASQAAAEoAAABLAAAATAAAAE0AAABOAAAATwAAAFAAAABRAAAAUgAAAFMAAABUAAAAVQAAAFYAAABXAAAAWAAAAFkAAABaAAAAWwAAAFwAAABdAAAAXgAAAF8AAABgAAAAYQAAAGIAAABjAAAAZAAAAGUAAABmAAAAZwAAAGgAAABpAAAAagAAAGsAAABsAAAAbQAAAG4AAABvAAAAcAAAAHEAAAByAAAAcwAAAHQAAAB1AAAAdgAAAHcAAAB4AAAAeQAAAHoAAAB7AAAAfAAAAH0AAAB+AAAAfwAAAIAAAACBAAAAggAAAIMAAACEAAAAhQAAAIYAAACHAAAAiAAAAIkAAACKAAAAiwAAAIwAAACNAAAAjgAAAI8AAACQAAAAkQAAAJIAAACTAAAAlAAAAJUAAACWAAAAlwAAAJgAAACZAAAAmgAAAJsAAACcAAAAnQAAAJ4AAACfAAAAoAAAAA==",
            "dtype": "u4"
           },
           "xaxis": "x",
           "y": {
            "bdata": "VVL6f31oyz+Hi/Qhs2HLPw1bMztTVMs/mcL9EjRAyz+UBzihoCXLP7E77lG9BMs/FhE0Gondyj/OWdl5Y7DKP+bu0wWafco/JX/Cqn1Fyj+B6KfrkQjKP6SBB3NHx8k/Mkiebi6CyT9MxHAP7TnJP6itVV5R78g/I7T/xDWjyD8YEZKMg1bIP50/nZYgCsg/ZnX6QES/xz8Gyp2AEXfHP/yX2qtoMsc/ejFfUjbyxj8AOs22erfGP0pxH9MVg8Y/cwYUIcJVxj/209r88y/GP/fXXrAOEsY/hEZFckv8xT+LBrycme7FP27rSLve6MU/7oS2N8TqxT8T/+al3PPFP+Q85pNzA8Y/uGGAUNEYxj8Gwm6eQDPGPxjqVW3tUcY/R6lzueVzxj+OGsBHXJjGP6iD47dfvsY/524TFX7lxj9TK5g/hgzHP6/Bx4uvMsc/u7UX8VRXxz/8gw+egHnHP8IftDgcmcc/Nrbslzm1xz/HEVtyXM3HP1oQ5acp4cc/+50M3kLwxz+vpDMfZPrHP+9LTpuB/8c/NjeG92r/xz/oqWVFTfrHPxiMdH6x8Mc/UMyOP7Xixz/NyNShF9HHP6KDvFw1vMc/QjjfVBelxz9VhzxNfIzHPw6F6DFWc8c/PoRYgMNaxz+aAlFw1EPHP1GAybReL8c/svIip2Yexz8xwi7LzBHHP3LglFJpCsc/ps8L4NsIxz89gQRxnw3HP/vhh7y+GMc/nF5h9FMqxz+yKUY4P0LHPyqynerfX8c/4ftCW4aCxz9rIpnaOKnHPyJ7hYjt0sc/Gt3q9m3+xz/9B5AgTirIP4greRQwVcg/lwMV46l9yD+UWvh8gaLIPwatHCVpwsg/UMdwPKXcyD+kU6uBP/DIP6W3D8jO/Mg/orYqZVgCyT8qS/sfqADJPwn+IP8w+Mg/LzK0RZvpyD8YV4QRmdXIP8qfXQwZvcg/7Hj1tz2hyD/md6zbP4PIP375v+gwZMg/sq+FR2RFyD+5Ev9PwyfIP4VZRc+GDMg/HQrob0H0xz/6ECN33t/HP1hAROrYz8c/QewPq4HExz9Mu99bE77HPybzcFLYvMc/OiHK5pXAxz/OaAnFHsnHPyHD1tca1sc/sWkfhgbnxz86YcCyTPvHP/3NUNoqEsg/2LmKgd0qyD/Bpurrs0TIP2x8PJzLXsg/zScbxm14yD8O4/8Q55DIP+JRluZPp8g/6gI98iS7yD8+P0KT+8vIP/fw/3Ca2cg/pLz1yb3jyD86QeneVOrIP8/6HPRq7cg/rjfksy3tyD9viKokBerIP0b4BENJ5Mg/Bcj5zDjcyD9C6FaPDNLIP/SGS27dxcg/DvdFbuy3yD/90K/3U6jIP0x8uyKDlsg/WRRBmjmCyD+g5xFxAmvIPwW/JZP6T8g/TsEzb4owyD+4PuF68wvIP9b/Yuov4cc/HGmiQ5uvxz/GHj+EPHbHP1b1n3WbNMc/vzctwyTqxj88cdhpu5bGP74IzaMwOsY/1FtsG9DUxT8SfZ5n9mbFP6eE2D1r8cQ/cAvaIHB1xD9+Uyzi2PPDP4nNjFtnbsM/gFbeXJbmwj8ZNQG0TV7CP7wVyvKd18E/63mbRmVUwT9oQzaNsdbAPxzApTbmYMA/KwEY2VDpvz/Tj878BCi/P3QPauwpgb4/Ih/KIaX3vT94cDmlV469P0r8VxXnRr0/XIdIY6oivT8=",
            "dtype": "f8"
           },
           "yaxis": "y"
          },
          {
           "hovertemplate": "treatment=ofc<br>sigma=10<br>trial_idx=%{x}<br>efs_smooth=%{y}<extra></extra>",
           "legendgroup": "ofc",
           "line": {
            "color": "#ff7f0e",
            "dash": "solid"
           },
           "marker": {
            "symbol": "circle"
           },
           "mode": "lines",
           "name": "ofc",
           "orientation": "v",
           "showlegend": true,
           "type": "scatter",
           "x": {
            "bdata": "AQAAAAIAAAADAAAABAAAAAUAAAAGAAAABwAAAAgAAAAJAAAACgAAAAsAAAAMAAAADQAAAA4AAAAPAAAAEAAAABEAAAASAAAAEwAAABQAAAAVAAAAFgAAABcAAAAYAAAAGQAAABoAAAAbAAAAHAAAAB0AAAAeAAAAHwAAACAAAAAhAAAAIgAAACMAAAAkAAAAJQAAACYAAAAnAAAAKAAAACkAAAAqAAAAKwAAACwAAAAtAAAALgAAAC8AAAAwAAAAMQAAADIAAAAzAAAANAAAADUAAAA2AAAANwAAADgAAAA5AAAAOgAAADsAAAA8AAAAPQAAAD4AAAA/AAAAQAAAAEEAAABCAAAAQwAAAEQAAABFAAAARgAAAEcAAABIAAAASQAAAEoAAABLAAAATAAAAE0AAABOAAAATwAAAFAAAABRAAAAUgAAAFMAAABUAAAAVQAAAFYAAABXAAAAWAAAAFkAAABaAAAAWwAAAFwAAABdAAAAXgAAAF8AAABgAAAAYQAAAGIAAABjAAAAZAAAAGUAAABmAAAAZwAAAGgAAABpAAAAagAAAGsAAABsAAAAbQAAAG4AAABvAAAAcAAAAHEAAAByAAAAcwAAAHQAAAB1AAAAdgAAAHcAAAB4AAAAeQAAAHoAAAB7AAAAfAAAAH0AAAB+AAAAfwAAAIAAAACBAAAAggAAAIMAAACEAAAAhQAAAIYAAACHAAAAiAAAAIkAAACKAAAAiwAAAIwAAACNAAAAjgAAAI8AAACQAAAAkQAAAJIAAACTAAAAlAAAAJUAAACWAAAAlwAAAJgAAACZAAAAmgAAAJsAAACcAAAAnQAAAJ4AAACfAAAAoAAAAA==",
            "dtype": "u4"
           },
           "xaxis": "x",
           "y": {
            "bdata": "MSd4eYe30T+ewDQY/rjRP9RM79vwu9E/UFuTd0zA0T/iCAwBIMbRP5e4ZUJtzdE/gkjZHhPW0T+b1JlnL+DRP8MJFJeg69E/JtQSYlX40T/mvrTQOwbSP5dh90A0FdI/tseddAAl0j8yRSGggDXSP1Byf/5qRtI/YlwpF2ZX0j//DT1sSGjSPxMIcWlieNI/JLxnmoaH0j9+fiOkO5XSPx8AE1nUoNI/xTjBZPep0j8/pkFYIrDSP59j9cvRstI/O4vbLbix0j/W3/biZazSP6ToT1l8otI/phd7/cqT0j8ocP0NJYDSP88ZBLFiZ9I/cZYBmM5J0j+7NNhqWSfSPz4m6MFSANI/H9MddRbV0T9sV+jF+KXRP0m9MO2Qc9E/HsNYaE8+0T9ASL27zwbRP+I46BHLzdA/uAjqNu+T0D8jTr9D3FnQP9rnxK8EINA/qkU/ezTOzz8rqxsHOl/PP8+A2yhZ9M4/2zhlk1eOzj/sRI4LHy7OPypKejFM1M0/1AxPUtOBzT/J/+wmSzfNP3bZQwNi9cw/greCDfm8zD/C/s2DQI7MPwMR78t3asw/a2rGyfxRzD9HaKdWgUXMP6LFDgI1Rcw/pHSA5shRzD8jHfJ2U2vMPw/LmTxMksw/mQ14JoXGzD88+TfMmwfNPwtGMVhNVc0/PpJhsdquzT+C3al8GRPOPxjhkGAugc4/aqKISov3zj8SoGn+1HTPPymwf5lc988/lwzU44c+0D/wMMCwIoLQP2MruoCKxdA/Ag1PMsAH0T+veMV56EfRP4xxYXwFhdE/9lac/12+0T9iZPtUK/PRP0/QF/GuItI/V5pzcINM0j+4a97xKHDSP9AwrUVDjdI/BPydeZOj0j8fzf3NHrPSP9hABJvdu9I/GPXuLBe+0j/C8oprErrSPz4WKAJBsNI/4ps7Mhih0j9cq40vG43SP07PCQ0WddI/tP5k+JxZ0j9oTmF1ejvSPwcKJEhjG9I/yEhp3R/60T+LsTcid9jRP1NK0koyt9E/Dv7K79+W0T8ujTztQHjRP78PBEX9W9E/7uB+OIlC0T9eQI1pWSzRP7jzp4bJGdE/KvhcsAAL0T8lBCuw9f/QP1+L26yz+NA/tLyTddj00D90/62GDPTQP1yIMvDS9dA/CAVM9W350D/won3CKv7QPw0KkiIJA9E/6ZmFry8H0T+YkvXHtgnRP1/1tojeCdE/np4F9+QG0T+KMBQjQQDRPwiCpIV/9dA/I+yYOVrm0D/xw6+55tLQP/WDzQM6u9A/sD4nQ+Gf0D97sWM5a4HQP5K8L3bBYNA/WK2tAr8+0D+28rlxUxzQP5phNoc89c8/SEzHDUa1zz+hK/b/kHrPP9v8WFu1Rs8/AtkPVdoazz+Op/ZtPfjOP1wgclnN3s4/sN2YHZzOzj+64c2UGcfOPzxXyY4bx84/CnNLQYfNzj92H8XLgdjOP2LC1qCk5s4/sGGwHK31zj+1PAXMvAPPP0SiO8TBDs8/HryVQE0Vzz821h4S/BXPPy6ywnOlD88/gFMNmL4Bzz/Ms4cpE+zOP5e8i3PAzs4/3GRCBVqqzj9W+S4c1H/OP4YqPFQ/UM4/WitkCm0dzj82fYUb5ejNP+4wgGU+tM0/FHUlJm+BzT8GdORvGVLNPwBDlU/mJ80/t3Mrk0wEzT9pQqTjcejMP91E+J5b1cw/5tlf34vLzD8=",
            "dtype": "f8"
           },
           "yaxis": "y"
          },
          {
           "hovertemplate": "treatment=mpfc<br>sigma=10<br>trial_idx=%{x}<br>efs_smooth=%{y}<extra></extra>",
           "legendgroup": "mpfc",
           "line": {
            "color": "#2ca02c",
            "dash": "solid"
           },
           "marker": {
            "symbol": "circle"
           },
           "mode": "lines",
           "name": "mpfc",
           "orientation": "v",
           "showlegend": true,
           "type": "scatter",
           "x": {
            "bdata": "AQAAAAIAAAADAAAABAAAAAUAAAAGAAAABwAAAAgAAAAJAAAACgAAAAsAAAAMAAAADQAAAA4AAAAPAAAAEAAAABEAAAASAAAAEwAAABQAAAAVAAAAFgAAABcAAAAYAAAAGQAAABoAAAAbAAAAHAAAAB0AAAAeAAAAHwAAACAAAAAhAAAAIgAAACMAAAAkAAAAJQAAACYAAAAnAAAAKAAAACkAAAAqAAAAKwAAACwAAAAtAAAALgAAAC8AAAAwAAAAMQAAADIAAAAzAAAANAAAADUAAAA2AAAANwAAADgAAAA5AAAAOgAAADsAAAA8AAAAPQAAAD4AAAA/AAAAQAAAAEEAAABCAAAAQwAAAEQAAABFAAAARgAAAEcAAABIAAAASQAAAEoAAABLAAAATAAAAE0AAABOAAAATwAAAFAAAABRAAAAUgAAAFMAAABUAAAAVQAAAFYAAABXAAAAWAAAAFkAAABaAAAAWwAAAFwAAABdAAAAXgAAAF8AAABgAAAAYQAAAGIAAABjAAAAZAAAAGUAAABmAAAAZwAAAGgAAABpAAAAagAAAGsAAABsAAAAbQAAAG4AAABvAAAAcAAAAHEAAAByAAAAcwAAAHQAAAB1AAAAdgAAAHcAAAB4AAAAeQAAAHoAAAB7AAAAfAAAAH0AAAB+AAAAfwAAAIAAAACBAAAAggAAAIMAAACEAAAAhQAAAIYAAACHAAAAiAAAAIkAAACKAAAAiwAAAIwAAACNAAAAjgAAAI8AAACQAAAAkQAAAJIAAACTAAAAlAAAAJUAAACWAAAAlwAAAJgAAACZAAAAmgAAAJsAAACcAAAAnQAAAJ4AAACfAAAAoAAAAA==",
            "dtype": "u4"
           },
           "xaxis": "x",
           "y": {
            "bdata": "0QCsmsII0D+2TtGE/AfQP4AOYjxbBtA/9+tDRMcD0D+Of3xtJwDQPyhSU0u49s8/voCFLa7qzz+mP4tyqNvPP9nB4S5+yc8/+h3OaUu0zz/2t4F365vPPx6XUfGYgM8/5NGJSHFizz/AlehIBULPP7Ds7ACsH88/zrolitH7zj+WyT+RBtfOPxNVe3vCsc4/58q7C4SMzj/wFk/PwWfOP2KXmjeeQ84//iWJ2mwgzj/5iTWmUf7NPya70wNH3c0/37CUfKG9zT/lPc7N/Z7NP4Z7LG5ygc0/xBA8kNdkzT9/u6Znb0nNP6LLB73xLs0/sqHrzJkVzT8hjigTZv3MP3DZ6Wlc5sw/kE6FypDQzD9vsT6RbLzMPzE/2tGFqcw/oiJQGueXzD+Ma5VvdIfMP5rjxmaqd8w/kfHG9i1ozD9bOFzMOFjMPwshAlb1Rsw/oXdASV4zzD8Ahn+0aRzMP/ivsaZTAcw/pjgYobXgyz/ve2lGwrnLP6UlBxR0i8s/8oSI++tUyz9lp8aM9hXLP+4UPsc1zso/6/BiYIR9yj8GMWLAQCTKP/J5iUoTw8k/1gf5Eq5ayT9kqj9ER+zIP2XmK1DxeMg/c3mV9jQCyD+ErIw2cYnHP9GSce9XEMc/1CRzZ2CYxj9QTOcHRiPGP3mREvVvssU/Uhth0AZHxT8mZVK7m+LEP4BA7Q8hhsQ/RoGoAoQyxD/apnZNh+jDPweEH3OYqMM/0L7ruw1zwz/qGz2OEEjDP/q+yDN4J8M/eEufpOEQwz8/m0kwuQPDPwk5GlFv/8I/SqMkYAoDwz8qUiJsqQ3DPyMUz4JnHsM/TUEWhh80wz8awekaB07DP3TcRbdAa8M/e/2jc/SKwz/N50EVfazDP8CLrmVgz8M/fJCZwWbzwz9G5kajcxjEPzPU4GJGPsQ/A2/uRS9lxD/PdoKrZY3EP4NmTFort8Q/Gr6/dnvixD85a7bF0g/FPyHyfO7dPsU/2laIrb1vxT++a1wiGaLFPx7yJOGF1cU/9XZ1fX8Jxj/rBNbQJT3GP0W6BSyFb8Y/ntRhLpKfxj+0qF0aE8zGPz0Y6hjL88Y/QrYmCXQVxz+AeJbu4C/HP6RnyqUEQsc/ZWMQqsRKxz8EUVEMhUnHPyUqtQemPcc/YlSLFekmxz95nJrAIAXHP4bpnb/E2MY/CNHdKgmixj9KFFU85mHGP+SOaYcmGcY/SbgDNOnIxT/GAwp8NnLFP4zLUvZ+FsU/EfNPhti2xD84svzSnFTEP5G1lv3p8MM/j4I1Ju2Mwz/CX6cFhinDPw298+GNx8I/fwKBHftnwj8eHeMubgvCPzQkwRKsssE/mI2PBoNewT/u+94wpQ/BP+2J6uvkxsA/5ILAmE+FwD9kN1G1z0vAP0doA5CTG8A/Ev+ODIfrvz8hpwuvZ7e/P3dVKGgqnb8/nnj6x12fvz8NUfDSFcC/P6VdgsumAMA/ydCHwTEywD+Bxgq3/XTAP4jgmlIgycA/b4M+80guwT8LkWopkqPBP9ykGmf8J8I/NdeIy+C5wj/mDecsIVfDP0czMRiR/cM/czyhtGSqxD9j9WYT51rFP4It6Q/VC8Y/1ahaDPi5xj/I3HvKDGLHP02rKkv4AMg/rKkyz5eTyD8BRuKSSBfJP36MrDE4ick/oP+NtUfnyT8iO9VHci/KPwlhCMV6YMo/J4GdB0F5yj8=",
            "dtype": "f8"
           },
           "yaxis": "y"
          }
         ],
         "name": "10"
        }
       ],
       "layout": {
        "height": 600,
        "legend": {
         "title": {
          "text": "treatment"
         },
         "tracegroupgap": 0,
         "traceorder": "normal"
        },
        "sliders": [
         {
          "active": 0,
          "currentvalue": {
           "prefix": "sigma="
          },
          "len": 0.9,
          "pad": {
           "b": 10,
           "t": 60
          },
          "steps": [
           {
            "args": [
             [
              "1"
             ],
             {
              "frame": {
               "duration": 0,
               "redraw": false
              },
              "fromcurrent": true,
              "mode": "immediate",
              "transition": {
               "duration": 0,
               "easing": "linear"
              }
             }
            ],
            "label": "1",
            "method": "animate"
           },
           {
            "args": [
             [
              "2"
             ],
             {
              "frame": {
               "duration": 0,
               "redraw": false
              },
              "fromcurrent": true,
              "mode": "immediate",
              "transition": {
               "duration": 0,
               "easing": "linear"
              }
             }
            ],
            "label": "2",
            "method": "animate"
           },
           {
            "args": [
             [
              "3"
             ],
             {
              "frame": {
               "duration": 0,
               "redraw": false
              },
              "fromcurrent": true,
              "mode": "immediate",
              "transition": {
               "duration": 0,
               "easing": "linear"
              }
             }
            ],
            "label": "3",
            "method": "animate"
           },
           {
            "args": [
             [
              "4"
             ],
             {
              "frame": {
               "duration": 0,
               "redraw": false
              },
              "fromcurrent": true,
              "mode": "immediate",
              "transition": {
               "duration": 0,
               "easing": "linear"
              }
             }
            ],
            "label": "4",
            "method": "animate"
           },
           {
            "args": [
             [
              "5"
             ],
             {
              "frame": {
               "duration": 0,
               "redraw": false
              },
              "fromcurrent": true,
              "mode": "immediate",
              "transition": {
               "duration": 0,
               "easing": "linear"
              }
             }
            ],
            "label": "5",
            "method": "animate"
           },
           {
            "args": [
             [
              "6"
             ],
             {
              "frame": {
               "duration": 0,
               "redraw": false
              },
              "fromcurrent": true,
              "mode": "immediate",
              "transition": {
               "duration": 0,
               "easing": "linear"
              }
             }
            ],
            "label": "6",
            "method": "animate"
           },
           {
            "args": [
             [
              "7"
             ],
             {
              "frame": {
               "duration": 0,
               "redraw": false
              },
              "fromcurrent": true,
              "mode": "immediate",
              "transition": {
               "duration": 0,
               "easing": "linear"
              }
             }
            ],
            "label": "7",
            "method": "animate"
           },
           {
            "args": [
             [
              "8"
             ],
             {
              "frame": {
               "duration": 0,
               "redraw": false
              },
              "fromcurrent": true,
              "mode": "immediate",
              "transition": {
               "duration": 0,
               "easing": "linear"
              }
             }
            ],
            "label": "8",
            "method": "animate"
           },
           {
            "args": [
             [
              "9"
             ],
             {
              "frame": {
               "duration": 0,
               "redraw": false
              },
              "fromcurrent": true,
              "mode": "immediate",
              "transition": {
               "duration": 0,
               "easing": "linear"
              }
             }
            ],
            "label": "9",
            "method": "animate"
           },
           {
            "args": [
             [
              "10"
             ],
             {
              "frame": {
               "duration": 0,
               "redraw": false
              },
              "fromcurrent": true,
              "mode": "immediate",
              "transition": {
               "duration": 0,
               "easing": "linear"
              }
             }
            ],
            "label": "10",
            "method": "animate"
           }
          ],
          "x": 0.1,
          "xanchor": "left",
          "y": 0,
          "yanchor": "top"
         }
        ],
        "template": {
         "data": {
          "bar": [
           {
            "error_x": {
             "color": "#2a3f5f"
            },
            "error_y": {
             "color": "#2a3f5f"
            },
            "marker": {
             "line": {
              "color": "#E5ECF6",
              "width": 0.5
             },
             "pattern": {
              "fillmode": "overlay",
              "size": 10,
              "solidity": 0.2
             }
            },
            "type": "bar"
           }
          ],
          "barpolar": [
           {
            "marker": {
             "line": {
              "color": "#E5ECF6",
              "width": 0.5
             },
             "pattern": {
              "fillmode": "overlay",
              "size": 10,
              "solidity": 0.2
             }
            },
            "type": "barpolar"
           }
          ],
          "carpet": [
           {
            "aaxis": {
             "endlinecolor": "#2a3f5f",
             "gridcolor": "white",
             "linecolor": "white",
             "minorgridcolor": "white",
             "startlinecolor": "#2a3f5f"
            },
            "baxis": {
             "endlinecolor": "#2a3f5f",
             "gridcolor": "white",
             "linecolor": "white",
             "minorgridcolor": "white",
             "startlinecolor": "#2a3f5f"
            },
            "type": "carpet"
           }
          ],
          "choropleth": [
           {
            "colorbar": {
             "outlinewidth": 0,
             "ticks": ""
            },
            "type": "choropleth"
           }
          ],
          "contour": [
           {
            "colorbar": {
             "outlinewidth": 0,
             "ticks": ""
            },
            "colorscale": [
             [
              0,
              "#0d0887"
             ],
             [
              0.1111111111111111,
              "#46039f"
             ],
             [
              0.2222222222222222,
              "#7201a8"
             ],
             [
              0.3333333333333333,
              "#9c179e"
             ],
             [
              0.4444444444444444,
              "#bd3786"
             ],
             [
              0.5555555555555556,
              "#d8576b"
             ],
             [
              0.6666666666666666,
              "#ed7953"
             ],
             [
              0.7777777777777778,
              "#fb9f3a"
             ],
             [
              0.8888888888888888,
              "#fdca26"
             ],
             [
              1,
              "#f0f921"
             ]
            ],
            "type": "contour"
           }
          ],
          "contourcarpet": [
           {
            "colorbar": {
             "outlinewidth": 0,
             "ticks": ""
            },
            "type": "contourcarpet"
           }
          ],
          "heatmap": [
           {
            "colorbar": {
             "outlinewidth": 0,
             "ticks": ""
            },
            "colorscale": [
             [
              0,
              "#0d0887"
             ],
             [
              0.1111111111111111,
              "#46039f"
             ],
             [
              0.2222222222222222,
              "#7201a8"
             ],
             [
              0.3333333333333333,
              "#9c179e"
             ],
             [
              0.4444444444444444,
              "#bd3786"
             ],
             [
              0.5555555555555556,
              "#d8576b"
             ],
             [
              0.6666666666666666,
              "#ed7953"
             ],
             [
              0.7777777777777778,
              "#fb9f3a"
             ],
             [
              0.8888888888888888,
              "#fdca26"
             ],
             [
              1,
              "#f0f921"
             ]
            ],
            "type": "heatmap"
           }
          ],
          "histogram": [
           {
            "marker": {
             "pattern": {
              "fillmode": "overlay",
              "size": 10,
              "solidity": 0.2
             }
            },
            "type": "histogram"
           }
          ],
          "histogram2d": [
           {
            "colorbar": {
             "outlinewidth": 0,
             "ticks": ""
            },
            "colorscale": [
             [
              0,
              "#0d0887"
             ],
             [
              0.1111111111111111,
              "#46039f"
             ],
             [
              0.2222222222222222,
              "#7201a8"
             ],
             [
              0.3333333333333333,
              "#9c179e"
             ],
             [
              0.4444444444444444,
              "#bd3786"
             ],
             [
              0.5555555555555556,
              "#d8576b"
             ],
             [
              0.6666666666666666,
              "#ed7953"
             ],
             [
              0.7777777777777778,
              "#fb9f3a"
             ],
             [
              0.8888888888888888,
              "#fdca26"
             ],
             [
              1,
              "#f0f921"
             ]
            ],
            "type": "histogram2d"
           }
          ],
          "histogram2dcontour": [
           {
            "colorbar": {
             "outlinewidth": 0,
             "ticks": ""
            },
            "colorscale": [
             [
              0,
              "#0d0887"
             ],
             [
              0.1111111111111111,
              "#46039f"
             ],
             [
              0.2222222222222222,
              "#7201a8"
             ],
             [
              0.3333333333333333,
              "#9c179e"
             ],
             [
              0.4444444444444444,
              "#bd3786"
             ],
             [
              0.5555555555555556,
              "#d8576b"
             ],
             [
              0.6666666666666666,
              "#ed7953"
             ],
             [
              0.7777777777777778,
              "#fb9f3a"
             ],
             [
              0.8888888888888888,
              "#fdca26"
             ],
             [
              1,
              "#f0f921"
             ]
            ],
            "type": "histogram2dcontour"
           }
          ],
          "mesh3d": [
           {
            "colorbar": {
             "outlinewidth": 0,
             "ticks": ""
            },
            "type": "mesh3d"
           }
          ],
          "parcoords": [
           {
            "line": {
             "colorbar": {
              "outlinewidth": 0,
              "ticks": ""
             }
            },
            "type": "parcoords"
           }
          ],
          "pie": [
           {
            "automargin": true,
            "type": "pie"
           }
          ],
          "scatter": [
           {
            "fillpattern": {
             "fillmode": "overlay",
             "size": 10,
             "solidity": 0.2
            },
            "type": "scatter"
           }
          ],
          "scatter3d": [
           {
            "line": {
             "colorbar": {
              "outlinewidth": 0,
              "ticks": ""
             }
            },
            "marker": {
             "colorbar": {
              "outlinewidth": 0,
              "ticks": ""
             }
            },
            "type": "scatter3d"
           }
          ],
          "scattercarpet": [
           {
            "marker": {
             "colorbar": {
              "outlinewidth": 0,
              "ticks": ""
             }
            },
            "type": "scattercarpet"
           }
          ],
          "scattergeo": [
           {
            "marker": {
             "colorbar": {
              "outlinewidth": 0,
              "ticks": ""
             }
            },
            "type": "scattergeo"
           }
          ],
          "scattergl": [
           {
            "marker": {
             "colorbar": {
              "outlinewidth": 0,
              "ticks": ""
             }
            },
            "type": "scattergl"
           }
          ],
          "scattermap": [
           {
            "marker": {
             "colorbar": {
              "outlinewidth": 0,
              "ticks": ""
             }
            },
            "type": "scattermap"
           }
          ],
          "scattermapbox": [
           {
            "marker": {
             "colorbar": {
              "outlinewidth": 0,
              "ticks": ""
             }
            },
            "type": "scattermapbox"
           }
          ],
          "scatterpolar": [
           {
            "marker": {
             "colorbar": {
              "outlinewidth": 0,
              "ticks": ""
             }
            },
            "type": "scatterpolar"
           }
          ],
          "scatterpolargl": [
           {
            "marker": {
             "colorbar": {
              "outlinewidth": 0,
              "ticks": ""
             }
            },
            "type": "scatterpolargl"
           }
          ],
          "scatterternary": [
           {
            "marker": {
             "colorbar": {
              "outlinewidth": 0,
              "ticks": ""
             }
            },
            "type": "scatterternary"
           }
          ],
          "surface": [
           {
            "colorbar": {
             "outlinewidth": 0,
             "ticks": ""
            },
            "colorscale": [
             [
              0,
              "#0d0887"
             ],
             [
              0.1111111111111111,
              "#46039f"
             ],
             [
              0.2222222222222222,
              "#7201a8"
             ],
             [
              0.3333333333333333,
              "#9c179e"
             ],
             [
              0.4444444444444444,
              "#bd3786"
             ],
             [
              0.5555555555555556,
              "#d8576b"
             ],
             [
              0.6666666666666666,
              "#ed7953"
             ],
             [
              0.7777777777777778,
              "#fb9f3a"
             ],
             [
              0.8888888888888888,
              "#fdca26"
             ],
             [
              1,
              "#f0f921"
             ]
            ],
            "type": "surface"
           }
          ],
          "table": [
           {
            "cells": {
             "fill": {
              "color": "#EBF0F8"
             },
             "line": {
              "color": "white"
             }
            },
            "header": {
             "fill": {
              "color": "#C8D4E3"
             },
             "line": {
              "color": "white"
             }
            },
            "type": "table"
           }
          ]
         },
         "layout": {
          "annotationdefaults": {
           "arrowcolor": "#2a3f5f",
           "arrowhead": 0,
           "arrowwidth": 1
          },
          "autotypenumbers": "strict",
          "coloraxis": {
           "colorbar": {
            "outlinewidth": 0,
            "ticks": ""
           }
          },
          "colorscale": {
           "diverging": [
            [
             0,
             "#8e0152"
            ],
            [
             0.1,
             "#c51b7d"
            ],
            [
             0.2,
             "#de77ae"
            ],
            [
             0.3,
             "#f1b6da"
            ],
            [
             0.4,
             "#fde0ef"
            ],
            [
             0.5,
             "#f7f7f7"
            ],
            [
             0.6,
             "#e6f5d0"
            ],
            [
             0.7,
             "#b8e186"
            ],
            [
             0.8,
             "#7fbc41"
            ],
            [
             0.9,
             "#4d9221"
            ],
            [
             1,
             "#276419"
            ]
           ],
           "sequential": [
            [
             0,
             "#0d0887"
            ],
            [
             0.1111111111111111,
             "#46039f"
            ],
            [
             0.2222222222222222,
             "#7201a8"
            ],
            [
             0.3333333333333333,
             "#9c179e"
            ],
            [
             0.4444444444444444,
             "#bd3786"
            ],
            [
             0.5555555555555556,
             "#d8576b"
            ],
            [
             0.6666666666666666,
             "#ed7953"
            ],
            [
             0.7777777777777778,
             "#fb9f3a"
            ],
            [
             0.8888888888888888,
             "#fdca26"
            ],
            [
             1,
             "#f0f921"
            ]
           ],
           "sequentialminus": [
            [
             0,
             "#0d0887"
            ],
            [
             0.1111111111111111,
             "#46039f"
            ],
            [
             0.2222222222222222,
             "#7201a8"
            ],
            [
             0.3333333333333333,
             "#9c179e"
            ],
            [
             0.4444444444444444,
             "#bd3786"
            ],
            [
             0.5555555555555556,
             "#d8576b"
            ],
            [
             0.6666666666666666,
             "#ed7953"
            ],
            [
             0.7777777777777778,
             "#fb9f3a"
            ],
            [
             0.8888888888888888,
             "#fdca26"
            ],
            [
             1,
             "#f0f921"
            ]
           ]
          },
          "colorway": [
           "#636efa",
           "#EF553B",
           "#00cc96",
           "#ab63fa",
           "#FFA15A",
           "#19d3f3",
           "#FF6692",
           "#B6E880",
           "#FF97FF",
           "#FECB52"
          ],
          "font": {
           "color": "#2a3f5f"
          },
          "geo": {
           "bgcolor": "white",
           "lakecolor": "white",
           "landcolor": "#E5ECF6",
           "showlakes": true,
           "showland": true,
           "subunitcolor": "white"
          },
          "hoverlabel": {
           "align": "left"
          },
          "hovermode": "closest",
          "mapbox": {
           "style": "light"
          },
          "paper_bgcolor": "white",
          "plot_bgcolor": "#E5ECF6",
          "polar": {
           "angularaxis": {
            "gridcolor": "white",
            "linecolor": "white",
            "ticks": ""
           },
           "bgcolor": "#E5ECF6",
           "radialaxis": {
            "gridcolor": "white",
            "linecolor": "white",
            "ticks": ""
           }
          },
          "scene": {
           "xaxis": {
            "backgroundcolor": "#E5ECF6",
            "gridcolor": "white",
            "gridwidth": 2,
            "linecolor": "white",
            "showbackground": true,
            "ticks": "",
            "zerolinecolor": "white"
           },
           "yaxis": {
            "backgroundcolor": "#E5ECF6",
            "gridcolor": "white",
            "gridwidth": 2,
            "linecolor": "white",
            "showbackground": true,
            "ticks": "",
            "zerolinecolor": "white"
           },
           "zaxis": {
            "backgroundcolor": "#E5ECF6",
            "gridcolor": "white",
            "gridwidth": 2,
            "linecolor": "white",
            "showbackground": true,
            "ticks": "",
            "zerolinecolor": "white"
           }
          },
          "shapedefaults": {
           "line": {
            "color": "#2a3f5f"
           }
          },
          "ternary": {
           "aaxis": {
            "gridcolor": "white",
            "linecolor": "white",
            "ticks": ""
           },
           "baxis": {
            "gridcolor": "white",
            "linecolor": "white",
            "ticks": ""
           },
           "bgcolor": "#E5ECF6",
           "caxis": {
            "gridcolor": "white",
            "linecolor": "white",
            "ticks": ""
           }
          },
          "title": {
           "x": 0.05
          },
          "xaxis": {
           "automargin": true,
           "gridcolor": "white",
           "linecolor": "white",
           "ticks": "",
           "title": {
            "standoff": 15
           },
           "zerolinecolor": "white",
           "zerolinewidth": 2
          },
          "yaxis": {
           "automargin": true,
           "gridcolor": "white",
           "linecolor": "white",
           "ticks": "",
           "title": {
            "standoff": 15
           },
           "zerolinecolor": "white",
           "zerolinewidth": 2
          }
         }
        },
        "title": {
         "text": "Mean EFS per Trial by Treatment — Gaussian smoothing σ"
        },
        "updatemenus": [
         {
          "buttons": [
           {
            "args": [
             null,
             {
              "frame": {
               "duration": 500,
               "redraw": false
              },
              "fromcurrent": true,
              "mode": "immediate",
              "transition": {
               "duration": 500,
               "easing": "linear"
              }
             }
            ],
            "label": "&#9654;",
            "method": "animate"
           },
           {
            "args": [
             [
              null
             ],
             {
              "frame": {
               "duration": 0,
               "redraw": false
              },
              "fromcurrent": true,
              "mode": "immediate",
              "transition": {
               "duration": 0,
               "easing": "linear"
              }
             }
            ],
            "label": "&#9724;",
            "method": "animate"
           }
          ],
          "direction": "left",
          "pad": {
           "r": 10,
           "t": 70
          },
          "showactive": false,
          "type": "buttons",
          "x": 0.1,
          "xanchor": "right",
          "y": 0,
          "yanchor": "top"
         }
        ],
        "width": 800,
        "xaxis": {
         "anchor": "y",
         "domain": [
          0,
          1
         ],
         "title": {
          "text": "trial_idx"
         }
        },
        "yaxis": {
         "anchor": "x",
         "domain": [
          0,
          1
         ],
         "range": [
          0,
          0.6
         ],
         "title": {
          "text": "efs_smooth"
         }
        }
       }
      }
     },
     "metadata": {},
     "output_type": "display_data"
    }
   ],
   "source": [
    "import polars as pl\n",
    "import numpy as np\n",
    "from scipy.ndimage import gaussian_filter1d\n",
    "import plotly.express as px\n",
    "\n",
    "# 1) precompute multiple smoothings\n",
    "sigma_values = np.linspace(1, 10, dtype=np.int64)\n",
    "\n",
    "def smooth_sigma(df: pl.DataFrame, sigma: int) -> pl.DataFrame:\n",
    "    if sigma == 0:\n",
    "        return df.with_columns(\n",
    "            pl.col(\"efs_mean\").alias(\"efs_smooth\"),\n",
    "            pl.lit(sigma).alias(\"sigma\"),\n",
    "        )\n",
    "    return (\n",
    "        df.group_by(\"treatment\")\n",
    "          .map_groups(lambda g: g.sort(\"trial_idx\").with_columns(\n",
    "              pl.Series(\n",
    "                  \"efs_smooth\",\n",
    "                  gaussian_filter1d(g[\"efs_mean\"].fill_null(0).to_numpy(), sigma=sigma)\n",
    "              )\n",
    "          ))\n",
    "          .with_columns(pl.lit(sigma).alias(\"sigma\"))\n",
    "    )\n",
    "\n",
    "smoothed = pl.concat([smooth_sigma(efs_by_trt_trial, s) for s in sigma_values])\n",
    "\n",
    "# 2) Plot with animation_frame = \"sigma\" (gives a slider)\n",
    "order = [\"sham\", \"ofc\", \"mpfc\"]  # your desired legend/color order\n",
    "pdf = smoothed.to_pandas()\n",
    "\n",
    "fig = px.line(\n",
    "    pdf,\n",
    "    x=\"trial_idx\",\n",
    "    y=\"efs_smooth\",\n",
    "    color=\"treatment\",\n",
    "    animation_frame=\"sigma\",\n",
    "    category_orders={\"treatment\": order, \"sigma\": sigma_values},\n",
    "    color_discrete_map={\"sham\": \"#1f77b4\", \"ofc\": \"#ff7f0e\", \"mpfc\": \"#2ca02c\"},  # optional but keeps colors stable\n",
    "    title=\"Mean EFS per Trial by Treatment — Gaussian smoothing σ\"\n",
    ")\n",
    "\n",
    "# keep y-range stable across frames (optional, but nicer)\n",
    "ymin = 0\n",
    "ymax = max(0.6, float(pdf[\"efs_smooth\"].max(skipna=True)))\n",
    "fig.update_yaxes(range=[ymin, ymax])\n",
    "fig.update_layout(legend_traceorder=\"normal\", width=800, height=600)\n",
    "fig\n"
   ]
  },
  {
   "cell_type": "markdown",
   "id": "9cff2375",
   "metadata": {},
   "source": [
    "**Plot cumulative EFS mean**"
   ]
  },
  {
   "cell_type": "code",
   "execution_count": 41,
   "id": "1cece2bd",
   "metadata": {},
   "outputs": [],
   "source": [
    "efs_by_trt_trial = efs_by_trt_trial.with_columns(\n",
    "    pl.col(\"efs_mean\")\n",
    "    .fill_null(0)\n",
    "    .cum_sum()\n",
    "    .over(\"treatment\")\n",
    "    .alias(\"efs_cumsum\")\n",
    ")"
   ]
  },
  {
   "cell_type": "code",
   "execution_count": 126,
   "id": "41d8b501",
   "metadata": {},
   "outputs": [
    {
     "data": {
      "application/vnd.plotly.v1+json": {
       "config": {
        "plotlyServerURL": "https://plot.ly"
       },
       "data": [
        {
         "hovertemplate": "treatment=sham<br>trial_idx=%{x}<br>efs_cumsum=%{y}<extra></extra>",
         "legendgroup": "sham",
         "line": {
          "color": "#636efa",
          "dash": "solid"
         },
         "marker": {
          "symbol": "circle"
         },
         "mode": "lines",
         "name": "sham",
         "orientation": "v",
         "showlegend": true,
         "type": "scatter",
         "x": {
          "bdata": "AQAAAAIAAAADAAAABAAAAAUAAAAGAAAABwAAAAgAAAAJAAAACgAAAAsAAAAMAAAADQAAAA4AAAAPAAAAEAAAABEAAAASAAAAEwAAABQAAAAVAAAAFgAAABcAAAAYAAAAGQAAABoAAAAbAAAAHAAAAB0AAAAeAAAAHwAAACAAAAAhAAAAIgAAACMAAAAkAAAAJQAAACYAAAAnAAAAKAAAACkAAAAqAAAAKwAAACwAAAAtAAAALgAAAC8AAAAwAAAAMQAAADIAAAAzAAAANAAAADUAAAA2AAAANwAAADgAAAA5AAAAOgAAADsAAAA8AAAAPQAAAD4AAAA/AAAAQAAAAEEAAABCAAAAQwAAAEQAAABFAAAARgAAAEcAAABIAAAASQAAAEoAAABLAAAATAAAAE0AAABOAAAATwAAAFAAAABRAAAAUgAAAFMAAABUAAAAVQAAAFYAAABXAAAAWAAAAFkAAABaAAAAWwAAAFwAAABdAAAAXgAAAF8AAABgAAAAYQAAAGIAAABjAAAAZAAAAGUAAABmAAAAZwAAAGgAAABpAAAAagAAAGsAAABsAAAAbQAAAG4AAABvAAAAcAAAAHEAAAByAAAAcwAAAHQAAAB1AAAAdgAAAHcAAAB4AAAAeQAAAHoAAAB7AAAAfAAAAH0AAAB+AAAAfwAAAIAAAACBAAAAggAAAIMAAACEAAAAhQAAAIYAAACHAAAAiAAAAIkAAACKAAAAiwAAAIwAAACNAAAAjgAAAI8AAACQAAAAkQAAAJIAAACTAAAAlAAAAJUAAACWAAAAlwAAAJgAAACZAAAAmgAAAJsAAACcAAAAnQAAAJ4AAACfAAAAoAAAAA==",
          "dtype": "u4"
         },
         "xaxis": "x",
         "y": {
          "bdata": "AAAAAAAAAAAAAAAAAAAAAAAAAAAAAOQ/AAAAAAAA7D8AAAAAAAD0PwAAAAAAAPg/AAAAAAAA/D8AAAAAAAAAQAAAAAAAAABAAAAAAAAAAEAAAAAAAAACQAAAAAAAAAVAAAAAAAAAB0AAAAAAAAAIQAAAAAAAAAlAAAAAAAAAC0AAAAAAAAANQAAAAAAAAA9AAAAAAAAAEUAAAAAAAIARQAAAAAAAgBFAAAAAAACAEkAAAAAAAAATQAAAAAAAABRAAAAAAAAAFEAAAAAAAIAUQAAAAAAAABVAAAAAAACAFUAAAAAAAAAWQAAAAAAAABdAAAAAAAAAF0AAAAAAAAAYQAAAAAAAgBhAAAAAAACAGUAAAAAAAAAbQAAAAAAAABtAAAAAAACAG0AAAAAAAIAcQAAAAAAAgB1AAAAAAACAHkAAAAAAAIAeQAAAAAAAAB9AAAAAAABAIEAAAAAAAEAgQAAAAAAAgCBAAAAAAAAAIUAAAAAAAIAhQAAAAAAAwCFAAAAAAAAAIkAAAAAAAIAiQAAAAAAAACNAAAAAAAAAJEAAAAAAAIAkQAAAAAAAwCRAAAAAAAAAJUAAAAAAAEAlQAAAAAAAQCVAAAAAAABAJUAAAAAAAIAlQAAAAAAAwCZAAAAAAABAJ0AAAAAAAIAnQAAAAAAAAChAAAAAAABAKEAAAAAAAMAoQAAAAAAAAClAAAAAAAAAKUAAAAAAAEApQAAAAAAAgClAAAAAAAAAKkAAAAAAAEAqQAAAAAAAgCpAAAAAAADAKkAAAAAAAEArQAAAAAAAwCtAAAAAAABALEAAAAAAAIAsQAAAAAAAgCxAAAAAAADALEAAAAAAAIAtQAAAAAAAAC5AAAAAAABALkAAAAAAAMAuQAAAAAAAAC9AAAAAAAAAMEAAAAAAAGAwQAAAAAAAgDBAAAAAAADAMEAAAAAAAAAxQAAAAAAAADFAAAAAAABAMUAAAAAAAGAxQAAAAAAAYDFAAAAAAADAMUAAAAAAAMAxQAAAAAAAIDJAAAAAAAAgMkAAAAAAAGAyQAAAAAAAgDJAAAAAAACgMkAAAAAAAMAyQAAAAAAAIDNAAAAAAACAM0AAAAAAAKAzQAAAAAAAwDNAAAAAAADAM0AAAAAAAAA0QAAAAAAAYDRAAAAAAABgNEAAAAAAAGA0QAAAAAAAwDRAAAAAAADANEAAAAAAAAA1QAAAAAAAADVAAAAAAABANUAAAAAAAMA1QAAAAAAA4DVAAAAAAABANkAAAAAAAKA2QAAAAAAAADdAAAAAAAAAN0AAAAAAACA3QAAAAAAAIDdAAAAAAABAN0AAAAAAAIA3QAAAAAAAoDdAAAAAAADgN0AAAAAAAEA4QAAAAAAAYDhAAAAAAABgOEAAAAAAAIA4QAAAAAAAwDhAAAAAAAAAOUAAAAAAAEA5QAAAAAAAQDlAAAAAAADAOUAAAAAAAOA5QAAAAAAAIDpAAAAAAABgOkAAAAAAAIA6QAAAAAAAwDpAAAAAAADgOkAAAAAAAOA6QAAAAAAAIDtAAAAAAABgO0AAAAAAAMA7QAAAAAAAADxAAAAAAAAAPEAAAAAAAAA8QAAAAAAAIDxAAAAAAABAPEAAAAAAAGA8QAAAAAAAwDxAAAAAAADAPEAAAAAAAMA8QAAAAAAAwDxAAAAAAAAAPUAAAAAAACA9QAAAAAAAID1AAAAAAAAgPUA=",
          "dtype": "f8"
         },
         "yaxis": "y"
        },
        {
         "hovertemplate": "treatment=mpfc<br>trial_idx=%{x}<br>efs_cumsum=%{y}<extra></extra>",
         "legendgroup": "mpfc",
         "line": {
          "color": "#EF553B",
          "dash": "solid"
         },
         "marker": {
          "symbol": "circle"
         },
         "mode": "lines",
         "name": "mpfc",
         "orientation": "v",
         "showlegend": true,
         "type": "scatter",
         "x": {
          "bdata": "AQAAAAIAAAADAAAABAAAAAUAAAAGAAAABwAAAAgAAAAJAAAACgAAAAsAAAAMAAAADQAAAA4AAAAPAAAAEAAAABEAAAASAAAAEwAAABQAAAAVAAAAFgAAABcAAAAYAAAAGQAAABoAAAAbAAAAHAAAAB0AAAAeAAAAHwAAACAAAAAhAAAAIgAAACMAAAAkAAAAJQAAACYAAAAnAAAAKAAAACkAAAAqAAAAKwAAACwAAAAtAAAALgAAAC8AAAAwAAAAMQAAADIAAAAzAAAANAAAADUAAAA2AAAANwAAADgAAAA5AAAAOgAAADsAAAA8AAAAPQAAAD4AAAA/AAAAQAAAAEEAAABCAAAAQwAAAEQAAABFAAAARgAAAEcAAABIAAAASQAAAEoAAABLAAAATAAAAE0AAABOAAAATwAAAFAAAABRAAAAUgAAAFMAAABUAAAAVQAAAFYAAABXAAAAWAAAAFkAAABaAAAAWwAAAFwAAABdAAAAXgAAAF8AAABgAAAAYQAAAGIAAABjAAAAZAAAAGUAAABmAAAAZwAAAGgAAABpAAAAagAAAGsAAABsAAAAbQAAAG4AAABvAAAAcAAAAHEAAAByAAAAcwAAAHQAAAB1AAAAdgAAAHcAAAB4AAAAeQAAAHoAAAB7AAAAfAAAAH0AAAB+AAAAfwAAAIAAAACBAAAAggAAAIMAAACEAAAAhQAAAIYAAACHAAAAiAAAAIkAAACKAAAAiwAAAIwAAACNAAAAjgAAAI8AAACQAAAAkQAAAJIAAACTAAAAlAAAAJUAAACWAAAAlwAAAJgAAACZAAAAmgAAAJsAAACcAAAAnQAAAJ4AAACfAAAAoAAAAA==",
          "dtype": "u4"
         },
         "xaxis": "x",
         "y": {
          "bdata": "AAAAAAAAAAAAAAAAAAAAAAAAAAAAAOA/ZmZmZmZm5j+amZmZmZnxP2dmZmZmZvY/mpmZmZmZ+T+amZmZmZkBQAAAAAAAAARAzczMzMzMBEBnZmZmZmYGQM3MzMzMzAhAMzMzMzMzC0BmZmZmZmYOQDMzMzMzMw9AzczMzMzMEEDNzMzMzMwQQAAAAAAAABJAzczMzMzMEkAAAAAAAAAUQM3MzMzMzBRAzczMzMzMFEAAAAAAAAAWQJqZmZmZmRdAZ2ZmZmZmGECamZmZmZkZQGdmZmZmZhpANDMzMzMzG0BnZmZmZmYcQDQzMzMzMx1AAQAAAAAAHkA0MzMzMzMfQAAAAAAAACBAZmZmZmZmIECZmZmZmZkgQGZmZmZmZiFAzMzMzMzMIUCZmZmZmZkiQP///////yJA////////IkBlZmZmZmYjQJiZmZmZmSNA/v//////I0BkZmZmZmYkQGRmZmZmZiRA/v//////JED+//////8lQJiZmZmZmSZAy8zMzMzMJkDLzMzMzMwnQDEzMzMzMyhAy8zMzMzMKED+//////8oQJiZmZmZmSlAMjMzMzMzKkCYmZmZmZkqQMvMzMzMzCpAMTMzMzMzK0BkZmZmZmYrQJeZmZmZmStAyszMzMzMK0AwMzMzMzMsQGNmZmZmZixAY2ZmZmZmLEAwMzMzMzMtQMrMzMzMzC1A/f//////LUAwMzMzMzMuQP3//////y5A/f//////LkAwMzMzMzMvQDAzMzMzMy9AMDMzMzMzL0AwMzMzMzMvQMrMzMzMzC9AyszMzMzML0D9//////8vQDIzMzMzMzBA//////9/MECZmZmZmZkwQMzMzMzMzDBA////////MED///////8wQDIzMzMzMzFAmJmZmZmZMUDLzMzMzMwxQJiZmZmZGTJAMjMzMzMzMkAyMzMzMzMyQMzMzMzMTDJAZmZmZmZmMkBmZmZmZmYyQAAAAAAAgDJAzczMzMzMMkAAAAAAAAAzQDMzMzMzMzNAZmZmZmZmM0AAAAAAAIAzQDMzMzMzszNAZmZmZmbmM0AAAAAAAAA0QM3MzMzMTDRAAAAAAACANEAAAAAAAIA0QGZmZmZm5jRAAAAAAAAANUAzMzMzMzM1QGZmZmZmZjVAAAAAAACANUAzMzMzM7M1QAAAAAAAADZAZmZmZmZmNkDMzMzMzMw2QGZmZmZm5jZAMzMzMzMzN0AzMzMzMzM3QGZmZmZmZjdAAAAAAACAN0AAAAAAAIA3QAAAAAAAgDdAmpmZmZmZN0BnZmZmZuY3QAEAAAAAADhAm5mZmZkZOEDOzMzMzEw4QAEAAAAAgDhAAQAAAACAOEA0MzMzM7M4QM7MzMzMzDhAAQAAAAAAOUA0MzMzMzM5QJqZmZmZmTlAmpmZmZmZOUCamZmZmZk5QDQzMzMzszlANDMzMzOzOUDOzMzMzMw5QM7MzMzMzDlAaGZmZmbmOUACAAAAAAA6QJyZmZmZGTpANjMzMzMzOkDQzMzMzEw6QNDMzMzMTDpAamZmZmZmOkCdmZmZmZk6QNDMzMzMzDpA0MzMzMzMOkADAAAAAAA7QDYzMzMzMztAaWZmZmZmO0BpZmZmZmY7QDYzMzMzsztAAwAAAAAAPEBpZmZmZmY8QDYzMzMzszxAaWZmZmbmPEADAAAAAAA9QNDMzMzMTD1AnZmZmZmZPUA=",
          "dtype": "f8"
         },
         "yaxis": "y"
        },
        {
         "hovertemplate": "treatment=ofc<br>trial_idx=%{x}<br>efs_cumsum=%{y}<extra></extra>",
         "legendgroup": "ofc",
         "line": {
          "color": "#00cc96",
          "dash": "solid"
         },
         "marker": {
          "symbol": "circle"
         },
         "mode": "lines",
         "name": "ofc",
         "orientation": "v",
         "showlegend": true,
         "type": "scatter",
         "x": {
          "bdata": "AQAAAAIAAAADAAAABAAAAAUAAAAGAAAABwAAAAgAAAAJAAAACgAAAAsAAAAMAAAADQAAAA4AAAAPAAAAEAAAABEAAAASAAAAEwAAABQAAAAVAAAAFgAAABcAAAAYAAAAGQAAABoAAAAbAAAAHAAAAB0AAAAeAAAAHwAAACAAAAAhAAAAIgAAACMAAAAkAAAAJQAAACYAAAAnAAAAKAAAACkAAAAqAAAAKwAAACwAAAAtAAAALgAAAC8AAAAwAAAAMQAAADIAAAAzAAAANAAAADUAAAA2AAAANwAAADgAAAA5AAAAOgAAADsAAAA8AAAAPQAAAD4AAAA/AAAAQAAAAEEAAABCAAAAQwAAAEQAAABFAAAARgAAAEcAAABIAAAASQAAAEoAAABLAAAATAAAAE0AAABOAAAATwAAAFAAAABRAAAAUgAAAFMAAABUAAAAVQAAAFYAAABXAAAAWAAAAFkAAABaAAAAWwAAAFwAAABdAAAAXgAAAF8AAABgAAAAYQAAAGIAAABjAAAAZAAAAGUAAABmAAAAZwAAAGgAAABpAAAAagAAAGsAAABsAAAAbQAAAG4AAABvAAAAcAAAAHEAAAByAAAAcwAAAHQAAAB1AAAAdgAAAHcAAAB4AAAAeQAAAHoAAAB7AAAAfAAAAH0AAAB+AAAAfwAAAIAAAACBAAAAggAAAIMAAACEAAAAhQAAAIYAAACHAAAAiAAAAIkAAACKAAAAiwAAAIwAAACNAAAAjgAAAI8AAACQAAAAkQAAAJIAAACTAAAAlAAAAJUAAACWAAAAlwAAAJgAAACZAAAAmgAAAJsAAACcAAAAnQAAAJ4AAACfAAAAoAAAAA==",
          "dtype": "u4"
         },
         "xaxis": "x",
         "y": {
          "bdata": "AAAAAAAAAAAAAAAAAAAAAFVVVVVVVeU/qqqqqqqq8j/////////3P/////////c/VFVVVVVV/T9VVVVVVVUBQAAAAAAAAARAAAAAAAAACEAAAAAAAAAIQFVVVVVVVQ1AqqqqqqqqDkCqqqqqqqoOQP///////w9AqqqqqqqqEEBVVVVVVVURQFVVVVVVVRNAVVVVVVVVFUAAAAAAAAAWQAAAAAAAABhAAAAAAAAAGEBVVVVVVVUZQAAAAAAAABxAq6qqqqqqHECrqqqqqqoeQFZVVVVVVR9AAAAAAAAAIECrqqqqqqogQAAAAAAAACFAVVVVVVVVIUAAAAAAAAAiQKuqqqqqqiJAAAAAAAAAJECrqqqqqqokQAAAAAAAACVAAAAAAAAAJkCrqqqqqqomQAAAAAAAACdAAAAAAAAAJ0CrqqqqqqonQKuqqqqqqidAVlVVVVVVKECrqqqqqqooQFZVVVVVVSlAq6qqqqqqKUCrqqqqqqopQAAAAAAAACtAVVVVVVVVK0CqqqqqqqorQP///////ytAqqqqqqqqLED///////8sQFRVVVVVVS1AqaqqqqqqLUD+//////8tQP7//////y5A/v//////LkBTVVVVVVUvQP7//////y9AqqqqqqoqMECqqqqqqiowQP//////fzBA//////9/MECqqqqqqqowQP///////zBAqqqqqqoqMUBVVVVVVVUxQKqqqqqqqjFAVVVVVVXVMUCqqqqqqioyQKqqqqqqqjJA////////MkD//////38zQKqqqqqqqjNAVVVVVVXVM0AAAAAAAAA0QAAAAAAAADRAVVVVVVVVNEAAAAAAAIA0QKuqqqqqKjVAVlVVVVVVNUCrqqqqqqo1QFZVVVVVVTZAAQAAAAAAN0BWVVVVVVU3QAEAAAAAgDdArKqqqqqqN0ABAAAAAAA4QKyqqqqqKjhAV1VVVVVVOEACAAAAAIA4QAIAAAAAgDhAV1VVVVXVOECsqqqqqio5QAEAAAAAADpArKqqqqoqOkABAAAAAIA6QKyqqqqqqjpArKqqqqoqO0BXVVVVVVU7QAIAAAAAgDtAAgAAAACAO0ACAAAAAAA8QK2qqqqqKjxAraqqqqoqPEBYVVVVVVU8QAMAAAAAgDxAAwAAAAAAPUCuqqqqqio9QFlVVVVVVT1ArqqqqqqqPUADAAAAAAA+QAMAAAAAgD5AWFVVVVXVPkADAAAAAAA/QK6qqqqqKj9AWVVVVVVVP0BZVVVVVdU/QKyqqqqqKkBAV1VVVVVVQEACAAAAAIBAQFdVVVVVlUBArKqqqqqqQEABAAAAAMBAQKyqqqqq6kBAV1VVVVUVQUCsqqqqqipBQFdVVVVVVUFArKqqqqpqQUCsqqqqqmpBQAEAAAAAgEFAVlVVVVWVQUBWVVVVVZVBQKuqqqqqqkFAq6qqqqrqQUCrqqqqqupBQFZVVVVVFUJAq6qqqqoqQkBWVVVVVVVCQFZVVVVVlUJAVlVVVVXVQkABAAAAAABDQFZVVVVVFUNAq6qqqqoqQ0CrqqqqqipDQAAAAAAAQENAq6qqqqpqQ0BWVVVVVZVDQAEAAAAAAERAVlVVVVUVRECrqqqqqipEQKuqqqqqKkRAq6qqqqoqREAAAAAAAEBEQFVVVVVVVURAAAAAAACAREBVVVVVVZVEQAAAAAAAwERAVVVVVVXVREA=",
          "dtype": "f8"
         },
         "yaxis": "y"
        }
       ],
       "layout": {
        "legend": {
         "title": {
          "text": "treatment"
         },
         "tracegroupgap": 0
        },
        "template": {
         "data": {
          "bar": [
           {
            "error_x": {
             "color": "#2a3f5f"
            },
            "error_y": {
             "color": "#2a3f5f"
            },
            "marker": {
             "line": {
              "color": "#E5ECF6",
              "width": 0.5
             },
             "pattern": {
              "fillmode": "overlay",
              "size": 10,
              "solidity": 0.2
             }
            },
            "type": "bar"
           }
          ],
          "barpolar": [
           {
            "marker": {
             "line": {
              "color": "#E5ECF6",
              "width": 0.5
             },
             "pattern": {
              "fillmode": "overlay",
              "size": 10,
              "solidity": 0.2
             }
            },
            "type": "barpolar"
           }
          ],
          "carpet": [
           {
            "aaxis": {
             "endlinecolor": "#2a3f5f",
             "gridcolor": "white",
             "linecolor": "white",
             "minorgridcolor": "white",
             "startlinecolor": "#2a3f5f"
            },
            "baxis": {
             "endlinecolor": "#2a3f5f",
             "gridcolor": "white",
             "linecolor": "white",
             "minorgridcolor": "white",
             "startlinecolor": "#2a3f5f"
            },
            "type": "carpet"
           }
          ],
          "choropleth": [
           {
            "colorbar": {
             "outlinewidth": 0,
             "ticks": ""
            },
            "type": "choropleth"
           }
          ],
          "contour": [
           {
            "colorbar": {
             "outlinewidth": 0,
             "ticks": ""
            },
            "colorscale": [
             [
              0,
              "#0d0887"
             ],
             [
              0.1111111111111111,
              "#46039f"
             ],
             [
              0.2222222222222222,
              "#7201a8"
             ],
             [
              0.3333333333333333,
              "#9c179e"
             ],
             [
              0.4444444444444444,
              "#bd3786"
             ],
             [
              0.5555555555555556,
              "#d8576b"
             ],
             [
              0.6666666666666666,
              "#ed7953"
             ],
             [
              0.7777777777777778,
              "#fb9f3a"
             ],
             [
              0.8888888888888888,
              "#fdca26"
             ],
             [
              1,
              "#f0f921"
             ]
            ],
            "type": "contour"
           }
          ],
          "contourcarpet": [
           {
            "colorbar": {
             "outlinewidth": 0,
             "ticks": ""
            },
            "type": "contourcarpet"
           }
          ],
          "heatmap": [
           {
            "colorbar": {
             "outlinewidth": 0,
             "ticks": ""
            },
            "colorscale": [
             [
              0,
              "#0d0887"
             ],
             [
              0.1111111111111111,
              "#46039f"
             ],
             [
              0.2222222222222222,
              "#7201a8"
             ],
             [
              0.3333333333333333,
              "#9c179e"
             ],
             [
              0.4444444444444444,
              "#bd3786"
             ],
             [
              0.5555555555555556,
              "#d8576b"
             ],
             [
              0.6666666666666666,
              "#ed7953"
             ],
             [
              0.7777777777777778,
              "#fb9f3a"
             ],
             [
              0.8888888888888888,
              "#fdca26"
             ],
             [
              1,
              "#f0f921"
             ]
            ],
            "type": "heatmap"
           }
          ],
          "histogram": [
           {
            "marker": {
             "pattern": {
              "fillmode": "overlay",
              "size": 10,
              "solidity": 0.2
             }
            },
            "type": "histogram"
           }
          ],
          "histogram2d": [
           {
            "colorbar": {
             "outlinewidth": 0,
             "ticks": ""
            },
            "colorscale": [
             [
              0,
              "#0d0887"
             ],
             [
              0.1111111111111111,
              "#46039f"
             ],
             [
              0.2222222222222222,
              "#7201a8"
             ],
             [
              0.3333333333333333,
              "#9c179e"
             ],
             [
              0.4444444444444444,
              "#bd3786"
             ],
             [
              0.5555555555555556,
              "#d8576b"
             ],
             [
              0.6666666666666666,
              "#ed7953"
             ],
             [
              0.7777777777777778,
              "#fb9f3a"
             ],
             [
              0.8888888888888888,
              "#fdca26"
             ],
             [
              1,
              "#f0f921"
             ]
            ],
            "type": "histogram2d"
           }
          ],
          "histogram2dcontour": [
           {
            "colorbar": {
             "outlinewidth": 0,
             "ticks": ""
            },
            "colorscale": [
             [
              0,
              "#0d0887"
             ],
             [
              0.1111111111111111,
              "#46039f"
             ],
             [
              0.2222222222222222,
              "#7201a8"
             ],
             [
              0.3333333333333333,
              "#9c179e"
             ],
             [
              0.4444444444444444,
              "#bd3786"
             ],
             [
              0.5555555555555556,
              "#d8576b"
             ],
             [
              0.6666666666666666,
              "#ed7953"
             ],
             [
              0.7777777777777778,
              "#fb9f3a"
             ],
             [
              0.8888888888888888,
              "#fdca26"
             ],
             [
              1,
              "#f0f921"
             ]
            ],
            "type": "histogram2dcontour"
           }
          ],
          "mesh3d": [
           {
            "colorbar": {
             "outlinewidth": 0,
             "ticks": ""
            },
            "type": "mesh3d"
           }
          ],
          "parcoords": [
           {
            "line": {
             "colorbar": {
              "outlinewidth": 0,
              "ticks": ""
             }
            },
            "type": "parcoords"
           }
          ],
          "pie": [
           {
            "automargin": true,
            "type": "pie"
           }
          ],
          "scatter": [
           {
            "fillpattern": {
             "fillmode": "overlay",
             "size": 10,
             "solidity": 0.2
            },
            "type": "scatter"
           }
          ],
          "scatter3d": [
           {
            "line": {
             "colorbar": {
              "outlinewidth": 0,
              "ticks": ""
             }
            },
            "marker": {
             "colorbar": {
              "outlinewidth": 0,
              "ticks": ""
             }
            },
            "type": "scatter3d"
           }
          ],
          "scattercarpet": [
           {
            "marker": {
             "colorbar": {
              "outlinewidth": 0,
              "ticks": ""
             }
            },
            "type": "scattercarpet"
           }
          ],
          "scattergeo": [
           {
            "marker": {
             "colorbar": {
              "outlinewidth": 0,
              "ticks": ""
             }
            },
            "type": "scattergeo"
           }
          ],
          "scattergl": [
           {
            "marker": {
             "colorbar": {
              "outlinewidth": 0,
              "ticks": ""
             }
            },
            "type": "scattergl"
           }
          ],
          "scattermap": [
           {
            "marker": {
             "colorbar": {
              "outlinewidth": 0,
              "ticks": ""
             }
            },
            "type": "scattermap"
           }
          ],
          "scattermapbox": [
           {
            "marker": {
             "colorbar": {
              "outlinewidth": 0,
              "ticks": ""
             }
            },
            "type": "scattermapbox"
           }
          ],
          "scatterpolar": [
           {
            "marker": {
             "colorbar": {
              "outlinewidth": 0,
              "ticks": ""
             }
            },
            "type": "scatterpolar"
           }
          ],
          "scatterpolargl": [
           {
            "marker": {
             "colorbar": {
              "outlinewidth": 0,
              "ticks": ""
             }
            },
            "type": "scatterpolargl"
           }
          ],
          "scatterternary": [
           {
            "marker": {
             "colorbar": {
              "outlinewidth": 0,
              "ticks": ""
             }
            },
            "type": "scatterternary"
           }
          ],
          "surface": [
           {
            "colorbar": {
             "outlinewidth": 0,
             "ticks": ""
            },
            "colorscale": [
             [
              0,
              "#0d0887"
             ],
             [
              0.1111111111111111,
              "#46039f"
             ],
             [
              0.2222222222222222,
              "#7201a8"
             ],
             [
              0.3333333333333333,
              "#9c179e"
             ],
             [
              0.4444444444444444,
              "#bd3786"
             ],
             [
              0.5555555555555556,
              "#d8576b"
             ],
             [
              0.6666666666666666,
              "#ed7953"
             ],
             [
              0.7777777777777778,
              "#fb9f3a"
             ],
             [
              0.8888888888888888,
              "#fdca26"
             ],
             [
              1,
              "#f0f921"
             ]
            ],
            "type": "surface"
           }
          ],
          "table": [
           {
            "cells": {
             "fill": {
              "color": "#EBF0F8"
             },
             "line": {
              "color": "white"
             }
            },
            "header": {
             "fill": {
              "color": "#C8D4E3"
             },
             "line": {
              "color": "white"
             }
            },
            "type": "table"
           }
          ]
         },
         "layout": {
          "annotationdefaults": {
           "arrowcolor": "#2a3f5f",
           "arrowhead": 0,
           "arrowwidth": 1
          },
          "autotypenumbers": "strict",
          "coloraxis": {
           "colorbar": {
            "outlinewidth": 0,
            "ticks": ""
           }
          },
          "colorscale": {
           "diverging": [
            [
             0,
             "#8e0152"
            ],
            [
             0.1,
             "#c51b7d"
            ],
            [
             0.2,
             "#de77ae"
            ],
            [
             0.3,
             "#f1b6da"
            ],
            [
             0.4,
             "#fde0ef"
            ],
            [
             0.5,
             "#f7f7f7"
            ],
            [
             0.6,
             "#e6f5d0"
            ],
            [
             0.7,
             "#b8e186"
            ],
            [
             0.8,
             "#7fbc41"
            ],
            [
             0.9,
             "#4d9221"
            ],
            [
             1,
             "#276419"
            ]
           ],
           "sequential": [
            [
             0,
             "#0d0887"
            ],
            [
             0.1111111111111111,
             "#46039f"
            ],
            [
             0.2222222222222222,
             "#7201a8"
            ],
            [
             0.3333333333333333,
             "#9c179e"
            ],
            [
             0.4444444444444444,
             "#bd3786"
            ],
            [
             0.5555555555555556,
             "#d8576b"
            ],
            [
             0.6666666666666666,
             "#ed7953"
            ],
            [
             0.7777777777777778,
             "#fb9f3a"
            ],
            [
             0.8888888888888888,
             "#fdca26"
            ],
            [
             1,
             "#f0f921"
            ]
           ],
           "sequentialminus": [
            [
             0,
             "#0d0887"
            ],
            [
             0.1111111111111111,
             "#46039f"
            ],
            [
             0.2222222222222222,
             "#7201a8"
            ],
            [
             0.3333333333333333,
             "#9c179e"
            ],
            [
             0.4444444444444444,
             "#bd3786"
            ],
            [
             0.5555555555555556,
             "#d8576b"
            ],
            [
             0.6666666666666666,
             "#ed7953"
            ],
            [
             0.7777777777777778,
             "#fb9f3a"
            ],
            [
             0.8888888888888888,
             "#fdca26"
            ],
            [
             1,
             "#f0f921"
            ]
           ]
          },
          "colorway": [
           "#636efa",
           "#EF553B",
           "#00cc96",
           "#ab63fa",
           "#FFA15A",
           "#19d3f3",
           "#FF6692",
           "#B6E880",
           "#FF97FF",
           "#FECB52"
          ],
          "font": {
           "color": "#2a3f5f"
          },
          "geo": {
           "bgcolor": "white",
           "lakecolor": "white",
           "landcolor": "#E5ECF6",
           "showlakes": true,
           "showland": true,
           "subunitcolor": "white"
          },
          "hoverlabel": {
           "align": "left"
          },
          "hovermode": "closest",
          "mapbox": {
           "style": "light"
          },
          "paper_bgcolor": "white",
          "plot_bgcolor": "#E5ECF6",
          "polar": {
           "angularaxis": {
            "gridcolor": "white",
            "linecolor": "white",
            "ticks": ""
           },
           "bgcolor": "#E5ECF6",
           "radialaxis": {
            "gridcolor": "white",
            "linecolor": "white",
            "ticks": ""
           }
          },
          "scene": {
           "xaxis": {
            "backgroundcolor": "#E5ECF6",
            "gridcolor": "white",
            "gridwidth": 2,
            "linecolor": "white",
            "showbackground": true,
            "ticks": "",
            "zerolinecolor": "white"
           },
           "yaxis": {
            "backgroundcolor": "#E5ECF6",
            "gridcolor": "white",
            "gridwidth": 2,
            "linecolor": "white",
            "showbackground": true,
            "ticks": "",
            "zerolinecolor": "white"
           },
           "zaxis": {
            "backgroundcolor": "#E5ECF6",
            "gridcolor": "white",
            "gridwidth": 2,
            "linecolor": "white",
            "showbackground": true,
            "ticks": "",
            "zerolinecolor": "white"
           }
          },
          "shapedefaults": {
           "line": {
            "color": "#2a3f5f"
           }
          },
          "ternary": {
           "aaxis": {
            "gridcolor": "white",
            "linecolor": "white",
            "ticks": ""
           },
           "baxis": {
            "gridcolor": "white",
            "linecolor": "white",
            "ticks": ""
           },
           "bgcolor": "#E5ECF6",
           "caxis": {
            "gridcolor": "white",
            "linecolor": "white",
            "ticks": ""
           }
          },
          "title": {
           "x": 0.05
          },
          "xaxis": {
           "automargin": true,
           "gridcolor": "white",
           "linecolor": "white",
           "ticks": "",
           "title": {
            "standoff": 15
           },
           "zerolinecolor": "white",
           "zerolinewidth": 2
          },
          "yaxis": {
           "automargin": true,
           "gridcolor": "white",
           "linecolor": "white",
           "ticks": "",
           "title": {
            "standoff": 15
           },
           "zerolinecolor": "white",
           "zerolinewidth": 2
          }
         }
        },
        "title": {
         "text": "Cumulative sum of EFS over post-lesion session 1"
        },
        "xaxis": {
         "anchor": "y",
         "domain": [
          0,
          1
         ],
         "title": {
          "text": "trial_idx"
         }
        },
        "yaxis": {
         "anchor": "x",
         "domain": [
          0,
          1
         ],
         "title": {
          "text": "efs_cumsum"
         }
        }
       }
      }
     },
     "metadata": {},
     "output_type": "display_data"
    }
   ],
   "source": [
    "px.line(\n",
    "    efs_by_trt_trial,\n",
    "    x=\"trial_idx\", \n",
    "    y=\"efs_cumsum\", \n",
    "    color=\"treatment\",\n",
    "    category_orders=cat,\n",
    "    title=\"Cumulative sum of EFS over post-lesion session 1\"\n",
    ")"
   ]
  },
  {
   "cell_type": "markdown",
   "id": "135a6e30",
   "metadata": {},
   "source": [
    "## EFS cumulative sum in first 3 sessions"
   ]
  },
  {
   "cell_type": "markdown",
   "id": "09c8bb79",
   "metadata": {},
   "source": [
    "Truncate the data to the 3 sessions"
   ]
  },
  {
   "cell_type": "code",
   "execution_count": 43,
   "id": "5369dde0",
   "metadata": {},
   "outputs": [],
   "source": [
    "tdf_trunc = tdf.filter(pl.col(\"session_idx\") <= 3)"
   ]
  },
  {
   "cell_type": "markdown",
   "id": "915968a6",
   "metadata": {},
   "source": [
    "Truncate the data to the lowest number of trials"
   ]
  },
  {
   "cell_type": "code",
   "execution_count": 44,
   "id": "ce34c919",
   "metadata": {},
   "outputs": [
    {
     "data": {
      "text/plain": [
       "152"
      ]
     },
     "execution_count": 44,
     "metadata": {},
     "output_type": "execute_result"
    }
   ],
   "source": [
    "max_trials = (\n",
    "    tdf_trunc\n",
    "    .group_by([\"animal_id\", \"session_idx\"])\n",
    "    .agg(pl.col(\"trial_idx\").max().alias(\"num_trials\"))\n",
    ")\n",
    "min_ses = max_trials[\"num_trials\"].min()\n",
    "min_ses\n",
    "tdf_trunc = tdf_trunc.filter(pl.col(\"trial_idx\") <= min_ses)\n",
    "tdf_trunc[\"trial_idx\"].max()"
   ]
  },
  {
   "cell_type": "markdown",
   "id": "04bdfcc9",
   "metadata": {},
   "source": [
    "Make the average EFS column"
   ]
  },
  {
   "cell_type": "code",
   "execution_count": 68,
   "id": "6075535d",
   "metadata": {},
   "outputs": [],
   "source": [
    "tdf_efs = (\n",
    "    tdf_trunc\n",
    "    .select(\"treatment\", \"session_idx\", \"trial_idx\", \"EFS_before_flg\")\n",
    "    .group_by([\"treatment\", \"session_idx\", \"trial_idx\"])\n",
    "    .agg([\n",
    "        pl.mean(\"EFS_before_flg\").alias(\"efs_mean\"),\n",
    "        pl.len().alias(\"n\"),\n",
    "        pl.col(\"EFS_before_flg\").cast(pl.Int8).sum().alias(\"n_efs\") \n",
    "    ])\n",
    ")"
   ]
  },
  {
   "cell_type": "markdown",
   "id": "be07344f",
   "metadata": {},
   "source": [
    "Make the cumulative sum of mean EFS column"
   ]
  },
  {
   "cell_type": "code",
   "execution_count": 69,
   "id": "5547a3ca",
   "metadata": {},
   "outputs": [
    {
     "data": {
      "text/html": [
       "<div><style>\n",
       ".dataframe > thead > tr,\n",
       ".dataframe > tbody > tr {\n",
       "  text-align: right;\n",
       "  white-space: pre-wrap;\n",
       "}\n",
       "</style>\n",
       "<small>shape: (1_368, 7)</small><table border=\"1\" class=\"dataframe\"><thead><tr><th>treatment</th><th>session_idx</th><th>trial_idx</th><th>efs_mean</th><th>n</th><th>n_efs</th><th>efs_cumsum</th></tr><tr><td>cat</td><td>i32</td><td>u32</td><td>f64</td><td>u32</td><td>i64</td><td>f64</td></tr></thead><tbody><tr><td>&quot;mpfc&quot;</td><td>1</td><td>1</td><td>null</td><td>10</td><td>0</td><td>0.0</td></tr><tr><td>&quot;mpfc&quot;</td><td>1</td><td>2</td><td>null</td><td>10</td><td>0</td><td>0.0</td></tr><tr><td>&quot;mpfc&quot;</td><td>1</td><td>3</td><td>0.5</td><td>10</td><td>5</td><td>0.5</td></tr><tr><td>&quot;mpfc&quot;</td><td>1</td><td>4</td><td>0.2</td><td>10</td><td>2</td><td>0.7</td></tr><tr><td>&quot;mpfc&quot;</td><td>1</td><td>5</td><td>0.4</td><td>10</td><td>4</td><td>1.1</td></tr><tr><td>&hellip;</td><td>&hellip;</td><td>&hellip;</td><td>&hellip;</td><td>&hellip;</td><td>&hellip;</td><td>&hellip;</td></tr><tr><td>&quot;sham&quot;</td><td>3</td><td>148</td><td>0.125</td><td>8</td><td>1</td><td>22.25</td></tr><tr><td>&quot;sham&quot;</td><td>3</td><td>149</td><td>0.25</td><td>8</td><td>2</td><td>22.5</td></tr><tr><td>&quot;sham&quot;</td><td>3</td><td>150</td><td>0.125</td><td>8</td><td>1</td><td>22.625</td></tr><tr><td>&quot;sham&quot;</td><td>3</td><td>151</td><td>0.25</td><td>8</td><td>2</td><td>22.875</td></tr><tr><td>&quot;sham&quot;</td><td>3</td><td>152</td><td>0.25</td><td>8</td><td>2</td><td>23.125</td></tr></tbody></table></div>"
      ],
      "text/plain": [
       "shape: (1_368, 7)\n",
       "┌───────────┬─────────────┬───────────┬──────────┬─────┬───────┬────────────┐\n",
       "│ treatment ┆ session_idx ┆ trial_idx ┆ efs_mean ┆ n   ┆ n_efs ┆ efs_cumsum │\n",
       "│ ---       ┆ ---         ┆ ---       ┆ ---      ┆ --- ┆ ---   ┆ ---        │\n",
       "│ cat       ┆ i32         ┆ u32       ┆ f64      ┆ u32 ┆ i64   ┆ f64        │\n",
       "╞═══════════╪═════════════╪═══════════╪══════════╪═════╪═══════╪════════════╡\n",
       "│ mpfc      ┆ 1           ┆ 1         ┆ null     ┆ 10  ┆ 0     ┆ 0.0        │\n",
       "│ mpfc      ┆ 1           ┆ 2         ┆ null     ┆ 10  ┆ 0     ┆ 0.0        │\n",
       "│ mpfc      ┆ 1           ┆ 3         ┆ 0.5      ┆ 10  ┆ 5     ┆ 0.5        │\n",
       "│ mpfc      ┆ 1           ┆ 4         ┆ 0.2      ┆ 10  ┆ 2     ┆ 0.7        │\n",
       "│ mpfc      ┆ 1           ┆ 5         ┆ 0.4      ┆ 10  ┆ 4     ┆ 1.1        │\n",
       "│ …         ┆ …           ┆ …         ┆ …        ┆ …   ┆ …     ┆ …          │\n",
       "│ sham      ┆ 3           ┆ 148       ┆ 0.125    ┆ 8   ┆ 1     ┆ 22.25      │\n",
       "│ sham      ┆ 3           ┆ 149       ┆ 0.25     ┆ 8   ┆ 2     ┆ 22.5       │\n",
       "│ sham      ┆ 3           ┆ 150       ┆ 0.125    ┆ 8   ┆ 1     ┆ 22.625     │\n",
       "│ sham      ┆ 3           ┆ 151       ┆ 0.25     ┆ 8   ┆ 2     ┆ 22.875     │\n",
       "│ sham      ┆ 3           ┆ 152       ┆ 0.25     ┆ 8   ┆ 2     ┆ 23.125     │\n",
       "└───────────┴─────────────┴───────────┴──────────┴─────┴───────┴────────────┘"
      ]
     },
     "execution_count": 69,
     "metadata": {},
     "output_type": "execute_result"
    }
   ],
   "source": [
    "tdf_efs = (\n",
    "    tdf_efs\n",
    "    .sort([\"treatment\", \"session_idx\", \"trial_idx\"])\n",
    "    .with_columns(\n",
    "        pl.col(\"efs_mean\")\n",
    "        .fill_null(0)\n",
    "        .cum_sum()\n",
    "        .over([\"treatment\", \"session_idx\"])\n",
    "        .alias(\"efs_cumsum\")\n",
    "    )\n",
    ")\n",
    "tdf_efs"
   ]
  },
  {
   "cell_type": "markdown",
   "id": "8f1bc422",
   "metadata": {},
   "source": [
    "Create a category map for plotting"
   ]
  },
  {
   "cell_type": "code",
   "execution_count": 70,
   "id": "43b45e3e",
   "metadata": {},
   "outputs": [],
   "source": [
    "cat_orders = {\n",
    "    \"treatment\": cat[\"treatment\"], # Re-using map from above for consistency\n",
    "    \"session_idx\": [1, 2, 3]\n",
    "}"
   ]
  },
  {
   "cell_type": "markdown",
   "id": "2d3735eb",
   "metadata": {},
   "source": [
    "Plot cumulative sum of mean EFS for each session"
   ]
  },
  {
   "cell_type": "code",
   "execution_count": 71,
   "id": "76b688c9",
   "metadata": {},
   "outputs": [
    {
     "data": {
      "application/vnd.plotly.v1+json": {
       "config": {
        "plotlyServerURL": "https://plot.ly"
       },
       "data": [
        {
         "hovertemplate": "treatment=sham<br>session_idx=1<br>trial_idx=%{x}<br>efs_cumsum=%{y}<extra></extra>",
         "legendgroup": "sham",
         "line": {
          "color": "#636efa",
          "dash": "solid"
         },
         "marker": {
          "symbol": "circle"
         },
         "mode": "lines",
         "name": "sham",
         "showlegend": true,
         "type": "scattergl",
         "x": {
          "bdata": "AQAAAAIAAAADAAAABAAAAAUAAAAGAAAABwAAAAgAAAAJAAAACgAAAAsAAAAMAAAADQAAAA4AAAAPAAAAEAAAABEAAAASAAAAEwAAABQAAAAVAAAAFgAAABcAAAAYAAAAGQAAABoAAAAbAAAAHAAAAB0AAAAeAAAAHwAAACAAAAAhAAAAIgAAACMAAAAkAAAAJQAAACYAAAAnAAAAKAAAACkAAAAqAAAAKwAAACwAAAAtAAAALgAAAC8AAAAwAAAAMQAAADIAAAAzAAAANAAAADUAAAA2AAAANwAAADgAAAA5AAAAOgAAADsAAAA8AAAAPQAAAD4AAAA/AAAAQAAAAEEAAABCAAAAQwAAAEQAAABFAAAARgAAAEcAAABIAAAASQAAAEoAAABLAAAATAAAAE0AAABOAAAATwAAAFAAAABRAAAAUgAAAFMAAABUAAAAVQAAAFYAAABXAAAAWAAAAFkAAABaAAAAWwAAAFwAAABdAAAAXgAAAF8AAABgAAAAYQAAAGIAAABjAAAAZAAAAGUAAABmAAAAZwAAAGgAAABpAAAAagAAAGsAAABsAAAAbQAAAG4AAABvAAAAcAAAAHEAAAByAAAAcwAAAHQAAAB1AAAAdgAAAHcAAAB4AAAAeQAAAHoAAAB7AAAAfAAAAH0AAAB+AAAAfwAAAIAAAACBAAAAggAAAIMAAACEAAAAhQAAAIYAAACHAAAAiAAAAIkAAACKAAAAiwAAAIwAAACNAAAAjgAAAI8AAACQAAAAkQAAAJIAAACTAAAAlAAAAJUAAACWAAAAlwAAAJgAAAA=",
          "dtype": "u4"
         },
         "xaxis": "x3",
         "y": {
          "bdata": "AAAAAAAAAAAAAAAAAAAAAAAAAAAAAOQ/AAAAAAAA7D8AAAAAAAD0PwAAAAAAAPg/AAAAAAAA/D8AAAAAAAAAQAAAAAAAAABAAAAAAAAAAEAAAAAAAAACQAAAAAAAAAVAAAAAAAAAB0AAAAAAAAAIQAAAAAAAAAlAAAAAAAAAC0AAAAAAAAANQAAAAAAAAA9AAAAAAAAAEUAAAAAAAIARQAAAAAAAgBFAAAAAAACAEkAAAAAAAAATQAAAAAAAABRAAAAAAAAAFEAAAAAAAIAUQAAAAAAAABVAAAAAAACAFUAAAAAAAAAWQAAAAAAAABdAAAAAAAAAF0AAAAAAAAAYQAAAAAAAgBhAAAAAAACAGUAAAAAAAAAbQAAAAAAAABtAAAAAAACAG0AAAAAAAIAcQAAAAAAAgB1AAAAAAACAHkAAAAAAAIAeQAAAAAAAAB9AAAAAAABAIEAAAAAAAEAgQAAAAAAAgCBAAAAAAAAAIUAAAAAAAIAhQAAAAAAAwCFAAAAAAAAAIkAAAAAAAIAiQAAAAAAAACNAAAAAAAAAJEAAAAAAAIAkQAAAAAAAwCRAAAAAAAAAJUAAAAAAAEAlQAAAAAAAQCVAAAAAAABAJUAAAAAAAIAlQAAAAAAAwCZAAAAAAABAJ0AAAAAAAIAnQAAAAAAAAChAAAAAAABAKEAAAAAAAMAoQAAAAAAAAClAAAAAAAAAKUAAAAAAAEApQAAAAAAAgClAAAAAAAAAKkAAAAAAAEAqQAAAAAAAgCpAAAAAAADAKkAAAAAAAEArQAAAAAAAwCtAAAAAAABALEAAAAAAAIAsQAAAAAAAgCxAAAAAAADALEAAAAAAAIAtQAAAAAAAAC5AAAAAAABALkAAAAAAAMAuQAAAAAAAAC9AAAAAAAAAMEAAAAAAAGAwQAAAAAAAgDBAAAAAAADAMEAAAAAAAAAxQAAAAAAAADFAAAAAAABAMUAAAAAAAGAxQAAAAAAAYDFAAAAAAADAMUAAAAAAAMAxQAAAAAAAIDJAAAAAAAAgMkAAAAAAAGAyQAAAAAAAgDJAAAAAAACgMkAAAAAAAMAyQAAAAAAAIDNAAAAAAACAM0AAAAAAAKAzQAAAAAAAwDNAAAAAAADAM0AAAAAAAAA0QAAAAAAAYDRAAAAAAABgNEAAAAAAAGA0QAAAAAAAwDRAAAAAAADANEAAAAAAAAA1QAAAAAAAADVAAAAAAABANUAAAAAAAMA1QAAAAAAA4DVAAAAAAABANkAAAAAAAKA2QAAAAAAAADdAAAAAAAAAN0AAAAAAACA3QAAAAAAAIDdAAAAAAABAN0AAAAAAAIA3QAAAAAAAoDdAAAAAAADgN0AAAAAAAEA4QAAAAAAAYDhAAAAAAABgOEAAAAAAAIA4QAAAAAAAwDhAAAAAAAAAOUAAAAAAAEA5QAAAAAAAQDlAAAAAAADAOUAAAAAAAOA5QAAAAAAAIDpAAAAAAABgOkAAAAAAAIA6QAAAAAAAwDpAAAAAAADgOkAAAAAAAOA6QAAAAAAAIDtAAAAAAABgO0AAAAAAAMA7QAAAAAAAADxAAAAAAAAAPEAAAAAAAAA8QAAAAAAAIDxAAAAAAABAPEAAAAAAAGA8QA==",
          "dtype": "f8"
         },
         "yaxis": "y3"
        },
        {
         "hovertemplate": "treatment=sham<br>session_idx=2<br>trial_idx=%{x}<br>efs_cumsum=%{y}<extra></extra>",
         "legendgroup": "sham",
         "line": {
          "color": "#636efa",
          "dash": "solid"
         },
         "marker": {
          "symbol": "circle"
         },
         "mode": "lines",
         "name": "sham",
         "showlegend": false,
         "type": "scattergl",
         "x": {
          "bdata": "AQAAAAIAAAADAAAABAAAAAUAAAAGAAAABwAAAAgAAAAJAAAACgAAAAsAAAAMAAAADQAAAA4AAAAPAAAAEAAAABEAAAASAAAAEwAAABQAAAAVAAAAFgAAABcAAAAYAAAAGQAAABoAAAAbAAAAHAAAAB0AAAAeAAAAHwAAACAAAAAhAAAAIgAAACMAAAAkAAAAJQAAACYAAAAnAAAAKAAAACkAAAAqAAAAKwAAACwAAAAtAAAALgAAAC8AAAAwAAAAMQAAADIAAAAzAAAANAAAADUAAAA2AAAANwAAADgAAAA5AAAAOgAAADsAAAA8AAAAPQAAAD4AAAA/AAAAQAAAAEEAAABCAAAAQwAAAEQAAABFAAAARgAAAEcAAABIAAAASQAAAEoAAABLAAAATAAAAE0AAABOAAAATwAAAFAAAABRAAAAUgAAAFMAAABUAAAAVQAAAFYAAABXAAAAWAAAAFkAAABaAAAAWwAAAFwAAABdAAAAXgAAAF8AAABgAAAAYQAAAGIAAABjAAAAZAAAAGUAAABmAAAAZwAAAGgAAABpAAAAagAAAGsAAABsAAAAbQAAAG4AAABvAAAAcAAAAHEAAAByAAAAcwAAAHQAAAB1AAAAdgAAAHcAAAB4AAAAeQAAAHoAAAB7AAAAfAAAAH0AAAB+AAAAfwAAAIAAAACBAAAAggAAAIMAAACEAAAAhQAAAIYAAACHAAAAiAAAAIkAAACKAAAAiwAAAIwAAACNAAAAjgAAAI8AAACQAAAAkQAAAJIAAACTAAAAlAAAAJUAAACWAAAAlwAAAJgAAAA=",
          "dtype": "u4"
         },
         "xaxis": "x2",
         "y": {
          "bdata": "AAAAAAAAAAAAAAAAAAAAAAAAAAAAAOQ/AAAAAAAA9D8AAAAAAAD4PwAAAAAAAABAAAAAAAAAA0AAAAAAAAAFQAAAAAAAAApAAAAAAAAADUAAAAAAAAAQQAAAAAAAABFAAAAAAAAAEkAAAAAAAIAVQAAAAAAAABhAAAAAAACAGEAAAAAAAAAZQAAAAAAAgBtAAAAAAAAAHUAAAAAAAIAeQAAAAAAAACBAAAAAAAAAIUAAAAAAAMAhQAAAAAAAACJAAAAAAABAIkAAAAAAAMAiQAAAAAAAwCJAAAAAAADAI0AAAAAAAMAjQAAAAAAAwCNAAAAAAABAJEAAAAAAAAAlQAAAAAAAQCVAAAAAAACAJUAAAAAAAIAlQAAAAAAAwCVAAAAAAABAJkAAAAAAAIAmQAAAAAAAwCZAAAAAAABAJ0AAAAAAAMAnQAAAAAAAAChAAAAAAABAKEAAAAAAAIAoQAAAAAAAwChAAAAAAAAAKUAAAAAAAEApQAAAAAAAwClAAAAAAADAKkAAAAAAAMAqQAAAAAAAgCtAAAAAAACAK0AAAAAAAIArQAAAAAAAACxAAAAAAABALEAAAAAAAIAsQAAAAAAAwCxAAAAAAADALEAAAAAAAAAtQAAAAAAAAC1AAAAAAACALUAAAAAAAAAuQAAAAAAAAC9AAAAAAACAL0AAAAAAAMAvQAAAAAAAQDBAAAAAAACgMEAAAAAAAMAwQAAAAAAA4DBAAAAAAAAAMUAAAAAAACAxQAAAAAAAYDFAAAAAAACAMUAAAAAAAIAxQAAAAAAA4DFAAAAAAADgMUAAAAAAACAyQAAAAAAAIDJAAAAAAABgMkAAAAAAAGAyQAAAAAAAgDJAAAAAAADAMkAAAAAAAOAyQAAAAAAAIDNAAAAAAABgM0AAAAAAAGAzQAAAAAAAoDNAAAAAAACgM0AAAAAAAKAzQAAAAAAAADRAAAAAAAAgNEAAAAAAAIA0QAAAAAAAoDRAkiRJkiTpNECSJEmSJAk1QJIkSZIkSTVAkiRJkiSJNUCSJEmSJKk1QJIkSZIkyTVAkiRJkiQJNkCSJEmSJCk2QJIkSZIkSTZAkiRJkiRpNkCSJEmSJGk2QJIkSZIkiTZAkiRJkiSJNkCSJEmSJIk2QJIkSZIkiTZAkiRJkiSpNkCSJEmSJAk3QJIkSZIkKTdAkiRJkiRJN0CSJEmSJEk3QJIkSZIkaTdAkiRJkiSJN0CSJEmSJIk3QJIkSZIkiTdAkiRJkiSpN0CSJEmSJKk3QJIkSZIkqTdAkiRJkiSpN0CSJEmSJMk3QJIkSZIkCThAkiRJkiQJOECSJEmSJCk4QJIkSZIkSThAkiRJkiRpOECSJEmSJOk4QJIkSZIkKTlAkiRJkiQpOUCSJEmSJGk5QJIkSZIkaTlAkiRJkiTJOUCSJEmSJOk5QJIkSZIk6TlAkiRJkiRJOkCSJEmSJKk6QJIkSZIkKTtAkiRJkiSpO0CSJEmSJCk8QJIkSZIkaTxAkiRJkiTJPECSJEmSJAk9QJIkSZIkST1AkiRJkiSpPUCSJEmSJOk9QJIkSZIk6T1AkiRJkiTpPUCSJEmSJCk+QJIkSZIkST5AkiRJkiSpPkCSJEmSJKk+QA==",
          "dtype": "f8"
         },
         "yaxis": "y2"
        },
        {
         "hovertemplate": "treatment=sham<br>session_idx=3<br>trial_idx=%{x}<br>efs_cumsum=%{y}<extra></extra>",
         "legendgroup": "sham",
         "line": {
          "color": "#636efa",
          "dash": "solid"
         },
         "marker": {
          "symbol": "circle"
         },
         "mode": "lines",
         "name": "sham",
         "showlegend": false,
         "type": "scattergl",
         "x": {
          "bdata": "AQAAAAIAAAADAAAABAAAAAUAAAAGAAAABwAAAAgAAAAJAAAACgAAAAsAAAAMAAAADQAAAA4AAAAPAAAAEAAAABEAAAASAAAAEwAAABQAAAAVAAAAFgAAABcAAAAYAAAAGQAAABoAAAAbAAAAHAAAAB0AAAAeAAAAHwAAACAAAAAhAAAAIgAAACMAAAAkAAAAJQAAACYAAAAnAAAAKAAAACkAAAAqAAAAKwAAACwAAAAtAAAALgAAAC8AAAAwAAAAMQAAADIAAAAzAAAANAAAADUAAAA2AAAANwAAADgAAAA5AAAAOgAAADsAAAA8AAAAPQAAAD4AAAA/AAAAQAAAAEEAAABCAAAAQwAAAEQAAABFAAAARgAAAEcAAABIAAAASQAAAEoAAABLAAAATAAAAE0AAABOAAAATwAAAFAAAABRAAAAUgAAAFMAAABUAAAAVQAAAFYAAABXAAAAWAAAAFkAAABaAAAAWwAAAFwAAABdAAAAXgAAAF8AAABgAAAAYQAAAGIAAABjAAAAZAAAAGUAAABmAAAAZwAAAGgAAABpAAAAagAAAGsAAABsAAAAbQAAAG4AAABvAAAAcAAAAHEAAAByAAAAcwAAAHQAAAB1AAAAdgAAAHcAAAB4AAAAeQAAAHoAAAB7AAAAfAAAAH0AAAB+AAAAfwAAAIAAAACBAAAAggAAAIMAAACEAAAAhQAAAIYAAACHAAAAiAAAAIkAAACKAAAAiwAAAIwAAACNAAAAjgAAAI8AAACQAAAAkQAAAJIAAACTAAAAlAAAAJUAAACWAAAAlwAAAJgAAAA=",
          "dtype": "u4"
         },
         "xaxis": "x",
         "y": {
          "bdata": "AAAAAAAAAAAAAAAAAAAAAAAAAAAAAOg/AAAAAAAA9D8AAAAAAAD4PwAAAAAAAP4/AAAAAAAAAUAAAAAAAAACQAAAAAAAAANAAAAAAAAABEAAAAAAAAAHQAAAAAAAAAhAAAAAAAAACEAAAAAAAAAIQAAAAAAAAAlAAAAAAAAADEAAAAAAAAANQAAAAAAAAA5AAAAAAAAAEEAAAAAAAIARQAAAAAAAgBJAAAAAAAAAE0AAAAAAAAAUQAAAAAAAABRAAAAAAACAFEAAAAAAAIAUQAAAAAAAABVAAAAAAACAFUAAAAAAAIAVQAAAAAAAABZAAAAAAACAFkAAAAAAAAAXQAAAAAAAgBdAAAAAAAAAGUAAAAAAAIAZQAAAAAAAgBpAAAAAAAAAHEAAAAAAAIAcQAAAAAAAgB1AAAAAAACAHUAAAAAAAAAeQAAAAAAAgB5AAAAAAAAAH0AAAAAAAIAfQAAAAAAAQCBAAAAAAABAIEAAAAAAAIAgQAAAAAAAQCFAAAAAAABAIUAAAAAAAMAhQAAAAAAAwCFAAAAAAAAAIkAAAAAAAEAiQAAAAAAAACNAAAAAAAAAI0AAAAAAAEAkQAAAAAAAgCRAAAAAAAAAJUAAAAAAAEAlQAAAAAAAACZAAAAAAABAJkAAAAAAAMAmQAAAAAAAgCdAAAAAAACAJ0AAAAAAAIAnQAAAAAAAwCdAAAAAAADAJ0AAAAAAAEAoQAAAAAAAgChAAAAAAAAAKUAAAAAAAAApQAAAAAAAQClAAAAAAACAKUAAAAAAAMApQAAAAAAAACpAAAAAAABAKkAAAAAAAMAqQAAAAAAAACtAAAAAAABAK0AAAAAAAIArQAAAAAAAwCtAAAAAAAAALEAAAAAAAAAsQAAAAAAAgCxAAAAAAAAALUAAAAAAAEAtQAAAAAAAgC1AAAAAAADALUAAAAAAAMAtQAAAAAAAwC1AAAAAAAAALkAAAAAAAAAuQAAAAAAAAC5AAAAAAACALkAAAAAAAAAvQAAAAAAAADBAAAAAAAAAMEAAAAAAAEAwQAAAAAAAQDBAAAAAAABAMEAAAAAAAGAwQAAAAAAAgDBAAAAAAACAMEAAAAAAAIAwQAAAAAAAgDBAAAAAAADAMEAAAAAAAMAwQAAAAAAA4DBAAAAAAADgMEAAAAAAAEAxQAAAAAAAQDFAAAAAAACAMUAAAAAAAKAxQAAAAAAAwDFAAAAAAADAMUAAAAAAAOAxQAAAAAAAIDJAAAAAAAAgMkAAAAAAAEAyQAAAAAAAoDJAAAAAAADAMkAAAAAAAAAzQAAAAAAAIDNAAAAAAABAM0AAAAAAAGAzQAAAAAAAYDNAAAAAAACAM0AAAAAAAIAzQAAAAAAAgDNAAAAAAAAANEAAAAAAAAA0QAAAAAAAADRAAAAAAABANEAAAAAAAGA0QAAAAAAAYDRAAAAAAACANEAAAAAAAOA0QAAAAAAAADVAAAAAAAAANUAAAAAAAEA1QAAAAAAAgDVAAAAAAACgNUAAAAAAAKA1QAAAAAAAwDVAAAAAAAAgNkAAAAAAACA2QAAAAAAAIDZAAAAAAABANkAAAAAAAIA2QAAAAAAAoDZAAAAAAADgNkAAAAAAACA3QA==",
          "dtype": "f8"
         },
         "yaxis": "y"
        },
        {
         "hovertemplate": "treatment=mpfc<br>session_idx=1<br>trial_idx=%{x}<br>efs_cumsum=%{y}<extra></extra>",
         "legendgroup": "mpfc",
         "line": {
          "color": "#EF553B",
          "dash": "solid"
         },
         "marker": {
          "symbol": "circle"
         },
         "mode": "lines",
         "name": "mpfc",
         "showlegend": true,
         "type": "scattergl",
         "x": {
          "bdata": "AQAAAAIAAAADAAAABAAAAAUAAAAGAAAABwAAAAgAAAAJAAAACgAAAAsAAAAMAAAADQAAAA4AAAAPAAAAEAAAABEAAAASAAAAEwAAABQAAAAVAAAAFgAAABcAAAAYAAAAGQAAABoAAAAbAAAAHAAAAB0AAAAeAAAAHwAAACAAAAAhAAAAIgAAACMAAAAkAAAAJQAAACYAAAAnAAAAKAAAACkAAAAqAAAAKwAAACwAAAAtAAAALgAAAC8AAAAwAAAAMQAAADIAAAAzAAAANAAAADUAAAA2AAAANwAAADgAAAA5AAAAOgAAADsAAAA8AAAAPQAAAD4AAAA/AAAAQAAAAEEAAABCAAAAQwAAAEQAAABFAAAARgAAAEcAAABIAAAASQAAAEoAAABLAAAATAAAAE0AAABOAAAATwAAAFAAAABRAAAAUgAAAFMAAABUAAAAVQAAAFYAAABXAAAAWAAAAFkAAABaAAAAWwAAAFwAAABdAAAAXgAAAF8AAABgAAAAYQAAAGIAAABjAAAAZAAAAGUAAABmAAAAZwAAAGgAAABpAAAAagAAAGsAAABsAAAAbQAAAG4AAABvAAAAcAAAAHEAAAByAAAAcwAAAHQAAAB1AAAAdgAAAHcAAAB4AAAAeQAAAHoAAAB7AAAAfAAAAH0AAAB+AAAAfwAAAIAAAACBAAAAggAAAIMAAACEAAAAhQAAAIYAAACHAAAAiAAAAIkAAACKAAAAiwAAAIwAAACNAAAAjgAAAI8AAACQAAAAkQAAAJIAAACTAAAAlAAAAJUAAACWAAAAlwAAAJgAAAA=",
          "dtype": "u4"
         },
         "xaxis": "x3",
         "y": {
          "bdata": "AAAAAAAAAAAAAAAAAAAAAAAAAAAAAOA/ZmZmZmZm5j+amZmZmZnxP2dmZmZmZvY/mpmZmZmZ+T+amZmZmZkBQAAAAAAAAARAzczMzMzMBEBnZmZmZmYGQM3MzMzMzAhAMzMzMzMzC0BmZmZmZmYOQDMzMzMzMw9AzczMzMzMEEDNzMzMzMwQQAAAAAAAABJAzczMzMzMEkAAAAAAAAAUQM3MzMzMzBRAzczMzMzMFEAAAAAAAAAWQJqZmZmZmRdAZ2ZmZmZmGECamZmZmZkZQGdmZmZmZhpANDMzMzMzG0BnZmZmZmYcQDQzMzMzMx1AAQAAAAAAHkA0MzMzMzMfQAAAAAAAACBAZmZmZmZmIECZmZmZmZkgQGZmZmZmZiFAzMzMzMzMIUCZmZmZmZkiQP///////yJA////////IkBlZmZmZmYjQJiZmZmZmSNA/v//////I0BkZmZmZmYkQGRmZmZmZiRA/v//////JED+//////8lQJiZmZmZmSZAy8zMzMzMJkDLzMzMzMwnQDEzMzMzMyhAy8zMzMzMKED+//////8oQJiZmZmZmSlAMjMzMzMzKkCYmZmZmZkqQMvMzMzMzCpAMTMzMzMzK0BkZmZmZmYrQJeZmZmZmStAyszMzMzMK0AwMzMzMzMsQGNmZmZmZixAY2ZmZmZmLEAwMzMzMzMtQMrMzMzMzC1A/f//////LUAwMzMzMzMuQP3//////y5A/f//////LkAwMzMzMzMvQDAzMzMzMy9AMDMzMzMzL0AwMzMzMzMvQMrMzMzMzC9AyszMzMzML0D9//////8vQDIzMzMzMzBA//////9/MECZmZmZmZkwQMzMzMzMzDBA////////MED///////8wQDIzMzMzMzFAmJmZmZmZMUDLzMzMzMwxQJiZmZmZGTJAMjMzMzMzMkAyMzMzMzMyQMzMzMzMTDJAZmZmZmZmMkBmZmZmZmYyQAAAAAAAgDJAzczMzMzMMkAAAAAAAAAzQDMzMzMzMzNAZmZmZmZmM0AAAAAAAIAzQDMzMzMzszNAZmZmZmbmM0AAAAAAAAA0QM3MzMzMTDRAAAAAAACANEAAAAAAAIA0QGZmZmZm5jRAAAAAAAAANUAzMzMzMzM1QGZmZmZmZjVAAAAAAACANUAzMzMzM7M1QAAAAAAAADZAZmZmZmZmNkDMzMzMzMw2QGZmZmZm5jZAMzMzMzMzN0AzMzMzMzM3QGZmZmZmZjdAAAAAAACAN0AAAAAAAIA3QAAAAAAAgDdAmpmZmZmZN0BnZmZmZuY3QAEAAAAAADhAm5mZmZkZOEDOzMzMzEw4QAEAAAAAgDhAAQAAAACAOEA0MzMzM7M4QM7MzMzMzDhAAQAAAAAAOUA0MzMzMzM5QJqZmZmZmTlAmpmZmZmZOUCamZmZmZk5QDQzMzMzszlANDMzMzOzOUDOzMzMzMw5QM7MzMzMzDlAaGZmZmbmOUACAAAAAAA6QJyZmZmZGTpANjMzMzMzOkDQzMzMzEw6QNDMzMzMTDpAamZmZmZmOkCdmZmZmZk6QNDMzMzMzDpA0MzMzMzMOkADAAAAAAA7QDYzMzMzMztAaWZmZmZmO0BpZmZmZmY7QA==",
          "dtype": "f8"
         },
         "yaxis": "y3"
        },
        {
         "hovertemplate": "treatment=mpfc<br>session_idx=2<br>trial_idx=%{x}<br>efs_cumsum=%{y}<extra></extra>",
         "legendgroup": "mpfc",
         "line": {
          "color": "#EF553B",
          "dash": "solid"
         },
         "marker": {
          "symbol": "circle"
         },
         "mode": "lines",
         "name": "mpfc",
         "showlegend": false,
         "type": "scattergl",
         "x": {
          "bdata": "AQAAAAIAAAADAAAABAAAAAUAAAAGAAAABwAAAAgAAAAJAAAACgAAAAsAAAAMAAAADQAAAA4AAAAPAAAAEAAAABEAAAASAAAAEwAAABQAAAAVAAAAFgAAABcAAAAYAAAAGQAAABoAAAAbAAAAHAAAAB0AAAAeAAAAHwAAACAAAAAhAAAAIgAAACMAAAAkAAAAJQAAACYAAAAnAAAAKAAAACkAAAAqAAAAKwAAACwAAAAtAAAALgAAAC8AAAAwAAAAMQAAADIAAAAzAAAANAAAADUAAAA2AAAANwAAADgAAAA5AAAAOgAAADsAAAA8AAAAPQAAAD4AAAA/AAAAQAAAAEEAAABCAAAAQwAAAEQAAABFAAAARgAAAEcAAABIAAAASQAAAEoAAABLAAAATAAAAE0AAABOAAAATwAAAFAAAABRAAAAUgAAAFMAAABUAAAAVQAAAFYAAABXAAAAWAAAAFkAAABaAAAAWwAAAFwAAABdAAAAXgAAAF8AAABgAAAAYQAAAGIAAABjAAAAZAAAAGUAAABmAAAAZwAAAGgAAABpAAAAagAAAGsAAABsAAAAbQAAAG4AAABvAAAAcAAAAHEAAAByAAAAcwAAAHQAAAB1AAAAdgAAAHcAAAB4AAAAeQAAAHoAAAB7AAAAfAAAAH0AAAB+AAAAfwAAAIAAAACBAAAAggAAAIMAAACEAAAAhQAAAIYAAACHAAAAiAAAAIkAAACKAAAAiwAAAIwAAACNAAAAjgAAAI8AAACQAAAAkQAAAJIAAACTAAAAlAAAAJUAAACWAAAAlwAAAJgAAAA=",
          "dtype": "u4"
         },
         "xaxis": "x2",
         "y": {
          "bdata": "AAAAAAAAAAAAAAAAAAAAAAAAAAAAAOA/AAAAAAAA8D9mZmZmZmb2PwAAAAAAAPg/AAAAAAAAAEAAAAAAAAAEQDMzMzMzMwdAZmZmZmZmCkDMzMzMzMwMQP///////w9AMzMzMzMzEUBmZmZmZmYSQJmZmZmZmRNAMzMzMzMzFUCZmZmZmZkVQDMzMzMzMxdAzczMzMzMGEDNzMzMzMwYQJqZmZmZmRlAZ2ZmZmZmGkCamZmZmZkbQAAAAAAAABxAzczMzMzMHEAAAAAAAAAeQDMzMzMzMx9AAAAAAAAAIEBmZmZmZmYgQAAAAAAAACFAZmZmZmZmIUBmZmZmZmYhQAAAAAAAACJAmpmZmZmZIkA0MzMzMzMjQAEAAAAAACRANDMzMzMzJEBnZmZmZmYkQAEAAAAAACVANDMzMzMzJUBnZmZmZmYlQM3MzMzMzCVAZ2ZmZmZmJkDNzMzMzMwmQDMzMzMzMydAmZmZmZmZJ0BmZmZmZmYoQJmZmZmZmShAMzMzMzMzKUCZmZmZmZkpQMzMzMzMzClAZmZmZmZmKkCZmZmZmZkqQDMzMzMzMytAMzMzMzMzK0AzMzMzMzMrQGZmZmZmZitAMzMzMzMzLEBmZmZmZmYsQAAAAAAAAC1AAAAAAAAALUAAAAAAAAAtQDMzMzMzMy1AmZmZmZmZLUAzMzMzMzMuQJmZmZmZmS5A////////LkCZmZmZmZkvQP///////y9AmZmZmZkZMEAzMzMzMzMwQGZmZmZmZjBAAAAAAACAMECamZmZmZkwQDQzMzMzszBAZ2ZmZmbmMEBnZmZmZuYwQGdmZmZm5jBAmpmZmZkZMUA0MzMzMzMxQM7MzMzMTDFAzszMzMxMMUBoZmZmZmYxQDUzMzMzszFANTMzMzOzMUDPzMzMzMwxQGlmZmZm5jFAAwAAAAAAMkA2MzMzMzMyQNDMzMzMTDJAamZmZmZmMkCdmZmZmZkyQNDMzMzMzDJAamZmZmbmMkCdmZmZmRkzQNDMzMzMTDNAAwAAAACAM0ADAAAAAIAzQDYzMzMzszNA0MzMzMzMM0ADAAAAAAA0QDYzMzMzMzRA0MzMzMxMNEBqZmZmZmY0QDczMzMzszRANzMzMzOzNEDRzMzMzMw0QNHMzMzMzDRA0czMzMzMNECemZmZmRk1QJ6ZmZmZGTVA0czMzMxMNUDRzMzMzEw1QAQAAAAAgDVABAAAAACANUAEAAAAAIA1QDczMzMzszVA0czMzMzMNUDRzMzMzMw1QGtmZmZm5jVABQAAAAAANkA4MzMzMzM2QNLMzMzMTDZABQAAAACANkAFAAAAAIA2QJ+ZmZmZmTZAn5mZmZmZNkDSzMzMzMw2QGxmZmZm5jZABgAAAAAAN0CgmZmZmRk3QKCZmZmZGTdAOjMzMzMzN0DUzMzMzEw3QAcAAAAAgDdAoZmZmZmZN0BuZmZmZuY3QKGZmZmZGThAoZmZmZkZOEDUzMzMzEw4QNTMzMzMTDhABwAAAACAOEA6MzMzM7M4QDozMzMzszhAOjMzMzOzOEBtZmZmZuY4QG1mZmZm5jhAoJmZmZkZOUCgmZmZmRk5QDozMzMzMzlA1MzMzMxMOUDUzMzMzEw5QA==",
          "dtype": "f8"
         },
         "yaxis": "y2"
        },
        {
         "hovertemplate": "treatment=mpfc<br>session_idx=3<br>trial_idx=%{x}<br>efs_cumsum=%{y}<extra></extra>",
         "legendgroup": "mpfc",
         "line": {
          "color": "#EF553B",
          "dash": "solid"
         },
         "marker": {
          "symbol": "circle"
         },
         "mode": "lines",
         "name": "mpfc",
         "showlegend": false,
         "type": "scattergl",
         "x": {
          "bdata": "AQAAAAIAAAADAAAABAAAAAUAAAAGAAAABwAAAAgAAAAJAAAACgAAAAsAAAAMAAAADQAAAA4AAAAPAAAAEAAAABEAAAASAAAAEwAAABQAAAAVAAAAFgAAABcAAAAYAAAAGQAAABoAAAAbAAAAHAAAAB0AAAAeAAAAHwAAACAAAAAhAAAAIgAAACMAAAAkAAAAJQAAACYAAAAnAAAAKAAAACkAAAAqAAAAKwAAACwAAAAtAAAALgAAAC8AAAAwAAAAMQAAADIAAAAzAAAANAAAADUAAAA2AAAANwAAADgAAAA5AAAAOgAAADsAAAA8AAAAPQAAAD4AAAA/AAAAQAAAAEEAAABCAAAAQwAAAEQAAABFAAAARgAAAEcAAABIAAAASQAAAEoAAABLAAAATAAAAE0AAABOAAAATwAAAFAAAABRAAAAUgAAAFMAAABUAAAAVQAAAFYAAABXAAAAWAAAAFkAAABaAAAAWwAAAFwAAABdAAAAXgAAAF8AAABgAAAAYQAAAGIAAABjAAAAZAAAAGUAAABmAAAAZwAAAGgAAABpAAAAagAAAGsAAABsAAAAbQAAAG4AAABvAAAAcAAAAHEAAAByAAAAcwAAAHQAAAB1AAAAdgAAAHcAAAB4AAAAeQAAAHoAAAB7AAAAfAAAAH0AAAB+AAAAfwAAAIAAAACBAAAAggAAAIMAAACEAAAAhQAAAIYAAACHAAAAiAAAAIkAAACKAAAAiwAAAIwAAACNAAAAjgAAAI8AAACQAAAAkQAAAJIAAACTAAAAlAAAAJUAAACWAAAAlwAAAJgAAAA=",
          "dtype": "u4"
         },
         "xaxis": "x",
         "y": {
          "bdata": "AAAAAAAAAAAAAAAAAAAAAFVVVVVVVdU/OI7jOI7j6D/////////vP6qqqqqqqvo/OI7jOI7jAEDjOI7jOI4DQMZxHMdxHAdAOI7jOI7jCEBxHMdxHMcJQKqqqqqqqgpAjuM4juM4DkDHcRzHcRwPQBzHcRzHcRBAcRzHcRzHEUCqqqqqqqoSQMZxHMdxHBNA////////E0A4juM4juMUQDiO4ziO4xRAVFVVVVVVFUCN4ziO4zgWQOI4juM4jhdA/v//////F0A3juM4juMYQFNVVVVVVRlAU1VVVVVVGUBvHMdxHMcZQG8cx3EcxxlAi+M4juM4GkDEcRzHcRwbQBnHcRzHcRxAp6qqqqqqHkDDcRzHcRwfQIzjOI7jOCBAGsdxHMdxIEAax3Ecx3EgQDaO4ziO4yBA4TiO4ziOIUCM4ziO4zgiQIzjOI7jOCJAqKqqqqqqIkBTVVVVVVUjQOE4juM4jiNAqKqqqqqqJEDEcRzHcRwlQOA4juM4jiVAbhzHcRzHJUD8//////8lQPz//////yVAiuM4juM4JkCmqqqqqqomQKaqqqqqqiZAwnEcx3EcJ0DCcRzHcRwnQFBVVVVVVSdA3jiO4ziOJ0BsHMdxHMcnQGwcx3EcxydA+v//////J0ClqqqqqqooQKWqqqqqqihA3jiO4ziOKUBsHMdxHMcpQPr//////ylAiOM4juM4KkAWx3Ecx3EqQKSqqqqqqipApKqqqqqqKkCkqqqqqqoqQKSqqqqqqipAMo7jOI7jKkAyjuM4juMqQMBxHMdxHCtATlVVVVVVK0DcOI7jOI4rQPj//////ytAo6qqqqqqLEAxjuM4juMsQL9xHMdxHC1Av3Ecx3EcLUC/cRzHcRwtQE1VVVVVVS1ATVVVVVVVLUD4//////8tQIbjOI7jOC5AMY7jOI7jLkAxjuM4juMuQDGO4ziO4y5Av3Ecx3EcL0C/cRzHcRwvQL9xHMdxHC9A2ziO4ziOL0D3//////8vQIrjOI7jODBAUVVVVVVVMEBRVVVVVVUwQBjHcRzHcTBApqqqqqqqMEA0juM4juMwQDSO4ziO4zBA+///////MED7//////8wQMJxHMdxHDFAieM4juM4MUCJ4ziO4zgxQBfHcRzHcTFA3jiO4ziOMUDeOI7jOI4xQKWqqqqqqjFAbBzHcRzHMUBsHMdxHMcxQGwcx3EcxzFA+v//////MUDBcRzHcRwyQMFxHMdxHDJAT1VVVVVVMkBPVVVVVVUyQN04juM4jjJA3TiO4ziOMkDdOI7jOI4yQDKO4ziO4zJATlVVVVVVM0DcOI7jOI4zQNw4juM4jjNA3DiO4ziOM0DcOI7jOI4zQGocx3EcxzNAahzHcRzHM0AxjuM4juMzQPj//////zNA+P//////M0C/cRzHcRw0QL9xHMdxHDRAhuM4juM4NECG4ziO4zg0QIbjOI7jODRAFMdxHMdxNEAUx3Ecx3E0QNs4juM4jjRAoqqqqqqqNEAwjuM4juM0QDCO4ziO4zRAvnEcx3EcNUCF4ziO4zg1QExVVVVVVTVAE8dxHMdxNUATx3Ecx3E1QKGqqqqqqjVAL47jOI7jNUAvjuM4juM1QA==",
          "dtype": "f8"
         },
         "yaxis": "y"
        },
        {
         "hovertemplate": "treatment=ofc<br>session_idx=1<br>trial_idx=%{x}<br>efs_cumsum=%{y}<extra></extra>",
         "legendgroup": "ofc",
         "line": {
          "color": "#00cc96",
          "dash": "solid"
         },
         "marker": {
          "symbol": "circle"
         },
         "mode": "lines",
         "name": "ofc",
         "showlegend": true,
         "type": "scattergl",
         "x": {
          "bdata": "AQAAAAIAAAADAAAABAAAAAUAAAAGAAAABwAAAAgAAAAJAAAACgAAAAsAAAAMAAAADQAAAA4AAAAPAAAAEAAAABEAAAASAAAAEwAAABQAAAAVAAAAFgAAABcAAAAYAAAAGQAAABoAAAAbAAAAHAAAAB0AAAAeAAAAHwAAACAAAAAhAAAAIgAAACMAAAAkAAAAJQAAACYAAAAnAAAAKAAAACkAAAAqAAAAKwAAACwAAAAtAAAALgAAAC8AAAAwAAAAMQAAADIAAAAzAAAANAAAADUAAAA2AAAANwAAADgAAAA5AAAAOgAAADsAAAA8AAAAPQAAAD4AAAA/AAAAQAAAAEEAAABCAAAAQwAAAEQAAABFAAAARgAAAEcAAABIAAAASQAAAEoAAABLAAAATAAAAE0AAABOAAAATwAAAFAAAABRAAAAUgAAAFMAAABUAAAAVQAAAFYAAABXAAAAWAAAAFkAAABaAAAAWwAAAFwAAABdAAAAXgAAAF8AAABgAAAAYQAAAGIAAABjAAAAZAAAAGUAAABmAAAAZwAAAGgAAABpAAAAagAAAGsAAABsAAAAbQAAAG4AAABvAAAAcAAAAHEAAAByAAAAcwAAAHQAAAB1AAAAdgAAAHcAAAB4AAAAeQAAAHoAAAB7AAAAfAAAAH0AAAB+AAAAfwAAAIAAAACBAAAAggAAAIMAAACEAAAAhQAAAIYAAACHAAAAiAAAAIkAAACKAAAAiwAAAIwAAACNAAAAjgAAAI8AAACQAAAAkQAAAJIAAACTAAAAlAAAAJUAAACWAAAAlwAAAJgAAAA=",
          "dtype": "u4"
         },
         "xaxis": "x3",
         "y": {
          "bdata": "AAAAAAAAAAAAAAAAAAAAAFVVVVVVVeU/qqqqqqqq8j/////////3P/////////c/VFVVVVVV/T9VVVVVVVUBQAAAAAAAAARAAAAAAAAACEAAAAAAAAAIQFVVVVVVVQ1AqqqqqqqqDkCqqqqqqqoOQP///////w9AqqqqqqqqEEBVVVVVVVURQFVVVVVVVRNAVVVVVVVVFUAAAAAAAAAWQAAAAAAAABhAAAAAAAAAGEBVVVVVVVUZQAAAAAAAABxAq6qqqqqqHECrqqqqqqoeQFZVVVVVVR9AAAAAAAAAIECrqqqqqqogQAAAAAAAACFAVVVVVVVVIUAAAAAAAAAiQKuqqqqqqiJAAAAAAAAAJECrqqqqqqokQAAAAAAAACVAAAAAAAAAJkCrqqqqqqomQAAAAAAAACdAAAAAAAAAJ0CrqqqqqqonQKuqqqqqqidAVlVVVVVVKECrqqqqqqooQFZVVVVVVSlAq6qqqqqqKUCrqqqqqqopQAAAAAAAACtAVVVVVVVVK0CqqqqqqqorQP///////ytAqqqqqqqqLED///////8sQFRVVVVVVS1AqaqqqqqqLUD+//////8tQP7//////y5A/v//////LkBTVVVVVVUvQP7//////y9AqqqqqqoqMECqqqqqqiowQP//////fzBA//////9/MECqqqqqqqowQP///////zBAqqqqqqoqMUBVVVVVVVUxQKqqqqqqqjFAVVVVVVXVMUCqqqqqqioyQKqqqqqqqjJA////////MkD//////38zQKqqqqqqqjNAVVVVVVXVM0AAAAAAAAA0QAAAAAAAADRAVVVVVVVVNEAAAAAAAIA0QKuqqqqqKjVAVlVVVVVVNUCrqqqqqqo1QFZVVVVVVTZAAQAAAAAAN0BWVVVVVVU3QAEAAAAAgDdArKqqqqqqN0ABAAAAAAA4QKyqqqqqKjhAV1VVVVVVOEACAAAAAIA4QAIAAAAAgDhAV1VVVVXVOECsqqqqqio5QAEAAAAAADpArKqqqqoqOkABAAAAAIA6QKyqqqqqqjpArKqqqqoqO0BXVVVVVVU7QAIAAAAAgDtAAgAAAACAO0ACAAAAAAA8QK2qqqqqKjxAraqqqqoqPEBYVVVVVVU8QAMAAAAAgDxAAwAAAAAAPUCuqqqqqio9QFlVVVVVVT1ArqqqqqqqPUADAAAAAAA+QAMAAAAAgD5AWFVVVVXVPkADAAAAAAA/QK6qqqqqKj9AWVVVVVVVP0BZVVVVVdU/QKyqqqqqKkBAV1VVVVVVQEACAAAAAIBAQFdVVVVVlUBArKqqqqqqQEABAAAAAMBAQKyqqqqq6kBAV1VVVVUVQUCsqqqqqipBQFdVVVVVVUFArKqqqqpqQUCsqqqqqmpBQAEAAAAAgEFAVlVVVVWVQUBWVVVVVZVBQKuqqqqqqkFAq6qqqqrqQUCrqqqqqupBQFZVVVVVFUJAq6qqqqoqQkBWVVVVVVVCQFZVVVVVlUJAVlVVVVXVQkABAAAAAABDQFZVVVVVFUNAq6qqqqoqQ0CrqqqqqipDQAAAAAAAQENAq6qqqqpqQ0BWVVVVVZVDQAEAAAAAAERAVlVVVVUVRECrqqqqqipEQA==",
          "dtype": "f8"
         },
         "yaxis": "y3"
        },
        {
         "hovertemplate": "treatment=ofc<br>session_idx=2<br>trial_idx=%{x}<br>efs_cumsum=%{y}<extra></extra>",
         "legendgroup": "ofc",
         "line": {
          "color": "#00cc96",
          "dash": "solid"
         },
         "marker": {
          "symbol": "circle"
         },
         "mode": "lines",
         "name": "ofc",
         "showlegend": false,
         "type": "scattergl",
         "x": {
          "bdata": "AQAAAAIAAAADAAAABAAAAAUAAAAGAAAABwAAAAgAAAAJAAAACgAAAAsAAAAMAAAADQAAAA4AAAAPAAAAEAAAABEAAAASAAAAEwAAABQAAAAVAAAAFgAAABcAAAAYAAAAGQAAABoAAAAbAAAAHAAAAB0AAAAeAAAAHwAAACAAAAAhAAAAIgAAACMAAAAkAAAAJQAAACYAAAAnAAAAKAAAACkAAAAqAAAAKwAAACwAAAAtAAAALgAAAC8AAAAwAAAAMQAAADIAAAAzAAAANAAAADUAAAA2AAAANwAAADgAAAA5AAAAOgAAADsAAAA8AAAAPQAAAD4AAAA/AAAAQAAAAEEAAABCAAAAQwAAAEQAAABFAAAARgAAAEcAAABIAAAASQAAAEoAAABLAAAATAAAAE0AAABOAAAATwAAAFAAAABRAAAAUgAAAFMAAABUAAAAVQAAAFYAAABXAAAAWAAAAFkAAABaAAAAWwAAAFwAAABdAAAAXgAAAF8AAABgAAAAYQAAAGIAAABjAAAAZAAAAGUAAABmAAAAZwAAAGgAAABpAAAAagAAAGsAAABsAAAAbQAAAG4AAABvAAAAcAAAAHEAAAByAAAAcwAAAHQAAAB1AAAAdgAAAHcAAAB4AAAAeQAAAHoAAAB7AAAAfAAAAH0AAAB+AAAAfwAAAIAAAACBAAAAggAAAIMAAACEAAAAhQAAAIYAAACHAAAAiAAAAIkAAACKAAAAiwAAAIwAAACNAAAAjgAAAI8AAACQAAAAkQAAAJIAAACTAAAAlAAAAJUAAACWAAAAlwAAAJgAAAA=",
          "dtype": "u4"
         },
         "xaxis": "x2",
         "y": {
          "bdata": "AAAAAAAAAAAAAAAAAAAAAFVVVVVVVcU/VVVVVVVV5T8AAAAAAADwPwAAAAAAAPg/q6qqqqqq+j+rqqqqqqr6P6uqqqqqqgJAAAAAAAAABECrqqqqqqoGQKuqqqqqqgpAVlVVVVVVDUAAAAAAAAAQQFVVVVVVVRFAAAAAAAAAEkBVVVVVVVUTQAAAAAAAABRAq6qqqqqqFEBWVVVVVVUVQFZVVVVVVRdAq6qqqqqqGEAAAAAAAAAaQKuqqqqqqhpAVlVVVVVVG0BWVVVVVVUdQKuqqqqqqh5AAAAAAAAAIEAAAAAAAAAgQFVVVVVVVSBAVVVVVVVVIECqqqqqqqohQKqqqqqqqiJAVVVVVVVVI0CqqqqqqqojQFVVVVVVVSRAAAAAAAAAJUBVVVVVVVUlQAAAAAAAACZAAAAAAAAAJ0BVVVVVVVUnQFVVVVVVVShAVVVVVVVVKUBVVVVVVVUqQKqqqqqqqipAqqqqqqqqK0BVVVVVVVUsQKqqqqqqqixAVVVVVVVVLUAAAAAAAAAuQFVVVVVVVS5AAAAAAAAAL0BVVVVVVVUvQKqqqqqqqi9AqqqqqqoqMECqqqqqqiowQKqqqqqqKjBAqqqqqqoqMECqqqqqqiowQKqqqqqqqjBAqqqqqqqqMECqqqqqqqowQP///////zBA////////MED///////8wQFRVVVVVVTFA//////9/MUCqqqqqqqoxQFVVVVVV1TFAVVVVVVXVMUAAAAAAAAAyQKuqqqqqKjJAq6qqqqqqMkBWVVVVVdUyQKuqqqqqKjNAVlVVVVVVM0ABAAAAAIAzQFZVVVVV1TNAVlVVVVXVM0ABAAAAAAA0QKyqqqqqKjRAV1VVVVVVNECsqqqqqqo0QKyqqqqqqjRAV1VVVVXVNECsqqqqqio1QKyqqqqqKjVAAQAAAACANUCsqqqqqqo1QKyqqqqqqjVAAQAAAAAANkABAAAAAAA2QKyqqqqqKjZArKqqqqoqNkBXVVVVVVU2QFdVVVVVVTZAAgAAAACANkACAAAAAIA2QAIAAAAAgDZAAgAAAACANkBXVVVVVdU2QFdVVVVV1TZAAgAAAAAAN0ACAAAAAAA3QFdVVVVVVTdAAgAAAACAN0Ctqqqqqqo3QAIAAAAAADhAraqqqqoqOECtqqqqqio4QK2qqqqqKjhAraqqqqoqOEBYVVVVVVU4QFhVVVVVVThAWFVVVVVVOEADAAAAAIA4QK6qqqqqqjhArqqqqqqqOEBZVVVVVdU4QFlVVVVV1ThAWVVVVVXVOECuqqqqqio5QFlVVVVVVTlAWVVVVVVVOUBZVVVVVdU5QAQAAAAAADpAr6qqqqoqOkAEAAAAAIA6QK+qqqqqqjpAWlVVVVXVOkBaVVVVVdU6QK+qqqqqKjtAr6qqqqoqO0Cvqqqqqio7QK+qqqqqKjtAr6qqqqoqO0BaVVVVVVU7QFpVVVVVVTtAWlVVVVVVO0BaVVVVVVU7QAUAAAAAgDtAsKqqqqqqO0BbVVVVVdU7QFtVVVVV1TtABgAAAAAAPEAGAAAAAAA8QAYAAAAAADxABgAAAAAAPEAGAAAAAAA8QAYAAAAAADxABgAAAAAAPEAGAAAAAAA8QA==",
          "dtype": "f8"
         },
         "yaxis": "y2"
        },
        {
         "hovertemplate": "treatment=ofc<br>session_idx=3<br>trial_idx=%{x}<br>efs_cumsum=%{y}<extra></extra>",
         "legendgroup": "ofc",
         "line": {
          "color": "#00cc96",
          "dash": "solid"
         },
         "marker": {
          "symbol": "circle"
         },
         "mode": "lines",
         "name": "ofc",
         "showlegend": false,
         "type": "scattergl",
         "x": {
          "bdata": "AQAAAAIAAAADAAAABAAAAAUAAAAGAAAABwAAAAgAAAAJAAAACgAAAAsAAAAMAAAADQAAAA4AAAAPAAAAEAAAABEAAAASAAAAEwAAABQAAAAVAAAAFgAAABcAAAAYAAAAGQAAABoAAAAbAAAAHAAAAB0AAAAeAAAAHwAAACAAAAAhAAAAIgAAACMAAAAkAAAAJQAAACYAAAAnAAAAKAAAACkAAAAqAAAAKwAAACwAAAAtAAAALgAAAC8AAAAwAAAAMQAAADIAAAAzAAAANAAAADUAAAA2AAAANwAAADgAAAA5AAAAOgAAADsAAAA8AAAAPQAAAD4AAAA/AAAAQAAAAEEAAABCAAAAQwAAAEQAAABFAAAARgAAAEcAAABIAAAASQAAAEoAAABLAAAATAAAAE0AAABOAAAATwAAAFAAAABRAAAAUgAAAFMAAABUAAAAVQAAAFYAAABXAAAAWAAAAFkAAABaAAAAWwAAAFwAAABdAAAAXgAAAF8AAABgAAAAYQAAAGIAAABjAAAAZAAAAGUAAABmAAAAZwAAAGgAAABpAAAAagAAAGsAAABsAAAAbQAAAG4AAABvAAAAcAAAAHEAAAByAAAAcwAAAHQAAAB1AAAAdgAAAHcAAAB4AAAAeQAAAHoAAAB7AAAAfAAAAH0AAAB+AAAAfwAAAIAAAACBAAAAggAAAIMAAACEAAAAhQAAAIYAAACHAAAAiAAAAIkAAACKAAAAiwAAAIwAAACNAAAAjgAAAI8AAACQAAAAkQAAAJIAAACTAAAAlAAAAJUAAACWAAAAlwAAAJgAAAA=",
          "dtype": "u4"
         },
         "xaxis": "x",
         "y": {
          "bdata": "AAAAAAAAAAAAAAAAAAAAAFVVVVVVVcU/AAAAAAAA8D+rqqqqqqryPwAAAAAAAPg/VVVVVVVV/T9VVVVVVVX9P1VVVVVVVQFAVVVVVVVVBUBVVVVVVVUJQKqqqqqqqg5A////////D0AAAAAAAAASQFVVVVVVVRNAAAAAAAAAFEAAAAAAAAAWQAAAAAAAABZAAAAAAAAAGEAAAAAAAAAYQKuqqqqqqhhAAAAAAAAAGkBVVVVVVVUbQAAAAAAAABxAAAAAAAAAHEAAAAAAAAAcQAAAAAAAABxAVVVVVVVVHUCqqqqqqqoeQKqqqqqqqh5AVVVVVVVVH0BVVVVVVVUgQKqqqqqqqiBAqqqqqqqqIUD///////8hQP///////yJA////////I0BUVVVVVVUkQP///////yRA////////JEBUVVVVVVUlQP///////yVAVFVVVVVVJkD///////8mQFRVVVVVVSdAqaqqqqqqJ0CpqqqqqqonQP7//////ydA/v//////J0BTVVVVVVUoQFNVVVVVVShAqKqqqqqqKECoqqqqqqooQKiqqqqqqihAqKqqqqqqKED9//////8oQFJVVVVVVSlAUlVVVVVVKUCnqqqqqqopQPz//////ylAUVVVVVVVKkD8//////8qQFFVVVVVVStApqqqqqqqK0CmqqqqqqorQKaqqqqqqitA+///////K0BQVVVVVVUsQPv//////yxA+///////LED7//////8tQFBVVVVVVS5AUFVVVVVVLkClqqqqqqouQKWqqqqqqi5A+v//////LkBPVVVVVVUvQE9VVVVVVS9A+v//////L0D6//////8vQPr//////y9AqKqqqqoqMECoqqqqqiowQP3/////fzBA/f////9/MEBSVVVVVdUwQFJVVVVV1TBAp6qqqqoqMUBSVVVVVVUxQKeqqqqqqjFAUlVVVVXVMUBSVVVVVdUxQKeqqqqqKjJAp6qqqqoqMkBSVVVVVVUyQP3/////fzJA/f////9/MkD9/////38yQP3/////fzJA/f////9/MkD9/////38yQKiqqqqqqjJAU1VVVVXVMkCoqqqqqiozQKiqqqqqKjNAqKqqqqoqM0BTVVVVVVUzQFNVVVVVVTNA/v////9/M0BTVVVVVdUzQKiqqqqqKjRAqKqqqqoqNEBTVVVVVVU0QFNVVVVVVTRAU1VVVVVVNEBTVVVVVVU0QP7/////fzRAU1VVVVXVNEBTVVVVVdU0QP7//////zRAqaqqqqoqNUCpqqqqqio1QFRVVVVVVTVAVFVVVVVVNUCpqqqqqqo1QFRVVVVV1TVAVFVVVVXVNUBUVVVVVdU1QKmqqqqqKjZA/v////9/NkD+/////382QKmqqqqqqjZAVFVVVVXVNkD///////82QFRVVVVVVTdAVFVVVVVVN0BUVVVVVdU3QP///////zdAqqqqqqoqOECqqqqqqio4QKqqqqqqKjhAVVVVVVVVOECqqqqqqqo4QP///////zhAqqqqqqoqOUD//////385QP//////fzlA//////9/OUD//////385QP//////fzlAqqqqqqqqOUCqqqqqqqo5QA==",
          "dtype": "f8"
         },
         "yaxis": "y"
        }
       ],
       "layout": {
        "annotations": [
         {
          "font": {},
          "showarrow": false,
          "text": "session_idx=3",
          "textangle": 90,
          "x": 0.98,
          "xanchor": "left",
          "xref": "paper",
          "y": 0.15666666666666665,
          "yanchor": "middle",
          "yref": "paper"
         },
         {
          "font": {},
          "showarrow": false,
          "text": "session_idx=2",
          "textangle": 90,
          "x": 0.98,
          "xanchor": "left",
          "xref": "paper",
          "y": 0.4999999999999999,
          "yanchor": "middle",
          "yref": "paper"
         },
         {
          "font": {},
          "showarrow": false,
          "text": "session_idx=1",
          "textangle": 90,
          "x": 0.98,
          "xanchor": "left",
          "xref": "paper",
          "y": 0.8433333333333332,
          "yanchor": "middle",
          "yref": "paper"
         }
        ],
        "height": 900,
        "legend": {
         "title": {
          "text": "Treatment"
         },
         "tracegroupgap": 0
        },
        "margin": {
         "t": 60
        },
        "template": {
         "data": {
          "bar": [
           {
            "error_x": {
             "color": "#2a3f5f"
            },
            "error_y": {
             "color": "#2a3f5f"
            },
            "marker": {
             "line": {
              "color": "#E5ECF6",
              "width": 0.5
             },
             "pattern": {
              "fillmode": "overlay",
              "size": 10,
              "solidity": 0.2
             }
            },
            "type": "bar"
           }
          ],
          "barpolar": [
           {
            "marker": {
             "line": {
              "color": "#E5ECF6",
              "width": 0.5
             },
             "pattern": {
              "fillmode": "overlay",
              "size": 10,
              "solidity": 0.2
             }
            },
            "type": "barpolar"
           }
          ],
          "carpet": [
           {
            "aaxis": {
             "endlinecolor": "#2a3f5f",
             "gridcolor": "white",
             "linecolor": "white",
             "minorgridcolor": "white",
             "startlinecolor": "#2a3f5f"
            },
            "baxis": {
             "endlinecolor": "#2a3f5f",
             "gridcolor": "white",
             "linecolor": "white",
             "minorgridcolor": "white",
             "startlinecolor": "#2a3f5f"
            },
            "type": "carpet"
           }
          ],
          "choropleth": [
           {
            "colorbar": {
             "outlinewidth": 0,
             "ticks": ""
            },
            "type": "choropleth"
           }
          ],
          "contour": [
           {
            "colorbar": {
             "outlinewidth": 0,
             "ticks": ""
            },
            "colorscale": [
             [
              0,
              "#0d0887"
             ],
             [
              0.1111111111111111,
              "#46039f"
             ],
             [
              0.2222222222222222,
              "#7201a8"
             ],
             [
              0.3333333333333333,
              "#9c179e"
             ],
             [
              0.4444444444444444,
              "#bd3786"
             ],
             [
              0.5555555555555556,
              "#d8576b"
             ],
             [
              0.6666666666666666,
              "#ed7953"
             ],
             [
              0.7777777777777778,
              "#fb9f3a"
             ],
             [
              0.8888888888888888,
              "#fdca26"
             ],
             [
              1,
              "#f0f921"
             ]
            ],
            "type": "contour"
           }
          ],
          "contourcarpet": [
           {
            "colorbar": {
             "outlinewidth": 0,
             "ticks": ""
            },
            "type": "contourcarpet"
           }
          ],
          "heatmap": [
           {
            "colorbar": {
             "outlinewidth": 0,
             "ticks": ""
            },
            "colorscale": [
             [
              0,
              "#0d0887"
             ],
             [
              0.1111111111111111,
              "#46039f"
             ],
             [
              0.2222222222222222,
              "#7201a8"
             ],
             [
              0.3333333333333333,
              "#9c179e"
             ],
             [
              0.4444444444444444,
              "#bd3786"
             ],
             [
              0.5555555555555556,
              "#d8576b"
             ],
             [
              0.6666666666666666,
              "#ed7953"
             ],
             [
              0.7777777777777778,
              "#fb9f3a"
             ],
             [
              0.8888888888888888,
              "#fdca26"
             ],
             [
              1,
              "#f0f921"
             ]
            ],
            "type": "heatmap"
           }
          ],
          "histogram": [
           {
            "marker": {
             "pattern": {
              "fillmode": "overlay",
              "size": 10,
              "solidity": 0.2
             }
            },
            "type": "histogram"
           }
          ],
          "histogram2d": [
           {
            "colorbar": {
             "outlinewidth": 0,
             "ticks": ""
            },
            "colorscale": [
             [
              0,
              "#0d0887"
             ],
             [
              0.1111111111111111,
              "#46039f"
             ],
             [
              0.2222222222222222,
              "#7201a8"
             ],
             [
              0.3333333333333333,
              "#9c179e"
             ],
             [
              0.4444444444444444,
              "#bd3786"
             ],
             [
              0.5555555555555556,
              "#d8576b"
             ],
             [
              0.6666666666666666,
              "#ed7953"
             ],
             [
              0.7777777777777778,
              "#fb9f3a"
             ],
             [
              0.8888888888888888,
              "#fdca26"
             ],
             [
              1,
              "#f0f921"
             ]
            ],
            "type": "histogram2d"
           }
          ],
          "histogram2dcontour": [
           {
            "colorbar": {
             "outlinewidth": 0,
             "ticks": ""
            },
            "colorscale": [
             [
              0,
              "#0d0887"
             ],
             [
              0.1111111111111111,
              "#46039f"
             ],
             [
              0.2222222222222222,
              "#7201a8"
             ],
             [
              0.3333333333333333,
              "#9c179e"
             ],
             [
              0.4444444444444444,
              "#bd3786"
             ],
             [
              0.5555555555555556,
              "#d8576b"
             ],
             [
              0.6666666666666666,
              "#ed7953"
             ],
             [
              0.7777777777777778,
              "#fb9f3a"
             ],
             [
              0.8888888888888888,
              "#fdca26"
             ],
             [
              1,
              "#f0f921"
             ]
            ],
            "type": "histogram2dcontour"
           }
          ],
          "mesh3d": [
           {
            "colorbar": {
             "outlinewidth": 0,
             "ticks": ""
            },
            "type": "mesh3d"
           }
          ],
          "parcoords": [
           {
            "line": {
             "colorbar": {
              "outlinewidth": 0,
              "ticks": ""
             }
            },
            "type": "parcoords"
           }
          ],
          "pie": [
           {
            "automargin": true,
            "type": "pie"
           }
          ],
          "scatter": [
           {
            "fillpattern": {
             "fillmode": "overlay",
             "size": 10,
             "solidity": 0.2
            },
            "type": "scatter"
           }
          ],
          "scatter3d": [
           {
            "line": {
             "colorbar": {
              "outlinewidth": 0,
              "ticks": ""
             }
            },
            "marker": {
             "colorbar": {
              "outlinewidth": 0,
              "ticks": ""
             }
            },
            "type": "scatter3d"
           }
          ],
          "scattercarpet": [
           {
            "marker": {
             "colorbar": {
              "outlinewidth": 0,
              "ticks": ""
             }
            },
            "type": "scattercarpet"
           }
          ],
          "scattergeo": [
           {
            "marker": {
             "colorbar": {
              "outlinewidth": 0,
              "ticks": ""
             }
            },
            "type": "scattergeo"
           }
          ],
          "scattergl": [
           {
            "marker": {
             "colorbar": {
              "outlinewidth": 0,
              "ticks": ""
             }
            },
            "type": "scattergl"
           }
          ],
          "scattermap": [
           {
            "marker": {
             "colorbar": {
              "outlinewidth": 0,
              "ticks": ""
             }
            },
            "type": "scattermap"
           }
          ],
          "scattermapbox": [
           {
            "marker": {
             "colorbar": {
              "outlinewidth": 0,
              "ticks": ""
             }
            },
            "type": "scattermapbox"
           }
          ],
          "scatterpolar": [
           {
            "marker": {
             "colorbar": {
              "outlinewidth": 0,
              "ticks": ""
             }
            },
            "type": "scatterpolar"
           }
          ],
          "scatterpolargl": [
           {
            "marker": {
             "colorbar": {
              "outlinewidth": 0,
              "ticks": ""
             }
            },
            "type": "scatterpolargl"
           }
          ],
          "scatterternary": [
           {
            "marker": {
             "colorbar": {
              "outlinewidth": 0,
              "ticks": ""
             }
            },
            "type": "scatterternary"
           }
          ],
          "surface": [
           {
            "colorbar": {
             "outlinewidth": 0,
             "ticks": ""
            },
            "colorscale": [
             [
              0,
              "#0d0887"
             ],
             [
              0.1111111111111111,
              "#46039f"
             ],
             [
              0.2222222222222222,
              "#7201a8"
             ],
             [
              0.3333333333333333,
              "#9c179e"
             ],
             [
              0.4444444444444444,
              "#bd3786"
             ],
             [
              0.5555555555555556,
              "#d8576b"
             ],
             [
              0.6666666666666666,
              "#ed7953"
             ],
             [
              0.7777777777777778,
              "#fb9f3a"
             ],
             [
              0.8888888888888888,
              "#fdca26"
             ],
             [
              1,
              "#f0f921"
             ]
            ],
            "type": "surface"
           }
          ],
          "table": [
           {
            "cells": {
             "fill": {
              "color": "#EBF0F8"
             },
             "line": {
              "color": "white"
             }
            },
            "header": {
             "fill": {
              "color": "#C8D4E3"
             },
             "line": {
              "color": "white"
             }
            },
            "type": "table"
           }
          ]
         },
         "layout": {
          "annotationdefaults": {
           "arrowcolor": "#2a3f5f",
           "arrowhead": 0,
           "arrowwidth": 1
          },
          "autotypenumbers": "strict",
          "coloraxis": {
           "colorbar": {
            "outlinewidth": 0,
            "ticks": ""
           }
          },
          "colorscale": {
           "diverging": [
            [
             0,
             "#8e0152"
            ],
            [
             0.1,
             "#c51b7d"
            ],
            [
             0.2,
             "#de77ae"
            ],
            [
             0.3,
             "#f1b6da"
            ],
            [
             0.4,
             "#fde0ef"
            ],
            [
             0.5,
             "#f7f7f7"
            ],
            [
             0.6,
             "#e6f5d0"
            ],
            [
             0.7,
             "#b8e186"
            ],
            [
             0.8,
             "#7fbc41"
            ],
            [
             0.9,
             "#4d9221"
            ],
            [
             1,
             "#276419"
            ]
           ],
           "sequential": [
            [
             0,
             "#0d0887"
            ],
            [
             0.1111111111111111,
             "#46039f"
            ],
            [
             0.2222222222222222,
             "#7201a8"
            ],
            [
             0.3333333333333333,
             "#9c179e"
            ],
            [
             0.4444444444444444,
             "#bd3786"
            ],
            [
             0.5555555555555556,
             "#d8576b"
            ],
            [
             0.6666666666666666,
             "#ed7953"
            ],
            [
             0.7777777777777778,
             "#fb9f3a"
            ],
            [
             0.8888888888888888,
             "#fdca26"
            ],
            [
             1,
             "#f0f921"
            ]
           ],
           "sequentialminus": [
            [
             0,
             "#0d0887"
            ],
            [
             0.1111111111111111,
             "#46039f"
            ],
            [
             0.2222222222222222,
             "#7201a8"
            ],
            [
             0.3333333333333333,
             "#9c179e"
            ],
            [
             0.4444444444444444,
             "#bd3786"
            ],
            [
             0.5555555555555556,
             "#d8576b"
            ],
            [
             0.6666666666666666,
             "#ed7953"
            ],
            [
             0.7777777777777778,
             "#fb9f3a"
            ],
            [
             0.8888888888888888,
             "#fdca26"
            ],
            [
             1,
             "#f0f921"
            ]
           ]
          },
          "colorway": [
           "#636efa",
           "#EF553B",
           "#00cc96",
           "#ab63fa",
           "#FFA15A",
           "#19d3f3",
           "#FF6692",
           "#B6E880",
           "#FF97FF",
           "#FECB52"
          ],
          "font": {
           "color": "#2a3f5f"
          },
          "geo": {
           "bgcolor": "white",
           "lakecolor": "white",
           "landcolor": "#E5ECF6",
           "showlakes": true,
           "showland": true,
           "subunitcolor": "white"
          },
          "hoverlabel": {
           "align": "left"
          },
          "hovermode": "closest",
          "mapbox": {
           "style": "light"
          },
          "paper_bgcolor": "white",
          "plot_bgcolor": "#E5ECF6",
          "polar": {
           "angularaxis": {
            "gridcolor": "white",
            "linecolor": "white",
            "ticks": ""
           },
           "bgcolor": "#E5ECF6",
           "radialaxis": {
            "gridcolor": "white",
            "linecolor": "white",
            "ticks": ""
           }
          },
          "scene": {
           "xaxis": {
            "backgroundcolor": "#E5ECF6",
            "gridcolor": "white",
            "gridwidth": 2,
            "linecolor": "white",
            "showbackground": true,
            "ticks": "",
            "zerolinecolor": "white"
           },
           "yaxis": {
            "backgroundcolor": "#E5ECF6",
            "gridcolor": "white",
            "gridwidth": 2,
            "linecolor": "white",
            "showbackground": true,
            "ticks": "",
            "zerolinecolor": "white"
           },
           "zaxis": {
            "backgroundcolor": "#E5ECF6",
            "gridcolor": "white",
            "gridwidth": 2,
            "linecolor": "white",
            "showbackground": true,
            "ticks": "",
            "zerolinecolor": "white"
           }
          },
          "shapedefaults": {
           "line": {
            "color": "#2a3f5f"
           }
          },
          "ternary": {
           "aaxis": {
            "gridcolor": "white",
            "linecolor": "white",
            "ticks": ""
           },
           "baxis": {
            "gridcolor": "white",
            "linecolor": "white",
            "ticks": ""
           },
           "bgcolor": "#E5ECF6",
           "caxis": {
            "gridcolor": "white",
            "linecolor": "white",
            "ticks": ""
           }
          },
          "title": {
           "x": 0.05
          },
          "xaxis": {
           "automargin": true,
           "gridcolor": "white",
           "linecolor": "white",
           "ticks": "",
           "title": {
            "standoff": 15
           },
           "zerolinecolor": "white",
           "zerolinewidth": 2
          },
          "yaxis": {
           "automargin": true,
           "gridcolor": "white",
           "linecolor": "white",
           "ticks": "",
           "title": {
            "standoff": 15
           },
           "zerolinecolor": "white",
           "zerolinewidth": 2
          }
         }
        },
        "title": {
         "text": "Cumulative EFS by Treatment across Sessions"
        },
        "xaxis": {
         "anchor": "y",
         "domain": [
          0,
          0.98
         ],
         "title": {
          "text": "Trial Index"
         }
        },
        "xaxis2": {
         "anchor": "y2",
         "domain": [
          0,
          0.98
         ],
         "matches": "x",
         "showticklabels": false,
         "title": {
          "text": "Trial Index"
         }
        },
        "xaxis3": {
         "anchor": "y3",
         "domain": [
          0,
          0.98
         ],
         "matches": "x",
         "showticklabels": false,
         "title": {
          "text": "Trial Index"
         }
        },
        "yaxis": {
         "anchor": "x",
         "domain": [
          0,
          0.3133333333333333
         ],
         "title": {
          "text": "EFS CumSum"
         }
        },
        "yaxis2": {
         "anchor": "x2",
         "domain": [
          0.34333333333333327,
          0.6566666666666665
         ],
         "matches": "y",
         "title": {
          "text": "EFS CumSum"
         }
        },
        "yaxis3": {
         "anchor": "x3",
         "domain": [
          0.6866666666666665,
          0.9999999999999998
         ],
         "matches": "y",
         "title": {
          "text": "EFS CumSum"
         }
        }
       }
      }
     },
     "metadata": {},
     "output_type": "display_data"
    }
   ],
   "source": [
    "fig = px.line(\n",
    "    tdf_efs,\n",
    "    x=\"trial_idx\",\n",
    "    y=\"efs_cumsum\",\n",
    "    color=\"treatment\",\n",
    "    facet_row=\"session_idx\",\n",
    "    category_orders=cat_orders\n",
    ")\n",
    "\n",
    "fig.update_layout(height=900, title=\"Cumulative EFS by Treatment across Sessions\")\n",
    "fig.update_layout(legend_title_text=\"Treatment\")\n",
    "fig.update_xaxes(title_text=\"Trial Index\")\n",
    "fig.update_yaxes(title_text=\"EFS CumSum\")\n",
    "\n",
    "fig.show()"
   ]
  },
  {
   "cell_type": "markdown",
   "id": "12fe5cfb",
   "metadata": {},
   "source": [
    "## AUC stats"
   ]
  },
  {
   "cell_type": "markdown",
   "id": "db90855b",
   "metadata": {},
   "source": [
    "From the previous sections we see visually that OFC lesioned animals seem to have higher levels of EFS in the first session. Lets analyze this and see if there are any significant differences from shams."
   ]
  },
  {
   "cell_type": "markdown",
   "id": "d1a7f110",
   "metadata": {},
   "source": [
    "Since trial intervals are evenly spaced: \n",
    "$$AUC_{EFS} = \\sum_{i=1}^{T} EFS \\ Mean(i) \\Delta t = CumSum(EFS)_{max}$$"
   ]
  },
  {
   "cell_type": "code",
   "execution_count": 82,
   "id": "434a968c",
   "metadata": {},
   "outputs": [
    {
     "data": {
      "text/html": [
       "<div><style>\n",
       ".dataframe > thead > tr,\n",
       ".dataframe > tbody > tr {\n",
       "  text-align: right;\n",
       "  white-space: pre-wrap;\n",
       "}\n",
       "</style>\n",
       "<small>shape: (24, 3)</small><table border=\"1\" class=\"dataframe\"><thead><tr><th>animal_id</th><th>treatment</th><th>AUC</th></tr><tr><td>cat</td><td>cat</td><td>f64</td></tr></thead><tbody><tr><td>&quot;P4671&quot;</td><td>&quot;mpfc&quot;</td><td>11.0</td></tr><tr><td>&quot;P4680&quot;</td><td>&quot;ofc&quot;</td><td>56.0</td></tr><tr><td>&quot;P4651&quot;</td><td>&quot;mpfc&quot;</td><td>30.0</td></tr><tr><td>&quot;P4637&quot;</td><td>&quot;sham&quot;</td><td>22.0</td></tr><tr><td>&quot;P4668&quot;</td><td>&quot;sham&quot;</td><td>50.0</td></tr><tr><td>&hellip;</td><td>&hellip;</td><td>&hellip;</td></tr><tr><td>&quot;P4669&quot;</td><td>&quot;mpfc&quot;</td><td>40.0</td></tr><tr><td>&quot;P4679&quot;</td><td>&quot;ofc&quot;</td><td>54.0</td></tr><tr><td>&quot;P4647&quot;</td><td>&quot;mpfc&quot;</td><td>34.0</td></tr><tr><td>&quot;P4650&quot;</td><td>&quot;ofc&quot;</td><td>16.0</td></tr><tr><td>&quot;P4657&quot;</td><td>&quot;mpfc&quot;</td><td>24.0</td></tr></tbody></table></div>"
      ],
      "text/plain": [
       "shape: (24, 3)\n",
       "┌───────────┬───────────┬──────┐\n",
       "│ animal_id ┆ treatment ┆ AUC  │\n",
       "│ ---       ┆ ---       ┆ ---  │\n",
       "│ cat       ┆ cat       ┆ f64  │\n",
       "╞═══════════╪═══════════╪══════╡\n",
       "│ P4671     ┆ mpfc      ┆ 11.0 │\n",
       "│ P4680     ┆ ofc       ┆ 56.0 │\n",
       "│ P4651     ┆ mpfc      ┆ 30.0 │\n",
       "│ P4637     ┆ sham      ┆ 22.0 │\n",
       "│ P4668     ┆ sham      ┆ 50.0 │\n",
       "│ …         ┆ …         ┆ …    │\n",
       "│ P4669     ┆ mpfc      ┆ 40.0 │\n",
       "│ P4679     ┆ ofc       ┆ 54.0 │\n",
       "│ P4647     ┆ mpfc      ┆ 34.0 │\n",
       "│ P4650     ┆ ofc       ┆ 16.0 │\n",
       "│ P4657     ┆ mpfc      ┆ 24.0 │\n",
       "└───────────┴───────────┴──────┘"
      ]
     },
     "execution_count": 82,
     "metadata": {},
     "output_type": "execute_result"
    }
   ],
   "source": [
    "ses1_auc = (\n",
    "    tdf_trunc.filter(pl.col(\"session_idx\") == 1)\n",
    "    .group_by([\"animal_id\", \"treatment\", \"trial_idx\"])\n",
    "    .agg(pl.mean(\"EFS_before_flg\").alias(\"efs_mean\"))\n",
    "    .group_by([\"animal_id\", \"treatment\"])\n",
    "    .agg(pl.col(\"efs_mean\").sum().alias(\"AUC\"))   # AUC == final cumsum here\n",
    ")\n",
    "ses1_auc"
   ]
  },
  {
   "cell_type": "markdown",
   "id": "99ab5b36",
   "metadata": {},
   "source": [
    "Plot Histogram for each treatment group"
   ]
  },
  {
   "cell_type": "code",
   "execution_count": 116,
   "id": "7f573e87",
   "metadata": {},
   "outputs": [
    {
     "data": {
      "application/vnd.plotly.v1+json": {
       "config": {
        "plotlyServerURL": "https://plot.ly"
       },
       "data": [
        {
         "alignmentgroup": "True",
         "box": {
          "visible": true
         },
         "hovertemplate": "treatment=%{x}<br>AUC=%{y}<extra></extra>",
         "legendgroup": "sham",
         "marker": {
          "color": "#636efa"
         },
         "name": "sham",
         "offsetgroup": "sham",
         "orientation": "v",
         "points": "all",
         "scalegroup": "True",
         "showlegend": true,
         "type": "violin",
         "x": [
          "sham",
          "sham",
          "sham",
          "sham",
          "sham",
          "sham",
          "sham",
          "sham"
         ],
         "x0": " ",
         "xaxis": "x",
         "y": {
          "bdata": "AAAAAAAANkAAAAAAAABJQAAAAAAAADRAAAAAAAAAN0AAAAAAAIBBQAAAAAAAAD5AAAAAAAAAMUAAAAAAAAA+QA==",
          "dtype": "f8"
         },
         "y0": " ",
         "yaxis": "y"
        },
        {
         "alignmentgroup": "True",
         "box": {
          "visible": true
         },
         "hovertemplate": "treatment=%{x}<br>AUC=%{y}<extra></extra>",
         "legendgroup": "mpfc",
         "marker": {
          "color": "#EF553B"
         },
         "name": "mpfc",
         "offsetgroup": "mpfc",
         "orientation": "v",
         "points": "all",
         "scalegroup": "True",
         "showlegend": true,
         "type": "violin",
         "x": [
          "mpfc",
          "mpfc",
          "mpfc",
          "mpfc",
          "mpfc",
          "mpfc",
          "mpfc",
          "mpfc",
          "mpfc",
          "mpfc"
         ],
         "x0": " ",
         "xaxis": "x",
         "y": {
          "bdata": "AAAAAAAAJkAAAAAAAAA+QAAAAAAAADRAAAAAAAAAQUAAAAAAAAA5QAAAAAAAAD9AAAAAAAAAOUAAAAAAAABEQAAAAAAAAEFAAAAAAAAAOEA=",
          "dtype": "f8"
         },
         "y0": " ",
         "yaxis": "y"
        },
        {
         "alignmentgroup": "True",
         "box": {
          "visible": true
         },
         "hovertemplate": "treatment=%{x}<br>AUC=%{y}<extra></extra>",
         "legendgroup": "ofc",
         "marker": {
          "color": "#00cc96"
         },
         "name": "ofc",
         "offsetgroup": "ofc",
         "orientation": "v",
         "points": "all",
         "scalegroup": "True",
         "showlegend": true,
         "type": "violin",
         "x": [
          "ofc",
          "ofc",
          "ofc",
          "ofc",
          "ofc",
          "ofc"
         ],
         "x0": " ",
         "xaxis": "x",
         "y": {
          "bdata": "AAAAAAAATEAAAAAAAAA7QAAAAAAAAD5AAAAAAACATUAAAAAAAABLQAAAAAAAADBA",
          "dtype": "f8"
         },
         "y0": " ",
         "yaxis": "y"
        }
       ],
       "layout": {
        "legend": {
         "title": {
          "text": "treatment"
         },
         "tracegroupgap": 0
        },
        "template": {
         "data": {
          "bar": [
           {
            "error_x": {
             "color": "#2a3f5f"
            },
            "error_y": {
             "color": "#2a3f5f"
            },
            "marker": {
             "line": {
              "color": "#E5ECF6",
              "width": 0.5
             },
             "pattern": {
              "fillmode": "overlay",
              "size": 10,
              "solidity": 0.2
             }
            },
            "type": "bar"
           }
          ],
          "barpolar": [
           {
            "marker": {
             "line": {
              "color": "#E5ECF6",
              "width": 0.5
             },
             "pattern": {
              "fillmode": "overlay",
              "size": 10,
              "solidity": 0.2
             }
            },
            "type": "barpolar"
           }
          ],
          "carpet": [
           {
            "aaxis": {
             "endlinecolor": "#2a3f5f",
             "gridcolor": "white",
             "linecolor": "white",
             "minorgridcolor": "white",
             "startlinecolor": "#2a3f5f"
            },
            "baxis": {
             "endlinecolor": "#2a3f5f",
             "gridcolor": "white",
             "linecolor": "white",
             "minorgridcolor": "white",
             "startlinecolor": "#2a3f5f"
            },
            "type": "carpet"
           }
          ],
          "choropleth": [
           {
            "colorbar": {
             "outlinewidth": 0,
             "ticks": ""
            },
            "type": "choropleth"
           }
          ],
          "contour": [
           {
            "colorbar": {
             "outlinewidth": 0,
             "ticks": ""
            },
            "colorscale": [
             [
              0,
              "#0d0887"
             ],
             [
              0.1111111111111111,
              "#46039f"
             ],
             [
              0.2222222222222222,
              "#7201a8"
             ],
             [
              0.3333333333333333,
              "#9c179e"
             ],
             [
              0.4444444444444444,
              "#bd3786"
             ],
             [
              0.5555555555555556,
              "#d8576b"
             ],
             [
              0.6666666666666666,
              "#ed7953"
             ],
             [
              0.7777777777777778,
              "#fb9f3a"
             ],
             [
              0.8888888888888888,
              "#fdca26"
             ],
             [
              1,
              "#f0f921"
             ]
            ],
            "type": "contour"
           }
          ],
          "contourcarpet": [
           {
            "colorbar": {
             "outlinewidth": 0,
             "ticks": ""
            },
            "type": "contourcarpet"
           }
          ],
          "heatmap": [
           {
            "colorbar": {
             "outlinewidth": 0,
             "ticks": ""
            },
            "colorscale": [
             [
              0,
              "#0d0887"
             ],
             [
              0.1111111111111111,
              "#46039f"
             ],
             [
              0.2222222222222222,
              "#7201a8"
             ],
             [
              0.3333333333333333,
              "#9c179e"
             ],
             [
              0.4444444444444444,
              "#bd3786"
             ],
             [
              0.5555555555555556,
              "#d8576b"
             ],
             [
              0.6666666666666666,
              "#ed7953"
             ],
             [
              0.7777777777777778,
              "#fb9f3a"
             ],
             [
              0.8888888888888888,
              "#fdca26"
             ],
             [
              1,
              "#f0f921"
             ]
            ],
            "type": "heatmap"
           }
          ],
          "histogram": [
           {
            "marker": {
             "pattern": {
              "fillmode": "overlay",
              "size": 10,
              "solidity": 0.2
             }
            },
            "type": "histogram"
           }
          ],
          "histogram2d": [
           {
            "colorbar": {
             "outlinewidth": 0,
             "ticks": ""
            },
            "colorscale": [
             [
              0,
              "#0d0887"
             ],
             [
              0.1111111111111111,
              "#46039f"
             ],
             [
              0.2222222222222222,
              "#7201a8"
             ],
             [
              0.3333333333333333,
              "#9c179e"
             ],
             [
              0.4444444444444444,
              "#bd3786"
             ],
             [
              0.5555555555555556,
              "#d8576b"
             ],
             [
              0.6666666666666666,
              "#ed7953"
             ],
             [
              0.7777777777777778,
              "#fb9f3a"
             ],
             [
              0.8888888888888888,
              "#fdca26"
             ],
             [
              1,
              "#f0f921"
             ]
            ],
            "type": "histogram2d"
           }
          ],
          "histogram2dcontour": [
           {
            "colorbar": {
             "outlinewidth": 0,
             "ticks": ""
            },
            "colorscale": [
             [
              0,
              "#0d0887"
             ],
             [
              0.1111111111111111,
              "#46039f"
             ],
             [
              0.2222222222222222,
              "#7201a8"
             ],
             [
              0.3333333333333333,
              "#9c179e"
             ],
             [
              0.4444444444444444,
              "#bd3786"
             ],
             [
              0.5555555555555556,
              "#d8576b"
             ],
             [
              0.6666666666666666,
              "#ed7953"
             ],
             [
              0.7777777777777778,
              "#fb9f3a"
             ],
             [
              0.8888888888888888,
              "#fdca26"
             ],
             [
              1,
              "#f0f921"
             ]
            ],
            "type": "histogram2dcontour"
           }
          ],
          "mesh3d": [
           {
            "colorbar": {
             "outlinewidth": 0,
             "ticks": ""
            },
            "type": "mesh3d"
           }
          ],
          "parcoords": [
           {
            "line": {
             "colorbar": {
              "outlinewidth": 0,
              "ticks": ""
             }
            },
            "type": "parcoords"
           }
          ],
          "pie": [
           {
            "automargin": true,
            "type": "pie"
           }
          ],
          "scatter": [
           {
            "fillpattern": {
             "fillmode": "overlay",
             "size": 10,
             "solidity": 0.2
            },
            "type": "scatter"
           }
          ],
          "scatter3d": [
           {
            "line": {
             "colorbar": {
              "outlinewidth": 0,
              "ticks": ""
             }
            },
            "marker": {
             "colorbar": {
              "outlinewidth": 0,
              "ticks": ""
             }
            },
            "type": "scatter3d"
           }
          ],
          "scattercarpet": [
           {
            "marker": {
             "colorbar": {
              "outlinewidth": 0,
              "ticks": ""
             }
            },
            "type": "scattercarpet"
           }
          ],
          "scattergeo": [
           {
            "marker": {
             "colorbar": {
              "outlinewidth": 0,
              "ticks": ""
             }
            },
            "type": "scattergeo"
           }
          ],
          "scattergl": [
           {
            "marker": {
             "colorbar": {
              "outlinewidth": 0,
              "ticks": ""
             }
            },
            "type": "scattergl"
           }
          ],
          "scattermap": [
           {
            "marker": {
             "colorbar": {
              "outlinewidth": 0,
              "ticks": ""
             }
            },
            "type": "scattermap"
           }
          ],
          "scattermapbox": [
           {
            "marker": {
             "colorbar": {
              "outlinewidth": 0,
              "ticks": ""
             }
            },
            "type": "scattermapbox"
           }
          ],
          "scatterpolar": [
           {
            "marker": {
             "colorbar": {
              "outlinewidth": 0,
              "ticks": ""
             }
            },
            "type": "scatterpolar"
           }
          ],
          "scatterpolargl": [
           {
            "marker": {
             "colorbar": {
              "outlinewidth": 0,
              "ticks": ""
             }
            },
            "type": "scatterpolargl"
           }
          ],
          "scatterternary": [
           {
            "marker": {
             "colorbar": {
              "outlinewidth": 0,
              "ticks": ""
             }
            },
            "type": "scatterternary"
           }
          ],
          "surface": [
           {
            "colorbar": {
             "outlinewidth": 0,
             "ticks": ""
            },
            "colorscale": [
             [
              0,
              "#0d0887"
             ],
             [
              0.1111111111111111,
              "#46039f"
             ],
             [
              0.2222222222222222,
              "#7201a8"
             ],
             [
              0.3333333333333333,
              "#9c179e"
             ],
             [
              0.4444444444444444,
              "#bd3786"
             ],
             [
              0.5555555555555556,
              "#d8576b"
             ],
             [
              0.6666666666666666,
              "#ed7953"
             ],
             [
              0.7777777777777778,
              "#fb9f3a"
             ],
             [
              0.8888888888888888,
              "#fdca26"
             ],
             [
              1,
              "#f0f921"
             ]
            ],
            "type": "surface"
           }
          ],
          "table": [
           {
            "cells": {
             "fill": {
              "color": "#EBF0F8"
             },
             "line": {
              "color": "white"
             }
            },
            "header": {
             "fill": {
              "color": "#C8D4E3"
             },
             "line": {
              "color": "white"
             }
            },
            "type": "table"
           }
          ]
         },
         "layout": {
          "annotationdefaults": {
           "arrowcolor": "#2a3f5f",
           "arrowhead": 0,
           "arrowwidth": 1
          },
          "autotypenumbers": "strict",
          "coloraxis": {
           "colorbar": {
            "outlinewidth": 0,
            "ticks": ""
           }
          },
          "colorscale": {
           "diverging": [
            [
             0,
             "#8e0152"
            ],
            [
             0.1,
             "#c51b7d"
            ],
            [
             0.2,
             "#de77ae"
            ],
            [
             0.3,
             "#f1b6da"
            ],
            [
             0.4,
             "#fde0ef"
            ],
            [
             0.5,
             "#f7f7f7"
            ],
            [
             0.6,
             "#e6f5d0"
            ],
            [
             0.7,
             "#b8e186"
            ],
            [
             0.8,
             "#7fbc41"
            ],
            [
             0.9,
             "#4d9221"
            ],
            [
             1,
             "#276419"
            ]
           ],
           "sequential": [
            [
             0,
             "#0d0887"
            ],
            [
             0.1111111111111111,
             "#46039f"
            ],
            [
             0.2222222222222222,
             "#7201a8"
            ],
            [
             0.3333333333333333,
             "#9c179e"
            ],
            [
             0.4444444444444444,
             "#bd3786"
            ],
            [
             0.5555555555555556,
             "#d8576b"
            ],
            [
             0.6666666666666666,
             "#ed7953"
            ],
            [
             0.7777777777777778,
             "#fb9f3a"
            ],
            [
             0.8888888888888888,
             "#fdca26"
            ],
            [
             1,
             "#f0f921"
            ]
           ],
           "sequentialminus": [
            [
             0,
             "#0d0887"
            ],
            [
             0.1111111111111111,
             "#46039f"
            ],
            [
             0.2222222222222222,
             "#7201a8"
            ],
            [
             0.3333333333333333,
             "#9c179e"
            ],
            [
             0.4444444444444444,
             "#bd3786"
            ],
            [
             0.5555555555555556,
             "#d8576b"
            ],
            [
             0.6666666666666666,
             "#ed7953"
            ],
            [
             0.7777777777777778,
             "#fb9f3a"
            ],
            [
             0.8888888888888888,
             "#fdca26"
            ],
            [
             1,
             "#f0f921"
            ]
           ]
          },
          "colorway": [
           "#636efa",
           "#EF553B",
           "#00cc96",
           "#ab63fa",
           "#FFA15A",
           "#19d3f3",
           "#FF6692",
           "#B6E880",
           "#FF97FF",
           "#FECB52"
          ],
          "font": {
           "color": "#2a3f5f"
          },
          "geo": {
           "bgcolor": "white",
           "lakecolor": "white",
           "landcolor": "#E5ECF6",
           "showlakes": true,
           "showland": true,
           "subunitcolor": "white"
          },
          "hoverlabel": {
           "align": "left"
          },
          "hovermode": "closest",
          "mapbox": {
           "style": "light"
          },
          "paper_bgcolor": "white",
          "plot_bgcolor": "#E5ECF6",
          "polar": {
           "angularaxis": {
            "gridcolor": "white",
            "linecolor": "white",
            "ticks": ""
           },
           "bgcolor": "#E5ECF6",
           "radialaxis": {
            "gridcolor": "white",
            "linecolor": "white",
            "ticks": ""
           }
          },
          "scene": {
           "xaxis": {
            "backgroundcolor": "#E5ECF6",
            "gridcolor": "white",
            "gridwidth": 2,
            "linecolor": "white",
            "showbackground": true,
            "ticks": "",
            "zerolinecolor": "white"
           },
           "yaxis": {
            "backgroundcolor": "#E5ECF6",
            "gridcolor": "white",
            "gridwidth": 2,
            "linecolor": "white",
            "showbackground": true,
            "ticks": "",
            "zerolinecolor": "white"
           },
           "zaxis": {
            "backgroundcolor": "#E5ECF6",
            "gridcolor": "white",
            "gridwidth": 2,
            "linecolor": "white",
            "showbackground": true,
            "ticks": "",
            "zerolinecolor": "white"
           }
          },
          "shapedefaults": {
           "line": {
            "color": "#2a3f5f"
           }
          },
          "ternary": {
           "aaxis": {
            "gridcolor": "white",
            "linecolor": "white",
            "ticks": ""
           },
           "baxis": {
            "gridcolor": "white",
            "linecolor": "white",
            "ticks": ""
           },
           "bgcolor": "#E5ECF6",
           "caxis": {
            "gridcolor": "white",
            "linecolor": "white",
            "ticks": ""
           }
          },
          "title": {
           "x": 0.05
          },
          "xaxis": {
           "automargin": true,
           "gridcolor": "white",
           "linecolor": "white",
           "ticks": "",
           "title": {
            "standoff": 15
           },
           "zerolinecolor": "white",
           "zerolinewidth": 2
          },
          "yaxis": {
           "automargin": true,
           "gridcolor": "white",
           "linecolor": "white",
           "ticks": "",
           "title": {
            "standoff": 15
           },
           "zerolinecolor": "white",
           "zerolinewidth": 2
          }
         }
        },
        "title": {
         "text": "Session 1 Post-Lesion Mean AUC(EFS)"
        },
        "violinmode": "overlay",
        "xaxis": {
         "anchor": "y",
         "categoryarray": [
          "sham",
          "mpfc",
          "ofc"
         ],
         "categoryorder": "array",
         "domain": [
          0,
          1
         ],
         "title": {
          "text": "treatment"
         }
        },
        "yaxis": {
         "anchor": "x",
         "domain": [
          0,
          1
         ],
         "title": {
          "text": "AUC"
         }
        }
       }
      }
     },
     "metadata": {},
     "output_type": "display_data"
    }
   ],
   "source": [
    "fig = px.violin(\n",
    "    ses1_auc,\n",
    "    x=\"treatment\",\n",
    "    y=\"AUC\",\n",
    "    box=True,\n",
    "    points=\"all\",\n",
    "    color=\"treatment\",\n",
    "    category_orders=cat,\n",
    "    title=\"Session 1 Post-Lesion Mean AUC(EFS)\"\n",
    ")\n",
    "fig.show()\n"
   ]
  },
  {
   "cell_type": "markdown",
   "id": "08da1206",
   "metadata": {},
   "source": [
    "This raises more questions than it answers. Bimodal OFC is interesting, is this from the lesion increasing EFS? Or do these rats just love to EFS? We need to bring in the pre-lesion baseline to answer this. "
   ]
  },
  {
   "cell_type": "markdown",
   "id": "9e295708",
   "metadata": {},
   "source": [
    "# Baseline vs. lesion comparison"
   ]
  },
  {
   "cell_type": "markdown",
   "id": "ca45b858",
   "metadata": {},
   "source": [
    "## Load baseline data"
   ]
  },
  {
   "cell_type": "code",
   "execution_count": 91,
   "id": "6a34bfca",
   "metadata": {},
   "outputs": [],
   "source": [
    "EXPERIMENT = \"lesion_study\" \n",
    "PARADIGM = \"baseline\" \n",
    "\n",
    "tdf_bl, sdf_bl, manifest_bl = load_metrics(EXPERIMENT, PARADIGM, root=\"C:/Users/benli/Documents/code/matching-pennies/data\") "
   ]
  },
  {
   "cell_type": "markdown",
   "id": "72db14ba",
   "metadata": {},
   "source": [
    "Take the AUC(EFS) for each animal in each baseline session. Compare this to the animals AUC(EFS) in session 1 post-surgery "
   ]
  },
  {
   "cell_type": "code",
   "execution_count": 96,
   "id": "9a15548d",
   "metadata": {},
   "outputs": [],
   "source": [
    "bl_trunc = tdf_bl.filter(pl.col(\"trial_idx\") <= 150) "
   ]
  },
  {
   "cell_type": "code",
   "execution_count": 103,
   "id": "8749f9f9",
   "metadata": {},
   "outputs": [
    {
     "data": {
      "text/html": [
       "<div><style>\n",
       ".dataframe > thead > tr,\n",
       ".dataframe > tbody > tr {\n",
       "  text-align: right;\n",
       "  white-space: pre-wrap;\n",
       "}\n",
       "</style>\n",
       "<small>shape: (24, 3)</small><table border=\"1\" class=\"dataframe\"><thead><tr><th>animal_id</th><th>treatment</th><th>mean_auc</th></tr><tr><td>cat</td><td>cat</td><td>f64</td></tr></thead><tbody><tr><td>&quot;P4640&quot;</td><td>&quot;mpfc&quot;</td><td>34.666667</td></tr><tr><td>&quot;P4647&quot;</td><td>&quot;mpfc&quot;</td><td>20.333333</td></tr><tr><td>&quot;P4648&quot;</td><td>&quot;mpfc&quot;</td><td>26.0</td></tr><tr><td>&quot;P4651&quot;</td><td>&quot;mpfc&quot;</td><td>38.333333</td></tr><tr><td>&quot;P4657&quot;</td><td>&quot;mpfc&quot;</td><td>42.333333</td></tr><tr><td>&hellip;</td><td>&hellip;</td><td>&hellip;</td></tr><tr><td>&quot;P4662&quot;</td><td>&quot;sham&quot;</td><td>45.0</td></tr><tr><td>&quot;P4667&quot;</td><td>&quot;sham&quot;</td><td>34.0</td></tr><tr><td>&quot;P4668&quot;</td><td>&quot;sham&quot;</td><td>34.333333</td></tr><tr><td>&quot;P4676&quot;</td><td>&quot;sham&quot;</td><td>18.333333</td></tr><tr><td>&quot;P4677&quot;</td><td>&quot;sham&quot;</td><td>36.333333</td></tr></tbody></table></div>"
      ],
      "text/plain": [
       "shape: (24, 3)\n",
       "┌───────────┬───────────┬───────────┐\n",
       "│ animal_id ┆ treatment ┆ mean_auc  │\n",
       "│ ---       ┆ ---       ┆ ---       │\n",
       "│ cat       ┆ cat       ┆ f64       │\n",
       "╞═══════════╪═══════════╪═══════════╡\n",
       "│ P4640     ┆ mpfc      ┆ 34.666667 │\n",
       "│ P4647     ┆ mpfc      ┆ 20.333333 │\n",
       "│ P4648     ┆ mpfc      ┆ 26.0      │\n",
       "│ P4651     ┆ mpfc      ┆ 38.333333 │\n",
       "│ P4657     ┆ mpfc      ┆ 42.333333 │\n",
       "│ …         ┆ …         ┆ …         │\n",
       "│ P4662     ┆ sham      ┆ 45.0      │\n",
       "│ P4667     ┆ sham      ┆ 34.0      │\n",
       "│ P4668     ┆ sham      ┆ 34.333333 │\n",
       "│ P4676     ┆ sham      ┆ 18.333333 │\n",
       "│ P4677     ┆ sham      ┆ 36.333333 │\n",
       "└───────────┴───────────┴───────────┘"
      ]
     },
     "execution_count": 103,
     "metadata": {},
     "output_type": "execute_result"
    }
   ],
   "source": [
    "bl_auc = (\n",
    "    bl_trunc\n",
    "    .group_by([\"animal_id\", \"treatment\", \"session_idx\", \"trial_idx\"])\n",
    "    .agg(pl.mean(\"EFS_before_flg\").alias(\"efs_mean\"))\n",
    "    .group_by([\"animal_id\", \"treatment\", \"session_idx\"])\n",
    "    .agg(pl.col(\"efs_mean\").sum().alias(\"AUC\"))   # AUC == final cumsum here\n",
    "    .group_by([\"animal_id\", \"treatment\"])\n",
    "    .agg(pl.mean(\"AUC\").alias(\"mean_auc\"))\n",
    ")\n",
    "bl_auc.sort([\"treatment\", \"animal_id\"])"
   ]
  },
  {
   "cell_type": "code",
   "execution_count": 104,
   "id": "e9859e1b",
   "metadata": {},
   "outputs": [
    {
     "data": {
      "text/html": [
       "<div><style>\n",
       ".dataframe > thead > tr,\n",
       ".dataframe > tbody > tr {\n",
       "  text-align: right;\n",
       "  white-space: pre-wrap;\n",
       "}\n",
       "</style>\n",
       "<small>shape: (24, 5)</small><table border=\"1\" class=\"dataframe\"><thead><tr><th>animal_id</th><th>treatment</th><th>AUC</th><th>mean_auc</th><th>delta_auc</th></tr><tr><td>cat</td><td>cat</td><td>f64</td><td>f64</td><td>f64</td></tr></thead><tbody><tr><td>&quot;P4672&quot;</td><td>&quot;mpfc&quot;</td><td>25.0</td><td>35.666667</td><td>-10.666667</td></tr><tr><td>&quot;P4647&quot;</td><td>&quot;mpfc&quot;</td><td>34.0</td><td>20.333333</td><td>13.666667</td></tr><tr><td>&quot;P4666&quot;</td><td>&quot;mpfc&quot;</td><td>20.0</td><td>33.666667</td><td>-13.666667</td></tr><tr><td>&quot;P4669&quot;</td><td>&quot;mpfc&quot;</td><td>40.0</td><td>27.666667</td><td>12.333333</td></tr><tr><td>&quot;P4659&quot;</td><td>&quot;mpfc&quot;</td><td>31.0</td><td>34.333333</td><td>-3.333333</td></tr><tr><td>&hellip;</td><td>&hellip;</td><td>&hellip;</td><td>&hellip;</td><td>&hellip;</td></tr><tr><td>&quot;P4667&quot;</td><td>&quot;sham&quot;</td><td>35.0</td><td>34.0</td><td>1.0</td></tr><tr><td>&quot;P4676&quot;</td><td>&quot;sham&quot;</td><td>17.0</td><td>18.333333</td><td>-1.333333</td></tr><tr><td>&quot;P4661&quot;</td><td>&quot;sham&quot;</td><td>20.0</td><td>41.333333</td><td>-21.333333</td></tr><tr><td>&quot;P4638&quot;</td><td>&quot;sham&quot;</td><td>30.0</td><td>42.0</td><td>-12.0</td></tr><tr><td>&quot;P4677&quot;</td><td>&quot;sham&quot;</td><td>30.0</td><td>36.333333</td><td>-6.333333</td></tr></tbody></table></div>"
      ],
      "text/plain": [
       "shape: (24, 5)\n",
       "┌───────────┬───────────┬──────┬───────────┬────────────┐\n",
       "│ animal_id ┆ treatment ┆ AUC  ┆ mean_auc  ┆ delta_auc  │\n",
       "│ ---       ┆ ---       ┆ ---  ┆ ---       ┆ ---        │\n",
       "│ cat       ┆ cat       ┆ f64  ┆ f64       ┆ f64        │\n",
       "╞═══════════╪═══════════╪══════╪═══════════╪════════════╡\n",
       "│ P4672     ┆ mpfc      ┆ 25.0 ┆ 35.666667 ┆ -10.666667 │\n",
       "│ P4647     ┆ mpfc      ┆ 34.0 ┆ 20.333333 ┆ 13.666667  │\n",
       "│ P4666     ┆ mpfc      ┆ 20.0 ┆ 33.666667 ┆ -13.666667 │\n",
       "│ P4669     ┆ mpfc      ┆ 40.0 ┆ 27.666667 ┆ 12.333333  │\n",
       "│ P4659     ┆ mpfc      ┆ 31.0 ┆ 34.333333 ┆ -3.333333  │\n",
       "│ …         ┆ …         ┆ …    ┆ …         ┆ …          │\n",
       "│ P4667     ┆ sham      ┆ 35.0 ┆ 34.0      ┆ 1.0        │\n",
       "│ P4676     ┆ sham      ┆ 17.0 ┆ 18.333333 ┆ -1.333333  │\n",
       "│ P4661     ┆ sham      ┆ 20.0 ┆ 41.333333 ┆ -21.333333 │\n",
       "│ P4638     ┆ sham      ┆ 30.0 ┆ 42.0      ┆ -12.0      │\n",
       "│ P4677     ┆ sham      ┆ 30.0 ┆ 36.333333 ┆ -6.333333  │\n",
       "└───────────┴───────────┴──────┴───────────┴────────────┘"
      ]
     },
     "execution_count": 104,
     "metadata": {},
     "output_type": "execute_result"
    }
   ],
   "source": [
    "# Merge baseline and post-lesion data\n",
    "prepost = (\n",
    "    ses1_auc.join(\n",
    "        bl_auc,\n",
    "        on=[\"animal_id\", \"treatment\"],\n",
    "        how=\"inner\"\n",
    "    )\n",
    "    .with_columns(\n",
    "        (pl.col(\"AUC\") - pl.col(\"mean_auc\")).alias(\"delta_auc\")\n",
    "    )\n",
    ")\n",
    "\n",
    "prepost = prepost.sort(\"treatment\")\n",
    "prepost"
   ]
  },
  {
   "cell_type": "code",
   "execution_count": 105,
   "id": "c311f8c3",
   "metadata": {},
   "outputs": [
    {
     "data": {
      "text/html": [
       "<div><style>\n",
       ".dataframe > thead > tr,\n",
       ".dataframe > tbody > tr {\n",
       "  text-align: right;\n",
       "  white-space: pre-wrap;\n",
       "}\n",
       "</style>\n",
       "<small>shape: (3, 2)</small><table border=\"1\" class=\"dataframe\"><thead><tr><th>treatment</th><th>mean_delta_auc</th></tr><tr><td>cat</td><td>f64</td></tr></thead><tbody><tr><td>&quot;mpfc&quot;</td><td>-3.566667</td></tr><tr><td>&quot;ofc&quot;</td><td>8.777778</td></tr><tr><td>&quot;sham&quot;</td><td>-7.666667</td></tr></tbody></table></div>"
      ],
      "text/plain": [
       "shape: (3, 2)\n",
       "┌───────────┬────────────────┐\n",
       "│ treatment ┆ mean_delta_auc │\n",
       "│ ---       ┆ ---            │\n",
       "│ cat       ┆ f64            │\n",
       "╞═══════════╪════════════════╡\n",
       "│ mpfc      ┆ -3.566667      │\n",
       "│ ofc       ┆ 8.777778       │\n",
       "│ sham      ┆ -7.666667      │\n",
       "└───────────┴────────────────┘"
      ]
     },
     "execution_count": 105,
     "metadata": {},
     "output_type": "execute_result"
    }
   ],
   "source": [
    "(\n",
    "    prepost\n",
    "    .group_by(\"treatment\")\n",
    "    .agg(pl.mean(\"delta_auc\").alias(\"mean_delta_auc\"))\n",
    ")"
   ]
  },
  {
   "cell_type": "markdown",
   "id": "5c002540",
   "metadata": {},
   "source": [
    "Lets make a violin plot of the baseline AUC to check variance"
   ]
  },
  {
   "cell_type": "code",
   "execution_count": 118,
   "id": "410bea23",
   "metadata": {},
   "outputs": [
    {
     "data": {
      "application/vnd.plotly.v1+json": {
       "config": {
        "plotlyServerURL": "https://plot.ly"
       },
       "data": [
        {
         "alignmentgroup": "True",
         "box": {
          "visible": true
         },
         "hovertemplate": "treatment=%{x}<br>mean_auc=%{y}<extra></extra>",
         "legendgroup": "sham",
         "marker": {
          "color": "#636efa"
         },
         "name": "sham",
         "offsetgroup": "sham",
         "orientation": "v",
         "points": "all",
         "scalegroup": "True",
         "showlegend": true,
         "type": "violin",
         "x": [
          "sham",
          "sham",
          "sham",
          "sham",
          "sham",
          "sham",
          "sham",
          "sham"
         ],
         "x0": " ",
         "xaxis": "x",
         "y": {
          "bdata": "AAAAAACAQkAAAAAAAIBGQKuqqqqqKkFAAAAAAAAAQUBVVVVVVVUyQKuqqqqqqkRAAAAAAAAARUCrqqqqqipCQA==",
          "dtype": "f8"
         },
         "y0": " ",
         "yaxis": "y"
        },
        {
         "alignmentgroup": "True",
         "box": {
          "visible": true
         },
         "hovertemplate": "treatment=%{x}<br>mean_auc=%{y}<extra></extra>",
         "legendgroup": "mpfc",
         "marker": {
          "color": "#EF553B"
         },
         "name": "mpfc",
         "offsetgroup": "mpfc",
         "orientation": "v",
         "points": "all",
         "scalegroup": "True",
         "showlegend": true,
         "type": "violin",
         "x": [
          "mpfc",
          "mpfc",
          "mpfc",
          "mpfc",
          "mpfc",
          "mpfc",
          "mpfc",
          "mpfc",
          "mpfc",
          "mpfc"
         ],
         "x0": " ",
         "xaxis": "x",
         "y": {
          "bdata": "VVVVVVXVQUBVVVVVVVU0QFVVVVVV1UBAq6qqqqqqO0CrqqqqqipBQAAAAAAAADpAq6qqqqoqRUCrqqqqqqowQFVVVVVVVUFAq6qqqqoqQ0A=",
          "dtype": "f8"
         },
         "y0": " ",
         "yaxis": "y"
        },
        {
         "alignmentgroup": "True",
         "box": {
          "visible": true
         },
         "hovertemplate": "treatment=%{x}<br>mean_auc=%{y}<extra></extra>",
         "legendgroup": "ofc",
         "marker": {
          "color": "#00cc96"
         },
         "name": "ofc",
         "offsetgroup": "ofc",
         "orientation": "v",
         "points": "all",
         "scalegroup": "True",
         "showlegend": true,
         "type": "violin",
         "x": [
          "ofc",
          "ofc",
          "ofc",
          "ofc",
          "ofc",
          "ofc"
         ],
         "x0": " ",
         "xaxis": "x",
         "y": {
          "bdata": "AAAAAACASkAAAAAAAIBAQAAAAAAAADRAAAAAAAAARkCrqqqqqqo0QKuqqqqqqjJA",
          "dtype": "f8"
         },
         "y0": " ",
         "yaxis": "y"
        }
       ],
       "layout": {
        "legend": {
         "title": {
          "text": "treatment"
         },
         "tracegroupgap": 0
        },
        "template": {
         "data": {
          "bar": [
           {
            "error_x": {
             "color": "#2a3f5f"
            },
            "error_y": {
             "color": "#2a3f5f"
            },
            "marker": {
             "line": {
              "color": "#E5ECF6",
              "width": 0.5
             },
             "pattern": {
              "fillmode": "overlay",
              "size": 10,
              "solidity": 0.2
             }
            },
            "type": "bar"
           }
          ],
          "barpolar": [
           {
            "marker": {
             "line": {
              "color": "#E5ECF6",
              "width": 0.5
             },
             "pattern": {
              "fillmode": "overlay",
              "size": 10,
              "solidity": 0.2
             }
            },
            "type": "barpolar"
           }
          ],
          "carpet": [
           {
            "aaxis": {
             "endlinecolor": "#2a3f5f",
             "gridcolor": "white",
             "linecolor": "white",
             "minorgridcolor": "white",
             "startlinecolor": "#2a3f5f"
            },
            "baxis": {
             "endlinecolor": "#2a3f5f",
             "gridcolor": "white",
             "linecolor": "white",
             "minorgridcolor": "white",
             "startlinecolor": "#2a3f5f"
            },
            "type": "carpet"
           }
          ],
          "choropleth": [
           {
            "colorbar": {
             "outlinewidth": 0,
             "ticks": ""
            },
            "type": "choropleth"
           }
          ],
          "contour": [
           {
            "colorbar": {
             "outlinewidth": 0,
             "ticks": ""
            },
            "colorscale": [
             [
              0,
              "#0d0887"
             ],
             [
              0.1111111111111111,
              "#46039f"
             ],
             [
              0.2222222222222222,
              "#7201a8"
             ],
             [
              0.3333333333333333,
              "#9c179e"
             ],
             [
              0.4444444444444444,
              "#bd3786"
             ],
             [
              0.5555555555555556,
              "#d8576b"
             ],
             [
              0.6666666666666666,
              "#ed7953"
             ],
             [
              0.7777777777777778,
              "#fb9f3a"
             ],
             [
              0.8888888888888888,
              "#fdca26"
             ],
             [
              1,
              "#f0f921"
             ]
            ],
            "type": "contour"
           }
          ],
          "contourcarpet": [
           {
            "colorbar": {
             "outlinewidth": 0,
             "ticks": ""
            },
            "type": "contourcarpet"
           }
          ],
          "heatmap": [
           {
            "colorbar": {
             "outlinewidth": 0,
             "ticks": ""
            },
            "colorscale": [
             [
              0,
              "#0d0887"
             ],
             [
              0.1111111111111111,
              "#46039f"
             ],
             [
              0.2222222222222222,
              "#7201a8"
             ],
             [
              0.3333333333333333,
              "#9c179e"
             ],
             [
              0.4444444444444444,
              "#bd3786"
             ],
             [
              0.5555555555555556,
              "#d8576b"
             ],
             [
              0.6666666666666666,
              "#ed7953"
             ],
             [
              0.7777777777777778,
              "#fb9f3a"
             ],
             [
              0.8888888888888888,
              "#fdca26"
             ],
             [
              1,
              "#f0f921"
             ]
            ],
            "type": "heatmap"
           }
          ],
          "histogram": [
           {
            "marker": {
             "pattern": {
              "fillmode": "overlay",
              "size": 10,
              "solidity": 0.2
             }
            },
            "type": "histogram"
           }
          ],
          "histogram2d": [
           {
            "colorbar": {
             "outlinewidth": 0,
             "ticks": ""
            },
            "colorscale": [
             [
              0,
              "#0d0887"
             ],
             [
              0.1111111111111111,
              "#46039f"
             ],
             [
              0.2222222222222222,
              "#7201a8"
             ],
             [
              0.3333333333333333,
              "#9c179e"
             ],
             [
              0.4444444444444444,
              "#bd3786"
             ],
             [
              0.5555555555555556,
              "#d8576b"
             ],
             [
              0.6666666666666666,
              "#ed7953"
             ],
             [
              0.7777777777777778,
              "#fb9f3a"
             ],
             [
              0.8888888888888888,
              "#fdca26"
             ],
             [
              1,
              "#f0f921"
             ]
            ],
            "type": "histogram2d"
           }
          ],
          "histogram2dcontour": [
           {
            "colorbar": {
             "outlinewidth": 0,
             "ticks": ""
            },
            "colorscale": [
             [
              0,
              "#0d0887"
             ],
             [
              0.1111111111111111,
              "#46039f"
             ],
             [
              0.2222222222222222,
              "#7201a8"
             ],
             [
              0.3333333333333333,
              "#9c179e"
             ],
             [
              0.4444444444444444,
              "#bd3786"
             ],
             [
              0.5555555555555556,
              "#d8576b"
             ],
             [
              0.6666666666666666,
              "#ed7953"
             ],
             [
              0.7777777777777778,
              "#fb9f3a"
             ],
             [
              0.8888888888888888,
              "#fdca26"
             ],
             [
              1,
              "#f0f921"
             ]
            ],
            "type": "histogram2dcontour"
           }
          ],
          "mesh3d": [
           {
            "colorbar": {
             "outlinewidth": 0,
             "ticks": ""
            },
            "type": "mesh3d"
           }
          ],
          "parcoords": [
           {
            "line": {
             "colorbar": {
              "outlinewidth": 0,
              "ticks": ""
             }
            },
            "type": "parcoords"
           }
          ],
          "pie": [
           {
            "automargin": true,
            "type": "pie"
           }
          ],
          "scatter": [
           {
            "fillpattern": {
             "fillmode": "overlay",
             "size": 10,
             "solidity": 0.2
            },
            "type": "scatter"
           }
          ],
          "scatter3d": [
           {
            "line": {
             "colorbar": {
              "outlinewidth": 0,
              "ticks": ""
             }
            },
            "marker": {
             "colorbar": {
              "outlinewidth": 0,
              "ticks": ""
             }
            },
            "type": "scatter3d"
           }
          ],
          "scattercarpet": [
           {
            "marker": {
             "colorbar": {
              "outlinewidth": 0,
              "ticks": ""
             }
            },
            "type": "scattercarpet"
           }
          ],
          "scattergeo": [
           {
            "marker": {
             "colorbar": {
              "outlinewidth": 0,
              "ticks": ""
             }
            },
            "type": "scattergeo"
           }
          ],
          "scattergl": [
           {
            "marker": {
             "colorbar": {
              "outlinewidth": 0,
              "ticks": ""
             }
            },
            "type": "scattergl"
           }
          ],
          "scattermap": [
           {
            "marker": {
             "colorbar": {
              "outlinewidth": 0,
              "ticks": ""
             }
            },
            "type": "scattermap"
           }
          ],
          "scattermapbox": [
           {
            "marker": {
             "colorbar": {
              "outlinewidth": 0,
              "ticks": ""
             }
            },
            "type": "scattermapbox"
           }
          ],
          "scatterpolar": [
           {
            "marker": {
             "colorbar": {
              "outlinewidth": 0,
              "ticks": ""
             }
            },
            "type": "scatterpolar"
           }
          ],
          "scatterpolargl": [
           {
            "marker": {
             "colorbar": {
              "outlinewidth": 0,
              "ticks": ""
             }
            },
            "type": "scatterpolargl"
           }
          ],
          "scatterternary": [
           {
            "marker": {
             "colorbar": {
              "outlinewidth": 0,
              "ticks": ""
             }
            },
            "type": "scatterternary"
           }
          ],
          "surface": [
           {
            "colorbar": {
             "outlinewidth": 0,
             "ticks": ""
            },
            "colorscale": [
             [
              0,
              "#0d0887"
             ],
             [
              0.1111111111111111,
              "#46039f"
             ],
             [
              0.2222222222222222,
              "#7201a8"
             ],
             [
              0.3333333333333333,
              "#9c179e"
             ],
             [
              0.4444444444444444,
              "#bd3786"
             ],
             [
              0.5555555555555556,
              "#d8576b"
             ],
             [
              0.6666666666666666,
              "#ed7953"
             ],
             [
              0.7777777777777778,
              "#fb9f3a"
             ],
             [
              0.8888888888888888,
              "#fdca26"
             ],
             [
              1,
              "#f0f921"
             ]
            ],
            "type": "surface"
           }
          ],
          "table": [
           {
            "cells": {
             "fill": {
              "color": "#EBF0F8"
             },
             "line": {
              "color": "white"
             }
            },
            "header": {
             "fill": {
              "color": "#C8D4E3"
             },
             "line": {
              "color": "white"
             }
            },
            "type": "table"
           }
          ]
         },
         "layout": {
          "annotationdefaults": {
           "arrowcolor": "#2a3f5f",
           "arrowhead": 0,
           "arrowwidth": 1
          },
          "autotypenumbers": "strict",
          "coloraxis": {
           "colorbar": {
            "outlinewidth": 0,
            "ticks": ""
           }
          },
          "colorscale": {
           "diverging": [
            [
             0,
             "#8e0152"
            ],
            [
             0.1,
             "#c51b7d"
            ],
            [
             0.2,
             "#de77ae"
            ],
            [
             0.3,
             "#f1b6da"
            ],
            [
             0.4,
             "#fde0ef"
            ],
            [
             0.5,
             "#f7f7f7"
            ],
            [
             0.6,
             "#e6f5d0"
            ],
            [
             0.7,
             "#b8e186"
            ],
            [
             0.8,
             "#7fbc41"
            ],
            [
             0.9,
             "#4d9221"
            ],
            [
             1,
             "#276419"
            ]
           ],
           "sequential": [
            [
             0,
             "#0d0887"
            ],
            [
             0.1111111111111111,
             "#46039f"
            ],
            [
             0.2222222222222222,
             "#7201a8"
            ],
            [
             0.3333333333333333,
             "#9c179e"
            ],
            [
             0.4444444444444444,
             "#bd3786"
            ],
            [
             0.5555555555555556,
             "#d8576b"
            ],
            [
             0.6666666666666666,
             "#ed7953"
            ],
            [
             0.7777777777777778,
             "#fb9f3a"
            ],
            [
             0.8888888888888888,
             "#fdca26"
            ],
            [
             1,
             "#f0f921"
            ]
           ],
           "sequentialminus": [
            [
             0,
             "#0d0887"
            ],
            [
             0.1111111111111111,
             "#46039f"
            ],
            [
             0.2222222222222222,
             "#7201a8"
            ],
            [
             0.3333333333333333,
             "#9c179e"
            ],
            [
             0.4444444444444444,
             "#bd3786"
            ],
            [
             0.5555555555555556,
             "#d8576b"
            ],
            [
             0.6666666666666666,
             "#ed7953"
            ],
            [
             0.7777777777777778,
             "#fb9f3a"
            ],
            [
             0.8888888888888888,
             "#fdca26"
            ],
            [
             1,
             "#f0f921"
            ]
           ]
          },
          "colorway": [
           "#636efa",
           "#EF553B",
           "#00cc96",
           "#ab63fa",
           "#FFA15A",
           "#19d3f3",
           "#FF6692",
           "#B6E880",
           "#FF97FF",
           "#FECB52"
          ],
          "font": {
           "color": "#2a3f5f"
          },
          "geo": {
           "bgcolor": "white",
           "lakecolor": "white",
           "landcolor": "#E5ECF6",
           "showlakes": true,
           "showland": true,
           "subunitcolor": "white"
          },
          "hoverlabel": {
           "align": "left"
          },
          "hovermode": "closest",
          "mapbox": {
           "style": "light"
          },
          "paper_bgcolor": "white",
          "plot_bgcolor": "#E5ECF6",
          "polar": {
           "angularaxis": {
            "gridcolor": "white",
            "linecolor": "white",
            "ticks": ""
           },
           "bgcolor": "#E5ECF6",
           "radialaxis": {
            "gridcolor": "white",
            "linecolor": "white",
            "ticks": ""
           }
          },
          "scene": {
           "xaxis": {
            "backgroundcolor": "#E5ECF6",
            "gridcolor": "white",
            "gridwidth": 2,
            "linecolor": "white",
            "showbackground": true,
            "ticks": "",
            "zerolinecolor": "white"
           },
           "yaxis": {
            "backgroundcolor": "#E5ECF6",
            "gridcolor": "white",
            "gridwidth": 2,
            "linecolor": "white",
            "showbackground": true,
            "ticks": "",
            "zerolinecolor": "white"
           },
           "zaxis": {
            "backgroundcolor": "#E5ECF6",
            "gridcolor": "white",
            "gridwidth": 2,
            "linecolor": "white",
            "showbackground": true,
            "ticks": "",
            "zerolinecolor": "white"
           }
          },
          "shapedefaults": {
           "line": {
            "color": "#2a3f5f"
           }
          },
          "ternary": {
           "aaxis": {
            "gridcolor": "white",
            "linecolor": "white",
            "ticks": ""
           },
           "baxis": {
            "gridcolor": "white",
            "linecolor": "white",
            "ticks": ""
           },
           "bgcolor": "#E5ECF6",
           "caxis": {
            "gridcolor": "white",
            "linecolor": "white",
            "ticks": ""
           }
          },
          "title": {
           "x": 0.05
          },
          "xaxis": {
           "automargin": true,
           "gridcolor": "white",
           "linecolor": "white",
           "ticks": "",
           "title": {
            "standoff": 15
           },
           "zerolinecolor": "white",
           "zerolinewidth": 2
          },
          "yaxis": {
           "automargin": true,
           "gridcolor": "white",
           "linecolor": "white",
           "ticks": "",
           "title": {
            "standoff": 15
           },
           "zerolinecolor": "white",
           "zerolinewidth": 2
          }
         }
        },
        "title": {
         "text": "Pre-lesion Mean AUC over all sessions"
        },
        "violinmode": "overlay",
        "xaxis": {
         "anchor": "y",
         "categoryarray": [
          "sham",
          "mpfc",
          "ofc"
         ],
         "categoryorder": "array",
         "domain": [
          0,
          1
         ],
         "title": {
          "text": "treatment"
         }
        },
        "yaxis": {
         "anchor": "x",
         "domain": [
          0,
          1
         ],
         "title": {
          "text": "mean_auc"
         }
        }
       }
      }
     },
     "metadata": {},
     "output_type": "display_data"
    }
   ],
   "source": [
    "fig = px.violin(\n",
    "    bl_auc,\n",
    "    x=\"treatment\",\n",
    "    y=\"mean_auc\",\n",
    "    box=True,\n",
    "    points=\"all\",\n",
    "    color=\"treatment\",\n",
    "    category_orders=cat,\n",
    "    title=\"Pre-lesion Mean AUC over all sessions\"\n",
    ")\n",
    "fig.show()"
   ]
  },
  {
   "cell_type": "markdown",
   "id": "0b33ba73",
   "metadata": {},
   "source": [
    "Now lets visualize the delta AUC. "
   ]
  },
  {
   "cell_type": "code",
   "execution_count": 120,
   "id": "73ff557f",
   "metadata": {},
   "outputs": [
    {
     "data": {
      "application/vnd.plotly.v1+json": {
       "config": {
        "plotlyServerURL": "https://plot.ly"
       },
       "data": [
        {
         "alignmentgroup": "True",
         "box": {
          "visible": true
         },
         "hovertemplate": "treatment=%{x}<br>delta_auc=%{y}<extra></extra>",
         "legendgroup": "sham",
         "marker": {
          "color": "#636efa"
         },
         "name": "sham",
         "offsetgroup": "sham",
         "orientation": "v",
         "points": "all",
         "scalegroup": "True",
         "showlegend": true,
         "type": "violin",
         "x": [
          "sham",
          "sham",
          "sham",
          "sham",
          "sham",
          "sham",
          "sham",
          "sham"
         ],
         "x0": " ",
         "xaxis": "x",
         "y": {
          "bdata": "AAAAAAAALsAAAAAAAAA2wFRVVVVVVS9AAAAAAAAA8D9QVVVVVVX1v1ZVVVVVVTXAAAAAAAAAKMBYVVVVVVUZwA==",
          "dtype": "f8"
         },
         "y0": " ",
         "yaxis": "y"
        },
        {
         "alignmentgroup": "True",
         "box": {
          "visible": true
         },
         "hovertemplate": "treatment=%{x}<br>delta_auc=%{y}<extra></extra>",
         "legendgroup": "mpfc",
         "marker": {
          "color": "#EF553B"
         },
         "name": "mpfc",
         "offsetgroup": "mpfc",
         "orientation": "v",
         "points": "all",
         "scalegroup": "True",
         "showlegend": true,
         "type": "violin",
         "x": [
          "mpfc",
          "mpfc",
          "mpfc",
          "mpfc",
          "mpfc",
          "mpfc",
          "mpfc",
          "mpfc",
          "mpfc",
          "mpfc"
         ],
         "x0": " ",
         "xaxis": "x",
         "y": {
          "bdata": "VFVVVVVVJcBWVVVVVVUrQFRVVVVVVSvAqqqqqqqqKECwqqqqqqoKwAAAAAAAAPC/VlVVVVVVMsCsqqqqqqoWwEBVVVVVVeW/rKqqqqqqIMA=",
          "dtype": "f8"
         },
         "y0": " ",
         "yaxis": "y"
        },
        {
         "alignmentgroup": "True",
         "box": {
          "visible": true
         },
         "hovertemplate": "treatment=%{x}<br>delta_auc=%{y}<extra></extra>",
         "legendgroup": "ofc",
         "marker": {
          "color": "#00cc96"
         },
         "name": "ofc",
         "offsetgroup": "ofc",
         "orientation": "v",
         "points": "all",
         "scalegroup": "True",
         "showlegend": true,
         "type": "violin",
         "x": [
          "ofc",
          "ofc",
          "ofc",
          "ofc",
          "ofc",
          "ofc"
         ],
         "x0": " ",
         "xaxis": "x",
         "y": {
          "bdata": "AAAAAAAAGEAAAAAAAAAIwAAAAAAAABxAAAAAAAAAJECsqqqqqqoSwKqqqqqqqkJA",
          "dtype": "f8"
         },
         "y0": " ",
         "yaxis": "y"
        }
       ],
       "layout": {
        "legend": {
         "title": {
          "text": "treatment"
         },
         "tracegroupgap": 0
        },
        "template": {
         "data": {
          "bar": [
           {
            "error_x": {
             "color": "#2a3f5f"
            },
            "error_y": {
             "color": "#2a3f5f"
            },
            "marker": {
             "line": {
              "color": "#E5ECF6",
              "width": 0.5
             },
             "pattern": {
              "fillmode": "overlay",
              "size": 10,
              "solidity": 0.2
             }
            },
            "type": "bar"
           }
          ],
          "barpolar": [
           {
            "marker": {
             "line": {
              "color": "#E5ECF6",
              "width": 0.5
             },
             "pattern": {
              "fillmode": "overlay",
              "size": 10,
              "solidity": 0.2
             }
            },
            "type": "barpolar"
           }
          ],
          "carpet": [
           {
            "aaxis": {
             "endlinecolor": "#2a3f5f",
             "gridcolor": "white",
             "linecolor": "white",
             "minorgridcolor": "white",
             "startlinecolor": "#2a3f5f"
            },
            "baxis": {
             "endlinecolor": "#2a3f5f",
             "gridcolor": "white",
             "linecolor": "white",
             "minorgridcolor": "white",
             "startlinecolor": "#2a3f5f"
            },
            "type": "carpet"
           }
          ],
          "choropleth": [
           {
            "colorbar": {
             "outlinewidth": 0,
             "ticks": ""
            },
            "type": "choropleth"
           }
          ],
          "contour": [
           {
            "colorbar": {
             "outlinewidth": 0,
             "ticks": ""
            },
            "colorscale": [
             [
              0,
              "#0d0887"
             ],
             [
              0.1111111111111111,
              "#46039f"
             ],
             [
              0.2222222222222222,
              "#7201a8"
             ],
             [
              0.3333333333333333,
              "#9c179e"
             ],
             [
              0.4444444444444444,
              "#bd3786"
             ],
             [
              0.5555555555555556,
              "#d8576b"
             ],
             [
              0.6666666666666666,
              "#ed7953"
             ],
             [
              0.7777777777777778,
              "#fb9f3a"
             ],
             [
              0.8888888888888888,
              "#fdca26"
             ],
             [
              1,
              "#f0f921"
             ]
            ],
            "type": "contour"
           }
          ],
          "contourcarpet": [
           {
            "colorbar": {
             "outlinewidth": 0,
             "ticks": ""
            },
            "type": "contourcarpet"
           }
          ],
          "heatmap": [
           {
            "colorbar": {
             "outlinewidth": 0,
             "ticks": ""
            },
            "colorscale": [
             [
              0,
              "#0d0887"
             ],
             [
              0.1111111111111111,
              "#46039f"
             ],
             [
              0.2222222222222222,
              "#7201a8"
             ],
             [
              0.3333333333333333,
              "#9c179e"
             ],
             [
              0.4444444444444444,
              "#bd3786"
             ],
             [
              0.5555555555555556,
              "#d8576b"
             ],
             [
              0.6666666666666666,
              "#ed7953"
             ],
             [
              0.7777777777777778,
              "#fb9f3a"
             ],
             [
              0.8888888888888888,
              "#fdca26"
             ],
             [
              1,
              "#f0f921"
             ]
            ],
            "type": "heatmap"
           }
          ],
          "histogram": [
           {
            "marker": {
             "pattern": {
              "fillmode": "overlay",
              "size": 10,
              "solidity": 0.2
             }
            },
            "type": "histogram"
           }
          ],
          "histogram2d": [
           {
            "colorbar": {
             "outlinewidth": 0,
             "ticks": ""
            },
            "colorscale": [
             [
              0,
              "#0d0887"
             ],
             [
              0.1111111111111111,
              "#46039f"
             ],
             [
              0.2222222222222222,
              "#7201a8"
             ],
             [
              0.3333333333333333,
              "#9c179e"
             ],
             [
              0.4444444444444444,
              "#bd3786"
             ],
             [
              0.5555555555555556,
              "#d8576b"
             ],
             [
              0.6666666666666666,
              "#ed7953"
             ],
             [
              0.7777777777777778,
              "#fb9f3a"
             ],
             [
              0.8888888888888888,
              "#fdca26"
             ],
             [
              1,
              "#f0f921"
             ]
            ],
            "type": "histogram2d"
           }
          ],
          "histogram2dcontour": [
           {
            "colorbar": {
             "outlinewidth": 0,
             "ticks": ""
            },
            "colorscale": [
             [
              0,
              "#0d0887"
             ],
             [
              0.1111111111111111,
              "#46039f"
             ],
             [
              0.2222222222222222,
              "#7201a8"
             ],
             [
              0.3333333333333333,
              "#9c179e"
             ],
             [
              0.4444444444444444,
              "#bd3786"
             ],
             [
              0.5555555555555556,
              "#d8576b"
             ],
             [
              0.6666666666666666,
              "#ed7953"
             ],
             [
              0.7777777777777778,
              "#fb9f3a"
             ],
             [
              0.8888888888888888,
              "#fdca26"
             ],
             [
              1,
              "#f0f921"
             ]
            ],
            "type": "histogram2dcontour"
           }
          ],
          "mesh3d": [
           {
            "colorbar": {
             "outlinewidth": 0,
             "ticks": ""
            },
            "type": "mesh3d"
           }
          ],
          "parcoords": [
           {
            "line": {
             "colorbar": {
              "outlinewidth": 0,
              "ticks": ""
             }
            },
            "type": "parcoords"
           }
          ],
          "pie": [
           {
            "automargin": true,
            "type": "pie"
           }
          ],
          "scatter": [
           {
            "fillpattern": {
             "fillmode": "overlay",
             "size": 10,
             "solidity": 0.2
            },
            "type": "scatter"
           }
          ],
          "scatter3d": [
           {
            "line": {
             "colorbar": {
              "outlinewidth": 0,
              "ticks": ""
             }
            },
            "marker": {
             "colorbar": {
              "outlinewidth": 0,
              "ticks": ""
             }
            },
            "type": "scatter3d"
           }
          ],
          "scattercarpet": [
           {
            "marker": {
             "colorbar": {
              "outlinewidth": 0,
              "ticks": ""
             }
            },
            "type": "scattercarpet"
           }
          ],
          "scattergeo": [
           {
            "marker": {
             "colorbar": {
              "outlinewidth": 0,
              "ticks": ""
             }
            },
            "type": "scattergeo"
           }
          ],
          "scattergl": [
           {
            "marker": {
             "colorbar": {
              "outlinewidth": 0,
              "ticks": ""
             }
            },
            "type": "scattergl"
           }
          ],
          "scattermap": [
           {
            "marker": {
             "colorbar": {
              "outlinewidth": 0,
              "ticks": ""
             }
            },
            "type": "scattermap"
           }
          ],
          "scattermapbox": [
           {
            "marker": {
             "colorbar": {
              "outlinewidth": 0,
              "ticks": ""
             }
            },
            "type": "scattermapbox"
           }
          ],
          "scatterpolar": [
           {
            "marker": {
             "colorbar": {
              "outlinewidth": 0,
              "ticks": ""
             }
            },
            "type": "scatterpolar"
           }
          ],
          "scatterpolargl": [
           {
            "marker": {
             "colorbar": {
              "outlinewidth": 0,
              "ticks": ""
             }
            },
            "type": "scatterpolargl"
           }
          ],
          "scatterternary": [
           {
            "marker": {
             "colorbar": {
              "outlinewidth": 0,
              "ticks": ""
             }
            },
            "type": "scatterternary"
           }
          ],
          "surface": [
           {
            "colorbar": {
             "outlinewidth": 0,
             "ticks": ""
            },
            "colorscale": [
             [
              0,
              "#0d0887"
             ],
             [
              0.1111111111111111,
              "#46039f"
             ],
             [
              0.2222222222222222,
              "#7201a8"
             ],
             [
              0.3333333333333333,
              "#9c179e"
             ],
             [
              0.4444444444444444,
              "#bd3786"
             ],
             [
              0.5555555555555556,
              "#d8576b"
             ],
             [
              0.6666666666666666,
              "#ed7953"
             ],
             [
              0.7777777777777778,
              "#fb9f3a"
             ],
             [
              0.8888888888888888,
              "#fdca26"
             ],
             [
              1,
              "#f0f921"
             ]
            ],
            "type": "surface"
           }
          ],
          "table": [
           {
            "cells": {
             "fill": {
              "color": "#EBF0F8"
             },
             "line": {
              "color": "white"
             }
            },
            "header": {
             "fill": {
              "color": "#C8D4E3"
             },
             "line": {
              "color": "white"
             }
            },
            "type": "table"
           }
          ]
         },
         "layout": {
          "annotationdefaults": {
           "arrowcolor": "#2a3f5f",
           "arrowhead": 0,
           "arrowwidth": 1
          },
          "autotypenumbers": "strict",
          "coloraxis": {
           "colorbar": {
            "outlinewidth": 0,
            "ticks": ""
           }
          },
          "colorscale": {
           "diverging": [
            [
             0,
             "#8e0152"
            ],
            [
             0.1,
             "#c51b7d"
            ],
            [
             0.2,
             "#de77ae"
            ],
            [
             0.3,
             "#f1b6da"
            ],
            [
             0.4,
             "#fde0ef"
            ],
            [
             0.5,
             "#f7f7f7"
            ],
            [
             0.6,
             "#e6f5d0"
            ],
            [
             0.7,
             "#b8e186"
            ],
            [
             0.8,
             "#7fbc41"
            ],
            [
             0.9,
             "#4d9221"
            ],
            [
             1,
             "#276419"
            ]
           ],
           "sequential": [
            [
             0,
             "#0d0887"
            ],
            [
             0.1111111111111111,
             "#46039f"
            ],
            [
             0.2222222222222222,
             "#7201a8"
            ],
            [
             0.3333333333333333,
             "#9c179e"
            ],
            [
             0.4444444444444444,
             "#bd3786"
            ],
            [
             0.5555555555555556,
             "#d8576b"
            ],
            [
             0.6666666666666666,
             "#ed7953"
            ],
            [
             0.7777777777777778,
             "#fb9f3a"
            ],
            [
             0.8888888888888888,
             "#fdca26"
            ],
            [
             1,
             "#f0f921"
            ]
           ],
           "sequentialminus": [
            [
             0,
             "#0d0887"
            ],
            [
             0.1111111111111111,
             "#46039f"
            ],
            [
             0.2222222222222222,
             "#7201a8"
            ],
            [
             0.3333333333333333,
             "#9c179e"
            ],
            [
             0.4444444444444444,
             "#bd3786"
            ],
            [
             0.5555555555555556,
             "#d8576b"
            ],
            [
             0.6666666666666666,
             "#ed7953"
            ],
            [
             0.7777777777777778,
             "#fb9f3a"
            ],
            [
             0.8888888888888888,
             "#fdca26"
            ],
            [
             1,
             "#f0f921"
            ]
           ]
          },
          "colorway": [
           "#636efa",
           "#EF553B",
           "#00cc96",
           "#ab63fa",
           "#FFA15A",
           "#19d3f3",
           "#FF6692",
           "#B6E880",
           "#FF97FF",
           "#FECB52"
          ],
          "font": {
           "color": "#2a3f5f"
          },
          "geo": {
           "bgcolor": "white",
           "lakecolor": "white",
           "landcolor": "#E5ECF6",
           "showlakes": true,
           "showland": true,
           "subunitcolor": "white"
          },
          "hoverlabel": {
           "align": "left"
          },
          "hovermode": "closest",
          "mapbox": {
           "style": "light"
          },
          "paper_bgcolor": "white",
          "plot_bgcolor": "#E5ECF6",
          "polar": {
           "angularaxis": {
            "gridcolor": "white",
            "linecolor": "white",
            "ticks": ""
           },
           "bgcolor": "#E5ECF6",
           "radialaxis": {
            "gridcolor": "white",
            "linecolor": "white",
            "ticks": ""
           }
          },
          "scene": {
           "xaxis": {
            "backgroundcolor": "#E5ECF6",
            "gridcolor": "white",
            "gridwidth": 2,
            "linecolor": "white",
            "showbackground": true,
            "ticks": "",
            "zerolinecolor": "white"
           },
           "yaxis": {
            "backgroundcolor": "#E5ECF6",
            "gridcolor": "white",
            "gridwidth": 2,
            "linecolor": "white",
            "showbackground": true,
            "ticks": "",
            "zerolinecolor": "white"
           },
           "zaxis": {
            "backgroundcolor": "#E5ECF6",
            "gridcolor": "white",
            "gridwidth": 2,
            "linecolor": "white",
            "showbackground": true,
            "ticks": "",
            "zerolinecolor": "white"
           }
          },
          "shapedefaults": {
           "line": {
            "color": "#2a3f5f"
           }
          },
          "ternary": {
           "aaxis": {
            "gridcolor": "white",
            "linecolor": "white",
            "ticks": ""
           },
           "baxis": {
            "gridcolor": "white",
            "linecolor": "white",
            "ticks": ""
           },
           "bgcolor": "#E5ECF6",
           "caxis": {
            "gridcolor": "white",
            "linecolor": "white",
            "ticks": ""
           }
          },
          "title": {
           "x": 0.05
          },
          "xaxis": {
           "automargin": true,
           "gridcolor": "white",
           "linecolor": "white",
           "ticks": "",
           "title": {
            "standoff": 15
           },
           "zerolinecolor": "white",
           "zerolinewidth": 2
          },
          "yaxis": {
           "automargin": true,
           "gridcolor": "white",
           "linecolor": "white",
           "ticks": "",
           "title": {
            "standoff": 15
           },
           "zerolinecolor": "white",
           "zerolinewidth": 2
          }
         }
        },
        "title": {
         "text": "delta AUC(post-lesion) - mean AUC(pre-lesion)"
        },
        "violinmode": "overlay",
        "xaxis": {
         "anchor": "y",
         "categoryarray": [
          "sham",
          "mpfc",
          "ofc"
         ],
         "categoryorder": "array",
         "domain": [
          0,
          1
         ],
         "title": {
          "text": "treatment"
         }
        },
        "yaxis": {
         "anchor": "x",
         "domain": [
          0,
          1
         ],
         "title": {
          "text": "delta_auc"
         }
        }
       }
      }
     },
     "metadata": {},
     "output_type": "display_data"
    }
   ],
   "source": [
    "fig = px.violin(\n",
    "    prepost,\n",
    "    x=\"treatment\",\n",
    "    y=\"delta_auc\",\n",
    "    box=True,\n",
    "    points=\"all\",\n",
    "    color=\"treatment\",\n",
    "    category_orders=cat,\n",
    "    title=\"delta AUC(post-lesion) - mean AUC(pre-lesion)\"\n",
    ")\n",
    "fig.show()"
   ]
  },
  {
   "cell_type": "markdown",
   "id": "abf0bb6e",
   "metadata": {},
   "source": [
    "OFC has a high baseline variance as well. Lets compute delta AUC again, but with the max(AUC) from baseline rather than mean(AUC), to get a worst case-baseline"
   ]
  },
  {
   "cell_type": "code",
   "execution_count": 111,
   "id": "1a023e64",
   "metadata": {},
   "outputs": [
    {
     "data": {
      "text/html": [
       "<div><style>\n",
       ".dataframe > thead > tr,\n",
       ".dataframe > tbody > tr {\n",
       "  text-align: right;\n",
       "  white-space: pre-wrap;\n",
       "}\n",
       "</style>\n",
       "<small>shape: (24, 3)</small><table border=\"1\" class=\"dataframe\"><thead><tr><th>animal_id</th><th>treatment</th><th>max_auc</th></tr><tr><td>cat</td><td>cat</td><td>f64</td></tr></thead><tbody><tr><td>&quot;P4640&quot;</td><td>&quot;mpfc&quot;</td><td>43.0</td></tr><tr><td>&quot;P4647&quot;</td><td>&quot;mpfc&quot;</td><td>28.0</td></tr><tr><td>&quot;P4648&quot;</td><td>&quot;mpfc&quot;</td><td>31.0</td></tr><tr><td>&quot;P4651&quot;</td><td>&quot;mpfc&quot;</td><td>51.0</td></tr><tr><td>&quot;P4657&quot;</td><td>&quot;mpfc&quot;</td><td>52.0</td></tr><tr><td>&hellip;</td><td>&hellip;</td><td>&hellip;</td></tr><tr><td>&quot;P4662&quot;</td><td>&quot;sham&quot;</td><td>61.0</td></tr><tr><td>&quot;P4667&quot;</td><td>&quot;sham&quot;</td><td>45.0</td></tr><tr><td>&quot;P4668&quot;</td><td>&quot;sham&quot;</td><td>45.0</td></tr><tr><td>&quot;P4676&quot;</td><td>&quot;sham&quot;</td><td>22.0</td></tr><tr><td>&quot;P4677&quot;</td><td>&quot;sham&quot;</td><td>46.0</td></tr></tbody></table></div>"
      ],
      "text/plain": [
       "shape: (24, 3)\n",
       "┌───────────┬───────────┬─────────┐\n",
       "│ animal_id ┆ treatment ┆ max_auc │\n",
       "│ ---       ┆ ---       ┆ ---     │\n",
       "│ cat       ┆ cat       ┆ f64     │\n",
       "╞═══════════╪═══════════╪═════════╡\n",
       "│ P4640     ┆ mpfc      ┆ 43.0    │\n",
       "│ P4647     ┆ mpfc      ┆ 28.0    │\n",
       "│ P4648     ┆ mpfc      ┆ 31.0    │\n",
       "│ P4651     ┆ mpfc      ┆ 51.0    │\n",
       "│ P4657     ┆ mpfc      ┆ 52.0    │\n",
       "│ …         ┆ …         ┆ …       │\n",
       "│ P4662     ┆ sham      ┆ 61.0    │\n",
       "│ P4667     ┆ sham      ┆ 45.0    │\n",
       "│ P4668     ┆ sham      ┆ 45.0    │\n",
       "│ P4676     ┆ sham      ┆ 22.0    │\n",
       "│ P4677     ┆ sham      ┆ 46.0    │\n",
       "└───────────┴───────────┴─────────┘"
      ]
     },
     "execution_count": 111,
     "metadata": {},
     "output_type": "execute_result"
    }
   ],
   "source": [
    "bl_auc_max = (\n",
    "    bl_trunc\n",
    "    .group_by([\"animal_id\", \"treatment\", \"session_idx\", \"trial_idx\"])\n",
    "    .agg(pl.mean(\"EFS_before_flg\").alias(\"efs_mean\"))\n",
    "    .group_by([\"animal_id\", \"treatment\", \"session_idx\"])\n",
    "    .agg(pl.col(\"efs_mean\").sum().alias(\"AUC\"))   # AUC == final cumsum here\n",
    "    .group_by([\"animal_id\", \"treatment\"])\n",
    "    .agg(pl.max(\"AUC\").alias(\"max_auc\"))\n",
    ")\n",
    "bl_auc_max.sort([\"treatment\", \"animal_id\"])"
   ]
  },
  {
   "cell_type": "code",
   "execution_count": 121,
   "id": "1270eb81",
   "metadata": {},
   "outputs": [
    {
     "data": {
      "application/vnd.plotly.v1+json": {
       "config": {
        "plotlyServerURL": "https://plot.ly"
       },
       "data": [
        {
         "alignmentgroup": "True",
         "box": {
          "visible": true
         },
         "hovertemplate": "treatment=%{x}<br>max_auc=%{y}<extra></extra>",
         "legendgroup": "sham",
         "marker": {
          "color": "#636efa"
         },
         "name": "sham",
         "offsetgroup": "sham",
         "orientation": "v",
         "points": "all",
         "scalegroup": "True",
         "showlegend": true,
         "type": "violin",
         "x": [
          "sham",
          "sham",
          "sham",
          "sham",
          "sham",
          "sham",
          "sham",
          "sham"
         ],
         "x0": " ",
         "xaxis": "x",
         "y": {
          "bdata": "AAAAAACATkAAAAAAAABHQAAAAAAAgEZAAAAAAAAATEAAAAAAAABKQAAAAAAAAElAAAAAAAAANkAAAAAAAIBGQA==",
          "dtype": "f8"
         },
         "y0": " ",
         "yaxis": "y"
        },
        {
         "alignmentgroup": "True",
         "box": {
          "visible": true
         },
         "hovertemplate": "treatment=%{x}<br>max_auc=%{y}<extra></extra>",
         "legendgroup": "mpfc",
         "marker": {
          "color": "#EF553B"
         },
         "name": "mpfc",
         "offsetgroup": "mpfc",
         "orientation": "v",
         "points": "all",
         "scalegroup": "True",
         "showlegend": true,
         "type": "violin",
         "x": [
          "mpfc",
          "mpfc",
          "mpfc",
          "mpfc",
          "mpfc",
          "mpfc",
          "mpfc",
          "mpfc",
          "mpfc",
          "mpfc"
         ],
         "x0": " ",
         "xaxis": "x",
         "y": {
          "bdata": "AAAAAAAAPEAAAAAAAIBFQAAAAAAAgEdAAAAAAACAQEAAAAAAAABDQAAAAAAAADRAAAAAAACASUAAAAAAAABKQAAAAAAAAERAAAAAAAAAP0A=",
          "dtype": "f8"
         },
         "y0": " ",
         "yaxis": "y"
        },
        {
         "alignmentgroup": "True",
         "box": {
          "visible": true
         },
         "hovertemplate": "treatment=%{x}<br>max_auc=%{y}<extra></extra>",
         "legendgroup": "ofc",
         "marker": {
          "color": "#00cc96"
         },
         "name": "ofc",
         "offsetgroup": "ofc",
         "orientation": "v",
         "points": "all",
         "scalegroup": "True",
         "showlegend": true,
         "type": "violin",
         "x": [
          "ofc",
          "ofc",
          "ofc",
          "ofc",
          "ofc",
          "ofc"
         ],
         "x0": " ",
         "xaxis": "x",
         "y": {
          "bdata": "AAAAAAAARkAAAAAAAAA6QAAAAAAAADxAAAAAAAAAS0AAAAAAAIBMQAAAAAAAADlA",
          "dtype": "f8"
         },
         "y0": " ",
         "yaxis": "y"
        }
       ],
       "layout": {
        "legend": {
         "title": {
          "text": "treatment"
         },
         "tracegroupgap": 0
        },
        "template": {
         "data": {
          "bar": [
           {
            "error_x": {
             "color": "#2a3f5f"
            },
            "error_y": {
             "color": "#2a3f5f"
            },
            "marker": {
             "line": {
              "color": "#E5ECF6",
              "width": 0.5
             },
             "pattern": {
              "fillmode": "overlay",
              "size": 10,
              "solidity": 0.2
             }
            },
            "type": "bar"
           }
          ],
          "barpolar": [
           {
            "marker": {
             "line": {
              "color": "#E5ECF6",
              "width": 0.5
             },
             "pattern": {
              "fillmode": "overlay",
              "size": 10,
              "solidity": 0.2
             }
            },
            "type": "barpolar"
           }
          ],
          "carpet": [
           {
            "aaxis": {
             "endlinecolor": "#2a3f5f",
             "gridcolor": "white",
             "linecolor": "white",
             "minorgridcolor": "white",
             "startlinecolor": "#2a3f5f"
            },
            "baxis": {
             "endlinecolor": "#2a3f5f",
             "gridcolor": "white",
             "linecolor": "white",
             "minorgridcolor": "white",
             "startlinecolor": "#2a3f5f"
            },
            "type": "carpet"
           }
          ],
          "choropleth": [
           {
            "colorbar": {
             "outlinewidth": 0,
             "ticks": ""
            },
            "type": "choropleth"
           }
          ],
          "contour": [
           {
            "colorbar": {
             "outlinewidth": 0,
             "ticks": ""
            },
            "colorscale": [
             [
              0,
              "#0d0887"
             ],
             [
              0.1111111111111111,
              "#46039f"
             ],
             [
              0.2222222222222222,
              "#7201a8"
             ],
             [
              0.3333333333333333,
              "#9c179e"
             ],
             [
              0.4444444444444444,
              "#bd3786"
             ],
             [
              0.5555555555555556,
              "#d8576b"
             ],
             [
              0.6666666666666666,
              "#ed7953"
             ],
             [
              0.7777777777777778,
              "#fb9f3a"
             ],
             [
              0.8888888888888888,
              "#fdca26"
             ],
             [
              1,
              "#f0f921"
             ]
            ],
            "type": "contour"
           }
          ],
          "contourcarpet": [
           {
            "colorbar": {
             "outlinewidth": 0,
             "ticks": ""
            },
            "type": "contourcarpet"
           }
          ],
          "heatmap": [
           {
            "colorbar": {
             "outlinewidth": 0,
             "ticks": ""
            },
            "colorscale": [
             [
              0,
              "#0d0887"
             ],
             [
              0.1111111111111111,
              "#46039f"
             ],
             [
              0.2222222222222222,
              "#7201a8"
             ],
             [
              0.3333333333333333,
              "#9c179e"
             ],
             [
              0.4444444444444444,
              "#bd3786"
             ],
             [
              0.5555555555555556,
              "#d8576b"
             ],
             [
              0.6666666666666666,
              "#ed7953"
             ],
             [
              0.7777777777777778,
              "#fb9f3a"
             ],
             [
              0.8888888888888888,
              "#fdca26"
             ],
             [
              1,
              "#f0f921"
             ]
            ],
            "type": "heatmap"
           }
          ],
          "histogram": [
           {
            "marker": {
             "pattern": {
              "fillmode": "overlay",
              "size": 10,
              "solidity": 0.2
             }
            },
            "type": "histogram"
           }
          ],
          "histogram2d": [
           {
            "colorbar": {
             "outlinewidth": 0,
             "ticks": ""
            },
            "colorscale": [
             [
              0,
              "#0d0887"
             ],
             [
              0.1111111111111111,
              "#46039f"
             ],
             [
              0.2222222222222222,
              "#7201a8"
             ],
             [
              0.3333333333333333,
              "#9c179e"
             ],
             [
              0.4444444444444444,
              "#bd3786"
             ],
             [
              0.5555555555555556,
              "#d8576b"
             ],
             [
              0.6666666666666666,
              "#ed7953"
             ],
             [
              0.7777777777777778,
              "#fb9f3a"
             ],
             [
              0.8888888888888888,
              "#fdca26"
             ],
             [
              1,
              "#f0f921"
             ]
            ],
            "type": "histogram2d"
           }
          ],
          "histogram2dcontour": [
           {
            "colorbar": {
             "outlinewidth": 0,
             "ticks": ""
            },
            "colorscale": [
             [
              0,
              "#0d0887"
             ],
             [
              0.1111111111111111,
              "#46039f"
             ],
             [
              0.2222222222222222,
              "#7201a8"
             ],
             [
              0.3333333333333333,
              "#9c179e"
             ],
             [
              0.4444444444444444,
              "#bd3786"
             ],
             [
              0.5555555555555556,
              "#d8576b"
             ],
             [
              0.6666666666666666,
              "#ed7953"
             ],
             [
              0.7777777777777778,
              "#fb9f3a"
             ],
             [
              0.8888888888888888,
              "#fdca26"
             ],
             [
              1,
              "#f0f921"
             ]
            ],
            "type": "histogram2dcontour"
           }
          ],
          "mesh3d": [
           {
            "colorbar": {
             "outlinewidth": 0,
             "ticks": ""
            },
            "type": "mesh3d"
           }
          ],
          "parcoords": [
           {
            "line": {
             "colorbar": {
              "outlinewidth": 0,
              "ticks": ""
             }
            },
            "type": "parcoords"
           }
          ],
          "pie": [
           {
            "automargin": true,
            "type": "pie"
           }
          ],
          "scatter": [
           {
            "fillpattern": {
             "fillmode": "overlay",
             "size": 10,
             "solidity": 0.2
            },
            "type": "scatter"
           }
          ],
          "scatter3d": [
           {
            "line": {
             "colorbar": {
              "outlinewidth": 0,
              "ticks": ""
             }
            },
            "marker": {
             "colorbar": {
              "outlinewidth": 0,
              "ticks": ""
             }
            },
            "type": "scatter3d"
           }
          ],
          "scattercarpet": [
           {
            "marker": {
             "colorbar": {
              "outlinewidth": 0,
              "ticks": ""
             }
            },
            "type": "scattercarpet"
           }
          ],
          "scattergeo": [
           {
            "marker": {
             "colorbar": {
              "outlinewidth": 0,
              "ticks": ""
             }
            },
            "type": "scattergeo"
           }
          ],
          "scattergl": [
           {
            "marker": {
             "colorbar": {
              "outlinewidth": 0,
              "ticks": ""
             }
            },
            "type": "scattergl"
           }
          ],
          "scattermap": [
           {
            "marker": {
             "colorbar": {
              "outlinewidth": 0,
              "ticks": ""
             }
            },
            "type": "scattermap"
           }
          ],
          "scattermapbox": [
           {
            "marker": {
             "colorbar": {
              "outlinewidth": 0,
              "ticks": ""
             }
            },
            "type": "scattermapbox"
           }
          ],
          "scatterpolar": [
           {
            "marker": {
             "colorbar": {
              "outlinewidth": 0,
              "ticks": ""
             }
            },
            "type": "scatterpolar"
           }
          ],
          "scatterpolargl": [
           {
            "marker": {
             "colorbar": {
              "outlinewidth": 0,
              "ticks": ""
             }
            },
            "type": "scatterpolargl"
           }
          ],
          "scatterternary": [
           {
            "marker": {
             "colorbar": {
              "outlinewidth": 0,
              "ticks": ""
             }
            },
            "type": "scatterternary"
           }
          ],
          "surface": [
           {
            "colorbar": {
             "outlinewidth": 0,
             "ticks": ""
            },
            "colorscale": [
             [
              0,
              "#0d0887"
             ],
             [
              0.1111111111111111,
              "#46039f"
             ],
             [
              0.2222222222222222,
              "#7201a8"
             ],
             [
              0.3333333333333333,
              "#9c179e"
             ],
             [
              0.4444444444444444,
              "#bd3786"
             ],
             [
              0.5555555555555556,
              "#d8576b"
             ],
             [
              0.6666666666666666,
              "#ed7953"
             ],
             [
              0.7777777777777778,
              "#fb9f3a"
             ],
             [
              0.8888888888888888,
              "#fdca26"
             ],
             [
              1,
              "#f0f921"
             ]
            ],
            "type": "surface"
           }
          ],
          "table": [
           {
            "cells": {
             "fill": {
              "color": "#EBF0F8"
             },
             "line": {
              "color": "white"
             }
            },
            "header": {
             "fill": {
              "color": "#C8D4E3"
             },
             "line": {
              "color": "white"
             }
            },
            "type": "table"
           }
          ]
         },
         "layout": {
          "annotationdefaults": {
           "arrowcolor": "#2a3f5f",
           "arrowhead": 0,
           "arrowwidth": 1
          },
          "autotypenumbers": "strict",
          "coloraxis": {
           "colorbar": {
            "outlinewidth": 0,
            "ticks": ""
           }
          },
          "colorscale": {
           "diverging": [
            [
             0,
             "#8e0152"
            ],
            [
             0.1,
             "#c51b7d"
            ],
            [
             0.2,
             "#de77ae"
            ],
            [
             0.3,
             "#f1b6da"
            ],
            [
             0.4,
             "#fde0ef"
            ],
            [
             0.5,
             "#f7f7f7"
            ],
            [
             0.6,
             "#e6f5d0"
            ],
            [
             0.7,
             "#b8e186"
            ],
            [
             0.8,
             "#7fbc41"
            ],
            [
             0.9,
             "#4d9221"
            ],
            [
             1,
             "#276419"
            ]
           ],
           "sequential": [
            [
             0,
             "#0d0887"
            ],
            [
             0.1111111111111111,
             "#46039f"
            ],
            [
             0.2222222222222222,
             "#7201a8"
            ],
            [
             0.3333333333333333,
             "#9c179e"
            ],
            [
             0.4444444444444444,
             "#bd3786"
            ],
            [
             0.5555555555555556,
             "#d8576b"
            ],
            [
             0.6666666666666666,
             "#ed7953"
            ],
            [
             0.7777777777777778,
             "#fb9f3a"
            ],
            [
             0.8888888888888888,
             "#fdca26"
            ],
            [
             1,
             "#f0f921"
            ]
           ],
           "sequentialminus": [
            [
             0,
             "#0d0887"
            ],
            [
             0.1111111111111111,
             "#46039f"
            ],
            [
             0.2222222222222222,
             "#7201a8"
            ],
            [
             0.3333333333333333,
             "#9c179e"
            ],
            [
             0.4444444444444444,
             "#bd3786"
            ],
            [
             0.5555555555555556,
             "#d8576b"
            ],
            [
             0.6666666666666666,
             "#ed7953"
            ],
            [
             0.7777777777777778,
             "#fb9f3a"
            ],
            [
             0.8888888888888888,
             "#fdca26"
            ],
            [
             1,
             "#f0f921"
            ]
           ]
          },
          "colorway": [
           "#636efa",
           "#EF553B",
           "#00cc96",
           "#ab63fa",
           "#FFA15A",
           "#19d3f3",
           "#FF6692",
           "#B6E880",
           "#FF97FF",
           "#FECB52"
          ],
          "font": {
           "color": "#2a3f5f"
          },
          "geo": {
           "bgcolor": "white",
           "lakecolor": "white",
           "landcolor": "#E5ECF6",
           "showlakes": true,
           "showland": true,
           "subunitcolor": "white"
          },
          "hoverlabel": {
           "align": "left"
          },
          "hovermode": "closest",
          "mapbox": {
           "style": "light"
          },
          "paper_bgcolor": "white",
          "plot_bgcolor": "#E5ECF6",
          "polar": {
           "angularaxis": {
            "gridcolor": "white",
            "linecolor": "white",
            "ticks": ""
           },
           "bgcolor": "#E5ECF6",
           "radialaxis": {
            "gridcolor": "white",
            "linecolor": "white",
            "ticks": ""
           }
          },
          "scene": {
           "xaxis": {
            "backgroundcolor": "#E5ECF6",
            "gridcolor": "white",
            "gridwidth": 2,
            "linecolor": "white",
            "showbackground": true,
            "ticks": "",
            "zerolinecolor": "white"
           },
           "yaxis": {
            "backgroundcolor": "#E5ECF6",
            "gridcolor": "white",
            "gridwidth": 2,
            "linecolor": "white",
            "showbackground": true,
            "ticks": "",
            "zerolinecolor": "white"
           },
           "zaxis": {
            "backgroundcolor": "#E5ECF6",
            "gridcolor": "white",
            "gridwidth": 2,
            "linecolor": "white",
            "showbackground": true,
            "ticks": "",
            "zerolinecolor": "white"
           }
          },
          "shapedefaults": {
           "line": {
            "color": "#2a3f5f"
           }
          },
          "ternary": {
           "aaxis": {
            "gridcolor": "white",
            "linecolor": "white",
            "ticks": ""
           },
           "baxis": {
            "gridcolor": "white",
            "linecolor": "white",
            "ticks": ""
           },
           "bgcolor": "#E5ECF6",
           "caxis": {
            "gridcolor": "white",
            "linecolor": "white",
            "ticks": ""
           }
          },
          "title": {
           "x": 0.05
          },
          "xaxis": {
           "automargin": true,
           "gridcolor": "white",
           "linecolor": "white",
           "ticks": "",
           "title": {
            "standoff": 15
           },
           "zerolinecolor": "white",
           "zerolinewidth": 2
          },
          "yaxis": {
           "automargin": true,
           "gridcolor": "white",
           "linecolor": "white",
           "ticks": "",
           "title": {
            "standoff": 15
           },
           "zerolinecolor": "white",
           "zerolinewidth": 2
          }
         }
        },
        "title": {
         "text": "Pre-lesion MAX AUC over all sessions"
        },
        "violinmode": "overlay",
        "xaxis": {
         "anchor": "y",
         "categoryarray": [
          "sham",
          "mpfc",
          "ofc"
         ],
         "categoryorder": "array",
         "domain": [
          0,
          1
         ],
         "title": {
          "text": "treatment"
         }
        },
        "yaxis": {
         "anchor": "x",
         "domain": [
          0,
          1
         ],
         "title": {
          "text": "max_auc"
         }
        }
       }
      }
     },
     "metadata": {},
     "output_type": "display_data"
    }
   ],
   "source": [
    "fig = px.violin(\n",
    "    bl_auc_max,\n",
    "    x=\"treatment\",\n",
    "    y=\"max_auc\",\n",
    "    box=True,\n",
    "    points=\"all\",\n",
    "    color=\"treatment\",\n",
    "    category_orders=cat,\n",
    "    title=\"Pre-lesion MAX AUC over all sessions\"\n",
    ")\n",
    "fig.show()"
   ]
  },
  {
   "cell_type": "markdown",
   "id": "39702a2c",
   "metadata": {},
   "source": [
    "Compute delta AUC again but with max(AUC) from baseline. This answers the question of \"Is EFS in the first post-lesion session higher than the highest EFS from their baseline behaviour?\""
   ]
  },
  {
   "cell_type": "code",
   "execution_count": 113,
   "id": "571e41ec",
   "metadata": {},
   "outputs": [
    {
     "data": {
      "text/html": [
       "<div><style>\n",
       ".dataframe > thead > tr,\n",
       ".dataframe > tbody > tr {\n",
       "  text-align: right;\n",
       "  white-space: pre-wrap;\n",
       "}\n",
       "</style>\n",
       "<small>shape: (24, 5)</small><table border=\"1\" class=\"dataframe\"><thead><tr><th>animal_id</th><th>treatment</th><th>AUC</th><th>max_auc</th><th>delta_auc</th></tr><tr><td>cat</td><td>cat</td><td>f64</td><td>f64</td><td>f64</td></tr></thead><tbody><tr><td>&quot;P4647&quot;</td><td>&quot;mpfc&quot;</td><td>34.0</td><td>28.0</td><td>6.0</td></tr><tr><td>&quot;P4640&quot;</td><td>&quot;mpfc&quot;</td><td>34.0</td><td>43.0</td><td>-9.0</td></tr><tr><td>&quot;P4672&quot;</td><td>&quot;mpfc&quot;</td><td>25.0</td><td>47.0</td><td>-22.0</td></tr><tr><td>&quot;P4669&quot;</td><td>&quot;mpfc&quot;</td><td>40.0</td><td>33.0</td><td>7.0</td></tr><tr><td>&quot;P4666&quot;</td><td>&quot;mpfc&quot;</td><td>20.0</td><td>38.0</td><td>-18.0</td></tr><tr><td>&hellip;</td><td>&hellip;</td><td>&hellip;</td><td>&hellip;</td><td>&hellip;</td></tr><tr><td>&quot;P4638&quot;</td><td>&quot;sham&quot;</td><td>30.0</td><td>56.0</td><td>-26.0</td></tr><tr><td>&quot;P4661&quot;</td><td>&quot;sham&quot;</td><td>20.0</td><td>52.0</td><td>-32.0</td></tr><tr><td>&quot;P4637&quot;</td><td>&quot;sham&quot;</td><td>22.0</td><td>50.0</td><td>-28.0</td></tr><tr><td>&quot;P4676&quot;</td><td>&quot;sham&quot;</td><td>17.0</td><td>22.0</td><td>-5.0</td></tr><tr><td>&quot;P4667&quot;</td><td>&quot;sham&quot;</td><td>35.0</td><td>45.0</td><td>-10.0</td></tr></tbody></table></div>"
      ],
      "text/plain": [
       "shape: (24, 5)\n",
       "┌───────────┬───────────┬──────┬─────────┬───────────┐\n",
       "│ animal_id ┆ treatment ┆ AUC  ┆ max_auc ┆ delta_auc │\n",
       "│ ---       ┆ ---       ┆ ---  ┆ ---     ┆ ---       │\n",
       "│ cat       ┆ cat       ┆ f64  ┆ f64     ┆ f64       │\n",
       "╞═══════════╪═══════════╪══════╪═════════╪═══════════╡\n",
       "│ P4647     ┆ mpfc      ┆ 34.0 ┆ 28.0    ┆ 6.0       │\n",
       "│ P4640     ┆ mpfc      ┆ 34.0 ┆ 43.0    ┆ -9.0      │\n",
       "│ P4672     ┆ mpfc      ┆ 25.0 ┆ 47.0    ┆ -22.0     │\n",
       "│ P4669     ┆ mpfc      ┆ 40.0 ┆ 33.0    ┆ 7.0       │\n",
       "│ P4666     ┆ mpfc      ┆ 20.0 ┆ 38.0    ┆ -18.0     │\n",
       "│ …         ┆ …         ┆ …    ┆ …       ┆ …         │\n",
       "│ P4638     ┆ sham      ┆ 30.0 ┆ 56.0    ┆ -26.0     │\n",
       "│ P4661     ┆ sham      ┆ 20.0 ┆ 52.0    ┆ -32.0     │\n",
       "│ P4637     ┆ sham      ┆ 22.0 ┆ 50.0    ┆ -28.0     │\n",
       "│ P4676     ┆ sham      ┆ 17.0 ┆ 22.0    ┆ -5.0      │\n",
       "│ P4667     ┆ sham      ┆ 35.0 ┆ 45.0    ┆ -10.0     │\n",
       "└───────────┴───────────┴──────┴─────────┴───────────┘"
      ]
     },
     "execution_count": 113,
     "metadata": {},
     "output_type": "execute_result"
    }
   ],
   "source": [
    "# Merge baseline and post-lesion data\n",
    "prepost_max = (\n",
    "    ses1_auc.join(\n",
    "        bl_auc_max,\n",
    "        on=[\"animal_id\", \"treatment\"],\n",
    "        how=\"inner\"\n",
    "    )\n",
    "    .with_columns(\n",
    "        (pl.col(\"AUC\") - pl.col(\"max_auc\")).alias(\"delta_auc\")\n",
    "    )\n",
    ")\n",
    "\n",
    "prepost_max = prepost_max.sort(\"treatment\")\n",
    "prepost_max"
   ]
  },
  {
   "cell_type": "code",
   "execution_count": 127,
   "id": "e878f154",
   "metadata": {},
   "outputs": [
    {
     "data": {
      "application/vnd.plotly.v1+json": {
       "config": {
        "plotlyServerURL": "https://plot.ly"
       },
       "data": [
        {
         "alignmentgroup": "True",
         "box": {
          "visible": true
         },
         "hovertemplate": "treatment=%{x}<br>delta_auc=%{y}<extra></extra>",
         "legendgroup": "sham",
         "marker": {
          "color": "#636efa"
         },
         "name": "sham",
         "offsetgroup": "sham",
         "orientation": "v",
         "points": "all",
         "scalegroup": "True",
         "showlegend": true,
         "type": "violin",
         "x": [
          "sham",
          "sham",
          "sham",
          "sham",
          "sham",
          "sham",
          "sham",
          "sham"
         ],
         "x0": " ",
         "xaxis": "x",
         "y": {
          "bdata": "AAAAAAAAQ8AAAAAAAAAwwAAAAAAAABRAAAAAAAAAOsAAAAAAAABAwAAAAAAAADzAAAAAAAAAFMAAAAAAAAAkwA==",
          "dtype": "f8"
         },
         "y0": " ",
         "yaxis": "y"
        },
        {
         "alignmentgroup": "True",
         "box": {
          "visible": true
         },
         "hovertemplate": "treatment=%{x}<br>delta_auc=%{y}<extra></extra>",
         "legendgroup": "mpfc",
         "marker": {
          "color": "#EF553B"
         },
         "name": "mpfc",
         "offsetgroup": "mpfc",
         "orientation": "v",
         "points": "all",
         "scalegroup": "True",
         "showlegend": true,
         "type": "violin",
         "x": [
          "mpfc",
          "mpfc",
          "mpfc",
          "mpfc",
          "mpfc",
          "mpfc",
          "mpfc",
          "mpfc",
          "mpfc",
          "mpfc"
         ],
         "x0": " ",
         "xaxis": "x",
         "y": {
          "bdata": "AAAAAAAAGEAAAAAAAAAiwAAAAAAAADbAAAAAAAAAHEAAAAAAAAAywAAAAAAAACLAAAAAAAAANcAAAAAAAAA8wAAAAAAAACLAAAAAAAAAGMA=",
          "dtype": "f8"
         },
         "y0": " ",
         "yaxis": "y"
        },
        {
         "alignmentgroup": "True",
         "box": {
          "visible": true
         },
         "hovertemplate": "treatment=%{x}<br>delta_auc=%{y}<extra></extra>",
         "legendgroup": "ofc",
         "marker": {
          "color": "#00cc96"
         },
         "name": "ofc",
         "offsetgroup": "ofc",
         "orientation": "v",
         "points": "all",
         "scalegroup": "True",
         "showlegend": true,
         "type": "violin",
         "x": [
          "ofc",
          "ofc",
          "ofc",
          "ofc",
          "ofc",
          "ofc"
         ],
         "x0": " ",
         "xaxis": "x",
         "y": {
          "bdata": "AAAAAAAALMAAAAAAAADwPwAAAAAAADxAAAAAAAAAAAAAAAAAAAAAQAAAAAAAACLA",
          "dtype": "f8"
         },
         "y0": " ",
         "yaxis": "y"
        }
       ],
       "layout": {
        "legend": {
         "title": {
          "text": "treatment"
         },
         "tracegroupgap": 0
        },
        "template": {
         "data": {
          "bar": [
           {
            "error_x": {
             "color": "#2a3f5f"
            },
            "error_y": {
             "color": "#2a3f5f"
            },
            "marker": {
             "line": {
              "color": "#E5ECF6",
              "width": 0.5
             },
             "pattern": {
              "fillmode": "overlay",
              "size": 10,
              "solidity": 0.2
             }
            },
            "type": "bar"
           }
          ],
          "barpolar": [
           {
            "marker": {
             "line": {
              "color": "#E5ECF6",
              "width": 0.5
             },
             "pattern": {
              "fillmode": "overlay",
              "size": 10,
              "solidity": 0.2
             }
            },
            "type": "barpolar"
           }
          ],
          "carpet": [
           {
            "aaxis": {
             "endlinecolor": "#2a3f5f",
             "gridcolor": "white",
             "linecolor": "white",
             "minorgridcolor": "white",
             "startlinecolor": "#2a3f5f"
            },
            "baxis": {
             "endlinecolor": "#2a3f5f",
             "gridcolor": "white",
             "linecolor": "white",
             "minorgridcolor": "white",
             "startlinecolor": "#2a3f5f"
            },
            "type": "carpet"
           }
          ],
          "choropleth": [
           {
            "colorbar": {
             "outlinewidth": 0,
             "ticks": ""
            },
            "type": "choropleth"
           }
          ],
          "contour": [
           {
            "colorbar": {
             "outlinewidth": 0,
             "ticks": ""
            },
            "colorscale": [
             [
              0,
              "#0d0887"
             ],
             [
              0.1111111111111111,
              "#46039f"
             ],
             [
              0.2222222222222222,
              "#7201a8"
             ],
             [
              0.3333333333333333,
              "#9c179e"
             ],
             [
              0.4444444444444444,
              "#bd3786"
             ],
             [
              0.5555555555555556,
              "#d8576b"
             ],
             [
              0.6666666666666666,
              "#ed7953"
             ],
             [
              0.7777777777777778,
              "#fb9f3a"
             ],
             [
              0.8888888888888888,
              "#fdca26"
             ],
             [
              1,
              "#f0f921"
             ]
            ],
            "type": "contour"
           }
          ],
          "contourcarpet": [
           {
            "colorbar": {
             "outlinewidth": 0,
             "ticks": ""
            },
            "type": "contourcarpet"
           }
          ],
          "heatmap": [
           {
            "colorbar": {
             "outlinewidth": 0,
             "ticks": ""
            },
            "colorscale": [
             [
              0,
              "#0d0887"
             ],
             [
              0.1111111111111111,
              "#46039f"
             ],
             [
              0.2222222222222222,
              "#7201a8"
             ],
             [
              0.3333333333333333,
              "#9c179e"
             ],
             [
              0.4444444444444444,
              "#bd3786"
             ],
             [
              0.5555555555555556,
              "#d8576b"
             ],
             [
              0.6666666666666666,
              "#ed7953"
             ],
             [
              0.7777777777777778,
              "#fb9f3a"
             ],
             [
              0.8888888888888888,
              "#fdca26"
             ],
             [
              1,
              "#f0f921"
             ]
            ],
            "type": "heatmap"
           }
          ],
          "histogram": [
           {
            "marker": {
             "pattern": {
              "fillmode": "overlay",
              "size": 10,
              "solidity": 0.2
             }
            },
            "type": "histogram"
           }
          ],
          "histogram2d": [
           {
            "colorbar": {
             "outlinewidth": 0,
             "ticks": ""
            },
            "colorscale": [
             [
              0,
              "#0d0887"
             ],
             [
              0.1111111111111111,
              "#46039f"
             ],
             [
              0.2222222222222222,
              "#7201a8"
             ],
             [
              0.3333333333333333,
              "#9c179e"
             ],
             [
              0.4444444444444444,
              "#bd3786"
             ],
             [
              0.5555555555555556,
              "#d8576b"
             ],
             [
              0.6666666666666666,
              "#ed7953"
             ],
             [
              0.7777777777777778,
              "#fb9f3a"
             ],
             [
              0.8888888888888888,
              "#fdca26"
             ],
             [
              1,
              "#f0f921"
             ]
            ],
            "type": "histogram2d"
           }
          ],
          "histogram2dcontour": [
           {
            "colorbar": {
             "outlinewidth": 0,
             "ticks": ""
            },
            "colorscale": [
             [
              0,
              "#0d0887"
             ],
             [
              0.1111111111111111,
              "#46039f"
             ],
             [
              0.2222222222222222,
              "#7201a8"
             ],
             [
              0.3333333333333333,
              "#9c179e"
             ],
             [
              0.4444444444444444,
              "#bd3786"
             ],
             [
              0.5555555555555556,
              "#d8576b"
             ],
             [
              0.6666666666666666,
              "#ed7953"
             ],
             [
              0.7777777777777778,
              "#fb9f3a"
             ],
             [
              0.8888888888888888,
              "#fdca26"
             ],
             [
              1,
              "#f0f921"
             ]
            ],
            "type": "histogram2dcontour"
           }
          ],
          "mesh3d": [
           {
            "colorbar": {
             "outlinewidth": 0,
             "ticks": ""
            },
            "type": "mesh3d"
           }
          ],
          "parcoords": [
           {
            "line": {
             "colorbar": {
              "outlinewidth": 0,
              "ticks": ""
             }
            },
            "type": "parcoords"
           }
          ],
          "pie": [
           {
            "automargin": true,
            "type": "pie"
           }
          ],
          "scatter": [
           {
            "fillpattern": {
             "fillmode": "overlay",
             "size": 10,
             "solidity": 0.2
            },
            "type": "scatter"
           }
          ],
          "scatter3d": [
           {
            "line": {
             "colorbar": {
              "outlinewidth": 0,
              "ticks": ""
             }
            },
            "marker": {
             "colorbar": {
              "outlinewidth": 0,
              "ticks": ""
             }
            },
            "type": "scatter3d"
           }
          ],
          "scattercarpet": [
           {
            "marker": {
             "colorbar": {
              "outlinewidth": 0,
              "ticks": ""
             }
            },
            "type": "scattercarpet"
           }
          ],
          "scattergeo": [
           {
            "marker": {
             "colorbar": {
              "outlinewidth": 0,
              "ticks": ""
             }
            },
            "type": "scattergeo"
           }
          ],
          "scattergl": [
           {
            "marker": {
             "colorbar": {
              "outlinewidth": 0,
              "ticks": ""
             }
            },
            "type": "scattergl"
           }
          ],
          "scattermap": [
           {
            "marker": {
             "colorbar": {
              "outlinewidth": 0,
              "ticks": ""
             }
            },
            "type": "scattermap"
           }
          ],
          "scattermapbox": [
           {
            "marker": {
             "colorbar": {
              "outlinewidth": 0,
              "ticks": ""
             }
            },
            "type": "scattermapbox"
           }
          ],
          "scatterpolar": [
           {
            "marker": {
             "colorbar": {
              "outlinewidth": 0,
              "ticks": ""
             }
            },
            "type": "scatterpolar"
           }
          ],
          "scatterpolargl": [
           {
            "marker": {
             "colorbar": {
              "outlinewidth": 0,
              "ticks": ""
             }
            },
            "type": "scatterpolargl"
           }
          ],
          "scatterternary": [
           {
            "marker": {
             "colorbar": {
              "outlinewidth": 0,
              "ticks": ""
             }
            },
            "type": "scatterternary"
           }
          ],
          "surface": [
           {
            "colorbar": {
             "outlinewidth": 0,
             "ticks": ""
            },
            "colorscale": [
             [
              0,
              "#0d0887"
             ],
             [
              0.1111111111111111,
              "#46039f"
             ],
             [
              0.2222222222222222,
              "#7201a8"
             ],
             [
              0.3333333333333333,
              "#9c179e"
             ],
             [
              0.4444444444444444,
              "#bd3786"
             ],
             [
              0.5555555555555556,
              "#d8576b"
             ],
             [
              0.6666666666666666,
              "#ed7953"
             ],
             [
              0.7777777777777778,
              "#fb9f3a"
             ],
             [
              0.8888888888888888,
              "#fdca26"
             ],
             [
              1,
              "#f0f921"
             ]
            ],
            "type": "surface"
           }
          ],
          "table": [
           {
            "cells": {
             "fill": {
              "color": "#EBF0F8"
             },
             "line": {
              "color": "white"
             }
            },
            "header": {
             "fill": {
              "color": "#C8D4E3"
             },
             "line": {
              "color": "white"
             }
            },
            "type": "table"
           }
          ]
         },
         "layout": {
          "annotationdefaults": {
           "arrowcolor": "#2a3f5f",
           "arrowhead": 0,
           "arrowwidth": 1
          },
          "autotypenumbers": "strict",
          "coloraxis": {
           "colorbar": {
            "outlinewidth": 0,
            "ticks": ""
           }
          },
          "colorscale": {
           "diverging": [
            [
             0,
             "#8e0152"
            ],
            [
             0.1,
             "#c51b7d"
            ],
            [
             0.2,
             "#de77ae"
            ],
            [
             0.3,
             "#f1b6da"
            ],
            [
             0.4,
             "#fde0ef"
            ],
            [
             0.5,
             "#f7f7f7"
            ],
            [
             0.6,
             "#e6f5d0"
            ],
            [
             0.7,
             "#b8e186"
            ],
            [
             0.8,
             "#7fbc41"
            ],
            [
             0.9,
             "#4d9221"
            ],
            [
             1,
             "#276419"
            ]
           ],
           "sequential": [
            [
             0,
             "#0d0887"
            ],
            [
             0.1111111111111111,
             "#46039f"
            ],
            [
             0.2222222222222222,
             "#7201a8"
            ],
            [
             0.3333333333333333,
             "#9c179e"
            ],
            [
             0.4444444444444444,
             "#bd3786"
            ],
            [
             0.5555555555555556,
             "#d8576b"
            ],
            [
             0.6666666666666666,
             "#ed7953"
            ],
            [
             0.7777777777777778,
             "#fb9f3a"
            ],
            [
             0.8888888888888888,
             "#fdca26"
            ],
            [
             1,
             "#f0f921"
            ]
           ],
           "sequentialminus": [
            [
             0,
             "#0d0887"
            ],
            [
             0.1111111111111111,
             "#46039f"
            ],
            [
             0.2222222222222222,
             "#7201a8"
            ],
            [
             0.3333333333333333,
             "#9c179e"
            ],
            [
             0.4444444444444444,
             "#bd3786"
            ],
            [
             0.5555555555555556,
             "#d8576b"
            ],
            [
             0.6666666666666666,
             "#ed7953"
            ],
            [
             0.7777777777777778,
             "#fb9f3a"
            ],
            [
             0.8888888888888888,
             "#fdca26"
            ],
            [
             1,
             "#f0f921"
            ]
           ]
          },
          "colorway": [
           "#636efa",
           "#EF553B",
           "#00cc96",
           "#ab63fa",
           "#FFA15A",
           "#19d3f3",
           "#FF6692",
           "#B6E880",
           "#FF97FF",
           "#FECB52"
          ],
          "font": {
           "color": "#2a3f5f"
          },
          "geo": {
           "bgcolor": "white",
           "lakecolor": "white",
           "landcolor": "#E5ECF6",
           "showlakes": true,
           "showland": true,
           "subunitcolor": "white"
          },
          "hoverlabel": {
           "align": "left"
          },
          "hovermode": "closest",
          "mapbox": {
           "style": "light"
          },
          "paper_bgcolor": "white",
          "plot_bgcolor": "#E5ECF6",
          "polar": {
           "angularaxis": {
            "gridcolor": "white",
            "linecolor": "white",
            "ticks": ""
           },
           "bgcolor": "#E5ECF6",
           "radialaxis": {
            "gridcolor": "white",
            "linecolor": "white",
            "ticks": ""
           }
          },
          "scene": {
           "xaxis": {
            "backgroundcolor": "#E5ECF6",
            "gridcolor": "white",
            "gridwidth": 2,
            "linecolor": "white",
            "showbackground": true,
            "ticks": "",
            "zerolinecolor": "white"
           },
           "yaxis": {
            "backgroundcolor": "#E5ECF6",
            "gridcolor": "white",
            "gridwidth": 2,
            "linecolor": "white",
            "showbackground": true,
            "ticks": "",
            "zerolinecolor": "white"
           },
           "zaxis": {
            "backgroundcolor": "#E5ECF6",
            "gridcolor": "white",
            "gridwidth": 2,
            "linecolor": "white",
            "showbackground": true,
            "ticks": "",
            "zerolinecolor": "white"
           }
          },
          "shapedefaults": {
           "line": {
            "color": "#2a3f5f"
           }
          },
          "ternary": {
           "aaxis": {
            "gridcolor": "white",
            "linecolor": "white",
            "ticks": ""
           },
           "baxis": {
            "gridcolor": "white",
            "linecolor": "white",
            "ticks": ""
           },
           "bgcolor": "#E5ECF6",
           "caxis": {
            "gridcolor": "white",
            "linecolor": "white",
            "ticks": ""
           }
          },
          "title": {
           "x": 0.05
          },
          "xaxis": {
           "automargin": true,
           "gridcolor": "white",
           "linecolor": "white",
           "ticks": "",
           "title": {
            "standoff": 15
           },
           "zerolinecolor": "white",
           "zerolinewidth": 2
          },
          "yaxis": {
           "automargin": true,
           "gridcolor": "white",
           "linecolor": "white",
           "ticks": "",
           "title": {
            "standoff": 15
           },
           "zerolinecolor": "white",
           "zerolinewidth": 2
          }
         }
        },
        "title": {
         "text": "Difference between post-lesion session 1 and the maximum EFS session from baseline"
        },
        "violinmode": "overlay",
        "xaxis": {
         "anchor": "y",
         "categoryarray": [
          "sham",
          "mpfc",
          "ofc"
         ],
         "categoryorder": "array",
         "domain": [
          0,
          1
         ],
         "title": {
          "text": "treatment"
         }
        },
        "yaxis": {
         "anchor": "x",
         "domain": [
          0,
          1
         ],
         "title": {
          "text": "delta_auc"
         }
        }
       }
      }
     },
     "metadata": {},
     "output_type": "display_data"
    }
   ],
   "source": [
    "fig = px.violin(\n",
    "    prepost_max,\n",
    "    x=\"treatment\",\n",
    "    y=\"delta_auc\",\n",
    "    box=True,\n",
    "    points=\"all\",\n",
    "    color=\"treatment\",\n",
    "    category_orders=cat,\n",
    "    title=\"Difference between post-lesion session 1 and the maximum EFS session from baseline\"\n",
    ")\n",
    "fig.show()"
   ]
  },
  {
   "cell_type": "markdown",
   "id": "21e15d10",
   "metadata": {},
   "source": [
    "MAYBE: compute Z-scored post-lesion deviations in AUC? \n",
    "will answer: Were post-lesion EFS values outside the range of normal baseline variability "
   ]
  }
 ],
 "metadata": {
  "kernelspec": {
   "display_name": "matching-pennies",
   "language": "python",
   "name": "python3"
  },
  "language_info": {
   "codemirror_mode": {
    "name": "ipython",
    "version": 3
   },
   "file_extension": ".py",
   "mimetype": "text/x-python",
   "name": "python",
   "nbconvert_exporter": "python",
   "pygments_lexer": "ipython3",
   "version": "3.13.7"
  }
 },
 "nbformat": 4,
 "nbformat_minor": 5
}
